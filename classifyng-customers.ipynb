{
 "cells": [
  {
   "attachments": {},
   "cell_type": "markdown",
   "metadata": {},
   "source": [
    "# 1. Importing Libraries and Loading Data"
   ]
  },
  {
   "cell_type": "code",
   "execution_count": 113,
   "metadata": {},
   "outputs": [],
   "source": [
    "import pandas as pd\n",
    "import numpy as np\n",
    "import matplotlib.pyplot as plt\n",
    "import seaborn as sns\n",
    "import pandasql as ps\n",
    "import mysql.connector as ms\n",
    "\n",
    "import warnings\n",
    "warnings.filterwarnings('ignore')"
   ]
  },
  {
   "cell_type": "code",
   "execution_count": 114,
   "metadata": {},
   "outputs": [
    {
     "data": {
      "text/html": [
       "<div>\n",
       "<style scoped>\n",
       "    .dataframe tbody tr th:only-of-type {\n",
       "        vertical-align: middle;\n",
       "    }\n",
       "\n",
       "    .dataframe tbody tr th {\n",
       "        vertical-align: top;\n",
       "    }\n",
       "\n",
       "    .dataframe thead th {\n",
       "        text-align: right;\n",
       "    }\n",
       "</style>\n",
       "<table border=\"1\" class=\"dataframe\">\n",
       "  <thead>\n",
       "    <tr style=\"text-align: right;\">\n",
       "      <th></th>\n",
       "      <th>amostra</th>\n",
       "      <th>id_cliente</th>\n",
       "      <th>id_unico_cliente</th>\n",
       "      <th>item_id</th>\n",
       "      <th>cep_cliente</th>\n",
       "      <th>cidade_cliente</th>\n",
       "      <th>estado_cliente</th>\n",
       "      <th>id_pedido</th>\n",
       "      <th>status_pedido</th>\n",
       "      <th>horario_pedido</th>\n",
       "      <th>...</th>\n",
       "      <th>pagamento_sequencial</th>\n",
       "      <th>pagamento_tipo</th>\n",
       "      <th>pagamento_prestacoes</th>\n",
       "      <th>pagamento_valor</th>\n",
       "      <th>review</th>\n",
       "      <th>categoria</th>\n",
       "      <th>categoria_ingles</th>\n",
       "      <th>cep_vendedor</th>\n",
       "      <th>cidade_vendedor</th>\n",
       "      <th>estado_vendedor</th>\n",
       "    </tr>\n",
       "  </thead>\n",
       "  <tbody>\n",
       "    <tr>\n",
       "      <th>0</th>\n",
       "      <td>0</td>\n",
       "      <td>06b8999e2fba1a1fbc88172c00ba8bc7</td>\n",
       "      <td>861eff4711a542e4b93843c6dd7febb0</td>\n",
       "      <td>1</td>\n",
       "      <td>14409</td>\n",
       "      <td>franca</td>\n",
       "      <td>SP</td>\n",
       "      <td>00e7ee1b050b8499577073aeb2a297a1</td>\n",
       "      <td>delivered</td>\n",
       "      <td>2022-09-07</td>\n",
       "      <td>...</td>\n",
       "      <td>1</td>\n",
       "      <td>credit_card</td>\n",
       "      <td>2</td>\n",
       "      <td>529.76</td>\n",
       "      <td>4</td>\n",
       "      <td>moveis_escritorio</td>\n",
       "      <td>office_furniture</td>\n",
       "      <td>8577</td>\n",
       "      <td>itaquaquecetuba</td>\n",
       "      <td>SP</td>\n",
       "    </tr>\n",
       "    <tr>\n",
       "      <th>1</th>\n",
       "      <td>1</td>\n",
       "      <td>8912fc0c3bbf1e2fbf35819e21706718</td>\n",
       "      <td>9eae34bbd3a474ec5d07949ca7de67c0</td>\n",
       "      <td>1</td>\n",
       "      <td>68030</td>\n",
       "      <td>santarem</td>\n",
       "      <td>PA</td>\n",
       "      <td>c1d2b34febe9cd269e378117d6681172</td>\n",
       "      <td>delivered</td>\n",
       "      <td>2022-10-28</td>\n",
       "      <td>...</td>\n",
       "      <td>1</td>\n",
       "      <td>credit_card</td>\n",
       "      <td>1</td>\n",
       "      <td>230.34</td>\n",
       "      <td>1</td>\n",
       "      <td>moveis_escritorio</td>\n",
       "      <td>office_furniture</td>\n",
       "      <td>8577</td>\n",
       "      <td>itaquaquecetuba</td>\n",
       "      <td>SP</td>\n",
       "    </tr>\n",
       "    <tr>\n",
       "      <th>2</th>\n",
       "      <td>2</td>\n",
       "      <td>8912fc0c3bbf1e2fbf35819e21706718</td>\n",
       "      <td>9eae34bbd3a474ec5d07949ca7de67c0</td>\n",
       "      <td>2</td>\n",
       "      <td>68030</td>\n",
       "      <td>santarem</td>\n",
       "      <td>PA</td>\n",
       "      <td>c1d2b34febe9cd269e378117d6681172</td>\n",
       "      <td>delivered</td>\n",
       "      <td>2020-08-27</td>\n",
       "      <td>...</td>\n",
       "      <td>1</td>\n",
       "      <td>credit_card</td>\n",
       "      <td>1</td>\n",
       "      <td>674.78</td>\n",
       "      <td>1</td>\n",
       "      <td>moveis_escritorio</td>\n",
       "      <td>office_furniture</td>\n",
       "      <td>8577</td>\n",
       "      <td>itaquaquecetuba</td>\n",
       "      <td>SP</td>\n",
       "    </tr>\n",
       "    <tr>\n",
       "      <th>3</th>\n",
       "      <td>3</td>\n",
       "      <td>f0ac8e5a239118859b1734e1087cbb1f</td>\n",
       "      <td>3c799d181c34d51f6d44bbbc563024db</td>\n",
       "      <td>1</td>\n",
       "      <td>92480</td>\n",
       "      <td>nova santa rita</td>\n",
       "      <td>RS</td>\n",
       "      <td>b1a5d5365d330d10485e0203d54ab9e8</td>\n",
       "      <td>delivered</td>\n",
       "      <td>2019-12-04</td>\n",
       "      <td>...</td>\n",
       "      <td>1</td>\n",
       "      <td>credit_card</td>\n",
       "      <td>7</td>\n",
       "      <td>256.89</td>\n",
       "      <td>3</td>\n",
       "      <td>moveis_escritorio</td>\n",
       "      <td>office_furniture</td>\n",
       "      <td>8577</td>\n",
       "      <td>itaquaquecetuba</td>\n",
       "      <td>SP</td>\n",
       "    </tr>\n",
       "    <tr>\n",
       "      <th>4</th>\n",
       "      <td>4</td>\n",
       "      <td>6bc8d08963a135220ed6c6d098831f84</td>\n",
       "      <td>23397e992b09769faf5e66f9e171a241</td>\n",
       "      <td>1</td>\n",
       "      <td>25931</td>\n",
       "      <td>mage</td>\n",
       "      <td>RJ</td>\n",
       "      <td>2e604b3614664aa66867856dba7e61b7</td>\n",
       "      <td>delivered</td>\n",
       "      <td>2019-09-20</td>\n",
       "      <td>...</td>\n",
       "      <td>1</td>\n",
       "      <td>credit_card</td>\n",
       "      <td>10</td>\n",
       "      <td>275.76</td>\n",
       "      <td>4</td>\n",
       "      <td>moveis_escritorio</td>\n",
       "      <td>office_furniture</td>\n",
       "      <td>8577</td>\n",
       "      <td>itaquaquecetuba</td>\n",
       "      <td>SP</td>\n",
       "    </tr>\n",
       "  </tbody>\n",
       "</table>\n",
       "<p>5 rows × 27 columns</p>\n",
       "</div>"
      ],
      "text/plain": [
       "   amostra                        id_cliente  \\\n",
       "0        0  06b8999e2fba1a1fbc88172c00ba8bc7   \n",
       "1        1  8912fc0c3bbf1e2fbf35819e21706718   \n",
       "2        2  8912fc0c3bbf1e2fbf35819e21706718   \n",
       "3        3  f0ac8e5a239118859b1734e1087cbb1f   \n",
       "4        4  6bc8d08963a135220ed6c6d098831f84   \n",
       "\n",
       "                   id_unico_cliente  item_id  cep_cliente   cidade_cliente  \\\n",
       "0  861eff4711a542e4b93843c6dd7febb0        1        14409           franca   \n",
       "1  9eae34bbd3a474ec5d07949ca7de67c0        1        68030         santarem   \n",
       "2  9eae34bbd3a474ec5d07949ca7de67c0        2        68030         santarem   \n",
       "3  3c799d181c34d51f6d44bbbc563024db        1        92480  nova santa rita   \n",
       "4  23397e992b09769faf5e66f9e171a241        1        25931             mage   \n",
       "\n",
       "  estado_cliente                         id_pedido status_pedido  \\\n",
       "0             SP  00e7ee1b050b8499577073aeb2a297a1     delivered   \n",
       "1             PA  c1d2b34febe9cd269e378117d6681172     delivered   \n",
       "2             PA  c1d2b34febe9cd269e378117d6681172     delivered   \n",
       "3             RS  b1a5d5365d330d10485e0203d54ab9e8     delivered   \n",
       "4             RJ  2e604b3614664aa66867856dba7e61b7     delivered   \n",
       "\n",
       "  horario_pedido  ... pagamento_sequencial pagamento_tipo  \\\n",
       "0     2022-09-07  ...                    1    credit_card   \n",
       "1     2022-10-28  ...                    1    credit_card   \n",
       "2     2020-08-27  ...                    1    credit_card   \n",
       "3     2019-12-04  ...                    1    credit_card   \n",
       "4     2019-09-20  ...                    1    credit_card   \n",
       "\n",
       "  pagamento_prestacoes pagamento_valor review          categoria  \\\n",
       "0                    2          529.76      4  moveis_escritorio   \n",
       "1                    1          230.34      1  moveis_escritorio   \n",
       "2                    1          674.78      1  moveis_escritorio   \n",
       "3                    7          256.89      3  moveis_escritorio   \n",
       "4                   10          275.76      4  moveis_escritorio   \n",
       "\n",
       "   categoria_ingles  cep_vendedor  cidade_vendedor  estado_vendedor  \n",
       "0  office_furniture          8577  itaquaquecetuba               SP  \n",
       "1  office_furniture          8577  itaquaquecetuba               SP  \n",
       "2  office_furniture          8577  itaquaquecetuba               SP  \n",
       "3  office_furniture          8577  itaquaquecetuba               SP  \n",
       "4  office_furniture          8577  itaquaquecetuba               SP  \n",
       "\n",
       "[5 rows x 27 columns]"
      ]
     },
     "execution_count": 114,
     "metadata": {},
     "output_type": "execute_result"
    }
   ],
   "source": [
    "df_info_clients = pd.read_csv('data/clien_info_right.csv')\n",
    "df_info_clients.drop(['Unnamed: 0'], axis=1, inplace=True)\n",
    "df_info_clients.head()"
   ]
  },
  {
   "cell_type": "markdown",
   "metadata": {},
   "source": [
    "## 1.1) Translating the dataframe"
   ]
  },
  {
   "attachments": {},
   "cell_type": "markdown",
   "metadata": {},
   "source": [
    "- **Amostra:**  id\n",
    "\n",
    "- **id_cliente:** client_id\n",
    "\n",
    "- **id_unico_cliente:**: client_specific_id\n",
    "\n",
    "- **item-id:** item_id\n",
    "\n",
    "- **cep_cliente:** client _postal_code\n",
    "\n",
    "- **cidade cliente:** client_city\n",
    "\n",
    "- **estado_cliente:** client_state\n",
    "\n",
    "- **id_pedido:** order_id\n",
    "\n",
    "- **status_pedido:** order_status\n",
    "\n",
    "- **horario pedido:** order_date\n",
    "\n",
    "- **pedido_aprovado:** order_approved (date and time that the order was approved)\n",
    "\n",
    "- **pedido_entregador:** order_dliveryman (date and time that the order was leaving for delivery)\n",
    "\n",
    "- **pedido_entregue:** order_delivery (date and time that the order was delivery to the client)\n",
    "\n",
    "- **data_estimada:** order_estimated (estimate date that the order will arrive to the client)\n",
    "\n",
    "- **id_vendedor:** salesman_id\n",
    "\n",
    "- **preco:** order_price (price of the order in reais (R$))\n",
    "\n",
    "- **frete:** delivery_price\n",
    "\n",
    "- **pagamento_sequencial:** sequence_pay\n",
    "\n",
    "- **pagamento_tipo:** paymeny_type\n",
    "\n",
    "- **pagamento_prestacoes:**  divided_pay (number of parcels that the client will pay the order's value)\n",
    "\n",
    "- **pagamento_valor:** ntotal_price (order's price + dlivery's price)\n",
    "\n",
    "- **review:** review (stars rating of the client)\n",
    "\n",
    "- **categoria:** category (product's category)\n",
    "\n",
    "- **categoria_ingles:** category_english (product's category in english)\n",
    "\n",
    "- **cep_vendedor:** salesman_postal\n",
    "\n",
    "- **cidade_vendedor:** salesman_city\n",
    "\n",
    "- **estado_vendedor:** salesman_state"
   ]
  },
  {
   "cell_type": "code",
   "execution_count": 115,
   "metadata": {},
   "outputs": [],
   "source": [
    "#Rename the columns\n",
    "new_columns = [ 'id',  'client_id', 'client_specific_id', 'item_id', 'client _postal_code', 'client_city', 'client_state', 'order_id', 'order_status', 'order_date', 'order_approved', 'order_dliveryman',\n",
    "               'order_delivery', 'order_estimated', 'salesman_id', 'order_price', 'delivery_price', 'sequence_pay', 'paymeny_type', 'divided_pay', 'total_price', 'review', 'category', 'category_english',\n",
    "               'salesman_postal', 'salesman_city', 'salesman_state']\n",
    "\n",
    "df_info_clients.columns = new_columns"
   ]
  },
  {
   "attachments": {},
   "cell_type": "markdown",
   "metadata": {},
   "source": [
    "# 2) Data Caracteristics"
   ]
  },
  {
   "cell_type": "code",
   "execution_count": 116,
   "metadata": {},
   "outputs": [
    {
     "name": "stdout",
     "output_type": "stream",
     "text": [
      "Number of Rows: 116581\n",
      "Number of Columns: 27\n"
     ]
    }
   ],
   "source": [
    "print('Number of Rows: {}'.format( df_info_clients.shape[0] ) )\n",
    "print( 'Number of Columns: {}'.format( df_info_clients.shape[1] ) )"
   ]
  },
  {
   "cell_type": "code",
   "execution_count": 117,
   "metadata": {},
   "outputs": [
    {
     "name": "stdout",
     "output_type": "stream",
     "text": [
      "Data Types\n"
     ]
    },
    {
     "data": {
      "text/plain": [
       "id                       int64\n",
       "client_id               object\n",
       "client_specific_id      object\n",
       "item_id                  int64\n",
       "client _postal_code      int64\n",
       "client_city             object\n",
       "client_state            object\n",
       "order_id                object\n",
       "order_status            object\n",
       "order_date              object\n",
       "order_approved          object\n",
       "order_dliveryman        object\n",
       "order_delivery          object\n",
       "order_estimated         object\n",
       "salesman_id             object\n",
       "order_price            float64\n",
       "delivery_price         float64\n",
       "sequence_pay             int64\n",
       "paymeny_type            object\n",
       "divided_pay              int64\n",
       "total_price            float64\n",
       "review                   int64\n",
       "category                object\n",
       "category_english        object\n",
       "salesman_postal          int64\n",
       "salesman_city           object\n",
       "salesman_state          object\n",
       "dtype: object"
      ]
     },
     "execution_count": 117,
     "metadata": {},
     "output_type": "execute_result"
    }
   ],
   "source": [
    "#type of the columns\n",
    "print('Data Types')\n",
    "df_info_clients.dtypes"
   ]
  },
  {
   "cell_type": "code",
   "execution_count": 118,
   "metadata": {},
   "outputs": [],
   "source": [
    "# Convert datas from object to date_time\n",
    "df_info_clients[[\"order_date\"]] = df_info_clients[[\"order_date\"]].apply(pd.to_datetime)\n",
    "df_info_clients[[\"order_approved\"]] = df_info_clients[[\"order_approved\"]].apply(pd.to_datetime)\n",
    "df_info_clients[[\"order_dliveryman\"]] = df_info_clients[[\"order_dliveryman\"]].apply(pd.to_datetime)\n",
    "df_info_clients[[\"order_delivery\"]] = df_info_clients[[\"order_delivery\"]].apply(pd.to_datetime)\n",
    "df_info_clients[[\"order_estimated\"]] = df_info_clients[[\"order_estimated\"]].apply(pd.to_datetime)"
   ]
  },
  {
   "cell_type": "code",
   "execution_count": 119,
   "metadata": {},
   "outputs": [
    {
     "name": "stdout",
     "output_type": "stream",
     "text": [
      "Check Null Values\n"
     ]
    },
    {
     "data": {
      "text/plain": [
       "id                     0\n",
       "client_id              0\n",
       "client_specific_id     0\n",
       "item_id                0\n",
       "client _postal_code    0\n",
       "client_city            0\n",
       "client_state           0\n",
       "order_id               0\n",
       "order_status           0\n",
       "order_date             0\n",
       "order_approved         0\n",
       "order_dliveryman       0\n",
       "order_delivery         0\n",
       "order_estimated        0\n",
       "salesman_id            0\n",
       "order_price            0\n",
       "delivery_price         0\n",
       "sequence_pay           0\n",
       "paymeny_type           0\n",
       "divided_pay            0\n",
       "total_price            0\n",
       "review                 0\n",
       "category               0\n",
       "category_english       0\n",
       "salesman_postal        0\n",
       "salesman_city          0\n",
       "salesman_state         0\n",
       "dtype: int64"
      ]
     },
     "execution_count": 119,
     "metadata": {},
     "output_type": "execute_result"
    }
   ],
   "source": [
    "print(\"Check Null Values\")\n",
    "df_info_clients.isna().sum()"
   ]
  },
  {
   "attachments": {},
   "cell_type": "markdown",
   "metadata": {},
   "source": [
    "#### Exploratory Data Analysis"
   ]
  },
  {
   "cell_type": "code",
   "execution_count": 124,
   "metadata": {},
   "outputs": [
    {
     "name": "stdout",
     "output_type": "stream",
     "text": [
      "There are 116581 sales and 97255 different clients \n"
     ]
    }
   ],
   "source": [
    "print(\"There are \"+ str(len(df_info_clients)) + \" sales and \" +\n",
    "    str(len(df_info_clients['client_id'].unique())) + \n",
    "    \" different clients \" )"
   ]
  },
  {
   "cell_type": "code",
   "execution_count": 125,
   "metadata": {},
   "outputs": [
    {
     "name": "stdout",
     "output_type": "stream",
     "text": [
      "12729 clients bought more than once, which represents 13.09%\n"
     ]
    }
   ],
   "source": [
    "#Clients that bought more than once\n",
    "counts = df_info_clients['client_id'].value_counts()\n",
    "id_good_clients = counts[counts>1].index.tolist()\n",
    "\n",
    "print( str(len(id_good_clients)) +\n",
    "    \" clients bought more than once, which represents \" +\n",
    "    str(round(((len(id_good_clients)/len(df_info_clients['client_id'].unique()))*100),2)) +\n",
    "    \"%\")\n"
   ]
  },
  {
   "attachments": {},
   "cell_type": "markdown",
   "metadata": {},
   "source": [
    "As this is a small percentage, the shop should create more attractive condidtions to estimulates clients to buy a second time"
   ]
  },
  {
   "cell_type": "code",
   "execution_count": 126,
   "metadata": {},
   "outputs": [
    {
     "name": "stdout",
     "output_type": "stream",
     "text": [
      "The clients that bought more than once represents 27.5% of the revenue\n"
     ]
    }
   ],
   "source": [
    "#separate the dataframe for only good clients\n",
    "df_good_clients = df_info_clients[df_info_clients['client_id'].isin(id_good_clients)]\n",
    "\n",
    "print(\"The clients that bought more than once represents \" +\n",
    "str(round((df_good_clients['order_price'].sum()/df_info_clients['order_price'].sum())*100,2))+\n",
    "\"% of the revenue\")"
   ]
  },
  {
   "cell_type": "code",
   "execution_count": 127,
   "metadata": {},
   "outputs": [
    {
     "data": {
      "text/html": [
       "<div>\n",
       "<style scoped>\n",
       "    .dataframe tbody tr th:only-of-type {\n",
       "        vertical-align: middle;\n",
       "    }\n",
       "\n",
       "    .dataframe tbody tr th {\n",
       "        vertical-align: top;\n",
       "    }\n",
       "\n",
       "    .dataframe thead th {\n",
       "        text-align: right;\n",
       "    }\n",
       "</style>\n",
       "<table border=\"1\" class=\"dataframe\">\n",
       "  <thead>\n",
       "    <tr style=\"text-align: right;\">\n",
       "      <th></th>\n",
       "      <th>client_id</th>\n",
       "      <th>client_state</th>\n",
       "      <th>client_city</th>\n",
       "      <th>number_orders</th>\n",
       "      <th>mean_price</th>\n",
       "      <th>sum_price</th>\n",
       "      <th>mean_review</th>\n",
       "      <th>min_order_date</th>\n",
       "      <th>max_order_date</th>\n",
       "      <th>diff_days</th>\n",
       "      <th>interval</th>\n",
       "    </tr>\n",
       "  </thead>\n",
       "  <tbody>\n",
       "    <tr>\n",
       "      <th>0</th>\n",
       "      <td>270c23a11d024a44c896d1894b261a83</td>\n",
       "      <td>SP</td>\n",
       "      <td>sao paulo</td>\n",
       "      <td>63</td>\n",
       "      <td>548.543333</td>\n",
       "      <td>34558.23</td>\n",
       "      <td>4.460317</td>\n",
       "      <td>2019-01-16</td>\n",
       "      <td>2022-12-25</td>\n",
       "      <td>1439</td>\n",
       "      <td>22.84</td>\n",
       "    </tr>\n",
       "    <tr>\n",
       "      <th>1</th>\n",
       "      <td>13aa59158da63ba0e93ec6ac2c07aacb</td>\n",
       "      <td>RJ</td>\n",
       "      <td>rio de janeiro</td>\n",
       "      <td>38</td>\n",
       "      <td>458.187895</td>\n",
       "      <td>17411.14</td>\n",
       "      <td>4.500000</td>\n",
       "      <td>2019-01-19</td>\n",
       "      <td>2022-11-27</td>\n",
       "      <td>1408</td>\n",
       "      <td>37.05</td>\n",
       "    </tr>\n",
       "    <tr>\n",
       "      <th>2</th>\n",
       "      <td>92cd3ec6e2d643d4ebd0e3d6238f69e2</td>\n",
       "      <td>SP</td>\n",
       "      <td>sao paulo</td>\n",
       "      <td>26</td>\n",
       "      <td>642.826538</td>\n",
       "      <td>16713.49</td>\n",
       "      <td>4.500000</td>\n",
       "      <td>2019-01-19</td>\n",
       "      <td>2022-12-27</td>\n",
       "      <td>1438</td>\n",
       "      <td>55.31</td>\n",
       "    </tr>\n",
       "    <tr>\n",
       "      <th>3</th>\n",
       "      <td>9af2372a1e49340278e7c1ef8d749f34</td>\n",
       "      <td>MT</td>\n",
       "      <td>cuiaba</td>\n",
       "      <td>29</td>\n",
       "      <td>567.928621</td>\n",
       "      <td>16469.93</td>\n",
       "      <td>4.689655</td>\n",
       "      <td>2019-01-16</td>\n",
       "      <td>2022-08-18</td>\n",
       "      <td>1310</td>\n",
       "      <td>45.17</td>\n",
       "    </tr>\n",
       "    <tr>\n",
       "      <th>4</th>\n",
       "      <td>50920f8cd0681fd86ebe93670c8fe52e</td>\n",
       "      <td>RS</td>\n",
       "      <td>ijui</td>\n",
       "      <td>21</td>\n",
       "      <td>654.687143</td>\n",
       "      <td>13748.43</td>\n",
       "      <td>4.428571</td>\n",
       "      <td>2019-02-19</td>\n",
       "      <td>2022-12-01</td>\n",
       "      <td>1381</td>\n",
       "      <td>65.76</td>\n",
       "    </tr>\n",
       "  </tbody>\n",
       "</table>\n",
       "</div>"
      ],
      "text/plain": [
       "                          client_id client_state     client_city  \\\n",
       "0  270c23a11d024a44c896d1894b261a83           SP       sao paulo   \n",
       "1  13aa59158da63ba0e93ec6ac2c07aacb           RJ  rio de janeiro   \n",
       "2  92cd3ec6e2d643d4ebd0e3d6238f69e2           SP       sao paulo   \n",
       "3  9af2372a1e49340278e7c1ef8d749f34           MT          cuiaba   \n",
       "4  50920f8cd0681fd86ebe93670c8fe52e           RS            ijui   \n",
       "\n",
       "   number_orders  mean_price  sum_price  mean_review min_order_date  \\\n",
       "0             63  548.543333   34558.23     4.460317     2019-01-16   \n",
       "1             38  458.187895   17411.14     4.500000     2019-01-19   \n",
       "2             26  642.826538   16713.49     4.500000     2019-01-19   \n",
       "3             29  567.928621   16469.93     4.689655     2019-01-16   \n",
       "4             21  654.687143   13748.43     4.428571     2019-02-19   \n",
       "\n",
       "  max_order_date  diff_days  interval  \n",
       "0     2022-12-25       1439     22.84  \n",
       "1     2022-11-27       1408     37.05  \n",
       "2     2022-12-27       1438     55.31  \n",
       "3     2022-08-18       1310     45.17  \n",
       "4     2022-12-01       1381     65.76  "
      ]
     },
     "execution_count": 127,
     "metadata": {},
     "output_type": "execute_result"
    }
   ],
   "source": [
    "df_clients.head()"
   ]
  },
  {
   "attachments": {},
   "cell_type": "markdown",
   "metadata": {},
   "source": [
    "# 3) Classifying  customers"
   ]
  },
  {
   "attachments": {},
   "cell_type": "markdown",
   "metadata": {},
   "source": [
    "### 3.1) Creating Features"
   ]
  },
  {
   "attachments": {},
   "cell_type": "markdown",
   "metadata": {},
   "source": [
    "I will create a dataframe of clients with the following features:\n",
    "- Client ID\n",
    "- Client State\n",
    "- Client city \n",
    "- Number of orders\n",
    "- Mean of the price of the order\n",
    "- Sum of the price: total price of all the orders combine\n",
    "- Mean of the reviews\n",
    "- First order date\n",
    "- Last order date\n",
    "- Difference between the first and last order date\n",
    "- Interval: number of days between purchases"
   ]
  },
  {
   "cell_type": "code",
   "execution_count": 120,
   "metadata": {},
   "outputs": [
    {
     "data": {
      "text/html": [
       "<div>\n",
       "<style scoped>\n",
       "    .dataframe tbody tr th:only-of-type {\n",
       "        vertical-align: middle;\n",
       "    }\n",
       "\n",
       "    .dataframe tbody tr th {\n",
       "        vertical-align: top;\n",
       "    }\n",
       "\n",
       "    .dataframe thead th {\n",
       "        text-align: right;\n",
       "    }\n",
       "</style>\n",
       "<table border=\"1\" class=\"dataframe\">\n",
       "  <thead>\n",
       "    <tr style=\"text-align: right;\">\n",
       "      <th></th>\n",
       "      <th>client_id</th>\n",
       "      <th>client_state</th>\n",
       "      <th>client_city</th>\n",
       "      <th>number_orders</th>\n",
       "      <th>mean_price</th>\n",
       "      <th>sum_price</th>\n",
       "      <th>mean_review</th>\n",
       "      <th>min_order_date</th>\n",
       "      <th>max_order_date</th>\n",
       "    </tr>\n",
       "  </thead>\n",
       "  <tbody>\n",
       "    <tr>\n",
       "      <th>0</th>\n",
       "      <td>00012a2ce6f8dcda20d059ce98491703</td>\n",
       "      <td>SP</td>\n",
       "      <td>osasco</td>\n",
       "      <td>1</td>\n",
       "      <td>784.72</td>\n",
       "      <td>784.72</td>\n",
       "      <td>1.0</td>\n",
       "      <td>2022-10-04</td>\n",
       "      <td>2022-10-04</td>\n",
       "    </tr>\n",
       "    <tr>\n",
       "      <th>1</th>\n",
       "      <td>000161a058600d5901f007fab4c27140</td>\n",
       "      <td>MG</td>\n",
       "      <td>itapecerica</td>\n",
       "      <td>1</td>\n",
       "      <td>930.15</td>\n",
       "      <td>930.15</td>\n",
       "      <td>4.0</td>\n",
       "      <td>2020-07-10</td>\n",
       "      <td>2020-07-10</td>\n",
       "    </tr>\n",
       "    <tr>\n",
       "      <th>2</th>\n",
       "      <td>0001fd6190edaaf884bcaf3d49edf079</td>\n",
       "      <td>ES</td>\n",
       "      <td>nova venecia</td>\n",
       "      <td>1</td>\n",
       "      <td>889.38</td>\n",
       "      <td>889.38</td>\n",
       "      <td>5.0</td>\n",
       "      <td>2019-07-22</td>\n",
       "      <td>2019-07-22</td>\n",
       "    </tr>\n",
       "    <tr>\n",
       "      <th>3</th>\n",
       "      <td>0002414f95344307404f0ace7a26f1d5</td>\n",
       "      <td>MG</td>\n",
       "      <td>mendonca</td>\n",
       "      <td>1</td>\n",
       "      <td>948.16</td>\n",
       "      <td>948.16</td>\n",
       "      <td>5.0</td>\n",
       "      <td>2019-06-30</td>\n",
       "      <td>2019-06-30</td>\n",
       "    </tr>\n",
       "    <tr>\n",
       "      <th>4</th>\n",
       "      <td>000379cdec625522490c315e70c7a9fb</td>\n",
       "      <td>SP</td>\n",
       "      <td>sao paulo</td>\n",
       "      <td>1</td>\n",
       "      <td>782.85</td>\n",
       "      <td>782.85</td>\n",
       "      <td>4.0</td>\n",
       "      <td>2022-06-05</td>\n",
       "      <td>2022-06-05</td>\n",
       "    </tr>\n",
       "  </tbody>\n",
       "</table>\n",
       "</div>"
      ],
      "text/plain": [
       "                          client_id client_state   client_city  number_orders  \\\n",
       "0  00012a2ce6f8dcda20d059ce98491703           SP        osasco              1   \n",
       "1  000161a058600d5901f007fab4c27140           MG   itapecerica              1   \n",
       "2  0001fd6190edaaf884bcaf3d49edf079           ES  nova venecia              1   \n",
       "3  0002414f95344307404f0ace7a26f1d5           MG      mendonca              1   \n",
       "4  000379cdec625522490c315e70c7a9fb           SP     sao paulo              1   \n",
       "\n",
       "   mean_price  sum_price  mean_review min_order_date max_order_date  \n",
       "0      784.72     784.72          1.0     2022-10-04     2022-10-04  \n",
       "1      930.15     930.15          4.0     2020-07-10     2020-07-10  \n",
       "2      889.38     889.38          5.0     2019-07-22     2019-07-22  \n",
       "3      948.16     948.16          5.0     2019-06-30     2019-06-30  \n",
       "4      782.85     782.85          4.0     2022-06-05     2022-06-05  "
      ]
     },
     "execution_count": 120,
     "metadata": {},
     "output_type": "execute_result"
    }
   ],
   "source": [
    "df_info_clients['order_date2'] = df_info_clients['order_date'] \n",
    "df_info_clients['order_price2'] = df_info_clients['order_price'] \n",
    "df_clients = df_info_clients.groupby(['client_id', 'client_state', 'client_city']).agg(\n",
    "    {'client_id': 'count', 'order_price': 'mean', 'order_price2': 'sum', 'review': 'mean', 'order_date': 'min', 'order_date2': 'max'}).rename(\n",
    "    columns={'client_id': 'number_orders', 'order_price': 'mean_price', 'order_price2': 'sum_price', 'review': 'mean_review', 'order_date': 'min_order_date', 'order_date2': 'max_order_date'}).reset_index()\n",
    "df_clients.head()"
   ]
  },
  {
   "cell_type": "code",
   "execution_count": 121,
   "metadata": {},
   "outputs": [],
   "source": [
    "df_clients['max_order_date'] = pd.to_datetime(df_clients['max_order_date'])\n",
    "df_clients['min_order_date'] = pd.to_datetime(df_clients['min_order_date'])"
   ]
  },
  {
   "cell_type": "code",
   "execution_count": 122,
   "metadata": {},
   "outputs": [],
   "source": [
    "#Calculate the number of days between first and the last order\n",
    "df_clients['diff_days'] = (df_clients['max_order_date'] - df_clients['min_order_date']).dt.days\n",
    "\n",
    "#Calculate the number of days between purchases\n",
    "df_clients['interval'] = round(df_clients['diff_days'] / df_clients['number_orders'],2)\n",
    "\n",
    "#Sorting the dataframe in descendant order by the the total spent per client\n",
    "df_clients = df_clients.sort_values(by='sum_price', ascending=False).reset_index()\n",
    "df_clients.drop(['index'], axis=1, inplace=True)"
   ]
  },
  {
   "cell_type": "code",
   "execution_count": 123,
   "metadata": {},
   "outputs": [
    {
     "data": {
      "text/html": [
       "<div>\n",
       "<style scoped>\n",
       "    .dataframe tbody tr th:only-of-type {\n",
       "        vertical-align: middle;\n",
       "    }\n",
       "\n",
       "    .dataframe tbody tr th {\n",
       "        vertical-align: top;\n",
       "    }\n",
       "\n",
       "    .dataframe thead th {\n",
       "        text-align: right;\n",
       "    }\n",
       "</style>\n",
       "<table border=\"1\" class=\"dataframe\">\n",
       "  <thead>\n",
       "    <tr style=\"text-align: right;\">\n",
       "      <th></th>\n",
       "      <th>client_id</th>\n",
       "      <th>client_state</th>\n",
       "      <th>client_city</th>\n",
       "      <th>number_orders</th>\n",
       "      <th>mean_price</th>\n",
       "      <th>sum_price</th>\n",
       "      <th>mean_review</th>\n",
       "      <th>min_order_date</th>\n",
       "      <th>max_order_date</th>\n",
       "      <th>diff_days</th>\n",
       "      <th>interval</th>\n",
       "    </tr>\n",
       "  </thead>\n",
       "  <tbody>\n",
       "    <tr>\n",
       "      <th>0</th>\n",
       "      <td>270c23a11d024a44c896d1894b261a83</td>\n",
       "      <td>SP</td>\n",
       "      <td>sao paulo</td>\n",
       "      <td>63</td>\n",
       "      <td>548.543333</td>\n",
       "      <td>34558.23</td>\n",
       "      <td>4.460317</td>\n",
       "      <td>2019-01-16</td>\n",
       "      <td>2022-12-25</td>\n",
       "      <td>1439</td>\n",
       "      <td>22.84</td>\n",
       "    </tr>\n",
       "    <tr>\n",
       "      <th>1</th>\n",
       "      <td>13aa59158da63ba0e93ec6ac2c07aacb</td>\n",
       "      <td>RJ</td>\n",
       "      <td>rio de janeiro</td>\n",
       "      <td>38</td>\n",
       "      <td>458.187895</td>\n",
       "      <td>17411.14</td>\n",
       "      <td>4.500000</td>\n",
       "      <td>2019-01-19</td>\n",
       "      <td>2022-11-27</td>\n",
       "      <td>1408</td>\n",
       "      <td>37.05</td>\n",
       "    </tr>\n",
       "    <tr>\n",
       "      <th>2</th>\n",
       "      <td>92cd3ec6e2d643d4ebd0e3d6238f69e2</td>\n",
       "      <td>SP</td>\n",
       "      <td>sao paulo</td>\n",
       "      <td>26</td>\n",
       "      <td>642.826538</td>\n",
       "      <td>16713.49</td>\n",
       "      <td>4.500000</td>\n",
       "      <td>2019-01-19</td>\n",
       "      <td>2022-12-27</td>\n",
       "      <td>1438</td>\n",
       "      <td>55.31</td>\n",
       "    </tr>\n",
       "    <tr>\n",
       "      <th>3</th>\n",
       "      <td>9af2372a1e49340278e7c1ef8d749f34</td>\n",
       "      <td>MT</td>\n",
       "      <td>cuiaba</td>\n",
       "      <td>29</td>\n",
       "      <td>567.928621</td>\n",
       "      <td>16469.93</td>\n",
       "      <td>4.689655</td>\n",
       "      <td>2019-01-16</td>\n",
       "      <td>2022-08-18</td>\n",
       "      <td>1310</td>\n",
       "      <td>45.17</td>\n",
       "    </tr>\n",
       "    <tr>\n",
       "      <th>4</th>\n",
       "      <td>50920f8cd0681fd86ebe93670c8fe52e</td>\n",
       "      <td>RS</td>\n",
       "      <td>ijui</td>\n",
       "      <td>21</td>\n",
       "      <td>654.687143</td>\n",
       "      <td>13748.43</td>\n",
       "      <td>4.428571</td>\n",
       "      <td>2019-02-19</td>\n",
       "      <td>2022-12-01</td>\n",
       "      <td>1381</td>\n",
       "      <td>65.76</td>\n",
       "    </tr>\n",
       "  </tbody>\n",
       "</table>\n",
       "</div>"
      ],
      "text/plain": [
       "                          client_id client_state     client_city  \\\n",
       "0  270c23a11d024a44c896d1894b261a83           SP       sao paulo   \n",
       "1  13aa59158da63ba0e93ec6ac2c07aacb           RJ  rio de janeiro   \n",
       "2  92cd3ec6e2d643d4ebd0e3d6238f69e2           SP       sao paulo   \n",
       "3  9af2372a1e49340278e7c1ef8d749f34           MT          cuiaba   \n",
       "4  50920f8cd0681fd86ebe93670c8fe52e           RS            ijui   \n",
       "\n",
       "   number_orders  mean_price  sum_price  mean_review min_order_date  \\\n",
       "0             63  548.543333   34558.23     4.460317     2019-01-16   \n",
       "1             38  458.187895   17411.14     4.500000     2019-01-19   \n",
       "2             26  642.826538   16713.49     4.500000     2019-01-19   \n",
       "3             29  567.928621   16469.93     4.689655     2019-01-16   \n",
       "4             21  654.687143   13748.43     4.428571     2019-02-19   \n",
       "\n",
       "  max_order_date  diff_days  interval  \n",
       "0     2022-12-25       1439     22.84  \n",
       "1     2022-11-27       1408     37.05  \n",
       "2     2022-12-27       1438     55.31  \n",
       "3     2022-08-18       1310     45.17  \n",
       "4     2022-12-01       1381     65.76  "
      ]
     },
     "execution_count": 123,
     "metadata": {},
     "output_type": "execute_result"
    }
   ],
   "source": [
    "df_clients.head()"
   ]
  },
  {
   "attachments": {},
   "cell_type": "markdown",
   "metadata": {},
   "source": [
    "### 3.3) Clients' Statistics"
   ]
  },
  {
   "attachments": {},
   "cell_type": "markdown",
   "metadata": {},
   "source": [
    "- CLientes Totais e analisar os gastos totais\n",
    "    - Clients que compraram mais de uma vez já sao especiais\n",
    "        - Desses analisar total gasto, quantidade gasto, mais categorias recorrentes e regiao\n",
    "        - media +- desvio padrao -> clientes normais\n",
    "        - outliers -> clientes estrela com tratamento especial\n",
    "    - CLientes que compraram uma vez\n",
    "        - media +- desvio padrao -> clientes normais\n",
    "        - outliers -> clientes estrela com tratamento especial\n",
    "        - clientes que tem a data de compra mais recente sao mais propensos a comprarem uma segunda vez"
   ]
  },
  {
   "attachments": {},
   "cell_type": "markdown",
   "metadata": {},
   "source": [
    "#### 3.3.1) All the Clients"
   ]
  },
  {
   "attachments": {},
   "cell_type": "markdown",
   "metadata": {},
   "source": [
    "##### Help Functions"
   ]
  },
  {
   "cell_type": "code",
   "execution_count": 153,
   "metadata": {},
   "outputs": [],
   "source": [
    "def statistics_features (col1, df):\n",
    "    x_mean = df[col1].mean()\n",
    "    x_median = df[col1].median()\n",
    "    x_std = df[col1].std()\n",
    "    x_min = df[col1].min()\n",
    "    x_max = df[col1].max()\n",
    "\n",
    "    \n",
    "    x_stats = pd.DataFrame({'mean': [x_mean],\n",
    "                            'median': [x_median],\n",
    "                            'std': [x_std],\n",
    "                            'min': [x_min],\n",
    "                            'max': [x_max]})\n",
    "    x_stats.index = [col1]\n",
    "    return x_stats"
   ]
  },
  {
   "attachments": {},
   "cell_type": "markdown",
   "metadata": {},
   "source": [
    "##### Feature: sum_price - Total Spent of the Orders"
   ]
  },
  {
   "cell_type": "code",
   "execution_count": 154,
   "metadata": {},
   "outputs": [
    {
     "data": {
      "text/html": [
       "<div>\n",
       "<style scoped>\n",
       "    .dataframe tbody tr th:only-of-type {\n",
       "        vertical-align: middle;\n",
       "    }\n",
       "\n",
       "    .dataframe tbody tr th {\n",
       "        vertical-align: top;\n",
       "    }\n",
       "\n",
       "    .dataframe thead th {\n",
       "        text-align: right;\n",
       "    }\n",
       "</style>\n",
       "<table border=\"1\" class=\"dataframe\">\n",
       "  <thead>\n",
       "    <tr style=\"text-align: right;\">\n",
       "      <th></th>\n",
       "      <th>mean</th>\n",
       "      <th>median</th>\n",
       "      <th>std</th>\n",
       "      <th>min</th>\n",
       "      <th>max</th>\n",
       "    </tr>\n",
       "  </thead>\n",
       "  <tbody>\n",
       "    <tr>\n",
       "      <th>sum_price</th>\n",
       "      <td>659.164129</td>\n",
       "      <td>610.79</td>\n",
       "      <td>540.080369</td>\n",
       "      <td>1.0</td>\n",
       "      <td>34558.23</td>\n",
       "    </tr>\n",
       "  </tbody>\n",
       "</table>\n",
       "</div>"
      ],
      "text/plain": [
       "                 mean  median         std  min       max\n",
       "sum_price  659.164129  610.79  540.080369  1.0  34558.23"
      ]
     },
     "execution_count": 154,
     "metadata": {},
     "output_type": "execute_result"
    }
   ],
   "source": [
    "statistics_features('sum_price', df_clients)"
   ]
  },
  {
   "cell_type": "code",
   "execution_count": 142,
   "metadata": {},
   "outputs": [
    {
     "data": {
      "text/plain": [
       "<Axes: xlabel='sum_price', ylabel='Count'>"
      ]
     },
     "execution_count": 142,
     "metadata": {},
     "output_type": "execute_result"
    },
    {
     "data": {
      "image/png": "[encoded data removed]",
      "text/plain": [
       "<Figure size 640x480 with 1 Axes>"
      ]
     },
     "metadata": {},
     "output_type": "display_data"
    }
   ],
   "source": [
    "#Histogram of the total spent of the clients, including all the orders\n",
    "sns.histplot(df_clients['sum_price'], bins = 30, binrange = (0,7000))"
   ]
  },
  {
   "cell_type": "code",
   "execution_count": null,
   "metadata": {},
   "outputs": [],
   "source": [
    "#Histogram of the total spent of the clients, including all the orders\n",
    "sns.histplot(df_clients['sum_price'], bins = 30, binrange = (0,7000))"
   ]
  },
  {
   "attachments": {},
   "cell_type": "markdown",
   "metadata": {},
   "source": [
    "##### Feature: State"
   ]
  },
  {
   "cell_type": "code",
   "execution_count": 197,
   "metadata": {},
   "outputs": [
    {
     "data": {
      "text/plain": [
       "SP    0.419516\n",
       "RJ    0.129238\n",
       "MG    0.116961\n",
       "RS    0.055020\n",
       "PR    0.050671\n",
       "Name: client_state, dtype: float64"
      ]
     },
     "execution_count": 197,
     "metadata": {},
     "output_type": "execute_result"
    }
   ],
   "source": [
    "df_clients['client_state'].value_counts(normalize=True).head()"
   ]
  },
  {
   "cell_type": "code",
   "execution_count": 196,
   "metadata": {},
   "outputs": [
    {
     "data": {
      "image/png": "[encoded data removed]",
      "text/plain": [
       "<Figure size 2000x600 with 1 Axes>"
      ]
     },
     "metadata": {},
     "output_type": "display_data"
    }
   ],
   "source": [
    "plt.figure(figsize=(20, 6))\n",
    "\n",
    "#Create an aux dataframe\n",
    "aux = df_clients['client_state'].value_counts(normalize=True).sort_values(ascending=False)\n",
    "\n",
    "# create bar plot of sorted state counts with seaborn\n",
    "sns.barplot(x=aux.index, y=aux.values)\n",
    "\n",
    "# set axis labels and rotate x-axis labels\n",
    "plt.xlabel('State')\n",
    "plt.ylabel('Number of Clients')\n",
    "plt.xticks(rotation=90)\n",
    "\n",
    "# display plot\n",
    "plt.show()"
   ]
  },
  {
   "attachments": {},
   "cell_type": "markdown",
   "metadata": {},
   "source": [
    "### 3.3) ABC method"
   ]
  },
  {
   "attachments": {},
   "cell_type": "markdown",
   "metadata": {},
   "source": [
    "*Desconsidered* (explanation bellow)\n",
    "\n",
    "Classifying customers may assist you to streamline your sales activities and help you focus on achieving the desired business goals. The ABC method is the most commonly used.\n",
    "\n",
    "- Category A: Top 20% of customers who generate 80% of the total revenue.\n",
    "- Category B: Middle 30% of customers who generate 15% of the total revenue.\n",
    "- Category C: Bottom 50% of customers who generate 5% of the total revenue."
   ]
  },
  {
   "cell_type": "code",
   "execution_count": 128,
   "metadata": {},
   "outputs": [
    {
     "name": "stdout",
     "output_type": "stream",
     "text": [
      "20% of the clients represents 19451 clients which have 40.67% of the the revenue\n"
     ]
    }
   ],
   "source": [
    "print(\"20% of the clients represents \"+ str(int(len(df_clients)*0.2))+\" clients which have \"+\n",
    "     str(round(df_clients.iloc[:int(len(df_clients)*0.2),5].sum()/df_clients.iloc[:,5].sum()*100,2)) + \"% of the the revenue\")"
   ]
  },
  {
   "attachments": {},
   "cell_type": "markdown",
   "metadata": {},
   "source": [
    "The 20% of the clients with the most expensive orders do not generate 80% of the company's revenue"
   ]
  },
  {
   "attachments": {},
   "cell_type": "markdown",
   "metadata": {},
   "source": [
    "*DESCONSIDERED*"
   ]
  },
  {
   "cell_type": "markdown",
   "metadata": {},
   "source": []
  }
 ],
 "metadata": {
  "kernelspec": {
   "display_name": "Python 3",
   "language": "python",
   "name": "python3"
  },
  "language_info": {
   "codemirror_mode": {
    "name": "ipython",
    "version": 3
   },
   "file_extension": ".py",
   "mimetype": "text/x-python",
   "name": "python",
   "nbconvert_exporter": "python",
   "pygments_lexer": "ipython3",
   "version": "3.11.2"
  },
  "orig_nbformat": 4,
  "vscode": {
   "interpreter": {
    "hash": "aee8b7b246df8f9039afb4144a1f6fd8d2ca17a180786b69acc140d282b71a49"
   }
  }
 },
 "nbformat": 4,
 "nbformat_minor": 2
}
