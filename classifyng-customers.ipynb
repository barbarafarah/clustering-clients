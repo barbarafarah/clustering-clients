{
 "cells": [
  {
   "attachments": {},
   "cell_type": "markdown",
   "metadata": {},
   "source": [
    "# 1. Importing Libraries and Loading Data"
   ]
  },
  {
   "cell_type": "code",
   "execution_count": 122,
   "metadata": {},
   "outputs": [],
   "source": [
    "import pandas as pd\n",
    "import numpy as np\n",
    "import matplotlib.pyplot as plt\n",
    "import seaborn as sns\n",
    "import pandasql as ps\n",
    "import mysql.connector as ms\n",
    "\n",
    "import warnings\n",
    "warnings.filterwarnings('ignore')"
   ]
  },
  {
   "cell_type": "code",
   "execution_count": 123,
   "metadata": {},
   "outputs": [
    {
     "data": {
      "text/html": [
       "<div>\n",
       "<style scoped>\n",
       "    .dataframe tbody tr th:only-of-type {\n",
       "        vertical-align: middle;\n",
       "    }\n",
       "\n",
       "    .dataframe tbody tr th {\n",
       "        vertical-align: top;\n",
       "    }\n",
       "\n",
       "    .dataframe thead th {\n",
       "        text-align: right;\n",
       "    }\n",
       "</style>\n",
       "<table border=\"1\" class=\"dataframe\">\n",
       "  <thead>\n",
       "    <tr style=\"text-align: right;\">\n",
       "      <th></th>\n",
       "      <th>amostra</th>\n",
       "      <th>id_cliente</th>\n",
       "      <th>id_unico_cliente</th>\n",
       "      <th>item_id</th>\n",
       "      <th>cep_cliente</th>\n",
       "      <th>cidade_cliente</th>\n",
       "      <th>estado_cliente</th>\n",
       "      <th>id_pedido</th>\n",
       "      <th>status_pedido</th>\n",
       "      <th>horario_pedido</th>\n",
       "      <th>...</th>\n",
       "      <th>pagamento_sequencial</th>\n",
       "      <th>pagamento_tipo</th>\n",
       "      <th>pagamento_prestacoes</th>\n",
       "      <th>pagamento_valor</th>\n",
       "      <th>review</th>\n",
       "      <th>categoria</th>\n",
       "      <th>categoria_ingles</th>\n",
       "      <th>cep_vendedor</th>\n",
       "      <th>cidade_vendedor</th>\n",
       "      <th>estado_vendedor</th>\n",
       "    </tr>\n",
       "  </thead>\n",
       "  <tbody>\n",
       "    <tr>\n",
       "      <th>0</th>\n",
       "      <td>0</td>\n",
       "      <td>06b8999e2fba1a1fbc88172c00ba8bc7</td>\n",
       "      <td>861eff4711a542e4b93843c6dd7febb0</td>\n",
       "      <td>1</td>\n",
       "      <td>14409</td>\n",
       "      <td>franca</td>\n",
       "      <td>SP</td>\n",
       "      <td>00e7ee1b050b8499577073aeb2a297a1</td>\n",
       "      <td>delivered</td>\n",
       "      <td>2020-01-30</td>\n",
       "      <td>...</td>\n",
       "      <td>1</td>\n",
       "      <td>credit_card</td>\n",
       "      <td>2</td>\n",
       "      <td>1092.36</td>\n",
       "      <td>4</td>\n",
       "      <td>moveis_escritorio</td>\n",
       "      <td>office_furniture</td>\n",
       "      <td>8577</td>\n",
       "      <td>itaquaquecetuba</td>\n",
       "      <td>SP</td>\n",
       "    </tr>\n",
       "    <tr>\n",
       "      <th>1</th>\n",
       "      <td>1</td>\n",
       "      <td>8912fc0c3bbf1e2fbf35819e21706718</td>\n",
       "      <td>9eae34bbd3a474ec5d07949ca7de67c0</td>\n",
       "      <td>1</td>\n",
       "      <td>68030</td>\n",
       "      <td>santarem</td>\n",
       "      <td>PA</td>\n",
       "      <td>c1d2b34febe9cd269e378117d6681172</td>\n",
       "      <td>delivered</td>\n",
       "      <td>2022-03-26</td>\n",
       "      <td>...</td>\n",
       "      <td>1</td>\n",
       "      <td>credit_card</td>\n",
       "      <td>1</td>\n",
       "      <td>211.33</td>\n",
       "      <td>1</td>\n",
       "      <td>moveis_escritorio</td>\n",
       "      <td>office_furniture</td>\n",
       "      <td>8577</td>\n",
       "      <td>itaquaquecetuba</td>\n",
       "      <td>SP</td>\n",
       "    </tr>\n",
       "    <tr>\n",
       "      <th>2</th>\n",
       "      <td>2</td>\n",
       "      <td>8912fc0c3bbf1e2fbf35819e21706718</td>\n",
       "      <td>9eae34bbd3a474ec5d07949ca7de67c0</td>\n",
       "      <td>2</td>\n",
       "      <td>68030</td>\n",
       "      <td>santarem</td>\n",
       "      <td>PA</td>\n",
       "      <td>c1d2b34febe9cd269e378117d6681172</td>\n",
       "      <td>delivered</td>\n",
       "      <td>2021-06-06</td>\n",
       "      <td>...</td>\n",
       "      <td>1</td>\n",
       "      <td>credit_card</td>\n",
       "      <td>1</td>\n",
       "      <td>992.38</td>\n",
       "      <td>1</td>\n",
       "      <td>moveis_escritorio</td>\n",
       "      <td>office_furniture</td>\n",
       "      <td>8577</td>\n",
       "      <td>itaquaquecetuba</td>\n",
       "      <td>SP</td>\n",
       "    </tr>\n",
       "    <tr>\n",
       "      <th>3</th>\n",
       "      <td>3</td>\n",
       "      <td>f0ac8e5a239118859b1734e1087cbb1f</td>\n",
       "      <td>3c799d181c34d51f6d44bbbc563024db</td>\n",
       "      <td>1</td>\n",
       "      <td>92480</td>\n",
       "      <td>nova santa rita</td>\n",
       "      <td>RS</td>\n",
       "      <td>b1a5d5365d330d10485e0203d54ab9e8</td>\n",
       "      <td>delivered</td>\n",
       "      <td>2020-10-07</td>\n",
       "      <td>...</td>\n",
       "      <td>1</td>\n",
       "      <td>credit_card</td>\n",
       "      <td>7</td>\n",
       "      <td>709.16</td>\n",
       "      <td>3</td>\n",
       "      <td>moveis_escritorio</td>\n",
       "      <td>office_furniture</td>\n",
       "      <td>8577</td>\n",
       "      <td>itaquaquecetuba</td>\n",
       "      <td>SP</td>\n",
       "    </tr>\n",
       "    <tr>\n",
       "      <th>4</th>\n",
       "      <td>4</td>\n",
       "      <td>6bc8d08963a135220ed6c6d098831f84</td>\n",
       "      <td>23397e992b09769faf5e66f9e171a241</td>\n",
       "      <td>1</td>\n",
       "      <td>25931</td>\n",
       "      <td>mage</td>\n",
       "      <td>RJ</td>\n",
       "      <td>2e604b3614664aa66867856dba7e61b7</td>\n",
       "      <td>delivered</td>\n",
       "      <td>2020-04-19</td>\n",
       "      <td>...</td>\n",
       "      <td>1</td>\n",
       "      <td>credit_card</td>\n",
       "      <td>10</td>\n",
       "      <td>284.44</td>\n",
       "      <td>4</td>\n",
       "      <td>moveis_escritorio</td>\n",
       "      <td>office_furniture</td>\n",
       "      <td>8577</td>\n",
       "      <td>itaquaquecetuba</td>\n",
       "      <td>SP</td>\n",
       "    </tr>\n",
       "  </tbody>\n",
       "</table>\n",
       "<p>5 rows × 27 columns</p>\n",
       "</div>"
      ],
      "text/plain": [
       "   amostra                        id_cliente  \\\n",
       "0        0  06b8999e2fba1a1fbc88172c00ba8bc7   \n",
       "1        1  8912fc0c3bbf1e2fbf35819e21706718   \n",
       "2        2  8912fc0c3bbf1e2fbf35819e21706718   \n",
       "3        3  f0ac8e5a239118859b1734e1087cbb1f   \n",
       "4        4  6bc8d08963a135220ed6c6d098831f84   \n",
       "\n",
       "                   id_unico_cliente  item_id  cep_cliente   cidade_cliente  \\\n",
       "0  861eff4711a542e4b93843c6dd7febb0        1        14409           franca   \n",
       "1  9eae34bbd3a474ec5d07949ca7de67c0        1        68030         santarem   \n",
       "2  9eae34bbd3a474ec5d07949ca7de67c0        2        68030         santarem   \n",
       "3  3c799d181c34d51f6d44bbbc563024db        1        92480  nova santa rita   \n",
       "4  23397e992b09769faf5e66f9e171a241        1        25931             mage   \n",
       "\n",
       "  estado_cliente                         id_pedido status_pedido  \\\n",
       "0             SP  00e7ee1b050b8499577073aeb2a297a1     delivered   \n",
       "1             PA  c1d2b34febe9cd269e378117d6681172     delivered   \n",
       "2             PA  c1d2b34febe9cd269e378117d6681172     delivered   \n",
       "3             RS  b1a5d5365d330d10485e0203d54ab9e8     delivered   \n",
       "4             RJ  2e604b3614664aa66867856dba7e61b7     delivered   \n",
       "\n",
       "  horario_pedido  ... pagamento_sequencial pagamento_tipo  \\\n",
       "0     2020-01-30  ...                    1    credit_card   \n",
       "1     2022-03-26  ...                    1    credit_card   \n",
       "2     2021-06-06  ...                    1    credit_card   \n",
       "3     2020-10-07  ...                    1    credit_card   \n",
       "4     2020-04-19  ...                    1    credit_card   \n",
       "\n",
       "  pagamento_prestacoes pagamento_valor review          categoria  \\\n",
       "0                    2         1092.36      4  moveis_escritorio   \n",
       "1                    1          211.33      1  moveis_escritorio   \n",
       "2                    1          992.38      1  moveis_escritorio   \n",
       "3                    7          709.16      3  moveis_escritorio   \n",
       "4                   10          284.44      4  moveis_escritorio   \n",
       "\n",
       "   categoria_ingles  cep_vendedor  cidade_vendedor  estado_vendedor  \n",
       "0  office_furniture          8577  itaquaquecetuba               SP  \n",
       "1  office_furniture          8577  itaquaquecetuba               SP  \n",
       "2  office_furniture          8577  itaquaquecetuba               SP  \n",
       "3  office_furniture          8577  itaquaquecetuba               SP  \n",
       "4  office_furniture          8577  itaquaquecetuba               SP  \n",
       "\n",
       "[5 rows x 27 columns]"
      ]
     },
     "execution_count": 123,
     "metadata": {},
     "output_type": "execute_result"
    }
   ],
   "source": [
    "df_info_clients = pd.read_csv('data/clien_info_right.csv')\n",
    "df_info_clients.drop(['Unnamed: 0'], axis=1, inplace=True)\n",
    "df_info_clients.head()"
   ]
  },
  {
   "cell_type": "markdown",
   "metadata": {},
   "source": [
    "## 1.1) Translating the dataframe"
   ]
  },
  {
   "attachments": {},
   "cell_type": "markdown",
   "metadata": {},
   "source": [
    "- **Amostra:**  id\n",
    "\n",
    "- **id_cliente:** client_id\n",
    "\n",
    "- **id_unico_cliente:**: client_specific_id\n",
    "\n",
    "- **item-id:** item_id\n",
    "\n",
    "- **cep_cliente:** client _postal_code\n",
    "\n",
    "- **cidade cliente:** client_city\n",
    "\n",
    "- **estado_cliente:** client_state\n",
    "\n",
    "- **id_pedido:** order_id\n",
    "\n",
    "- **status_pedido:** order_status\n",
    "\n",
    "- **horario pedido:** order_date\n",
    "\n",
    "- **pedido_aprovado:** order_approved (date and time that the order was approved)\n",
    "\n",
    "- **pedido_entregador:** order_dliveryman (date and time that the order was leaving for delivery)\n",
    "\n",
    "- **pedido_entregue:** order_delivery (date and time that the order was delivery to the client)\n",
    "\n",
    "- **data_estimada:** order_estimated (estimate date that the order will arrive to the client)\n",
    "\n",
    "- **id_vendedor:** salesman_id\n",
    "\n",
    "- **preco:** order_price (price of the order in reais (R$))\n",
    "\n",
    "- **frete:** delivery_price\n",
    "\n",
    "- **pagamento_sequencial:** sequence_pay\n",
    "\n",
    "- **pagamento_tipo:** paymeny_type\n",
    "\n",
    "- **pagamento_prestacoes:**  divided_pay (number of parcels that the client will pay the order's value)\n",
    "\n",
    "- **pagamento_valor:** ntotal_price (order's price + dlivery's price)\n",
    "\n",
    "- **review:** review (stars rating of the client)\n",
    "\n",
    "- **categoria:** category (product's category)\n",
    "\n",
    "- **categoria_ingles:** category_english (product's category in english)\n",
    "\n",
    "- **cep_vendedor:** salesman_postal\n",
    "\n",
    "- **cidade_vendedor:** salesman_city\n",
    "\n",
    "- **estado_vendedor:** salesman_state"
   ]
  },
  {
   "cell_type": "code",
   "execution_count": 124,
   "metadata": {},
   "outputs": [],
   "source": [
    "#Rename the columns\n",
    "new_columns = [ 'id',  'client_id', 'client_specific_id', 'item_id', 'client _postal_code', 'client_city', 'client_state', 'order_id', 'order_status', 'order_date', 'order_approved', 'order_dliveryman',\n",
    "               'order_delivery', 'order_estimated', 'salesman_id', 'order_price', 'delivery_price', 'sequence_pay', 'paymeny_type', 'divided_pay', 'total_price', 'review', 'category', 'category_english',\n",
    "               'salesman_postal', 'salesman_city', 'salesman_state']\n",
    "\n",
    "df_info_clients.columns = new_columns"
   ]
  },
  {
   "attachments": {},
   "cell_type": "markdown",
   "metadata": {},
   "source": [
    "# 2) Data Caracteristics"
   ]
  },
  {
   "cell_type": "code",
   "execution_count": 125,
   "metadata": {},
   "outputs": [
    {
     "name": "stdout",
     "output_type": "stream",
     "text": [
      "Number of Rows: 116581\n",
      "Number of Columns: 27\n"
     ]
    }
   ],
   "source": [
    "print('Number of Rows: {}'.format( df_info_clients.shape[0] ) )\n",
    "print( 'Number of Columns: {}'.format( df_info_clients.shape[1] ) )"
   ]
  },
  {
   "cell_type": "code",
   "execution_count": 126,
   "metadata": {},
   "outputs": [
    {
     "name": "stdout",
     "output_type": "stream",
     "text": [
      "Data Types\n"
     ]
    },
    {
     "data": {
      "text/plain": [
       "id                       int64\n",
       "client_id               object\n",
       "client_specific_id      object\n",
       "item_id                  int64\n",
       "client _postal_code      int64\n",
       "client_city             object\n",
       "client_state            object\n",
       "order_id                object\n",
       "order_status            object\n",
       "order_date              object\n",
       "order_approved          object\n",
       "order_dliveryman        object\n",
       "order_delivery          object\n",
       "order_estimated         object\n",
       "salesman_id             object\n",
       "order_price            float64\n",
       "delivery_price         float64\n",
       "sequence_pay             int64\n",
       "paymeny_type            object\n",
       "divided_pay              int64\n",
       "total_price            float64\n",
       "review                   int64\n",
       "category                object\n",
       "category_english        object\n",
       "salesman_postal          int64\n",
       "salesman_city           object\n",
       "salesman_state          object\n",
       "dtype: object"
      ]
     },
     "execution_count": 126,
     "metadata": {},
     "output_type": "execute_result"
    }
   ],
   "source": [
    "#type of the columns\n",
    "print('Data Types')\n",
    "df_info_clients.dtypes"
   ]
  },
  {
   "cell_type": "code",
   "execution_count": 127,
   "metadata": {},
   "outputs": [],
   "source": [
    "# Convert datas from object to date_time\n",
    "df_info_clients[[\"order_date\"]] = df_info_clients[[\"order_date\"]].apply(pd.to_datetime)\n",
    "df_info_clients[[\"order_approved\"]] = df_info_clients[[\"order_approved\"]].apply(pd.to_datetime)\n",
    "df_info_clients[[\"order_dliveryman\"]] = df_info_clients[[\"order_dliveryman\"]].apply(pd.to_datetime)\n",
    "df_info_clients[[\"order_delivery\"]] = df_info_clients[[\"order_delivery\"]].apply(pd.to_datetime)\n",
    "df_info_clients[[\"order_estimated\"]] = df_info_clients[[\"order_estimated\"]].apply(pd.to_datetime)"
   ]
  },
  {
   "cell_type": "code",
   "execution_count": 128,
   "metadata": {},
   "outputs": [
    {
     "name": "stdout",
     "output_type": "stream",
     "text": [
      "Check Null Values\n"
     ]
    },
    {
     "data": {
      "text/plain": [
       "id                     0\n",
       "client_id              0\n",
       "client_specific_id     0\n",
       "item_id                0\n",
       "client _postal_code    0\n",
       "client_city            0\n",
       "client_state           0\n",
       "order_id               0\n",
       "order_status           0\n",
       "order_date             0\n",
       "order_approved         0\n",
       "order_dliveryman       0\n",
       "order_delivery         0\n",
       "order_estimated        0\n",
       "salesman_id            0\n",
       "order_price            0\n",
       "delivery_price         0\n",
       "sequence_pay           0\n",
       "paymeny_type           0\n",
       "divided_pay            0\n",
       "total_price            0\n",
       "review                 0\n",
       "category               0\n",
       "category_english       0\n",
       "salesman_postal        0\n",
       "salesman_city          0\n",
       "salesman_state         0\n",
       "dtype: int64"
      ]
     },
     "execution_count": 128,
     "metadata": {},
     "output_type": "execute_result"
    }
   ],
   "source": [
    "print(\"Check Null Values\")\n",
    "df_info_clients.isna().sum()"
   ]
  },
  {
   "attachments": {},
   "cell_type": "markdown",
   "metadata": {},
   "source": [
    "In order to analyse the status of the null values"
   ]
  },
  {
   "cell_type": "code",
   "execution_count": 129,
   "metadata": {},
   "outputs": [
    {
     "data": {
      "text/plain": [
       "Series([], Name: id, dtype: int64)"
      ]
     },
     "execution_count": 129,
     "metadata": {},
     "output_type": "execute_result"
    }
   ],
   "source": [
    "mask = df_info_clients['order_approved'].isnull() | df_info_clients['order_dliveryman'].isnull() | df_info_clients['order_delivery'].isnull()\n",
    "\n",
    "# group the rows by order_status and count the ids for each order_status\n",
    "df_info_clients[mask].groupby('order_status')['id'].count()"
   ]
  },
  {
   "cell_type": "markdown",
   "metadata": {},
   "source": [
    "It is possible to see that only 23 of the null values are erros, because the status is \"delivered\" but they do not have: \n",
    "- the date of order approval \n",
    "\n",
    "or \n",
    "- the date that the order was leaving for delivery \n",
    "\n",
    "or \n",
    "- the date that the order was delivery to the client\n",
    "\n",
    "For this reason, I will delete these values."
   ]
  },
  {
   "cell_type": "code",
   "execution_count": 130,
   "metadata": {},
   "outputs": [
    {
     "data": {
      "text/html": [
       "<div>\n",
       "<style scoped>\n",
       "    .dataframe tbody tr th:only-of-type {\n",
       "        vertical-align: middle;\n",
       "    }\n",
       "\n",
       "    .dataframe tbody tr th {\n",
       "        vertical-align: top;\n",
       "    }\n",
       "\n",
       "    .dataframe thead th {\n",
       "        text-align: right;\n",
       "    }\n",
       "</style>\n",
       "<table border=\"1\" class=\"dataframe\">\n",
       "  <thead>\n",
       "    <tr style=\"text-align: right;\">\n",
       "      <th></th>\n",
       "      <th>order_status</th>\n",
       "      <th>order_date</th>\n",
       "      <th>order_approved</th>\n",
       "      <th>order_dliveryman</th>\n",
       "      <th>order_delivery</th>\n",
       "      <th>order_estimated</th>\n",
       "    </tr>\n",
       "  </thead>\n",
       "  <tbody>\n",
       "  </tbody>\n",
       "</table>\n",
       "</div>"
      ],
      "text/plain": [
       "Empty DataFrame\n",
       "Columns: [order_status, order_date, order_approved, order_dliveryman, order_delivery, order_estimated]\n",
       "Index: []"
      ]
     },
     "execution_count": 130,
     "metadata": {},
     "output_type": "execute_result"
    }
   ],
   "source": [
    "df_info_clients[(df_info_clients['order_approved'].isnull() | df_info_clients['order_dliveryman'].isnull() | df_info_clients['order_delivery'].isnull()) & (df_info_clients['order_status'] == 'delivered')].iloc[:, 8:14]"
   ]
  },
  {
   "cell_type": "code",
   "execution_count": 131,
   "metadata": {},
   "outputs": [],
   "source": [
    "# deleting null values of 'delivered' status\n",
    "\n",
    "df_info_clients = df_info_clients[(df_info_clients['order_approved'].notnull() & df_info_clients['order_dliveryman'].notnull() & df_info_clients['order_delivery'].notnull()) | (df_info_clients['order_status'] != 'delivered')]"
   ]
  },
  {
   "attachments": {},
   "cell_type": "markdown",
   "metadata": {},
   "source": [
    "# 3) Classifying  customers"
   ]
  },
  {
   "cell_type": "markdown",
   "metadata": {},
   "source": [
    "## 3.1) ABC method\n",
    "\n",
    "Classifying customers may assist you to streamline your sales activities and help you focus on achieving the desired business goals. The ABC method is the most commonly used.\n",
    "\n",
    "A - represents the ‘top grade’ or ‘ideal’ client in your business. They are 20% of the clients and generate more than 80% of the biling.\n",
    "\n",
    "B - is a brilliant business customer. Represent 15% of the billing and they are 30% of the clients\n",
    "\n",
    "C - low revelance for the business. The majority of the cliets correspond to only 5% of the revenue"
   ]
  },
  {
   "cell_type": "code",
   "execution_count": 132,
   "metadata": {},
   "outputs": [
    {
     "name": "stdout",
     "output_type": "stream",
     "text": [
      "There are 116581 sales and 97255 different clients \n"
     ]
    }
   ],
   "source": [
    "print(\"There are \"+ str(len(df_info_clients)) + \" sales and \" +\n",
    "    str(len(df_info_clients['client_id'].unique())) + \n",
    "    \" different clients \" )"
   ]
  },
  {
   "cell_type": "code",
   "execution_count": 133,
   "metadata": {},
   "outputs": [
    {
     "name": "stdout",
     "output_type": "stream",
     "text": [
      "12729 clients bought more than once, which represents 13.09%\n"
     ]
    }
   ],
   "source": [
    "#Clients that bought more than once\n",
    "counts = df_info_clients['client_id'].value_counts()\n",
    "id_good_clients = counts[counts>1].index.tolist()\n",
    "\n",
    "print( str(len(id_good_clients)) +\n",
    "    \" clients bought more than once, which represents \" +\n",
    "    str(round(((len(id_good_clients)/len(df_info_clients['client_id'].unique()))*100),2)) +\n",
    "    \"%\")\n"
   ]
  },
  {
   "cell_type": "code",
   "execution_count": 134,
   "metadata": {},
   "outputs": [],
   "source": [
    "#separate the dataframe for only the good clients\n",
    "df_good_clients = df_info_clients[df_info_clients['client_id'].isin(id_good_clients)]"
   ]
  },
  {
   "cell_type": "code",
   "execution_count": 135,
   "metadata": {},
   "outputs": [
    {
     "name": "stdout",
     "output_type": "stream",
     "text": [
      "The clients that bought more than once represents 27.48% of the billing\n"
     ]
    }
   ],
   "source": [
    "print(\"The clients that bought more than once represents \" +\n",
    "str(round((df_good_clients['order_price'].sum()/df_info_clients['order_price'].sum())*100,2))+\n",
    "\"% of the billing\")"
   ]
  },
  {
   "attachments": {},
   "cell_type": "markdown",
   "metadata": {},
   "source": [
    "*DESCONSIDERED*"
   ]
  },
  {
   "attachments": {},
   "cell_type": "markdown",
   "metadata": {},
   "source": [
    "## 3.2) Creating Features"
   ]
  },
  {
   "attachments": {},
   "cell_type": "markdown",
   "metadata": {},
   "source": [
    "I will create a dataframe of clients with the following features:\n",
    "- Client ID\n",
    "- Client State\n",
    "- Client city \n",
    "- Number of orders\n",
    "- Frquency of orders per month: number of orders divided by the difference between the date of the first order and the last one\n",
    "- Mean of the price of the order\n",
    "- Mean of the reviews"
   ]
  },
  {
   "cell_type": "code",
   "execution_count": 136,
   "metadata": {},
   "outputs": [
    {
     "data": {
      "text/html": [
       "<div>\n",
       "<style scoped>\n",
       "    .dataframe tbody tr th:only-of-type {\n",
       "        vertical-align: middle;\n",
       "    }\n",
       "\n",
       "    .dataframe tbody tr th {\n",
       "        vertical-align: top;\n",
       "    }\n",
       "\n",
       "    .dataframe thead th {\n",
       "        text-align: right;\n",
       "    }\n",
       "</style>\n",
       "<table border=\"1\" class=\"dataframe\">\n",
       "  <thead>\n",
       "    <tr style=\"text-align: right;\">\n",
       "      <th></th>\n",
       "      <th>client_id</th>\n",
       "      <th>client_state</th>\n",
       "      <th>client_city</th>\n",
       "      <th>number_orders</th>\n",
       "      <th>mean_price</th>\n",
       "      <th>mean_review</th>\n",
       "      <th>min_order_date</th>\n",
       "      <th>max_order_date</th>\n",
       "    </tr>\n",
       "  </thead>\n",
       "  <tbody>\n",
       "    <tr>\n",
       "      <th>0</th>\n",
       "      <td>00012a2ce6f8dcda20d059ce98491703</td>\n",
       "      <td>SP</td>\n",
       "      <td>osasco</td>\n",
       "      <td>1</td>\n",
       "      <td>1070.75</td>\n",
       "      <td>1.0</td>\n",
       "      <td>2021-06-19</td>\n",
       "      <td>2021-06-19</td>\n",
       "    </tr>\n",
       "    <tr>\n",
       "      <th>1</th>\n",
       "      <td>000161a058600d5901f007fab4c27140</td>\n",
       "      <td>MG</td>\n",
       "      <td>itapecerica</td>\n",
       "      <td>1</td>\n",
       "      <td>50.74</td>\n",
       "      <td>4.0</td>\n",
       "      <td>2022-12-25</td>\n",
       "      <td>2022-12-25</td>\n",
       "    </tr>\n",
       "    <tr>\n",
       "      <th>2</th>\n",
       "      <td>0001fd6190edaaf884bcaf3d49edf079</td>\n",
       "      <td>ES</td>\n",
       "      <td>nova venecia</td>\n",
       "      <td>1</td>\n",
       "      <td>457.14</td>\n",
       "      <td>5.0</td>\n",
       "      <td>2019-09-19</td>\n",
       "      <td>2019-09-19</td>\n",
       "    </tr>\n",
       "    <tr>\n",
       "      <th>3</th>\n",
       "      <td>0002414f95344307404f0ace7a26f1d5</td>\n",
       "      <td>MG</td>\n",
       "      <td>mendonca</td>\n",
       "      <td>1</td>\n",
       "      <td>138.65</td>\n",
       "      <td>5.0</td>\n",
       "      <td>2020-03-28</td>\n",
       "      <td>2020-03-28</td>\n",
       "    </tr>\n",
       "    <tr>\n",
       "      <th>4</th>\n",
       "      <td>000379cdec625522490c315e70c7a9fb</td>\n",
       "      <td>SP</td>\n",
       "      <td>sao paulo</td>\n",
       "      <td>1</td>\n",
       "      <td>695.97</td>\n",
       "      <td>4.0</td>\n",
       "      <td>2022-12-31</td>\n",
       "      <td>2022-12-31</td>\n",
       "    </tr>\n",
       "  </tbody>\n",
       "</table>\n",
       "</div>"
      ],
      "text/plain": [
       "                          client_id client_state   client_city  number_orders  \\\n",
       "0  00012a2ce6f8dcda20d059ce98491703           SP        osasco              1   \n",
       "1  000161a058600d5901f007fab4c27140           MG   itapecerica              1   \n",
       "2  0001fd6190edaaf884bcaf3d49edf079           ES  nova venecia              1   \n",
       "3  0002414f95344307404f0ace7a26f1d5           MG      mendonca              1   \n",
       "4  000379cdec625522490c315e70c7a9fb           SP     sao paulo              1   \n",
       "\n",
       "   mean_price  mean_review min_order_date max_order_date  \n",
       "0     1070.75          1.0     2021-06-19     2021-06-19  \n",
       "1       50.74          4.0     2022-12-25     2022-12-25  \n",
       "2      457.14          5.0     2019-09-19     2019-09-19  \n",
       "3      138.65          5.0     2020-03-28     2020-03-28  \n",
       "4      695.97          4.0     2022-12-31     2022-12-31  "
      ]
     },
     "execution_count": 136,
     "metadata": {},
     "output_type": "execute_result"
    }
   ],
   "source": [
    "df_info_clients['order_date2'] = df_info_clients['order_date'] \n",
    "df_clients = df_info_clients.groupby(['client_id', 'client_state', 'client_city']).agg(\n",
    "    {'client_id': 'count', 'order_price': 'mean', 'review': 'mean', 'order_date': 'min', 'order_date2': 'max'}).rename(\n",
    "    columns={'client_id': 'number_orders', 'order_price': 'mean_price', 'review': 'mean_review', 'order_date': 'min_order_date', 'order_date2': 'max_order_date'}).reset_index()\n",
    "df_clients.head()"
   ]
  },
  {
   "cell_type": "code",
   "execution_count": 137,
   "metadata": {},
   "outputs": [],
   "source": [
    "df_clients['max_order_date'] = pd.to_datetime(df_clients['max_order_date'])\n",
    "df_clients['min_order_date'] = pd.to_datetime(df_clients['min_order_date'])"
   ]
  },
  {
   "cell_type": "code",
   "execution_count": 138,
   "metadata": {},
   "outputs": [],
   "source": [
    "df_clients['diff_days'] = (df_clients['max_order_date'] - df_clients['min_order_date']).dt.days"
   ]
  },
  {
   "cell_type": "code",
   "execution_count": 139,
   "metadata": {},
   "outputs": [],
   "source": [
    "df_clients['interval'] = None"
   ]
  },
  {
   "cell_type": "code",
   "execution_count": 140,
   "metadata": {},
   "outputs": [],
   "source": [
    "#defyne the number of days between purchase\n",
    "df_clients['interval'] = round(df_clients['diff_days'] / df_clients['number_orders'],2)"
   ]
  },
  {
   "cell_type": "code",
   "execution_count": 141,
   "metadata": {},
   "outputs": [
    {
     "data": {
      "text/html": [
       "<div>\n",
       "<style scoped>\n",
       "    .dataframe tbody tr th:only-of-type {\n",
       "        vertical-align: middle;\n",
       "    }\n",
       "\n",
       "    .dataframe tbody tr th {\n",
       "        vertical-align: top;\n",
       "    }\n",
       "\n",
       "    .dataframe thead th {\n",
       "        text-align: right;\n",
       "    }\n",
       "</style>\n",
       "<table border=\"1\" class=\"dataframe\">\n",
       "  <thead>\n",
       "    <tr style=\"text-align: right;\">\n",
       "      <th></th>\n",
       "      <th>client_id</th>\n",
       "      <th>client_state</th>\n",
       "      <th>client_city</th>\n",
       "      <th>number_orders</th>\n",
       "      <th>mean_price</th>\n",
       "      <th>mean_review</th>\n",
       "      <th>min_order_date</th>\n",
       "      <th>max_order_date</th>\n",
       "      <th>diff_days</th>\n",
       "      <th>interval</th>\n",
       "    </tr>\n",
       "  </thead>\n",
       "  <tbody>\n",
       "    <tr>\n",
       "      <th>12</th>\n",
       "      <td>00066ccbe787a588c52bd5ff404590e3</td>\n",
       "      <td>RS</td>\n",
       "      <td>novo hamburgo</td>\n",
       "      <td>4</td>\n",
       "      <td>681.000000</td>\n",
       "      <td>1.0</td>\n",
       "      <td>2019-08-30</td>\n",
       "      <td>2022-02-21</td>\n",
       "      <td>906</td>\n",
       "      <td>226.50</td>\n",
       "    </tr>\n",
       "    <tr>\n",
       "      <th>15</th>\n",
       "      <td>000bf8121c3412d3057d32371c5d3395</td>\n",
       "      <td>SP</td>\n",
       "      <td>jacarei</td>\n",
       "      <td>2</td>\n",
       "      <td>913.140000</td>\n",
       "      <td>5.0</td>\n",
       "      <td>2020-01-20</td>\n",
       "      <td>2020-02-27</td>\n",
       "      <td>38</td>\n",
       "      <td>19.00</td>\n",
       "    </tr>\n",
       "    <tr>\n",
       "      <th>16</th>\n",
       "      <td>000e943451fc2788ca6ac98a682f2f49</td>\n",
       "      <td>RS</td>\n",
       "      <td>colorado</td>\n",
       "      <td>4</td>\n",
       "      <td>563.247500</td>\n",
       "      <td>4.0</td>\n",
       "      <td>2019-09-21</td>\n",
       "      <td>2022-07-20</td>\n",
       "      <td>1033</td>\n",
       "      <td>258.25</td>\n",
       "    </tr>\n",
       "    <tr>\n",
       "      <th>22</th>\n",
       "      <td>001051abfcfdbed9f87b4266213a5df1</td>\n",
       "      <td>SP</td>\n",
       "      <td>sao paulo</td>\n",
       "      <td>3</td>\n",
       "      <td>622.826667</td>\n",
       "      <td>4.0</td>\n",
       "      <td>2019-09-19</td>\n",
       "      <td>2022-06-17</td>\n",
       "      <td>1002</td>\n",
       "      <td>334.00</td>\n",
       "    </tr>\n",
       "    <tr>\n",
       "      <th>28</th>\n",
       "      <td>001450ebb4a77efb3d68be5f7887cb1e</td>\n",
       "      <td>SP</td>\n",
       "      <td>ibiuna</td>\n",
       "      <td>2</td>\n",
       "      <td>560.395000</td>\n",
       "      <td>2.0</td>\n",
       "      <td>2019-04-22</td>\n",
       "      <td>2021-02-25</td>\n",
       "      <td>675</td>\n",
       "      <td>337.50</td>\n",
       "    </tr>\n",
       "    <tr>\n",
       "      <th>...</th>\n",
       "      <td>...</td>\n",
       "      <td>...</td>\n",
       "      <td>...</td>\n",
       "      <td>...</td>\n",
       "      <td>...</td>\n",
       "      <td>...</td>\n",
       "      <td>...</td>\n",
       "      <td>...</td>\n",
       "      <td>...</td>\n",
       "      <td>...</td>\n",
       "    </tr>\n",
       "    <tr>\n",
       "      <th>97230</th>\n",
       "      <td>fff168ca1f8a1d2e8e2108b231a68a8c</td>\n",
       "      <td>SP</td>\n",
       "      <td>sao paulo</td>\n",
       "      <td>3</td>\n",
       "      <td>310.363333</td>\n",
       "      <td>5.0</td>\n",
       "      <td>2019-04-01</td>\n",
       "      <td>2022-09-08</td>\n",
       "      <td>1256</td>\n",
       "      <td>418.67</td>\n",
       "    </tr>\n",
       "    <tr>\n",
       "      <th>97236</th>\n",
       "      <td>fff3a5c6d542d52b05f7e4518adf996e</td>\n",
       "      <td>MS</td>\n",
       "      <td>anhandui</td>\n",
       "      <td>3</td>\n",
       "      <td>715.480000</td>\n",
       "      <td>5.0</td>\n",
       "      <td>2019-09-11</td>\n",
       "      <td>2022-11-11</td>\n",
       "      <td>1157</td>\n",
       "      <td>385.67</td>\n",
       "    </tr>\n",
       "    <tr>\n",
       "      <th>97247</th>\n",
       "      <td>fff93c1da78dafaaa304ff032abc6205</td>\n",
       "      <td>SP</td>\n",
       "      <td>araraquara</td>\n",
       "      <td>3</td>\n",
       "      <td>321.016667</td>\n",
       "      <td>5.0</td>\n",
       "      <td>2019-07-08</td>\n",
       "      <td>2021-04-12</td>\n",
       "      <td>644</td>\n",
       "      <td>214.67</td>\n",
       "    </tr>\n",
       "    <tr>\n",
       "      <th>97251</th>\n",
       "      <td>fffecc9f79fd8c764f843e9951b11341</td>\n",
       "      <td>RS</td>\n",
       "      <td>parobe</td>\n",
       "      <td>3</td>\n",
       "      <td>629.076667</td>\n",
       "      <td>3.0</td>\n",
       "      <td>2019-12-09</td>\n",
       "      <td>2022-07-28</td>\n",
       "      <td>962</td>\n",
       "      <td>320.67</td>\n",
       "    </tr>\n",
       "    <tr>\n",
       "      <th>97254</th>\n",
       "      <td>ffffa3172527f765de70084a7e53aae8</td>\n",
       "      <td>MG</td>\n",
       "      <td>alfenas</td>\n",
       "      <td>2</td>\n",
       "      <td>814.335000</td>\n",
       "      <td>5.0</td>\n",
       "      <td>2019-04-19</td>\n",
       "      <td>2020-07-08</td>\n",
       "      <td>446</td>\n",
       "      <td>223.00</td>\n",
       "    </tr>\n",
       "  </tbody>\n",
       "</table>\n",
       "<p>12729 rows × 10 columns</p>\n",
       "</div>"
      ],
      "text/plain": [
       "                              client_id client_state    client_city  \\\n",
       "12     00066ccbe787a588c52bd5ff404590e3           RS  novo hamburgo   \n",
       "15     000bf8121c3412d3057d32371c5d3395           SP        jacarei   \n",
       "16     000e943451fc2788ca6ac98a682f2f49           RS       colorado   \n",
       "22     001051abfcfdbed9f87b4266213a5df1           SP      sao paulo   \n",
       "28     001450ebb4a77efb3d68be5f7887cb1e           SP         ibiuna   \n",
       "...                                 ...          ...            ...   \n",
       "97230  fff168ca1f8a1d2e8e2108b231a68a8c           SP      sao paulo   \n",
       "97236  fff3a5c6d542d52b05f7e4518adf996e           MS       anhandui   \n",
       "97247  fff93c1da78dafaaa304ff032abc6205           SP     araraquara   \n",
       "97251  fffecc9f79fd8c764f843e9951b11341           RS         parobe   \n",
       "97254  ffffa3172527f765de70084a7e53aae8           MG        alfenas   \n",
       "\n",
       "       number_orders  mean_price  mean_review min_order_date max_order_date  \\\n",
       "12                 4  681.000000          1.0     2019-08-30     2022-02-21   \n",
       "15                 2  913.140000          5.0     2020-01-20     2020-02-27   \n",
       "16                 4  563.247500          4.0     2019-09-21     2022-07-20   \n",
       "22                 3  622.826667          4.0     2019-09-19     2022-06-17   \n",
       "28                 2  560.395000          2.0     2019-04-22     2021-02-25   \n",
       "...              ...         ...          ...            ...            ...   \n",
       "97230              3  310.363333          5.0     2019-04-01     2022-09-08   \n",
       "97236              3  715.480000          5.0     2019-09-11     2022-11-11   \n",
       "97247              3  321.016667          5.0     2019-07-08     2021-04-12   \n",
       "97251              3  629.076667          3.0     2019-12-09     2022-07-28   \n",
       "97254              2  814.335000          5.0     2019-04-19     2020-07-08   \n",
       "\n",
       "       diff_days  interval  \n",
       "12           906    226.50  \n",
       "15            38     19.00  \n",
       "16          1033    258.25  \n",
       "22          1002    334.00  \n",
       "28           675    337.50  \n",
       "...          ...       ...  \n",
       "97230       1256    418.67  \n",
       "97236       1157    385.67  \n",
       "97247        644    214.67  \n",
       "97251        962    320.67  \n",
       "97254        446    223.00  \n",
       "\n",
       "[12729 rows x 10 columns]"
      ]
     },
     "execution_count": 141,
     "metadata": {},
     "output_type": "execute_result"
    }
   ],
   "source": [
    "df_clients[df_clients['number_orders']>1]"
   ]
  },
  {
   "cell_type": "code",
   "execution_count": 142,
   "metadata": {},
   "outputs": [
    {
     "data": {
      "text/plain": [
       "270c23a11d024a44c896d1894b261a83    63\n",
       "13aa59158da63ba0e93ec6ac2c07aacb    38\n",
       "9af2372a1e49340278e7c1ef8d749f34    29\n",
       "92cd3ec6e2d643d4ebd0e3d6238f69e2    26\n",
       "d22f25a9fadfb1abbc2e29395b1239f4    24\n",
       "                                    ..\n",
       "f072b86e7d9e54f95e3dc4854fddeb3d     1\n",
       "7facd235e6759b64f900b3a24f71a2a6     1\n",
       "20fd1d3f2cd5764f96b64c33263a57fd     1\n",
       "33a3023585bff9c06044bdcd92c95b4b     1\n",
       "c61336d6c835632048f973d2f2db598d     1\n",
       "Name: client_id, Length: 97255, dtype: int64"
      ]
     },
     "execution_count": 142,
     "metadata": {},
     "output_type": "execute_result"
    }
   ],
   "source": [
    "df_info_clients['client_id'].value_counts()"
   ]
  },
  {
   "cell_type": "code",
   "execution_count": null,
   "metadata": {},
   "outputs": [],
   "source": []
  }
 ],
 "metadata": {
  "kernelspec": {
   "display_name": "Python 3",
   "language": "python",
   "name": "python3"
  },
  "language_info": {
   "codemirror_mode": {
    "name": "ipython",
    "version": 3
   },
   "file_extension": ".py",
   "mimetype": "text/x-python",
   "name": "python",
   "nbconvert_exporter": "python",
   "pygments_lexer": "ipython3",
   "version": "3.11.2"
  },
  "orig_nbformat": 4,
  "vscode": {
   "interpreter": {
    "hash": "aee8b7b246df8f9039afb4144a1f6fd8d2ca17a180786b69acc140d282b71a49"
   }
  }
 },
 "nbformat": 4,
 "nbformat_minor": 2
}
