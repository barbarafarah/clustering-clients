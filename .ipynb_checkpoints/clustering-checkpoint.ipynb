{
 "cells": [
  {
   "cell_type": "markdown",
   "metadata": {},
   "source": [
    "# 1. Import Libraries"
   ]
  },
  {
   "cell_type": "code",
   "execution_count": 1,
   "metadata": {},
   "outputs": [],
   "source": [
    "import pandas as pd\n",
    "import numpy as np\n",
    "import matplotlib.pyplot as plt\n",
    "import seaborn as sns\n",
    "import pandasql as ps\n",
    "\n",
    "import warnings\n",
    "warnings.filterwarnings('ignore')"
   ]
  },
  {
   "cell_type": "markdown",
   "metadata": {},
   "source": [
    "# 2. Loading Data"
   ]
  },
  {
   "cell_type": "code",
   "execution_count": 132,
   "metadata": {},
   "outputs": [],
   "source": [
    "df_info_clients = pd.read_csv('data/clients_informations.csv')"
   ]
  },
  {
   "cell_type": "markdown",
   "metadata": {},
   "source": [
    "### 2.1 Data Summary: \n",
    "- **Amostra:** id\n",
    "\n",
    "- **id_cliente:** client id\n",
    "\n",
    "- **id_unico_cliente:**: client specific id\n",
    "\n",
    "- **item-id:** product id\n",
    "\n",
    "- **cep_cliente:** client's postal code\n",
    "\n",
    "- **cidade cliente:** client's city\n",
    "\n",
    "- **estado_cliente:** client's state\n",
    "\n",
    "- **id_pedido:** order id\n",
    "\n",
    "- **status_pedido:** order's status\n",
    "\n",
    "- **horario pedido:** date and time that order was made by the client\n",
    "\n",
    "- **pedido_aprovado:** date and time that the order was approved in the website\n",
    "\n",
    "- **pedido_entregador:** date and time that the order was leaving for delivery\n",
    "\n",
    "- **pedido_entregue:** date and time that the order was delivery to the client\n",
    "\n",
    "- **data_estimada:** estimate date that the order will arrive to the client\n",
    "\n",
    "- **id_vendedor:** salesman's id\n",
    "\n",
    "- **preco:** price of the order in reais (R$)\n",
    "\n",
    "- **frete:** delivery's price\n",
    "\n",
    "- **pagamento_sequencial:**\n",
    "\n",
    "- **pagamento_tipo:** which method the client chose to pay\n",
    "\n",
    "- **pagamento_prestacoes:** number of parcels that the client will pay the order's value\n",
    "\n",
    "- **pagamento_valor:** order's price + dlivery's price\n",
    "\n",
    "- **review:** stars rating of the client\n",
    "\n",
    "- **categoria:** product's category\n",
    "\n",
    "- **categoria_ingles:** product's category in english\n",
    "\n",
    "- **cep_vendedor:** salesman postal code\n",
    "\n",
    "- **cidade_vendedor:** salesman city\n",
    "\n",
    "- **estado_vendedor:** sales person state\n"
   ]
  },
  {
   "cell_type": "code",
   "execution_count": 3,
   "metadata": {},
   "outputs": [
    {
     "data": {
      "text/html": [
       "<div>\n",
       "<style scoped>\n",
       "    .dataframe tbody tr th:only-of-type {\n",
       "        vertical-align: middle;\n",
       "    }\n",
       "\n",
       "    .dataframe tbody tr th {\n",
       "        vertical-align: top;\n",
       "    }\n",
       "\n",
       "    .dataframe thead th {\n",
       "        text-align: right;\n",
       "    }\n",
       "</style>\n",
       "<table border=\"1\" class=\"dataframe\">\n",
       "  <thead>\n",
       "    <tr style=\"text-align: right;\">\n",
       "      <th></th>\n",
       "      <th>amostra</th>\n",
       "      <th>id_cliente</th>\n",
       "      <th>id_unico_cliente</th>\n",
       "      <th>item_id</th>\n",
       "      <th>cep_cliente</th>\n",
       "      <th>cidade_cliente</th>\n",
       "      <th>estado_cliente</th>\n",
       "      <th>id_pedido</th>\n",
       "      <th>status_pedido</th>\n",
       "      <th>horario_pedido</th>\n",
       "      <th>...</th>\n",
       "      <th>pagamento_sequencial</th>\n",
       "      <th>pagamento_tipo</th>\n",
       "      <th>pagamento_prestacoes</th>\n",
       "      <th>pagamento_valor</th>\n",
       "      <th>review</th>\n",
       "      <th>categoria</th>\n",
       "      <th>categoria_ingles</th>\n",
       "      <th>cep_vendedor</th>\n",
       "      <th>cidade_vendedor</th>\n",
       "      <th>estado_vendedor</th>\n",
       "    </tr>\n",
       "  </thead>\n",
       "  <tbody>\n",
       "    <tr>\n",
       "      <th>0</th>\n",
       "      <td>0</td>\n",
       "      <td>06b8999e2fba1a1fbc88172c00ba8bc7</td>\n",
       "      <td>861eff4711a542e4b93843c6dd7febb0</td>\n",
       "      <td>1</td>\n",
       "      <td>14409</td>\n",
       "      <td>franca</td>\n",
       "      <td>SP</td>\n",
       "      <td>00e7ee1b050b8499577073aeb2a297a1</td>\n",
       "      <td>delivered</td>\n",
       "      <td>2017-05-16 15:05:35</td>\n",
       "      <td>...</td>\n",
       "      <td>1</td>\n",
       "      <td>credit_card</td>\n",
       "      <td>2</td>\n",
       "      <td>146.87</td>\n",
       "      <td>4</td>\n",
       "      <td>moveis_escritorio</td>\n",
       "      <td>office_furniture</td>\n",
       "      <td>8577</td>\n",
       "      <td>itaquaquecetuba</td>\n",
       "      <td>SP</td>\n",
       "    </tr>\n",
       "    <tr>\n",
       "      <th>1</th>\n",
       "      <td>1</td>\n",
       "      <td>8912fc0c3bbf1e2fbf35819e21706718</td>\n",
       "      <td>9eae34bbd3a474ec5d07949ca7de67c0</td>\n",
       "      <td>1</td>\n",
       "      <td>68030</td>\n",
       "      <td>santarem</td>\n",
       "      <td>PA</td>\n",
       "      <td>c1d2b34febe9cd269e378117d6681172</td>\n",
       "      <td>delivered</td>\n",
       "      <td>2017-11-09 00:50:13</td>\n",
       "      <td>...</td>\n",
       "      <td>1</td>\n",
       "      <td>credit_card</td>\n",
       "      <td>1</td>\n",
       "      <td>275.79</td>\n",
       "      <td>1</td>\n",
       "      <td>moveis_escritorio</td>\n",
       "      <td>office_furniture</td>\n",
       "      <td>8577</td>\n",
       "      <td>itaquaquecetuba</td>\n",
       "      <td>SP</td>\n",
       "    </tr>\n",
       "    <tr>\n",
       "      <th>2</th>\n",
       "      <td>2</td>\n",
       "      <td>8912fc0c3bbf1e2fbf35819e21706718</td>\n",
       "      <td>9eae34bbd3a474ec5d07949ca7de67c0</td>\n",
       "      <td>2</td>\n",
       "      <td>68030</td>\n",
       "      <td>santarem</td>\n",
       "      <td>PA</td>\n",
       "      <td>c1d2b34febe9cd269e378117d6681172</td>\n",
       "      <td>delivered</td>\n",
       "      <td>2017-11-09 00:50:13</td>\n",
       "      <td>...</td>\n",
       "      <td>1</td>\n",
       "      <td>credit_card</td>\n",
       "      <td>1</td>\n",
       "      <td>275.79</td>\n",
       "      <td>1</td>\n",
       "      <td>moveis_escritorio</td>\n",
       "      <td>office_furniture</td>\n",
       "      <td>8577</td>\n",
       "      <td>itaquaquecetuba</td>\n",
       "      <td>SP</td>\n",
       "    </tr>\n",
       "    <tr>\n",
       "      <th>3</th>\n",
       "      <td>3</td>\n",
       "      <td>f0ac8e5a239118859b1734e1087cbb1f</td>\n",
       "      <td>3c799d181c34d51f6d44bbbc563024db</td>\n",
       "      <td>1</td>\n",
       "      <td>92480</td>\n",
       "      <td>nova santa rita</td>\n",
       "      <td>RS</td>\n",
       "      <td>b1a5d5365d330d10485e0203d54ab9e8</td>\n",
       "      <td>delivered</td>\n",
       "      <td>2017-05-07 20:11:26</td>\n",
       "      <td>...</td>\n",
       "      <td>1</td>\n",
       "      <td>credit_card</td>\n",
       "      <td>7</td>\n",
       "      <td>140.61</td>\n",
       "      <td>3</td>\n",
       "      <td>moveis_escritorio</td>\n",
       "      <td>office_furniture</td>\n",
       "      <td>8577</td>\n",
       "      <td>itaquaquecetuba</td>\n",
       "      <td>SP</td>\n",
       "    </tr>\n",
       "    <tr>\n",
       "      <th>4</th>\n",
       "      <td>4</td>\n",
       "      <td>6bc8d08963a135220ed6c6d098831f84</td>\n",
       "      <td>23397e992b09769faf5e66f9e171a241</td>\n",
       "      <td>1</td>\n",
       "      <td>25931</td>\n",
       "      <td>mage</td>\n",
       "      <td>RJ</td>\n",
       "      <td>2e604b3614664aa66867856dba7e61b7</td>\n",
       "      <td>delivered</td>\n",
       "      <td>2018-02-03 19:45:40</td>\n",
       "      <td>...</td>\n",
       "      <td>1</td>\n",
       "      <td>credit_card</td>\n",
       "      <td>10</td>\n",
       "      <td>137.58</td>\n",
       "      <td>4</td>\n",
       "      <td>moveis_escritorio</td>\n",
       "      <td>office_furniture</td>\n",
       "      <td>8577</td>\n",
       "      <td>itaquaquecetuba</td>\n",
       "      <td>SP</td>\n",
       "    </tr>\n",
       "  </tbody>\n",
       "</table>\n",
       "<p>5 rows × 27 columns</p>\n",
       "</div>"
      ],
      "text/plain": [
       "   amostra                        id_cliente  \\\n",
       "0        0  06b8999e2fba1a1fbc88172c00ba8bc7   \n",
       "1        1  8912fc0c3bbf1e2fbf35819e21706718   \n",
       "2        2  8912fc0c3bbf1e2fbf35819e21706718   \n",
       "3        3  f0ac8e5a239118859b1734e1087cbb1f   \n",
       "4        4  6bc8d08963a135220ed6c6d098831f84   \n",
       "\n",
       "                   id_unico_cliente  item_id  cep_cliente   cidade_cliente  \\\n",
       "0  861eff4711a542e4b93843c6dd7febb0        1        14409           franca   \n",
       "1  9eae34bbd3a474ec5d07949ca7de67c0        1        68030         santarem   \n",
       "2  9eae34bbd3a474ec5d07949ca7de67c0        2        68030         santarem   \n",
       "3  3c799d181c34d51f6d44bbbc563024db        1        92480  nova santa rita   \n",
       "4  23397e992b09769faf5e66f9e171a241        1        25931             mage   \n",
       "\n",
       "  estado_cliente                         id_pedido status_pedido  \\\n",
       "0             SP  00e7ee1b050b8499577073aeb2a297a1     delivered   \n",
       "1             PA  c1d2b34febe9cd269e378117d6681172     delivered   \n",
       "2             PA  c1d2b34febe9cd269e378117d6681172     delivered   \n",
       "3             RS  b1a5d5365d330d10485e0203d54ab9e8     delivered   \n",
       "4             RJ  2e604b3614664aa66867856dba7e61b7     delivered   \n",
       "\n",
       "        horario_pedido  ... pagamento_sequencial pagamento_tipo  \\\n",
       "0  2017-05-16 15:05:35  ...                    1    credit_card   \n",
       "1  2017-11-09 00:50:13  ...                    1    credit_card   \n",
       "2  2017-11-09 00:50:13  ...                    1    credit_card   \n",
       "3  2017-05-07 20:11:26  ...                    1    credit_card   \n",
       "4  2018-02-03 19:45:40  ...                    1    credit_card   \n",
       "\n",
       "  pagamento_prestacoes pagamento_valor review          categoria  \\\n",
       "0                    2          146.87      4  moveis_escritorio   \n",
       "1                    1          275.79      1  moveis_escritorio   \n",
       "2                    1          275.79      1  moveis_escritorio   \n",
       "3                    7          140.61      3  moveis_escritorio   \n",
       "4                   10          137.58      4  moveis_escritorio   \n",
       "\n",
       "   categoria_ingles  cep_vendedor  cidade_vendedor  estado_vendedor  \n",
       "0  office_furniture          8577  itaquaquecetuba               SP  \n",
       "1  office_furniture          8577  itaquaquecetuba               SP  \n",
       "2  office_furniture          8577  itaquaquecetuba               SP  \n",
       "3  office_furniture          8577  itaquaquecetuba               SP  \n",
       "4  office_furniture          8577  itaquaquecetuba               SP  \n",
       "\n",
       "[5 rows x 27 columns]"
      ]
     },
     "execution_count": 3,
     "metadata": {},
     "output_type": "execute_result"
    }
   ],
   "source": [
    "df_info_clients.head()"
   ]
  },
  {
   "cell_type": "markdown",
   "metadata": {},
   "source": [
    "### 2.2 Rename Columns"
   ]
  },
  {
   "cell_type": "code",
   "execution_count": 133,
   "metadata": {},
   "outputs": [],
   "source": [
    "new_columns = [ 'id',  'client_id', 'client_specific_id', 'item_id', 'client _postal_code', 'client_city', 'client_state', 'order_id', 'order_status', 'order_date', 'order_approved', 'order_dliveryman',\n",
    "               'order_delivery', 'order_estimated', 'salesman_id', 'order_price', 'delivery_price', 'sequence_pay', 'paymeny_type', 'divided_pay', 'total_price', 'review', 'category', 'category_english',\n",
    "               'salesman_postal', 'salesman_city', 'salesman_state']\n",
    "\n",
    "df_info_clients.columns = new_columns"
   ]
  },
  {
   "cell_type": "markdown",
   "metadata": {},
   "source": [
    "### 2.3 Data Caracteristics"
   ]
  },
  {
   "cell_type": "code",
   "execution_count": 5,
   "metadata": {},
   "outputs": [
    {
     "name": "stdout",
     "output_type": "stream",
     "text": [
      "Number of Rows: 116581\n",
      "Number of Columns: 27\n"
     ]
    }
   ],
   "source": [
    "print('Number of Rows: {}'.format( df_info_clients.shape[0] ) )\n",
    "print( 'Number of Columns: {}'.format( df_info_clients.shape[1] ) )"
   ]
  },
  {
   "cell_type": "code",
   "execution_count": 134,
   "metadata": {
    "scrolled": true
   },
   "outputs": [
    {
     "name": "stdout",
     "output_type": "stream",
     "text": [
      "Data Types\n"
     ]
    },
    {
     "data": {
      "text/plain": [
       "id                       int64\n",
       "client_id               object\n",
       "client_specific_id      object\n",
       "item_id                  int64\n",
       "client _postal_code      int64\n",
       "client_city             object\n",
       "client_state            object\n",
       "order_id                object\n",
       "order_status            object\n",
       "order_date              object\n",
       "order_approved          object\n",
       "order_dliveryman        object\n",
       "order_delivery          object\n",
       "order_estimated         object\n",
       "salesman_id             object\n",
       "order_price            float64\n",
       "delivery_price         float64\n",
       "sequence_pay             int64\n",
       "paymeny_type            object\n",
       "divided_pay              int64\n",
       "total_price            float64\n",
       "review                   int64\n",
       "category                object\n",
       "category_english        object\n",
       "salesman_postal          int64\n",
       "salesman_city           object\n",
       "salesman_state          object\n",
       "dtype: object"
      ]
     },
     "execution_count": 134,
     "metadata": {},
     "output_type": "execute_result"
    }
   ],
   "source": [
    "print('Data Types')\n",
    "df_info_clients.dtypes"
   ]
  },
  {
   "cell_type": "code",
   "execution_count": 97,
   "metadata": {},
   "outputs": [],
   "source": [
    "df_info_clients[[\"order_date\"]] = df_info_clients[[\"order_date\"]].apply(pd.to_datetime)"
   ]
  },
  {
   "cell_type": "code",
   "execution_count": 7,
   "metadata": {},
   "outputs": [
    {
     "name": "stdout",
     "output_type": "stream",
     "text": [
      "Check Null Values\n"
     ]
    },
    {
     "data": {
      "text/plain": [
       "id                        0\n",
       "client_id                 0\n",
       "client_specific_id        0\n",
       "item_id                   0\n",
       "client _postal_code       0\n",
       "client_city               0\n",
       "client_state              0\n",
       "order_id                  0\n",
       "order_status              0\n",
       "order_date                0\n",
       "order_approved           14\n",
       "order_dliveryman       1213\n",
       "order_delivery         2515\n",
       "order_estimated           0\n",
       "salesman_id               0\n",
       "order_price               0\n",
       "delivery_price            0\n",
       "sequence_pay              0\n",
       "paymeny_type              0\n",
       "divided_pay               0\n",
       "total_price               0\n",
       "review                    0\n",
       "category                  0\n",
       "category_english          0\n",
       "salesman_postal           0\n",
       "salesman_city             0\n",
       "salesman_state            0\n",
       "dtype: int64"
      ]
     },
     "execution_count": 7,
     "metadata": {},
     "output_type": "execute_result"
    }
   ],
   "source": [
    "print(\"Check Null Values\")\n",
    "df_info_clients.isna().sum()"
   ]
  },
  {
   "cell_type": "markdown",
   "metadata": {},
   "source": [
    "In order to analyse the null values, I will create a query to count the status of them"
   ]
  },
  {
   "cell_type": "code",
   "execution_count": 8,
   "metadata": {},
   "outputs": [
    {
     "data": {
      "text/html": [
       "<div>\n",
       "<style scoped>\n",
       "    .dataframe tbody tr th:only-of-type {\n",
       "        vertical-align: middle;\n",
       "    }\n",
       "\n",
       "    .dataframe tbody tr th {\n",
       "        vertical-align: top;\n",
       "    }\n",
       "\n",
       "    .dataframe thead th {\n",
       "        text-align: right;\n",
       "    }\n",
       "</style>\n",
       "<table border=\"1\" class=\"dataframe\">\n",
       "  <thead>\n",
       "    <tr style=\"text-align: right;\">\n",
       "      <th></th>\n",
       "      <th>order_status</th>\n",
       "      <th>count(id)</th>\n",
       "    </tr>\n",
       "  </thead>\n",
       "  <tbody>\n",
       "    <tr>\n",
       "      <th>0</th>\n",
       "      <td>approved</td>\n",
       "      <td>3</td>\n",
       "    </tr>\n",
       "    <tr>\n",
       "      <th>1</th>\n",
       "      <td>canceled</td>\n",
       "      <td>546</td>\n",
       "    </tr>\n",
       "    <tr>\n",
       "      <th>2</th>\n",
       "      <td>delivered</td>\n",
       "      <td>23</td>\n",
       "    </tr>\n",
       "    <tr>\n",
       "      <th>3</th>\n",
       "      <td>invoiced</td>\n",
       "      <td>364</td>\n",
       "    </tr>\n",
       "    <tr>\n",
       "      <th>4</th>\n",
       "      <td>processing</td>\n",
       "      <td>362</td>\n",
       "    </tr>\n",
       "    <tr>\n",
       "      <th>5</th>\n",
       "      <td>shipped</td>\n",
       "      <td>1225</td>\n",
       "    </tr>\n",
       "    <tr>\n",
       "      <th>6</th>\n",
       "      <td>unavailable</td>\n",
       "      <td>7</td>\n",
       "    </tr>\n",
       "  </tbody>\n",
       "</table>\n",
       "</div>"
      ],
      "text/plain": [
       "  order_status  count(id)\n",
       "0     approved          3\n",
       "1     canceled        546\n",
       "2    delivered         23\n",
       "3     invoiced        364\n",
       "4   processing        362\n",
       "5      shipped       1225\n",
       "6  unavailable          7"
      ]
     },
     "execution_count": 8,
     "metadata": {},
     "output_type": "execute_result"
    }
   ],
   "source": [
    "query = \"\"\"\n",
    "select order_status, \n",
    "count(id)\n",
    "from df_info_clients\n",
    "where order_approved is null \n",
    "or order_dliveryman is null \n",
    "or order_delivery is null \n",
    "group by order_status\n",
    "\"\"\"\n",
    "ps.sqldf(query, locals())"
   ]
  },
  {
   "cell_type": "code",
   "execution_count": 9,
   "metadata": {},
   "outputs": [
    {
     "data": {
      "text/html": [
       "<div>\n",
       "<style scoped>\n",
       "    .dataframe tbody tr th:only-of-type {\n",
       "        vertical-align: middle;\n",
       "    }\n",
       "\n",
       "    .dataframe tbody tr th {\n",
       "        vertical-align: top;\n",
       "    }\n",
       "\n",
       "    .dataframe thead th {\n",
       "        text-align: right;\n",
       "    }\n",
       "</style>\n",
       "<table border=\"1\" class=\"dataframe\">\n",
       "  <thead>\n",
       "    <tr style=\"text-align: right;\">\n",
       "      <th></th>\n",
       "      <th>order_status</th>\n",
       "      <th>order_date</th>\n",
       "      <th>order_approved</th>\n",
       "      <th>order_dliveryman</th>\n",
       "      <th>order_delivery</th>\n",
       "      <th>order_estimated</th>\n",
       "    </tr>\n",
       "  </thead>\n",
       "  <tbody>\n",
       "    <tr>\n",
       "      <th>0</th>\n",
       "      <td>delivered</td>\n",
       "      <td>2017-02-18 15:52:27</td>\n",
       "      <td>None</td>\n",
       "      <td>2017-02-23 03:09:14</td>\n",
       "      <td>2017-03-07 13:57:47</td>\n",
       "      <td>2017-03-29 00:00:00</td>\n",
       "    </tr>\n",
       "    <tr>\n",
       "      <th>1</th>\n",
       "      <td>delivered</td>\n",
       "      <td>2017-01-19 22:26:59</td>\n",
       "      <td>None</td>\n",
       "      <td>2017-01-27 11:08:05</td>\n",
       "      <td>2017-02-06 14:22:19</td>\n",
       "      <td>2017-03-16 00:00:00</td>\n",
       "    </tr>\n",
       "    <tr>\n",
       "      <th>2</th>\n",
       "      <td>delivered</td>\n",
       "      <td>2017-02-19 01:28:47</td>\n",
       "      <td>None</td>\n",
       "      <td>2017-02-23 03:11:48</td>\n",
       "      <td>2017-03-02 03:41:58</td>\n",
       "      <td>2017-03-27 00:00:00</td>\n",
       "    </tr>\n",
       "    <tr>\n",
       "      <th>3</th>\n",
       "      <td>delivered</td>\n",
       "      <td>2017-01-19 12:48:08</td>\n",
       "      <td>None</td>\n",
       "      <td>2017-01-25 14:56:50</td>\n",
       "      <td>2017-01-30 18:16:01</td>\n",
       "      <td>2017-03-01 00:00:00</td>\n",
       "    </tr>\n",
       "    <tr>\n",
       "      <th>4</th>\n",
       "      <td>delivered</td>\n",
       "      <td>2017-02-18 11:04:19</td>\n",
       "      <td>None</td>\n",
       "      <td>2017-02-23 07:23:36</td>\n",
       "      <td>2017-03-02 16:15:23</td>\n",
       "      <td>2017-03-22 00:00:00</td>\n",
       "    </tr>\n",
       "    <tr>\n",
       "      <th>5</th>\n",
       "      <td>delivered</td>\n",
       "      <td>2017-05-25 23:22:43</td>\n",
       "      <td>2017-05-25 23:30:16</td>\n",
       "      <td>None</td>\n",
       "      <td>None</td>\n",
       "      <td>2017-06-23 00:00:00</td>\n",
       "    </tr>\n",
       "    <tr>\n",
       "      <th>6</th>\n",
       "      <td>delivered</td>\n",
       "      <td>2018-06-08 12:09:39</td>\n",
       "      <td>2018-06-08 12:36:39</td>\n",
       "      <td>2018-06-12 14:10:00</td>\n",
       "      <td>None</td>\n",
       "      <td>2018-06-26 00:00:00</td>\n",
       "    </tr>\n",
       "    <tr>\n",
       "      <th>7</th>\n",
       "      <td>delivered</td>\n",
       "      <td>2017-02-18 22:49:19</td>\n",
       "      <td>None</td>\n",
       "      <td>2017-02-22 11:31:06</td>\n",
       "      <td>2017-03-02 12:06:06</td>\n",
       "      <td>2017-03-21 00:00:00</td>\n",
       "    </tr>\n",
       "    <tr>\n",
       "      <th>8</th>\n",
       "      <td>delivered</td>\n",
       "      <td>2017-02-18 22:49:19</td>\n",
       "      <td>None</td>\n",
       "      <td>2017-02-22 11:31:06</td>\n",
       "      <td>2017-03-02 12:06:06</td>\n",
       "      <td>2017-03-21 00:00:00</td>\n",
       "    </tr>\n",
       "    <tr>\n",
       "      <th>9</th>\n",
       "      <td>delivered</td>\n",
       "      <td>2017-02-18 12:45:31</td>\n",
       "      <td>None</td>\n",
       "      <td>2017-02-23 09:01:52</td>\n",
       "      <td>2017-03-02 10:05:06</td>\n",
       "      <td>2017-03-21 00:00:00</td>\n",
       "    </tr>\n",
       "    <tr>\n",
       "      <th>10</th>\n",
       "      <td>delivered</td>\n",
       "      <td>2018-07-01 17:05:11</td>\n",
       "      <td>2018-07-01 17:15:12</td>\n",
       "      <td>2018-07-03 13:57:00</td>\n",
       "      <td>None</td>\n",
       "      <td>2018-07-30 00:00:00</td>\n",
       "    </tr>\n",
       "    <tr>\n",
       "      <th>11</th>\n",
       "      <td>delivered</td>\n",
       "      <td>2018-07-01 22:05:55</td>\n",
       "      <td>2018-07-01 22:15:14</td>\n",
       "      <td>2018-07-03 13:57:00</td>\n",
       "      <td>None</td>\n",
       "      <td>2018-07-30 00:00:00</td>\n",
       "    </tr>\n",
       "    <tr>\n",
       "      <th>12</th>\n",
       "      <td>delivered</td>\n",
       "      <td>2018-07-01 21:14:02</td>\n",
       "      <td>2018-07-01 21:29:54</td>\n",
       "      <td>2018-07-03 09:28:00</td>\n",
       "      <td>None</td>\n",
       "      <td>2018-07-24 00:00:00</td>\n",
       "    </tr>\n",
       "    <tr>\n",
       "      <th>13</th>\n",
       "      <td>delivered</td>\n",
       "      <td>2017-02-18 14:40:00</td>\n",
       "      <td>None</td>\n",
       "      <td>2017-02-23 12:04:47</td>\n",
       "      <td>2017-03-01 13:25:33</td>\n",
       "      <td>2017-03-17 00:00:00</td>\n",
       "    </tr>\n",
       "    <tr>\n",
       "      <th>14</th>\n",
       "      <td>delivered</td>\n",
       "      <td>2017-09-29 08:52:58</td>\n",
       "      <td>2017-09-29 09:07:16</td>\n",
       "      <td>None</td>\n",
       "      <td>2017-11-20 19:44:47</td>\n",
       "      <td>2017-11-14 00:00:00</td>\n",
       "    </tr>\n",
       "    <tr>\n",
       "      <th>15</th>\n",
       "      <td>delivered</td>\n",
       "      <td>2017-11-28 17:44:07</td>\n",
       "      <td>2017-11-28 17:56:40</td>\n",
       "      <td>2017-11-30 18:12:23</td>\n",
       "      <td>None</td>\n",
       "      <td>2017-12-18 00:00:00</td>\n",
       "    </tr>\n",
       "    <tr>\n",
       "      <th>16</th>\n",
       "      <td>delivered</td>\n",
       "      <td>2017-02-17 17:21:55</td>\n",
       "      <td>None</td>\n",
       "      <td>2017-02-22 11:42:51</td>\n",
       "      <td>2017-03-03 12:16:03</td>\n",
       "      <td>2017-03-20 00:00:00</td>\n",
       "    </tr>\n",
       "    <tr>\n",
       "      <th>17</th>\n",
       "      <td>delivered</td>\n",
       "      <td>2018-06-20 06:58:43</td>\n",
       "      <td>2018-06-20 07:19:05</td>\n",
       "      <td>2018-06-25 08:05:00</td>\n",
       "      <td>None</td>\n",
       "      <td>2018-07-16 00:00:00</td>\n",
       "    </tr>\n",
       "    <tr>\n",
       "      <th>18</th>\n",
       "      <td>delivered</td>\n",
       "      <td>2017-02-17 15:53:27</td>\n",
       "      <td>None</td>\n",
       "      <td>2017-02-22 11:31:30</td>\n",
       "      <td>2017-03-03 11:47:47</td>\n",
       "      <td>2017-03-23 00:00:00</td>\n",
       "    </tr>\n",
       "    <tr>\n",
       "      <th>19</th>\n",
       "      <td>delivered</td>\n",
       "      <td>2017-02-17 13:05:55</td>\n",
       "      <td>None</td>\n",
       "      <td>2017-02-22 11:23:11</td>\n",
       "      <td>2017-03-02 11:09:19</td>\n",
       "      <td>2017-03-20 00:00:00</td>\n",
       "    </tr>\n",
       "    <tr>\n",
       "      <th>20</th>\n",
       "      <td>delivered</td>\n",
       "      <td>2017-02-18 17:15:03</td>\n",
       "      <td>None</td>\n",
       "      <td>2017-02-22 11:23:11</td>\n",
       "      <td>2017-03-03 18:43:43</td>\n",
       "      <td>2017-03-31 00:00:00</td>\n",
       "    </tr>\n",
       "    <tr>\n",
       "      <th>21</th>\n",
       "      <td>delivered</td>\n",
       "      <td>2017-02-18 16:48:35</td>\n",
       "      <td>None</td>\n",
       "      <td>2017-02-22 11:23:10</td>\n",
       "      <td>2017-03-09 07:28:47</td>\n",
       "      <td>2017-03-31 00:00:00</td>\n",
       "    </tr>\n",
       "    <tr>\n",
       "      <th>22</th>\n",
       "      <td>delivered</td>\n",
       "      <td>2018-06-27 16:09:12</td>\n",
       "      <td>2018-06-27 16:29:30</td>\n",
       "      <td>2018-07-03 19:26:00</td>\n",
       "      <td>None</td>\n",
       "      <td>2018-07-19 00:00:00</td>\n",
       "    </tr>\n",
       "  </tbody>\n",
       "</table>\n",
       "</div>"
      ],
      "text/plain": [
       "   order_status           order_date       order_approved  \\\n",
       "0     delivered  2017-02-18 15:52:27                 None   \n",
       "1     delivered  2017-01-19 22:26:59                 None   \n",
       "2     delivered  2017-02-19 01:28:47                 None   \n",
       "3     delivered  2017-01-19 12:48:08                 None   \n",
       "4     delivered  2017-02-18 11:04:19                 None   \n",
       "5     delivered  2017-05-25 23:22:43  2017-05-25 23:30:16   \n",
       "6     delivered  2018-06-08 12:09:39  2018-06-08 12:36:39   \n",
       "7     delivered  2017-02-18 22:49:19                 None   \n",
       "8     delivered  2017-02-18 22:49:19                 None   \n",
       "9     delivered  2017-02-18 12:45:31                 None   \n",
       "10    delivered  2018-07-01 17:05:11  2018-07-01 17:15:12   \n",
       "11    delivered  2018-07-01 22:05:55  2018-07-01 22:15:14   \n",
       "12    delivered  2018-07-01 21:14:02  2018-07-01 21:29:54   \n",
       "13    delivered  2017-02-18 14:40:00                 None   \n",
       "14    delivered  2017-09-29 08:52:58  2017-09-29 09:07:16   \n",
       "15    delivered  2017-11-28 17:44:07  2017-11-28 17:56:40   \n",
       "16    delivered  2017-02-17 17:21:55                 None   \n",
       "17    delivered  2018-06-20 06:58:43  2018-06-20 07:19:05   \n",
       "18    delivered  2017-02-17 15:53:27                 None   \n",
       "19    delivered  2017-02-17 13:05:55                 None   \n",
       "20    delivered  2017-02-18 17:15:03                 None   \n",
       "21    delivered  2017-02-18 16:48:35                 None   \n",
       "22    delivered  2018-06-27 16:09:12  2018-06-27 16:29:30   \n",
       "\n",
       "       order_dliveryman       order_delivery      order_estimated  \n",
       "0   2017-02-23 03:09:14  2017-03-07 13:57:47  2017-03-29 00:00:00  \n",
       "1   2017-01-27 11:08:05  2017-02-06 14:22:19  2017-03-16 00:00:00  \n",
       "2   2017-02-23 03:11:48  2017-03-02 03:41:58  2017-03-27 00:00:00  \n",
       "3   2017-01-25 14:56:50  2017-01-30 18:16:01  2017-03-01 00:00:00  \n",
       "4   2017-02-23 07:23:36  2017-03-02 16:15:23  2017-03-22 00:00:00  \n",
       "5                  None                 None  2017-06-23 00:00:00  \n",
       "6   2018-06-12 14:10:00                 None  2018-06-26 00:00:00  \n",
       "7   2017-02-22 11:31:06  2017-03-02 12:06:06  2017-03-21 00:00:00  \n",
       "8   2017-02-22 11:31:06  2017-03-02 12:06:06  2017-03-21 00:00:00  \n",
       "9   2017-02-23 09:01:52  2017-03-02 10:05:06  2017-03-21 00:00:00  \n",
       "10  2018-07-03 13:57:00                 None  2018-07-30 00:00:00  \n",
       "11  2018-07-03 13:57:00                 None  2018-07-30 00:00:00  \n",
       "12  2018-07-03 09:28:00                 None  2018-07-24 00:00:00  \n",
       "13  2017-02-23 12:04:47  2017-03-01 13:25:33  2017-03-17 00:00:00  \n",
       "14                 None  2017-11-20 19:44:47  2017-11-14 00:00:00  \n",
       "15  2017-11-30 18:12:23                 None  2017-12-18 00:00:00  \n",
       "16  2017-02-22 11:42:51  2017-03-03 12:16:03  2017-03-20 00:00:00  \n",
       "17  2018-06-25 08:05:00                 None  2018-07-16 00:00:00  \n",
       "18  2017-02-22 11:31:30  2017-03-03 11:47:47  2017-03-23 00:00:00  \n",
       "19  2017-02-22 11:23:11  2017-03-02 11:09:19  2017-03-20 00:00:00  \n",
       "20  2017-02-22 11:23:11  2017-03-03 18:43:43  2017-03-31 00:00:00  \n",
       "21  2017-02-22 11:23:10  2017-03-09 07:28:47  2017-03-31 00:00:00  \n",
       "22  2018-07-03 19:26:00                 None  2018-07-19 00:00:00  "
      ]
     },
     "execution_count": 9,
     "metadata": {},
     "output_type": "execute_result"
    }
   ],
   "source": [
    "query = \"\"\"select * from df_info_clients\n",
    "where (order_approved is null \n",
    "or order_dliveryman is null \n",
    "or order_delivery is null)\n",
    "and order_status = 'delivered'  \n",
    "\"\"\"\n",
    "ps.sqldf(query, locals()).iloc[:, 8:14]"
   ]
  },
  {
   "cell_type": "markdown",
   "metadata": {},
   "source": [
    "It is possible to see that only 23 of the null values are erros, because the status is \"delivered\" but they do not have: \n",
    "- the date of order approval \n",
    "\n",
    "or \n",
    "- the date that the order was leaving for delivery \n",
    "\n",
    "or \n",
    "- the date that the order was delivery to the client\n",
    "\n",
    "For this reason, I will delete these values."
   ]
  },
  {
   "cell_type": "code",
   "execution_count": 10,
   "metadata": {},
   "outputs": [],
   "source": [
    "query = \"\"\"select * from df_info_clients\n",
    "where (order_approved is not null \n",
    "and order_dliveryman is not null \n",
    "and order_delivery is not null)\n",
    "or order_status <> 'delivered';\n",
    "\"\"\"\n",
    "df_info_clients = ps.sqldf(query, locals())"
   ]
  },
  {
   "cell_type": "markdown",
   "metadata": {},
   "source": [
    "# 3 Exploratory Data Analysis\n",
    "In order to understand and get more familiar with the dataset, I will perform a exploratory data analysis."
   ]
  },
  {
   "cell_type": "markdown",
   "metadata": {},
   "source": [
    "### 3.1) Categorical variables\n",
    "#### 3.1.1) Item ID"
   ]
  },
  {
   "cell_type": "code",
   "execution_count": 11,
   "metadata": {},
   "outputs": [
    {
     "name": "stdout",
     "output_type": "stream",
     "text": [
      "1     102096\n",
      "2      10168\n",
      "3       2363\n",
      "4        984\n",
      "5        465\n",
      "6        263\n",
      "7         61\n",
      "8         36\n",
      "9         29\n",
      "10        26\n",
      "11        18\n",
      "12        13\n",
      "13         8\n",
      "14         7\n",
      "15         5\n",
      "16         3\n",
      "17         3\n",
      "18         3\n",
      "19         3\n",
      "20         3\n",
      "21         1\n",
      "Name: item_id, dtype: int64\n"
     ]
    },
    {
     "data": {
      "text/plain": [
       "<AxesSubplot:xlabel='item_id', ylabel='count'>"
      ]
     },
     "execution_count": 11,
     "metadata": {},
     "output_type": "execute_result"
    },
    {
     "data": {
      "image/png": "[encoded data removed]",
      "text/plain": [
       "<Figure size 432x288 with 1 Axes>"
      ]
     },
     "metadata": {
      "needs_background": "light"
     },
     "output_type": "display_data"
    }
   ],
   "source": [
    "print(df_info_clients['item_id'].value_counts(normalize=False))\n",
    "sns.countplot(data=df_info_clients, x=\"item_id\")"
   ]
  },
  {
   "cell_type": "markdown",
   "metadata": {},
   "source": [
    "#### 3.1.2) City"
   ]
  },
  {
   "cell_type": "code",
   "execution_count": 72,
   "metadata": {},
   "outputs": [
    {
     "name": "stdout",
     "output_type": "stream",
     "text": [
      "sao paulo                18411\n",
      "rio de janeiro            8121\n",
      "belo horizonte            3218\n",
      "brasilia                  2452\n",
      "curitiba                  1799\n",
      "campinas                  1722\n",
      "porto alegre              1640\n",
      "salvador                  1498\n",
      "guarulhos                 1387\n",
      "sao bernardo do campo     1100\n",
      "niteroi                   1047\n",
      "santo andre                906\n",
      "osasco                     894\n",
      "goiania                    852\n",
      "santos                     836\n",
      "Name: client_city, dtype: int64\n"
     ]
    },
    {
     "data": {
      "text/plain": [
       "<Figure size 864x432 with 0 Axes>"
      ]
     },
     "metadata": {},
     "output_type": "display_data"
    },
    {
     "data": {
      "image/png": "[encoded data removed]",
      "text/plain": [
       "<Figure size 864x432 with 1 Axes>"
      ]
     },
     "metadata": {
      "needs_background": "light"
     },
     "output_type": "display_data"
    }
   ],
   "source": [
    "print(df_info_clients['client_city'].value_counts(normalize=False).head(15))\n",
    "plt.figure(figsize=(12, 6))\n",
    "plt.figure(figsize=(12, 6))\n",
    "pd.DataFrame(df_info_clients['client_city'].value_counts(normalize=False).head(15)).plot(kind='bar')\n",
    "plt.show()"
   ]
  },
  {
   "cell_type": "markdown",
   "metadata": {},
   "source": [
    "#### 3.1.3) State"
   ]
  },
  {
   "cell_type": "code",
   "execution_count": 33,
   "metadata": {},
   "outputs": [
    {
     "name": "stdout",
     "output_type": "stream",
     "text": [
      "SP    49121\n",
      "RJ    15182\n",
      "MG    13527\n",
      "RS     6433\n",
      "PR     5908\n",
      "SC     4254\n",
      "BA     3994\n",
      "DF     2467\n",
      "GO     2396\n",
      "ES     2332\n",
      "PE     1878\n",
      "CE     1537\n",
      "MT     1116\n",
      "PA     1103\n",
      "MS      847\n",
      "MA      837\n",
      "PB      630\n",
      "PI      567\n",
      "RN      565\n",
      "AL      458\n",
      "SE      395\n",
      "TO      334\n",
      "RO      280\n",
      "AM      170\n",
      "AC       93\n",
      "AP       84\n",
      "RR       50\n",
      "Name: client_state, dtype: int64\n"
     ]
    },
    {
     "data": {
      "image/png": "[encoded data removed]",
      "text/plain": [
       "<Figure size 864x432 with 1 Axes>"
      ]
     },
     "metadata": {
      "needs_background": "light"
     },
     "output_type": "display_data"
    }
   ],
   "source": [
    "print(df_info_clients['client_state'].value_counts(normalize=False))\n",
    "plt.figure(figsize=(12, 6))\n",
    "sns.countplot(data=df_info_clients, x=\"client_state\", order = df_info_clients['client_state'].value_counts().index)\n",
    "plt.xticks(rotation=90)\n",
    "plt.show()"
   ]
  },
  {
   "cell_type": "markdown",
   "metadata": {},
   "source": [
    "#### 3.1.4) Months"
   ]
  },
  {
   "cell_type": "code",
   "execution_count": 156,
   "metadata": {},
   "outputs": [
    {
     "name": "stdout",
     "output_type": "stream",
     "text": [
      "       date  order_per_month\n",
      "0   2016-09                3\n",
      "1   2016-10              384\n",
      "2   2016-12                1\n",
      "3   2017-01             1010\n",
      "4   2017-02             2014\n",
      "5   2017-03             3134\n",
      "6   2017-04             2783\n",
      "7   2017-05             4341\n",
      "8   2017-06             3756\n",
      "9   2017-07             4811\n",
      "10  2017-08             5143\n",
      "11  2017-09             5055\n",
      "12  2017-10             5542\n",
      "13  2017-11             8963\n",
      "14  2017-12             6442\n",
      "15  2018-01             8382\n",
      "16  2018-02             7898\n",
      "17  2018-03             8453\n",
      "18  2018-04             8194\n",
      "19  2018-05             8176\n",
      "20  2018-06             7372\n",
      "21  2018-07             7297\n",
      "22  2018-08             7426\n",
      "23  2018-09                1\n"
     ]
    },
    {
     "data": {
      "image/png": "[encoded data removed]",
      "text/plain": [
       "<Figure size 864x432 with 1 Axes>"
      ]
     },
     "metadata": {
      "needs_background": "light"
     },
     "output_type": "display_data"
    }
   ],
   "source": [
    "query = \"\"\"\n",
    "select strftime('%Y-%m',order_date) as date,\n",
    "count(id) as order_per_month\n",
    "from df_info_clients\n",
    "group by date\n",
    "\"\"\"\n",
    "\n",
    "print(ps.sqldf(query, locals()))\n",
    "plt.figure(figsize=(12, 6))\n",
    "sns.barplot(data=ps.sqldf(query, locals()), x=\"date\", y=\"order_per_month\")\n",
    "plt.xticks(rotation=90)\n",
    "plt.show()"
   ]
  },
  {
   "cell_type": "markdown",
   "metadata": {},
   "source": [
    "#### 3.1.5) Years"
   ]
  },
  {
   "cell_type": "code",
   "execution_count": 160,
   "metadata": {},
   "outputs": [
    {
     "name": "stdout",
     "output_type": "stream",
     "text": [
      "   date  order_per_year\n",
      "0  2016             388\n",
      "1  2017           52994\n",
      "2  2018           63199\n"
     ]
    },
    {
     "data": {
      "image/png": "[encoded data removed]",
      "text/plain": [
       "<Figure size 864x432 with 1 Axes>"
      ]
     },
     "metadata": {
      "needs_background": "light"
     },
     "output_type": "display_data"
    }
   ],
   "source": [
    "query = \"\"\"\n",
    "select strftime('%Y',order_date) as date,\n",
    "count(id) as order_per_year\n",
    "from df_info_clients\n",
    "group by date\n",
    "\"\"\"\n",
    "\n",
    "print(ps.sqldf(query, locals()))\n",
    "plt.figure(figsize=(12, 6))\n",
    "sns.barplot(data=ps.sqldf(query, locals()), x=\"date\", y=\"order_per_year\")\n",
    "plt.xticks(rotation=90)\n",
    "plt.show()"
   ]
  },
  {
   "cell_type": "markdown",
   "metadata": {},
   "source": [
    "#### 3.1.6) Category"
   ]
  },
  {
   "cell_type": "code",
   "execution_count": 163,
   "metadata": {},
   "outputs": [
    {
     "name": "stdout",
     "output_type": "stream",
     "text": [
      "        category_english  count_category\n",
      "0         bed_bath_table           11990\n",
      "1          health_beauty           10030\n",
      "2         sports_leisure            9005\n",
      "3        furniture_decor            8833\n",
      "4  computers_accessories            8151\n",
      "5             housewares            7380\n",
      "6          watches_gifts            6213\n",
      "7              telephony            4726\n",
      "8           garden_tools            4590\n",
      "9                   auto            4400\n"
     ]
    },
    {
     "data": {
      "image/png": "[encoded data removed]",
      "text/plain": [
       "<Figure size 1440x432 with 1 Axes>"
      ]
     },
     "metadata": {
      "needs_background": "light"
     },
     "output_type": "display_data"
    }
   ],
   "source": [
    "query = \"\"\"\n",
    "select category_english,\n",
    "count(id) as count_category\n",
    "from df_info_clients\n",
    "group by category_english\n",
    "order by count_category desc\n",
    "limit 10\n",
    "\"\"\"\n",
    "\n",
    "print(ps.sqldf(query, locals()))\n",
    "plt.figure(figsize=(20, 6))\n",
    "sns.barplot(data=ps.sqldf(query, locals()), x=\"category_english\", y=\"count_category\")\n",
    "plt.xticks(rotation=90)\n",
    "plt.show()"
   ]
  },
  {
   "cell_type": "markdown",
   "metadata": {},
   "source": [
    "### 3.2) Numerical variables\n",
    "#### 3.1) Order's Price "
   ]
  },
  {
   "cell_type": "code",
   "execution_count": null,
   "metadata": {},
   "outputs": [],
   "source": []
  },
  {
   "cell_type": "markdown",
   "metadata": {},
   "source": [
    "#### 3.2)Delivery Price"
   ]
  },
  {
   "cell_type": "code",
   "execution_count": null,
   "metadata": {},
   "outputs": [],
   "source": []
  },
  {
   "cell_type": "markdown",
   "metadata": {},
   "source": [
    "#### 3.3)Total Price "
   ]
  },
  {
   "cell_type": "code",
   "execution_count": null,
   "metadata": {},
   "outputs": [],
   "source": []
  },
  {
   "cell_type": "markdown",
   "metadata": {},
   "source": [
    "#### 3.4) Review"
   ]
  },
  {
   "cell_type": "code",
   "execution_count": null,
   "metadata": {},
   "outputs": [],
   "source": []
  }
 ],
 "metadata": {
  "kernelspec": {
   "display_name": "Python 3",
   "language": "python",
   "name": "python3"
  },
  "language_info": {
   "codemirror_mode": {
    "name": "ipython",
    "version": 3
   },
   "file_extension": ".py",
   "mimetype": "text/x-python",
   "name": "python",
   "nbconvert_exporter": "python",
   "pygments_lexer": "ipython3",
   "version": "3.8.8"
  },
  "vscode": {
   "interpreter": {
    "hash": "916dbcbb3f70747c44a77c7bcd40155683ae19c65e1c03b4aa3499c5328201f1"
   }
  }
 },
 "nbformat": 4,
 "nbformat_minor": 2
}
