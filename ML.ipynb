{
 "cells": [
  {
   "cell_type": "code",
   "execution_count": 1,
   "metadata": {},
   "outputs": [],
   "source": [
    "import pandas as pd\n",
    "import numpy as np\n",
    "import matplotlib.pyplot as plt\n",
    "import seaborn as sns\n",
    "#import pandasql as ps\n",
    "#import mysql.connector as ms\n",
    "import datetime\n",
    "import math\n",
    "from sklearn.cluster import KMeans\n",
    "\n",
    "import warnings\n",
    "warnings.filterwarnings('ignore')"
   ]
  },
  {
   "cell_type": "code",
   "execution_count": 51,
   "metadata": {},
   "outputs": [
    {
     "data": {
      "text/html": [
       "<div>\n",
       "<style scoped>\n",
       "    .dataframe tbody tr th:only-of-type {\n",
       "        vertical-align: middle;\n",
       "    }\n",
       "\n",
       "    .dataframe tbody tr th {\n",
       "        vertical-align: top;\n",
       "    }\n",
       "\n",
       "    .dataframe thead th {\n",
       "        text-align: right;\n",
       "    }\n",
       "</style>\n",
       "<table border=\"1\" class=\"dataframe\">\n",
       "  <thead>\n",
       "    <tr style=\"text-align: right;\">\n",
       "      <th></th>\n",
       "      <th>client_id</th>\n",
       "      <th>client_state</th>\n",
       "      <th>client_city</th>\n",
       "      <th>number_orders</th>\n",
       "      <th>mean_price</th>\n",
       "      <th>sum_price</th>\n",
       "      <th>mean_review</th>\n",
       "      <th>min_order_date</th>\n",
       "      <th>max_order_date</th>\n",
       "      <th>diff_days</th>\n",
       "      <th>interval</th>\n",
       "      <th>recency</th>\n",
       "      <th>is_southeast</th>\n",
       "    </tr>\n",
       "  </thead>\n",
       "  <tbody>\n",
       "    <tr>\n",
       "      <th>0</th>\n",
       "      <td>270c23a11d024a44c896d1894b261a83</td>\n",
       "      <td>SP</td>\n",
       "      <td>sao paulo</td>\n",
       "      <td>63</td>\n",
       "      <td>548.543333</td>\n",
       "      <td>34558.23</td>\n",
       "      <td>4.460317</td>\n",
       "      <td>2019-01-16</td>\n",
       "      <td>2022-12-25</td>\n",
       "      <td>1439</td>\n",
       "      <td>22.84</td>\n",
       "      <td>81</td>\n",
       "      <td>1</td>\n",
       "    </tr>\n",
       "    <tr>\n",
       "      <th>1</th>\n",
       "      <td>13aa59158da63ba0e93ec6ac2c07aacb</td>\n",
       "      <td>RJ</td>\n",
       "      <td>rio de janeiro</td>\n",
       "      <td>38</td>\n",
       "      <td>458.187895</td>\n",
       "      <td>17411.14</td>\n",
       "      <td>4.500000</td>\n",
       "      <td>2019-01-19</td>\n",
       "      <td>2022-11-27</td>\n",
       "      <td>1408</td>\n",
       "      <td>37.05</td>\n",
       "      <td>109</td>\n",
       "      <td>1</td>\n",
       "    </tr>\n",
       "    <tr>\n",
       "      <th>2</th>\n",
       "      <td>92cd3ec6e2d643d4ebd0e3d6238f69e2</td>\n",
       "      <td>SP</td>\n",
       "      <td>sao paulo</td>\n",
       "      <td>26</td>\n",
       "      <td>642.826538</td>\n",
       "      <td>16713.49</td>\n",
       "      <td>4.500000</td>\n",
       "      <td>2019-01-19</td>\n",
       "      <td>2022-12-27</td>\n",
       "      <td>1438</td>\n",
       "      <td>55.31</td>\n",
       "      <td>79</td>\n",
       "      <td>1</td>\n",
       "    </tr>\n",
       "    <tr>\n",
       "      <th>3</th>\n",
       "      <td>9af2372a1e49340278e7c1ef8d749f34</td>\n",
       "      <td>MT</td>\n",
       "      <td>cuiaba</td>\n",
       "      <td>29</td>\n",
       "      <td>567.928621</td>\n",
       "      <td>16469.93</td>\n",
       "      <td>4.689655</td>\n",
       "      <td>2019-01-16</td>\n",
       "      <td>2022-08-18</td>\n",
       "      <td>1310</td>\n",
       "      <td>45.17</td>\n",
       "      <td>210</td>\n",
       "      <td>0</td>\n",
       "    </tr>\n",
       "    <tr>\n",
       "      <th>4</th>\n",
       "      <td>50920f8cd0681fd86ebe93670c8fe52e</td>\n",
       "      <td>RS</td>\n",
       "      <td>ijui</td>\n",
       "      <td>21</td>\n",
       "      <td>654.687143</td>\n",
       "      <td>13748.43</td>\n",
       "      <td>4.428571</td>\n",
       "      <td>2019-02-19</td>\n",
       "      <td>2022-12-01</td>\n",
       "      <td>1381</td>\n",
       "      <td>65.76</td>\n",
       "      <td>105</td>\n",
       "      <td>0</td>\n",
       "    </tr>\n",
       "  </tbody>\n",
       "</table>\n",
       "</div>"
      ],
      "text/plain": [
       "                          client_id client_state     client_city  \\\n",
       "0  270c23a11d024a44c896d1894b261a83           SP       sao paulo   \n",
       "1  13aa59158da63ba0e93ec6ac2c07aacb           RJ  rio de janeiro   \n",
       "2  92cd3ec6e2d643d4ebd0e3d6238f69e2           SP       sao paulo   \n",
       "3  9af2372a1e49340278e7c1ef8d749f34           MT          cuiaba   \n",
       "4  50920f8cd0681fd86ebe93670c8fe52e           RS            ijui   \n",
       "\n",
       "   number_orders  mean_price  sum_price  mean_review min_order_date  \\\n",
       "0             63  548.543333   34558.23     4.460317     2019-01-16   \n",
       "1             38  458.187895   17411.14     4.500000     2019-01-19   \n",
       "2             26  642.826538   16713.49     4.500000     2019-01-19   \n",
       "3             29  567.928621   16469.93     4.689655     2019-01-16   \n",
       "4             21  654.687143   13748.43     4.428571     2019-02-19   \n",
       "\n",
       "  max_order_date  diff_days  interval  recency  is_southeast  \n",
       "0     2022-12-25       1439     22.84       81             1  \n",
       "1     2022-11-27       1408     37.05      109             1  \n",
       "2     2022-12-27       1438     55.31       79             1  \n",
       "3     2022-08-18       1310     45.17      210             0  \n",
       "4     2022-12-01       1381     65.76      105             0  "
      ]
     },
     "execution_count": 51,
     "metadata": {},
     "output_type": "execute_result"
    }
   ],
   "source": [
    "df_clients = pd.read_csv('data/ml_ready_df.csv')\n",
    "df_clients= df_clients.drop(columns = ['Unnamed: 0'])\n",
    "df_clients.head()"
   ]
  },
  {
   "attachments": {},
   "cell_type": "markdown",
   "metadata": {},
   "source": [
    "# K-Means"
   ]
  },
  {
   "attachments": {},
   "cell_type": "markdown",
   "metadata": {},
   "source": [
    "## Interval (Frequency)"
   ]
  },
  {
   "cell_type": "code",
   "execution_count": 54,
   "metadata": {},
   "outputs": [
    {
     "data": {
      "text/html": [
       "<div>\n",
       "<style scoped>\n",
       "    .dataframe tbody tr th:only-of-type {\n",
       "        vertical-align: middle;\n",
       "    }\n",
       "\n",
       "    .dataframe tbody tr th {\n",
       "        vertical-align: top;\n",
       "    }\n",
       "\n",
       "    .dataframe thead th {\n",
       "        text-align: right;\n",
       "    }\n",
       "</style>\n",
       "<table border=\"1\" class=\"dataframe\">\n",
       "  <thead>\n",
       "    <tr style=\"text-align: right;\">\n",
       "      <th></th>\n",
       "      <th>number_orders</th>\n",
       "      <th>mean_price</th>\n",
       "      <th>recency</th>\n",
       "      <th>is_southeast</th>\n",
       "    </tr>\n",
       "  </thead>\n",
       "  <tbody>\n",
       "    <tr>\n",
       "      <th>0</th>\n",
       "      <td>63</td>\n",
       "      <td>548.543333</td>\n",
       "      <td>81</td>\n",
       "      <td>1</td>\n",
       "    </tr>\n",
       "    <tr>\n",
       "      <th>1</th>\n",
       "      <td>38</td>\n",
       "      <td>458.187895</td>\n",
       "      <td>109</td>\n",
       "      <td>1</td>\n",
       "    </tr>\n",
       "    <tr>\n",
       "      <th>2</th>\n",
       "      <td>26</td>\n",
       "      <td>642.826538</td>\n",
       "      <td>79</td>\n",
       "      <td>1</td>\n",
       "    </tr>\n",
       "    <tr>\n",
       "      <th>3</th>\n",
       "      <td>29</td>\n",
       "      <td>567.928621</td>\n",
       "      <td>210</td>\n",
       "      <td>0</td>\n",
       "    </tr>\n",
       "    <tr>\n",
       "      <th>4</th>\n",
       "      <td>21</td>\n",
       "      <td>654.687143</td>\n",
       "      <td>105</td>\n",
       "      <td>0</td>\n",
       "    </tr>\n",
       "    <tr>\n",
       "      <th>...</th>\n",
       "      <td>...</td>\n",
       "      <td>...</td>\n",
       "      <td>...</td>\n",
       "      <td>...</td>\n",
       "    </tr>\n",
       "    <tr>\n",
       "      <th>97250</th>\n",
       "      <td>1</td>\n",
       "      <td>1.100000</td>\n",
       "      <td>1533</td>\n",
       "      <td>1</td>\n",
       "    </tr>\n",
       "    <tr>\n",
       "      <th>97251</th>\n",
       "      <td>1</td>\n",
       "      <td>1.040000</td>\n",
       "      <td>974</td>\n",
       "      <td>1</td>\n",
       "    </tr>\n",
       "    <tr>\n",
       "      <th>97252</th>\n",
       "      <td>1</td>\n",
       "      <td>1.010000</td>\n",
       "      <td>1298</td>\n",
       "      <td>0</td>\n",
       "    </tr>\n",
       "    <tr>\n",
       "      <th>97253</th>\n",
       "      <td>1</td>\n",
       "      <td>1.010000</td>\n",
       "      <td>283</td>\n",
       "      <td>1</td>\n",
       "    </tr>\n",
       "    <tr>\n",
       "      <th>97254</th>\n",
       "      <td>1</td>\n",
       "      <td>1.000000</td>\n",
       "      <td>819</td>\n",
       "      <td>1</td>\n",
       "    </tr>\n",
       "  </tbody>\n",
       "</table>\n",
       "<p>97255 rows × 4 columns</p>\n",
       "</div>"
      ],
      "text/plain": [
       "       number_orders  mean_price  recency  is_southeast\n",
       "0                 63  548.543333       81             1\n",
       "1                 38  458.187895      109             1\n",
       "2                 26  642.826538       79             1\n",
       "3                 29  567.928621      210             0\n",
       "4                 21  654.687143      105             0\n",
       "...              ...         ...      ...           ...\n",
       "97250              1    1.100000     1533             1\n",
       "97251              1    1.040000      974             1\n",
       "97252              1    1.010000     1298             0\n",
       "97253              1    1.010000      283             1\n",
       "97254              1    1.000000      819             1\n",
       "\n",
       "[97255 rows x 4 columns]"
      ]
     },
     "execution_count": 54,
     "metadata": {},
     "output_type": "execute_result"
    }
   ],
   "source": [
    "df_clients.iloc[:,[3,4,11,12]]"
   ]
  },
  {
   "cell_type": "code",
   "execution_count": 55,
   "metadata": {},
   "outputs": [],
   "source": [
    "X = df_clients.iloc[:,[3,4,11,12]].values"
   ]
  },
  {
   "cell_type": "code",
   "execution_count": 20,
   "metadata": {},
   "outputs": [],
   "source": [
    "def elbow_method(df_X):\n",
    "    wcss = []\n",
    "    for i in range(1, 11):\n",
    "        kmeans = KMeans(n_clusters = i, init = 'k-means++', random_state = 42)\n",
    "        kmeans.fit(df_X)\n",
    "        wcss.append(kmeans.inertia_)\n",
    "    plt.plot(range(1, 11), wcss)\n",
    "    plt.title('The Elbow Method')\n",
    "    plt.xlabel('Number of clusters')\n",
    "    plt.ylabel('WCSS')\n",
    "    return (plt.show(), wcss)"
   ]
  },
  {
   "cell_type": "code",
   "execution_count": 16,
   "metadata": {},
   "outputs": [],
   "source": [
    "def number_clusters(wcss):\n",
    "    x1, y1 = 2, wcss[0]\n",
    "    x2, y2 = 20, wcss[len(wcss)-1]\n",
    "\n",
    "    distances = []\n",
    "    for i in range(len(wcss)):\n",
    "        x0 = i+2\n",
    "        y0 = wcss[i]\n",
    "        distances.append(abs((y2-y1)*x0 - (x2-x1)*y0 + x2*y1 - y2*x1)/math.sqrt((y2 - y1)**2 + (x2 - x1)**2))\n",
    "    \n",
    "    return distances.index(max(distances)) + 2"
   ]
  },
  {
   "cell_type": "code",
   "execution_count": 56,
   "metadata": {},
   "outputs": [
    {
     "data": {
      "image/png": "[encoded data removed]",
      "text/plain": [
       "<Figure size 640x480 with 1 Axes>"
      ]
     },
     "metadata": {},
     "output_type": "display_data"
    },
    {
     "name": "stdout",
     "output_type": "stream",
     "text": [
      "The optmal number of clusters is 6\n"
     ]
    }
   ],
   "source": [
    "wcss = elbow_method(X)[1]\n",
    "n_clusters = number_clusters(wcss)\n",
    "print(\"The optmal number of clusters is \"+str(n_clusters))"
   ]
  },
  {
   "cell_type": "code",
   "execution_count": 57,
   "metadata": {},
   "outputs": [],
   "source": [
    "kmeans = KMeans(n_clusters = n_clusters, init = 'k-means++', random_state = 42)\n",
    "y_kmeans = kmeans.fit_predict(X)"
   ]
  },
  {
   "cell_type": "code",
   "execution_count": 59,
   "metadata": {},
   "outputs": [
    {
     "data": {
      "image/png": "[encoded data removed]",
      "text/plain": [
       "<Figure size 640x480 with 1 Axes>"
      ]
     },
     "metadata": {},
     "output_type": "display_data"
    }
   ],
   "source": [
    "plt.scatter(X[y_kmeans == 0, 0], X[y_kmeans == 0, 1], s = 100, c = 'red', label = 'Cluster 1')\n",
    "plt.scatter(X[y_kmeans == 1, 0], X[y_kmeans == 1, 1], s = 100, c = 'blue', label = 'Cluster 2')\n",
    "plt.scatter(X[y_kmeans == 2, 0], X[y_kmeans == 2, 1], s = 100, c = 'green', label = 'Cluster 3')\n",
    "plt.scatter(X[y_kmeans == 3, 0], X[y_kmeans == 3, 1], s = 100, c = 'cyan', label = 'Cluster 4')\n",
    "plt.scatter(X[y_kmeans == 4, 0], X[y_kmeans == 4, 1], s = 100, c = 'magenta', label = 'Cluster 5')\n",
    "plt.scatter(X[y_kmeans == 5, 0], X[y_kmeans == 5, 1], s = 100, c = 'orange', label = 'Cluster 6')\n",
    "plt.scatter(kmeans.cluster_centers_[:, 0], kmeans.cluster_centers_[:, 1], s = 300, c = 'yellow', label = 'Centroids')\n",
    "plt.title('Clusters of customers')\n",
    "plt.xlabel('Recency')\n",
    "plt.ylabel('Is Southeast')\n",
    "plt.legend()\n",
    "plt.show()"
   ]
  },
  {
   "cell_type": "code",
   "execution_count": null,
   "metadata": {},
   "outputs": [],
   "source": []
  }
 ],
 "metadata": {
  "kernelspec": {
   "display_name": "Python 3",
   "language": "python",
   "name": "python3"
  },
  "language_info": {
   "codemirror_mode": {
    "name": "ipython",
    "version": 3
   },
   "file_extension": ".py",
   "mimetype": "text/x-python",
   "name": "python",
   "nbconvert_exporter": "python",
   "pygments_lexer": "ipython3",
   "version": "3.11.2"
  },
  "orig_nbformat": 4,
  "vscode": {
   "interpreter": {
    "hash": "aee8b7b246df8f9039afb4144a1f6fd8d2ca17a180786b69acc140d282b71a49"
   }
  }
 },
 "nbformat": 4,
 "nbformat_minor": 2
}
