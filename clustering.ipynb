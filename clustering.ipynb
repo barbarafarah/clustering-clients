{
 "cells": [
  {
   "cell_type": "markdown",
   "metadata": {},
   "source": [
    "# 1. Import Libraries"
   ]
  },
  {
   "cell_type": "code",
   "execution_count": 1,
   "metadata": {},
   "outputs": [],
   "source": [
    "import pandas as pd\n",
    "import numpy as np\n",
    "import matplotlib.pyplot as plt\n",
    "import seaborn as sns\n",
    "import pandasql as ps\n",
    "import mysql.connector as ms\n",
    "\n",
    "import warnings\n",
    "warnings.filterwarnings('ignore')"
   ]
  },
  {
   "cell_type": "markdown",
   "metadata": {},
   "source": [
    "# 2. Loading Data"
   ]
  },
  {
   "cell_type": "code",
   "execution_count": 2,
   "metadata": {},
   "outputs": [],
   "source": [
    "df_info_clients = pd.read_csv('data/clients_informations.csv')"
   ]
  },
  {
   "attachments": {},
   "cell_type": "markdown",
   "metadata": {},
   "source": [
    "### 2.1 Data Summary: \n",
    "- **Amostra:** id\n",
    "\n",
    "- **id_cliente:** client id\n",
    "\n",
    "- **id_unico_cliente:**: client specific id\n",
    "\n",
    "- **item-id:** product id\n",
    "\n",
    "- **cep_cliente:** client's postal code\n",
    "\n",
    "- **cidade cliente:** client's city\n",
    "\n",
    "- **estado_cliente:** client's state\n",
    "\n",
    "- **id_pedido:** order id\n",
    "\n",
    "- **status_pedido:** order's status\n",
    "\n",
    "- **horario pedido:** date and time that order was made by the client\n",
    "\n",
    "- **pedido_aprovado:** date and time that the order was approved in the website\n",
    "\n",
    "- **pedido_entregador:** date and time that the order was leaving for delivery\n",
    "\n",
    "- **pedido_entregue:** date and time that the order was delivery to the client\n",
    "\n",
    "- **data_estimada:** estimate date that the order will arrive to the client\n",
    "\n",
    "- **id_vendedor:** salesman's id\n",
    "\n",
    "- **preco:** price of the order in reais (R$)\n",
    "\n",
    "- **frete:** delivery's price\n",
    "\n",
    "- **pagamento_sequencial:**\n",
    "\n",
    "- **pagamento_tipo:** which method the client chose to pay\n",
    "\n",
    "- **pagamento_prestacoes:** number of parcels that the client will pay the order's value\n",
    "\n",
    "- **pagamento_valor:** order's price + dlivery's price\n",
    "\n",
    "- **review:** stars rating of the client\n",
    "\n",
    "- **categoria:** product's category\n",
    "\n",
    "- **categoria_ingles:** product's category in english\n",
    "\n",
    "- **cep_vendedor:** salesman postal code\n",
    "\n",
    "- **cidade_vendedor:** salesman city\n",
    "\n",
    "- **estado_vendedor:** sales person state\n"
   ]
  },
  {
   "cell_type": "code",
   "execution_count": 3,
   "metadata": {},
   "outputs": [
    {
     "data": {
      "text/html": [
       "<div>\n",
       "<style scoped>\n",
       "    .dataframe tbody tr th:only-of-type {\n",
       "        vertical-align: middle;\n",
       "    }\n",
       "\n",
       "    .dataframe tbody tr th {\n",
       "        vertical-align: top;\n",
       "    }\n",
       "\n",
       "    .dataframe thead th {\n",
       "        text-align: right;\n",
       "    }\n",
       "</style>\n",
       "<table border=\"1\" class=\"dataframe\">\n",
       "  <thead>\n",
       "    <tr style=\"text-align: right;\">\n",
       "      <th></th>\n",
       "      <th>amostra</th>\n",
       "      <th>id_cliente</th>\n",
       "      <th>id_unico_cliente</th>\n",
       "      <th>item_id</th>\n",
       "      <th>cep_cliente</th>\n",
       "      <th>cidade_cliente</th>\n",
       "      <th>estado_cliente</th>\n",
       "      <th>id_pedido</th>\n",
       "      <th>status_pedido</th>\n",
       "      <th>horario_pedido</th>\n",
       "      <th>...</th>\n",
       "      <th>pagamento_sequencial</th>\n",
       "      <th>pagamento_tipo</th>\n",
       "      <th>pagamento_prestacoes</th>\n",
       "      <th>pagamento_valor</th>\n",
       "      <th>review</th>\n",
       "      <th>categoria</th>\n",
       "      <th>categoria_ingles</th>\n",
       "      <th>cep_vendedor</th>\n",
       "      <th>cidade_vendedor</th>\n",
       "      <th>estado_vendedor</th>\n",
       "    </tr>\n",
       "  </thead>\n",
       "  <tbody>\n",
       "    <tr>\n",
       "      <th>0</th>\n",
       "      <td>0</td>\n",
       "      <td>06b8999e2fba1a1fbc88172c00ba8bc7</td>\n",
       "      <td>861eff4711a542e4b93843c6dd7febb0</td>\n",
       "      <td>1</td>\n",
       "      <td>14409</td>\n",
       "      <td>franca</td>\n",
       "      <td>SP</td>\n",
       "      <td>00e7ee1b050b8499577073aeb2a297a1</td>\n",
       "      <td>delivered</td>\n",
       "      <td>2017-05-16 15:05:35</td>\n",
       "      <td>...</td>\n",
       "      <td>1</td>\n",
       "      <td>credit_card</td>\n",
       "      <td>2</td>\n",
       "      <td>146.87</td>\n",
       "      <td>4</td>\n",
       "      <td>moveis_escritorio</td>\n",
       "      <td>office_furniture</td>\n",
       "      <td>8577</td>\n",
       "      <td>itaquaquecetuba</td>\n",
       "      <td>SP</td>\n",
       "    </tr>\n",
       "    <tr>\n",
       "      <th>1</th>\n",
       "      <td>1</td>\n",
       "      <td>8912fc0c3bbf1e2fbf35819e21706718</td>\n",
       "      <td>9eae34bbd3a474ec5d07949ca7de67c0</td>\n",
       "      <td>1</td>\n",
       "      <td>68030</td>\n",
       "      <td>santarem</td>\n",
       "      <td>PA</td>\n",
       "      <td>c1d2b34febe9cd269e378117d6681172</td>\n",
       "      <td>delivered</td>\n",
       "      <td>2017-11-09 00:50:13</td>\n",
       "      <td>...</td>\n",
       "      <td>1</td>\n",
       "      <td>credit_card</td>\n",
       "      <td>1</td>\n",
       "      <td>275.79</td>\n",
       "      <td>1</td>\n",
       "      <td>moveis_escritorio</td>\n",
       "      <td>office_furniture</td>\n",
       "      <td>8577</td>\n",
       "      <td>itaquaquecetuba</td>\n",
       "      <td>SP</td>\n",
       "    </tr>\n",
       "    <tr>\n",
       "      <th>2</th>\n",
       "      <td>2</td>\n",
       "      <td>8912fc0c3bbf1e2fbf35819e21706718</td>\n",
       "      <td>9eae34bbd3a474ec5d07949ca7de67c0</td>\n",
       "      <td>2</td>\n",
       "      <td>68030</td>\n",
       "      <td>santarem</td>\n",
       "      <td>PA</td>\n",
       "      <td>c1d2b34febe9cd269e378117d6681172</td>\n",
       "      <td>delivered</td>\n",
       "      <td>2017-11-09 00:50:13</td>\n",
       "      <td>...</td>\n",
       "      <td>1</td>\n",
       "      <td>credit_card</td>\n",
       "      <td>1</td>\n",
       "      <td>275.79</td>\n",
       "      <td>1</td>\n",
       "      <td>moveis_escritorio</td>\n",
       "      <td>office_furniture</td>\n",
       "      <td>8577</td>\n",
       "      <td>itaquaquecetuba</td>\n",
       "      <td>SP</td>\n",
       "    </tr>\n",
       "    <tr>\n",
       "      <th>3</th>\n",
       "      <td>3</td>\n",
       "      <td>f0ac8e5a239118859b1734e1087cbb1f</td>\n",
       "      <td>3c799d181c34d51f6d44bbbc563024db</td>\n",
       "      <td>1</td>\n",
       "      <td>92480</td>\n",
       "      <td>nova santa rita</td>\n",
       "      <td>RS</td>\n",
       "      <td>b1a5d5365d330d10485e0203d54ab9e8</td>\n",
       "      <td>delivered</td>\n",
       "      <td>2017-05-07 20:11:26</td>\n",
       "      <td>...</td>\n",
       "      <td>1</td>\n",
       "      <td>credit_card</td>\n",
       "      <td>7</td>\n",
       "      <td>140.61</td>\n",
       "      <td>3</td>\n",
       "      <td>moveis_escritorio</td>\n",
       "      <td>office_furniture</td>\n",
       "      <td>8577</td>\n",
       "      <td>itaquaquecetuba</td>\n",
       "      <td>SP</td>\n",
       "    </tr>\n",
       "    <tr>\n",
       "      <th>4</th>\n",
       "      <td>4</td>\n",
       "      <td>6bc8d08963a135220ed6c6d098831f84</td>\n",
       "      <td>23397e992b09769faf5e66f9e171a241</td>\n",
       "      <td>1</td>\n",
       "      <td>25931</td>\n",
       "      <td>mage</td>\n",
       "      <td>RJ</td>\n",
       "      <td>2e604b3614664aa66867856dba7e61b7</td>\n",
       "      <td>delivered</td>\n",
       "      <td>2018-02-03 19:45:40</td>\n",
       "      <td>...</td>\n",
       "      <td>1</td>\n",
       "      <td>credit_card</td>\n",
       "      <td>10</td>\n",
       "      <td>137.58</td>\n",
       "      <td>4</td>\n",
       "      <td>moveis_escritorio</td>\n",
       "      <td>office_furniture</td>\n",
       "      <td>8577</td>\n",
       "      <td>itaquaquecetuba</td>\n",
       "      <td>SP</td>\n",
       "    </tr>\n",
       "  </tbody>\n",
       "</table>\n",
       "<p>5 rows × 27 columns</p>\n",
       "</div>"
      ],
      "text/plain": [
       "   amostra                        id_cliente  \\\n",
       "0        0  06b8999e2fba1a1fbc88172c00ba8bc7   \n",
       "1        1  8912fc0c3bbf1e2fbf35819e21706718   \n",
       "2        2  8912fc0c3bbf1e2fbf35819e21706718   \n",
       "3        3  f0ac8e5a239118859b1734e1087cbb1f   \n",
       "4        4  6bc8d08963a135220ed6c6d098831f84   \n",
       "\n",
       "                   id_unico_cliente  item_id  cep_cliente   cidade_cliente  \\\n",
       "0  861eff4711a542e4b93843c6dd7febb0        1        14409           franca   \n",
       "1  9eae34bbd3a474ec5d07949ca7de67c0        1        68030         santarem   \n",
       "2  9eae34bbd3a474ec5d07949ca7de67c0        2        68030         santarem   \n",
       "3  3c799d181c34d51f6d44bbbc563024db        1        92480  nova santa rita   \n",
       "4  23397e992b09769faf5e66f9e171a241        1        25931             mage   \n",
       "\n",
       "  estado_cliente                         id_pedido status_pedido  \\\n",
       "0             SP  00e7ee1b050b8499577073aeb2a297a1     delivered   \n",
       "1             PA  c1d2b34febe9cd269e378117d6681172     delivered   \n",
       "2             PA  c1d2b34febe9cd269e378117d6681172     delivered   \n",
       "3             RS  b1a5d5365d330d10485e0203d54ab9e8     delivered   \n",
       "4             RJ  2e604b3614664aa66867856dba7e61b7     delivered   \n",
       "\n",
       "        horario_pedido  ... pagamento_sequencial pagamento_tipo  \\\n",
       "0  2017-05-16 15:05:35  ...                    1    credit_card   \n",
       "1  2017-11-09 00:50:13  ...                    1    credit_card   \n",
       "2  2017-11-09 00:50:13  ...                    1    credit_card   \n",
       "3  2017-05-07 20:11:26  ...                    1    credit_card   \n",
       "4  2018-02-03 19:45:40  ...                    1    credit_card   \n",
       "\n",
       "  pagamento_prestacoes pagamento_valor review          categoria  \\\n",
       "0                    2          146.87      4  moveis_escritorio   \n",
       "1                    1          275.79      1  moveis_escritorio   \n",
       "2                    1          275.79      1  moveis_escritorio   \n",
       "3                    7          140.61      3  moveis_escritorio   \n",
       "4                   10          137.58      4  moveis_escritorio   \n",
       "\n",
       "   categoria_ingles  cep_vendedor  cidade_vendedor  estado_vendedor  \n",
       "0  office_furniture          8577  itaquaquecetuba               SP  \n",
       "1  office_furniture          8577  itaquaquecetuba               SP  \n",
       "2  office_furniture          8577  itaquaquecetuba               SP  \n",
       "3  office_furniture          8577  itaquaquecetuba               SP  \n",
       "4  office_furniture          8577  itaquaquecetuba               SP  \n",
       "\n",
       "[5 rows x 27 columns]"
      ]
     },
     "execution_count": 3,
     "metadata": {},
     "output_type": "execute_result"
    }
   ],
   "source": [
    "df_info_clients.head()"
   ]
  },
  {
   "cell_type": "markdown",
   "metadata": {},
   "source": [
    "### 2.2 Rename Columns"
   ]
  },
  {
   "cell_type": "code",
   "execution_count": 4,
   "metadata": {},
   "outputs": [],
   "source": [
    "new_columns = [ 'id',  'client_id', 'client_specific_id', 'item_id', 'client _postal_code', 'client_city', 'client_state', 'order_id', 'order_status', 'order_date', 'order_approved', 'order_dliveryman',\n",
    "               'order_delivery', 'order_estimated', 'salesman_id', 'order_price', 'delivery_price', 'sequence_pay', 'paymeny_type', 'divided_pay', 'total_price', 'review', 'category', 'category_english',\n",
    "               'salesman_postal', 'salesman_city', 'salesman_state']\n",
    "\n",
    "df_info_clients.columns = new_columns"
   ]
  },
  {
   "cell_type": "markdown",
   "metadata": {},
   "source": [
    "### 2.3 Data Caracteristics"
   ]
  },
  {
   "cell_type": "code",
   "execution_count": 5,
   "metadata": {},
   "outputs": [
    {
     "name": "stdout",
     "output_type": "stream",
     "text": [
      "Number of Rows: 116581\n",
      "Number of Columns: 27\n"
     ]
    }
   ],
   "source": [
    "print('Number of Rows: {}'.format( df_info_clients.shape[0] ) )\n",
    "print( 'Number of Columns: {}'.format( df_info_clients.shape[1] ) )"
   ]
  },
  {
   "cell_type": "code",
   "execution_count": 75,
   "metadata": {
    "scrolled": false
   },
   "outputs": [
    {
     "name": "stdout",
     "output_type": "stream",
     "text": [
      "Data Types\n"
     ]
    },
    {
     "data": {
      "text/plain": [
       "id                                        int64\n",
       "client_id                                object\n",
       "client_specific_id                       object\n",
       "item_id                                   int64\n",
       "client _postal_code                       int64\n",
       "client_city                              object\n",
       "client_state                             object\n",
       "order_id                                 object\n",
       "order_status                             object\n",
       "order_date                       datetime64[ns]\n",
       "order_approved                   datetime64[ns]\n",
       "order_dliveryman                         object\n",
       "order_delivery                   datetime64[ns]\n",
       "order_estimated                  datetime64[ns]\n",
       "salesman_id                              object\n",
       "order_price                             float64\n",
       "delivery_price                          float64\n",
       "sequence_pay                              int64\n",
       "paymeny_type                             object\n",
       "divided_pay                               int64\n",
       "total_price                             float64\n",
       "review                                    int64\n",
       "category                                 object\n",
       "category_english                         object\n",
       "salesman_postal                           int64\n",
       "salesman_city                            object\n",
       "salesman_state                           object\n",
       "days_until_delivery                     float64\n",
       "days after the delivered date           float64\n",
       "dtype: object"
      ]
     },
     "execution_count": 75,
     "metadata": {},
     "output_type": "execute_result"
    }
   ],
   "source": [
    "print('Data Types')\n",
    "df_info_clients.dtypes"
   ]
  },
  {
   "cell_type": "code",
   "execution_count": 7,
   "metadata": {},
   "outputs": [],
   "source": [
    "df_info_clients[[\"order_date\"]] = df_info_clients[[\"order_date\"]].apply(pd.to_datetime)"
   ]
  },
  {
   "cell_type": "code",
   "execution_count": 8,
   "metadata": {},
   "outputs": [
    {
     "name": "stdout",
     "output_type": "stream",
     "text": [
      "Check Null Values\n"
     ]
    },
    {
     "data": {
      "text/plain": [
       "id                        0\n",
       "client_id                 0\n",
       "client_specific_id        0\n",
       "item_id                   0\n",
       "client _postal_code       0\n",
       "client_city               0\n",
       "client_state              0\n",
       "order_id                  0\n",
       "order_status              0\n",
       "order_date                0\n",
       "order_approved           14\n",
       "order_dliveryman       1213\n",
       "order_delivery         2515\n",
       "order_estimated           0\n",
       "salesman_id               0\n",
       "order_price               0\n",
       "delivery_price            0\n",
       "sequence_pay              0\n",
       "paymeny_type              0\n",
       "divided_pay               0\n",
       "total_price               0\n",
       "review                    0\n",
       "category                  0\n",
       "category_english          0\n",
       "salesman_postal           0\n",
       "salesman_city             0\n",
       "salesman_state            0\n",
       "dtype: int64"
      ]
     },
     "execution_count": 8,
     "metadata": {},
     "output_type": "execute_result"
    }
   ],
   "source": [
    "print(\"Check Null Values\")\n",
    "df_info_clients.isna().sum()"
   ]
  },
  {
   "cell_type": "markdown",
   "metadata": {},
   "source": [
    "In order to analyse the null values, I will create a query to count the status of them"
   ]
  },
  {
   "cell_type": "code",
   "execution_count": 9,
   "metadata": {},
   "outputs": [],
   "source": [
    "mask = df_info_clients['order_approved'].isnull() | df_info_clients['order_dliveryman'].isnull() | df_info_clients['order_delivery'].isnull()\n",
    "\n",
    "# group the rows by order_status and count the ids for each order_status\n",
    "result = df_info_clients[mask].groupby('order_status')['id'].count()"
   ]
  },
  {
   "cell_type": "code",
   "execution_count": 10,
   "metadata": {},
   "outputs": [
    {
     "data": {
      "text/plain": [
       "order_status\n",
       "approved          3\n",
       "canceled        546\n",
       "delivered        23\n",
       "invoiced        364\n",
       "processing      362\n",
       "shipped        1225\n",
       "unavailable       7\n",
       "Name: id, dtype: int64"
      ]
     },
     "execution_count": 10,
     "metadata": {},
     "output_type": "execute_result"
    }
   ],
   "source": [
    "result"
   ]
  },
  {
   "cell_type": "code",
   "execution_count": 11,
   "metadata": {},
   "outputs": [
    {
     "data": {
      "text/plain": [
       "order_status\n",
       "approved          3\n",
       "canceled        546\n",
       "delivered        23\n",
       "invoiced        364\n",
       "processing      362\n",
       "shipped        1225\n",
       "unavailable       7\n",
       "Name: id, dtype: int64"
      ]
     },
     "execution_count": 11,
     "metadata": {},
     "output_type": "execute_result"
    }
   ],
   "source": [
    "# In SQL\n",
    "#query = \"\"\"\n",
    "#SELECT order_status, \n",
    "#COUNT(id)\n",
    "#FROM df_info_clients\n",
    "#WHERE order_approved IS NULL\n",
    "#OR order_dliveryman IS NULL\n",
    "#OR order_delivery IS NULL\n",
    "#GROUP BY order_status\n",
    "#\"\"\"\n",
    "#ps.sqldf(query, locals())\n",
    "\n",
    "\n",
    "mask = df_info_clients['order_approved'].isnull() | df_info_clients['order_dliveryman'].isnull() | df_info_clients['order_delivery'].isnull()\n",
    "df_info_clients[mask].groupby('order_status')['id'].count()"
   ]
  },
  {
   "cell_type": "code",
   "execution_count": 12,
   "metadata": {},
   "outputs": [
    {
     "data": {
      "text/html": [
       "<div>\n",
       "<style scoped>\n",
       "    .dataframe tbody tr th:only-of-type {\n",
       "        vertical-align: middle;\n",
       "    }\n",
       "\n",
       "    .dataframe tbody tr th {\n",
       "        vertical-align: top;\n",
       "    }\n",
       "\n",
       "    .dataframe thead th {\n",
       "        text-align: right;\n",
       "    }\n",
       "</style>\n",
       "<table border=\"1\" class=\"dataframe\">\n",
       "  <thead>\n",
       "    <tr style=\"text-align: right;\">\n",
       "      <th></th>\n",
       "      <th>order_status</th>\n",
       "      <th>order_date</th>\n",
       "      <th>order_approved</th>\n",
       "      <th>order_dliveryman</th>\n",
       "      <th>order_delivery</th>\n",
       "      <th>order_estimated</th>\n",
       "    </tr>\n",
       "  </thead>\n",
       "  <tbody>\n",
       "    <tr>\n",
       "      <th>16871</th>\n",
       "      <td>delivered</td>\n",
       "      <td>2017-02-18 15:52:27</td>\n",
       "      <td>NaN</td>\n",
       "      <td>2017-02-23 03:09:14</td>\n",
       "      <td>2017-03-07 13:57:47</td>\n",
       "      <td>2017-03-29 00:00:00</td>\n",
       "    </tr>\n",
       "    <tr>\n",
       "      <th>16920</th>\n",
       "      <td>delivered</td>\n",
       "      <td>2017-01-19 22:26:59</td>\n",
       "      <td>NaN</td>\n",
       "      <td>2017-01-27 11:08:05</td>\n",
       "      <td>2017-02-06 14:22:19</td>\n",
       "      <td>2017-03-16 00:00:00</td>\n",
       "    </tr>\n",
       "    <tr>\n",
       "      <th>16993</th>\n",
       "      <td>delivered</td>\n",
       "      <td>2017-02-19 01:28:47</td>\n",
       "      <td>NaN</td>\n",
       "      <td>2017-02-23 03:11:48</td>\n",
       "      <td>2017-03-02 03:41:58</td>\n",
       "      <td>2017-03-27 00:00:00</td>\n",
       "    </tr>\n",
       "    <tr>\n",
       "      <th>33010</th>\n",
       "      <td>delivered</td>\n",
       "      <td>2017-01-19 12:48:08</td>\n",
       "      <td>NaN</td>\n",
       "      <td>2017-01-25 14:56:50</td>\n",
       "      <td>2017-01-30 18:16:01</td>\n",
       "      <td>2017-03-01 00:00:00</td>\n",
       "    </tr>\n",
       "    <tr>\n",
       "      <th>38344</th>\n",
       "      <td>delivered</td>\n",
       "      <td>2017-02-18 11:04:19</td>\n",
       "      <td>NaN</td>\n",
       "      <td>2017-02-23 07:23:36</td>\n",
       "      <td>2017-03-02 16:15:23</td>\n",
       "      <td>2017-03-22 00:00:00</td>\n",
       "    </tr>\n",
       "    <tr>\n",
       "      <th>48622</th>\n",
       "      <td>delivered</td>\n",
       "      <td>2017-05-25 23:22:43</td>\n",
       "      <td>2017-05-25 23:30:16</td>\n",
       "      <td>NaN</td>\n",
       "      <td>NaN</td>\n",
       "      <td>2017-06-23 00:00:00</td>\n",
       "    </tr>\n",
       "    <tr>\n",
       "      <th>57919</th>\n",
       "      <td>delivered</td>\n",
       "      <td>2018-06-08 12:09:39</td>\n",
       "      <td>2018-06-08 12:36:39</td>\n",
       "      <td>2018-06-12 14:10:00</td>\n",
       "      <td>NaN</td>\n",
       "      <td>2018-06-26 00:00:00</td>\n",
       "    </tr>\n",
       "    <tr>\n",
       "      <th>59100</th>\n",
       "      <td>delivered</td>\n",
       "      <td>2017-02-18 22:49:19</td>\n",
       "      <td>NaN</td>\n",
       "      <td>2017-02-22 11:31:06</td>\n",
       "      <td>2017-03-02 12:06:06</td>\n",
       "      <td>2017-03-21 00:00:00</td>\n",
       "    </tr>\n",
       "    <tr>\n",
       "      <th>59101</th>\n",
       "      <td>delivered</td>\n",
       "      <td>2017-02-18 22:49:19</td>\n",
       "      <td>NaN</td>\n",
       "      <td>2017-02-22 11:31:06</td>\n",
       "      <td>2017-03-02 12:06:06</td>\n",
       "      <td>2017-03-21 00:00:00</td>\n",
       "    </tr>\n",
       "    <tr>\n",
       "      <th>62426</th>\n",
       "      <td>delivered</td>\n",
       "      <td>2017-02-18 12:45:31</td>\n",
       "      <td>NaN</td>\n",
       "      <td>2017-02-23 09:01:52</td>\n",
       "      <td>2017-03-02 10:05:06</td>\n",
       "      <td>2017-03-21 00:00:00</td>\n",
       "    </tr>\n",
       "    <tr>\n",
       "      <th>66914</th>\n",
       "      <td>delivered</td>\n",
       "      <td>2018-07-01 17:05:11</td>\n",
       "      <td>2018-07-01 17:15:12</td>\n",
       "      <td>2018-07-03 13:57:00</td>\n",
       "      <td>NaN</td>\n",
       "      <td>2018-07-30 00:00:00</td>\n",
       "    </tr>\n",
       "    <tr>\n",
       "      <th>66929</th>\n",
       "      <td>delivered</td>\n",
       "      <td>2018-07-01 22:05:55</td>\n",
       "      <td>2018-07-01 22:15:14</td>\n",
       "      <td>2018-07-03 13:57:00</td>\n",
       "      <td>NaN</td>\n",
       "      <td>2018-07-30 00:00:00</td>\n",
       "    </tr>\n",
       "    <tr>\n",
       "      <th>67094</th>\n",
       "      <td>delivered</td>\n",
       "      <td>2018-07-01 21:14:02</td>\n",
       "      <td>2018-07-01 21:29:54</td>\n",
       "      <td>2018-07-03 09:28:00</td>\n",
       "      <td>NaN</td>\n",
       "      <td>2018-07-24 00:00:00</td>\n",
       "    </tr>\n",
       "    <tr>\n",
       "      <th>71426</th>\n",
       "      <td>delivered</td>\n",
       "      <td>2017-02-18 14:40:00</td>\n",
       "      <td>NaN</td>\n",
       "      <td>2017-02-23 12:04:47</td>\n",
       "      <td>2017-03-01 13:25:33</td>\n",
       "      <td>2017-03-17 00:00:00</td>\n",
       "    </tr>\n",
       "    <tr>\n",
       "      <th>73976</th>\n",
       "      <td>delivered</td>\n",
       "      <td>2017-09-29 08:52:58</td>\n",
       "      <td>2017-09-29 09:07:16</td>\n",
       "      <td>NaN</td>\n",
       "      <td>2017-11-20 19:44:47</td>\n",
       "      <td>2017-11-14 00:00:00</td>\n",
       "    </tr>\n",
       "    <tr>\n",
       "      <th>77904</th>\n",
       "      <td>delivered</td>\n",
       "      <td>2017-11-28 17:44:07</td>\n",
       "      <td>2017-11-28 17:56:40</td>\n",
       "      <td>2017-11-30 18:12:23</td>\n",
       "      <td>NaN</td>\n",
       "      <td>2017-12-18 00:00:00</td>\n",
       "    </tr>\n",
       "    <tr>\n",
       "      <th>98880</th>\n",
       "      <td>delivered</td>\n",
       "      <td>2017-02-17 17:21:55</td>\n",
       "      <td>NaN</td>\n",
       "      <td>2017-02-22 11:42:51</td>\n",
       "      <td>2017-03-03 12:16:03</td>\n",
       "      <td>2017-03-20 00:00:00</td>\n",
       "    </tr>\n",
       "    <tr>\n",
       "      <th>99581</th>\n",
       "      <td>delivered</td>\n",
       "      <td>2018-06-20 06:58:43</td>\n",
       "      <td>2018-06-20 07:19:05</td>\n",
       "      <td>2018-06-25 08:05:00</td>\n",
       "      <td>NaN</td>\n",
       "      <td>2018-07-16 00:00:00</td>\n",
       "    </tr>\n",
       "    <tr>\n",
       "      <th>104130</th>\n",
       "      <td>delivered</td>\n",
       "      <td>2017-02-17 15:53:27</td>\n",
       "      <td>NaN</td>\n",
       "      <td>2017-02-22 11:31:30</td>\n",
       "      <td>2017-03-03 11:47:47</td>\n",
       "      <td>2017-03-23 00:00:00</td>\n",
       "    </tr>\n",
       "    <tr>\n",
       "      <th>107588</th>\n",
       "      <td>delivered</td>\n",
       "      <td>2017-02-17 13:05:55</td>\n",
       "      <td>NaN</td>\n",
       "      <td>2017-02-22 11:23:11</td>\n",
       "      <td>2017-03-02 11:09:19</td>\n",
       "      <td>2017-03-20 00:00:00</td>\n",
       "    </tr>\n",
       "    <tr>\n",
       "      <th>107630</th>\n",
       "      <td>delivered</td>\n",
       "      <td>2017-02-18 17:15:03</td>\n",
       "      <td>NaN</td>\n",
       "      <td>2017-02-22 11:23:11</td>\n",
       "      <td>2017-03-03 18:43:43</td>\n",
       "      <td>2017-03-31 00:00:00</td>\n",
       "    </tr>\n",
       "    <tr>\n",
       "      <th>107660</th>\n",
       "      <td>delivered</td>\n",
       "      <td>2017-02-18 16:48:35</td>\n",
       "      <td>NaN</td>\n",
       "      <td>2017-02-22 11:23:10</td>\n",
       "      <td>2017-03-09 07:28:47</td>\n",
       "      <td>2017-03-31 00:00:00</td>\n",
       "    </tr>\n",
       "    <tr>\n",
       "      <th>114997</th>\n",
       "      <td>delivered</td>\n",
       "      <td>2018-06-27 16:09:12</td>\n",
       "      <td>2018-06-27 16:29:30</td>\n",
       "      <td>2018-07-03 19:26:00</td>\n",
       "      <td>NaN</td>\n",
       "      <td>2018-07-19 00:00:00</td>\n",
       "    </tr>\n",
       "  </tbody>\n",
       "</table>\n",
       "</div>"
      ],
      "text/plain": [
       "       order_status          order_date       order_approved  \\\n",
       "16871     delivered 2017-02-18 15:52:27                  NaN   \n",
       "16920     delivered 2017-01-19 22:26:59                  NaN   \n",
       "16993     delivered 2017-02-19 01:28:47                  NaN   \n",
       "33010     delivered 2017-01-19 12:48:08                  NaN   \n",
       "38344     delivered 2017-02-18 11:04:19                  NaN   \n",
       "48622     delivered 2017-05-25 23:22:43  2017-05-25 23:30:16   \n",
       "57919     delivered 2018-06-08 12:09:39  2018-06-08 12:36:39   \n",
       "59100     delivered 2017-02-18 22:49:19                  NaN   \n",
       "59101     delivered 2017-02-18 22:49:19                  NaN   \n",
       "62426     delivered 2017-02-18 12:45:31                  NaN   \n",
       "66914     delivered 2018-07-01 17:05:11  2018-07-01 17:15:12   \n",
       "66929     delivered 2018-07-01 22:05:55  2018-07-01 22:15:14   \n",
       "67094     delivered 2018-07-01 21:14:02  2018-07-01 21:29:54   \n",
       "71426     delivered 2017-02-18 14:40:00                  NaN   \n",
       "73976     delivered 2017-09-29 08:52:58  2017-09-29 09:07:16   \n",
       "77904     delivered 2017-11-28 17:44:07  2017-11-28 17:56:40   \n",
       "98880     delivered 2017-02-17 17:21:55                  NaN   \n",
       "99581     delivered 2018-06-20 06:58:43  2018-06-20 07:19:05   \n",
       "104130    delivered 2017-02-17 15:53:27                  NaN   \n",
       "107588    delivered 2017-02-17 13:05:55                  NaN   \n",
       "107630    delivered 2017-02-18 17:15:03                  NaN   \n",
       "107660    delivered 2017-02-18 16:48:35                  NaN   \n",
       "114997    delivered 2018-06-27 16:09:12  2018-06-27 16:29:30   \n",
       "\n",
       "           order_dliveryman       order_delivery      order_estimated  \n",
       "16871   2017-02-23 03:09:14  2017-03-07 13:57:47  2017-03-29 00:00:00  \n",
       "16920   2017-01-27 11:08:05  2017-02-06 14:22:19  2017-03-16 00:00:00  \n",
       "16993   2017-02-23 03:11:48  2017-03-02 03:41:58  2017-03-27 00:00:00  \n",
       "33010   2017-01-25 14:56:50  2017-01-30 18:16:01  2017-03-01 00:00:00  \n",
       "38344   2017-02-23 07:23:36  2017-03-02 16:15:23  2017-03-22 00:00:00  \n",
       "48622                   NaN                  NaN  2017-06-23 00:00:00  \n",
       "57919   2018-06-12 14:10:00                  NaN  2018-06-26 00:00:00  \n",
       "59100   2017-02-22 11:31:06  2017-03-02 12:06:06  2017-03-21 00:00:00  \n",
       "59101   2017-02-22 11:31:06  2017-03-02 12:06:06  2017-03-21 00:00:00  \n",
       "62426   2017-02-23 09:01:52  2017-03-02 10:05:06  2017-03-21 00:00:00  \n",
       "66914   2018-07-03 13:57:00                  NaN  2018-07-30 00:00:00  \n",
       "66929   2018-07-03 13:57:00                  NaN  2018-07-30 00:00:00  \n",
       "67094   2018-07-03 09:28:00                  NaN  2018-07-24 00:00:00  \n",
       "71426   2017-02-23 12:04:47  2017-03-01 13:25:33  2017-03-17 00:00:00  \n",
       "73976                   NaN  2017-11-20 19:44:47  2017-11-14 00:00:00  \n",
       "77904   2017-11-30 18:12:23                  NaN  2017-12-18 00:00:00  \n",
       "98880   2017-02-22 11:42:51  2017-03-03 12:16:03  2017-03-20 00:00:00  \n",
       "99581   2018-06-25 08:05:00                  NaN  2018-07-16 00:00:00  \n",
       "104130  2017-02-22 11:31:30  2017-03-03 11:47:47  2017-03-23 00:00:00  \n",
       "107588  2017-02-22 11:23:11  2017-03-02 11:09:19  2017-03-20 00:00:00  \n",
       "107630  2017-02-22 11:23:11  2017-03-03 18:43:43  2017-03-31 00:00:00  \n",
       "107660  2017-02-22 11:23:10  2017-03-09 07:28:47  2017-03-31 00:00:00  \n",
       "114997  2018-07-03 19:26:00                  NaN  2018-07-19 00:00:00  "
      ]
     },
     "execution_count": 12,
     "metadata": {},
     "output_type": "execute_result"
    }
   ],
   "source": [
    "#In SQL\n",
    "#query = \"\"\"select * from df_info_clients\n",
    "#where (order_approved is null or order_dliveryman is null or order_delivery is null) and order_status = 'delivered'  \n",
    "#\"\"\"\n",
    "#ps.sqldf(query, locals()).iloc[:, 8:14]\n",
    "\n",
    "df_info_clients[(df_info_clients['order_approved'].isnull() | df_info_clients['order_dliveryman'].isnull() | df_info_clients['order_delivery'].isnull()) & (df_info_clients['order_status'] == 'delivered')].iloc[:, 8:14]"
   ]
  },
  {
   "cell_type": "markdown",
   "metadata": {},
   "source": [
    "It is possible to see that only 23 of the null values are erros, because the status is \"delivered\" but they do not have: \n",
    "- the date of order approval \n",
    "\n",
    "or \n",
    "- the date that the order was leaving for delivery \n",
    "\n",
    "or \n",
    "- the date that the order was delivery to the client\n",
    "\n",
    "For this reason, I will delete these values."
   ]
  },
  {
   "cell_type": "code",
   "execution_count": 13,
   "metadata": {},
   "outputs": [],
   "source": [
    "#query = \"\"\"select * from df_info_clients\n",
    "#where (order_approved is not null \n",
    "#and order_dliveryman is not null \n",
    "#and order_delivery is not null)\n",
    "#or order_status <> 'delivered';\n",
    "#\"\"\"\n",
    "#df_info_clients = ps.sqldf(query, globals())\n",
    "\n",
    "\n",
    "df_info_clients = df_info_clients[(df_info_clients['order_approved'].notnull() & df_info_clients['order_dliveryman'].notnull() & df_info_clients['order_delivery'].notnull()) | (df_info_clients['order_status'] != 'delivered')]"
   ]
  },
  {
   "attachments": {},
   "cell_type": "markdown",
   "metadata": {},
   "source": [
    "# 3. Exploratory Data Analysis\n",
    "In order to understand and get more familiar with the dataset, I will perform a exploratory data analysis."
   ]
  },
  {
   "attachments": {},
   "cell_type": "markdown",
   "metadata": {},
   "source": [
    "### 3.1) Categorical variables"
   ]
  },
  {
   "cell_type": "markdown",
   "metadata": {},
   "source": [
    "#### 3.1.1) Item ID"
   ]
  },
  {
   "cell_type": "code",
   "execution_count": 14,
   "metadata": {},
   "outputs": [
    {
     "name": "stdout",
     "output_type": "stream",
     "text": [
      "Percentage of items most bought \n",
      "1     0.88\n",
      "2     0.09\n",
      "3     0.02\n",
      "4     0.01\n",
      "5     0.00\n",
      "6     0.00\n",
      "7     0.00\n",
      "8     0.00\n",
      "9     0.00\n",
      "10    0.00\n",
      "11    0.00\n",
      "12    0.00\n",
      "13    0.00\n",
      "14    0.00\n",
      "15    0.00\n",
      "16    0.00\n",
      "17    0.00\n",
      "18    0.00\n",
      "19    0.00\n",
      "20    0.00\n",
      "21    0.00\n",
      "Name: item_id, dtype: float64\n"
     ]
    },
    {
     "data": {
      "text/plain": [
       "<Axes: xlabel='item_id', ylabel='count'>"
      ]
     },
     "execution_count": 14,
     "metadata": {},
     "output_type": "execute_result"
    },
    {
     "data": {
      "image/png": "[encoded data removed]",
      "text/plain": [
       "<Figure size 640x480 with 1 Axes>"
      ]
     },
     "metadata": {},
     "output_type": "display_data"
    }
   ],
   "source": [
    "print(\"Percentage of items most bought \")\n",
    "print(round(df_info_clients['item_id'].value_counts(normalize=True),2))\n",
    "sns.countplot(data=df_info_clients, x=\"item_id\")"
   ]
  },
  {
   "attachments": {},
   "cell_type": "markdown",
   "metadata": {},
   "source": [
    "The Item with ID 1 represents 88% of the sales\n",
    "\n",
    "NAO FAZ O MENOR SENTIDO ESSE ITEM ID"
   ]
  },
  {
   "cell_type": "markdown",
   "metadata": {},
   "source": [
    "#### 3.1.2) City"
   ]
  },
  {
   "cell_type": "code",
   "execution_count": 15,
   "metadata": {},
   "outputs": [
    {
     "name": "stdout",
     "output_type": "stream",
     "text": [
      "Cities that buys the most\n",
      "sao paulo                18411\n",
      "rio de janeiro            8121\n",
      "belo horizonte            3218\n",
      "brasilia                  2452\n",
      "curitiba                  1799\n",
      "campinas                  1722\n",
      "porto alegre              1640\n",
      "salvador                  1498\n",
      "guarulhos                 1387\n",
      "sao bernardo do campo     1100\n",
      "Name: client_city, dtype: int64\n",
      " \n",
      "Percentage of cities that buys the most\n",
      "sao paulo                0.157956\n",
      "rio de janeiro           0.069673\n",
      "belo horizonte           0.027609\n",
      "brasilia                 0.021037\n",
      "curitiba                 0.015434\n",
      "campinas                 0.014774\n",
      "porto alegre             0.014070\n",
      "salvador                 0.012852\n",
      "guarulhos                0.011900\n",
      "sao bernardo do campo    0.009437\n",
      "Name: client_city, dtype: float64\n"
     ]
    },
    {
     "data": {
      "text/plain": [
       "<Figure size 1200x600 with 0 Axes>"
      ]
     },
     "metadata": {},
     "output_type": "display_data"
    },
    {
     "data": {
      "text/plain": [
       "<Figure size 1200x600 with 0 Axes>"
      ]
     },
     "metadata": {},
     "output_type": "display_data"
    },
    {
     "data": {
      "image/png": "[encoded data removed]",
      "text/plain": [
       "<Figure size 640x480 with 1 Axes>"
      ]
     },
     "metadata": {},
     "output_type": "display_data"
    }
   ],
   "source": [
    "print(\"Cities that buys the most\")\n",
    "print(df_info_clients['client_city'].value_counts(normalize=False).head(10))\n",
    "print(\" \")\n",
    "print(\"Percentage of cities that buys the most\")\n",
    "print(df_info_clients['client_city'].value_counts(normalize=True).head(10))\n",
    "plt.figure(figsize=(12, 6))\n",
    "plt.figure(figsize=(12, 6))\n",
    "pd.DataFrame(df_info_clients['client_city'].value_counts(normalize=False).head(15)).plot(kind='bar')\n",
    "plt.show()"
   ]
  },
  {
   "cell_type": "code",
   "execution_count": 16,
   "metadata": {},
   "outputs": [
    {
     "name": "stdout",
     "output_type": "stream",
     "text": [
      "There are 4095 unique cities\n",
      "The city that sales the most is sao paulo with: 18411 sales\n",
      "This represents 15.8%\n"
     ]
    }
   ],
   "source": [
    "print(\"There are \"+ str(len(df_info_clients['client_city'].unique()))+\" unique cities\")\n",
    "print(\"The city that sales the most is sao paulo with: \" +str(df_info_clients['client_city'].value_counts(normalize=False).head(1).iloc[0])+\" sales\")\n",
    "print(\"This represents \"+str(round(df_info_clients['client_city'].value_counts(normalize=True).head(1).iloc[0]*100,2))+\"%\")"
   ]
  },
  {
   "cell_type": "markdown",
   "metadata": {},
   "source": [
    "#### 3.1.3) State"
   ]
  },
  {
   "cell_type": "code",
   "execution_count": 17,
   "metadata": {},
   "outputs": [
    {
     "name": "stdout",
     "output_type": "stream",
     "text": [
      "There are 27 diferent states\n",
      " \n",
      "Cities that buys the most\n",
      "SP    49121\n",
      "RJ    15182\n",
      "MG    13527\n",
      "RS     6433\n",
      "PR     5908\n",
      "SC     4254\n",
      "BA     3994\n",
      "DF     2467\n",
      "GO     2396\n",
      "ES     2332\n",
      "Name: client_state, dtype: int64\n",
      " \n",
      "Percentage of cities that buys the most\n",
      "SP    0.421430\n",
      "RJ    0.130253\n",
      "MG    0.116054\n",
      "RS    0.055191\n",
      "PR    0.050687\n",
      "SC    0.036497\n",
      "BA    0.034266\n",
      "DF    0.021165\n",
      "GO    0.020556\n",
      "ES    0.020007\n",
      "Name: client_state, dtype: float64\n"
     ]
    },
    {
     "data": {
      "image/png": "[encoded data removed]",
      "text/plain": [
       "<Figure size 1200x600 with 1 Axes>"
      ]
     },
     "metadata": {},
     "output_type": "display_data"
    }
   ],
   "source": [
    "print(\"There are \"+str(len(df_info_clients['client_state'].unique()))+\" diferent states\")\n",
    "print(\" \")\n",
    "print(\"Cities that buys the most\")\n",
    "print(df_info_clients['client_state'].value_counts(normalize=False).head(10))\n",
    "print(\" \")\n",
    "print(\"Percentage of cities that buys the most\")\n",
    "print(df_info_clients['client_state'].value_counts(normalize=True).head(10))\n",
    "plt.figure(figsize=(12, 6))\n",
    "sns.countplot(data=df_info_clients, x=\"client_state\", order = df_info_clients['client_state'].value_counts().head(10).index)\n",
    "plt.xticks(rotation=90)\n",
    "plt.show()"
   ]
  },
  {
   "cell_type": "code",
   "execution_count": 18,
   "metadata": {},
   "outputs": [
    {
     "name": "stdout",
     "output_type": "stream",
     "text": [
      "The Southeast correspond to 0.69% of the total sales\n"
     ]
    }
   ],
   "source": [
    "print(\"The Southeast correspond to \" +\n",
    "      str(round(len(df_info_clients[ (df_info_clients['client_state']=='SP') | (df_info_clients['client_state']=='MG') | \n",
    "                              (df_info_clients['client_state']=='RJ') | (df_info_clients['client_state']=='ES')])/len(df_info_clients),2))+\n",
    "                              \"% of the total sales\")"
   ]
  },
  {
   "cell_type": "markdown",
   "metadata": {},
   "source": [
    "#### 3.1.4) Months"
   ]
  },
  {
   "cell_type": "code",
   "execution_count": 19,
   "metadata": {},
   "outputs": [],
   "source": [
    "# convert the order_date column to a datetime type\n",
    "df_info_clients['order_date'] = pd.to_datetime(df_info_clients['order_date'])"
   ]
  },
  {
   "cell_type": "code",
   "execution_count": 20,
   "metadata": {},
   "outputs": [
    {
     "name": "stdout",
     "output_type": "stream",
     "text": [
      "       date  order_per_month\n",
      "0   2016-09                3\n",
      "1   2016-10              384\n",
      "2   2016-12                1\n",
      "3   2017-01             1008\n",
      "4   2017-02             2002\n",
      "5   2017-03             3134\n",
      "6   2017-04             2783\n",
      "7   2017-05             4340\n",
      "8   2017-06             3756\n",
      "9   2017-07             4811\n",
      "10  2017-08             5143\n",
      "11  2017-09             5054\n",
      "12  2017-10             5542\n",
      "13  2017-11             8962\n",
      "14  2017-12             6442\n",
      "15  2018-01             8382\n",
      "16  2018-02             7898\n",
      "17  2018-03             8453\n",
      "18  2018-04             8194\n",
      "19  2018-05             8176\n",
      "20  2018-06             7369\n",
      "21  2018-07             7294\n",
      "22  2018-08             7426\n",
      "23  2018-09                1\n"
     ]
    },
    {
     "data": {
      "image/png": "[encoded data removed]",
      "text/plain": [
       "<Figure size 1200x600 with 1 Axes>"
      ]
     },
     "metadata": {},
     "output_type": "display_data"
    }
   ],
   "source": [
    "# group the rows by year-month of order_date column and count the ids for each year-month\n",
    "result = df_info_clients.groupby(df_info_clients['order_date'].dt.strftime('%Y-%m'))['id'].count().reset_index()\n",
    "\n",
    "# rename the columns of the result dataframe\n",
    "result = result.rename(columns={'order_date': 'date', 'id': 'order_per_month'})\n",
    "\n",
    "print(result)\n",
    "plt.figure(figsize=(12, 6))\n",
    "sns.barplot(data=result, x=\"date\", y=\"order_per_month\")\n",
    "plt.xticks(rotation=90)\n",
    "plt.show()\n",
    "\n",
    "#query = \"\"\"\n",
    "#select strftime('%Y-%m',order_date) as date,\n",
    "#count(id) as order_per_month\n",
    "#from df_info_clients\n",
    "#group by date\n",
    "#\"\"\"\n",
    "\n",
    "#print(ps.sqldf(query, locals()))\n",
    "#plt.figure(figsize=(12, 6))\n",
    "#sns.barplot(data=ps.sqldf(query, locals()), x=\"date\", y=\"order_per_month\")\n",
    "#plt.xticks(rotation=90)\n",
    "#plt.show()"
   ]
  },
  {
   "cell_type": "markdown",
   "metadata": {},
   "source": [
    "#### 3.1.5) Years"
   ]
  },
  {
   "cell_type": "code",
   "execution_count": 21,
   "metadata": {},
   "outputs": [
    {
     "name": "stdout",
     "output_type": "stream",
     "text": [
      "   date  order_per_year\n",
      "0  2016             388\n",
      "1  2017           52977\n",
      "2  2018           63193\n"
     ]
    },
    {
     "data": {
      "image/png": "[encoded data removed]",
      "text/plain": [
       "<Figure size 1200x600 with 1 Axes>"
      ]
     },
     "metadata": {},
     "output_type": "display_data"
    }
   ],
   "source": [
    "#query = \"\"\"\n",
    "#select strftime('%Y',order_date) as date,\n",
    "#count(id) as order_per_year\n",
    "#from df_info_clients\n",
    "#group by date\n",
    "#\"\"\"\n",
    "\n",
    "#print(ps.sqldf(query, locals()))\n",
    "#plt.figure(figsize=(12, 6))\n",
    "#sns.barplot(data=ps.sqldf(query, locals()), x=\"date\", y=\"order_per_year\")\n",
    "#plt.xticks(rotation=90)\n",
    "#plt.show()\n",
    "\n",
    "\n",
    "# group the rows by year of order_date column and count the ids for each year\n",
    "result = df_info_clients.groupby(df_info_clients['order_date'].dt.strftime('%Y'))['id'].count().reset_index()\n",
    "\n",
    "# rename the columns of the result dataframe\n",
    "result = result.rename(columns={'order_date': 'date', 'id': 'order_per_year'})\n",
    "\n",
    "print(result)\n",
    "plt.figure(figsize=(12, 6))\n",
    "sns.barplot(result, x=\"date\", y=\"order_per_year\")\n",
    "plt.xticks(rotation=90)\n",
    "plt.show()"
   ]
  },
  {
   "cell_type": "markdown",
   "metadata": {},
   "source": [
    "#### 3.1.6) Category"
   ]
  },
  {
   "cell_type": "code",
   "execution_count": 22,
   "metadata": {},
   "outputs": [
    {
     "name": "stdout",
     "output_type": "stream",
     "text": [
      "There are 71 diferent categories\n",
      " \n",
      "Most saled categories\n",
      "bed_bath_table           11989\n",
      "health_beauty            10030\n",
      "sports_leisure            9002\n",
      "furniture_decor           8829\n",
      "computers_accessories     8150\n",
      "housewares                7380\n",
      "watches_gifts             6211\n",
      "telephony                 4724\n",
      "garden_tools              4589\n",
      "auto                      4399\n",
      "Name: category_english, dtype: int64\n",
      " \n",
      "Percentage most saled categories\n",
      "bed_bath_table           0.102859\n",
      "health_beauty            0.086052\n",
      "sports_leisure           0.077232\n",
      "furniture_decor          0.075748\n",
      "computers_accessories    0.069922\n",
      "housewares               0.063316\n",
      "watches_gifts            0.053287\n",
      "telephony                0.040529\n",
      "garden_tools             0.039371\n",
      "auto                     0.037741\n",
      "Name: category_english, dtype: float64\n"
     ]
    },
    {
     "data": {
      "image/png": "[encoded data removed]",
      "text/plain": [
       "<Figure size 640x480 with 1 Axes>"
      ]
     },
     "metadata": {},
     "output_type": "display_data"
    }
   ],
   "source": [
    "print(\"There are \"+str(len(df_info_clients['category_english'].unique()))+\" diferent categories\")\n",
    "print(\" \")\n",
    "print(\"Most saled categories\")\n",
    "print(df_info_clients['category_english'].value_counts(normalize=False).head(10))\n",
    "print(\" \")\n",
    "print(\"Percentage most saled categories\")\n",
    "print(df_info_clients['category_english'].value_counts(normalize=True).head(10))\n",
    "\n",
    "\n",
    "pd.DataFrame(df_info_clients['category_english'].value_counts(normalize=False).head(15)).plot(kind='bar')\n",
    "plt.show()\n"
   ]
  },
  {
   "attachments": {},
   "cell_type": "markdown",
   "metadata": {},
   "source": [
    "# 6) Classifying your customers\n",
    "Classifying customers may assist you to streamline your sales activities and help you focus on achieving the desired business goals. The ABC method is the most commonly used.\n",
    "\n",
    "A - represents the ‘top grade’ or ‘ideal’ client in your business. They are 20% of the clients and generate more than 80% of the biling.\n",
    "\n",
    "B - is a brilliant business customer. Represent 15% of the billing and they are 30% of the clients\n",
    "\n",
    "C - low revelance for the business. The majority of the cliets correspond to only 5% of the revenue\n"
   ]
  },
  {
   "cell_type": "code",
   "execution_count": 74,
   "metadata": {},
   "outputs": [
    {
     "name": "stdout",
     "output_type": "stream",
     "text": [
      "There are 116558 sales and\n",
      "97233 clients bought more than once, that is, 83.42%\n"
     ]
    }
   ],
   "source": [
    "print(\"There are \"+ str(len(df_info_clients)) + \" sales and\")\n",
    "print( str(len(df_info_clients['client_id'].unique())) + \" clients bought more than once, that is, \" + str(round((len(df_info_clients['client_id'].unique())/len(df_info_clients))*100,2)) +\"%\")"
   ]
  },
  {
   "cell_type": "code",
   "execution_count": 62,
   "metadata": {},
   "outputs": [
    {
     "data": {
      "text/plain": [
       "270c23a11d024a44c896d1894b261a83    63\n",
       "13aa59158da63ba0e93ec6ac2c07aacb    38\n",
       "9af2372a1e49340278e7c1ef8d749f34    29\n",
       "92cd3ec6e2d643d4ebd0e3d6238f69e2    26\n",
       "63b964e79dee32a3587651701a2b8dbf    24\n",
       "d22f25a9fadfb1abbc2e29395b1239f4    24\n",
       "2ba91e12e5e4c9f56b82b86d9031d329    24\n",
       "86cc80fef09f7f39df4b0dbce48e81cb    24\n",
       "6ee2f17e3b6c33d6a9557f280edd2925    24\n",
       "be1c4e52bb71e0c54b11a26b8e8d59f2    22\n",
       "b246eeed30b362c09d867b9e598bee51    22\n",
       "50920f8cd0681fd86ebe93670c8fe52e    21\n",
       "fc3d1daec319d62d49bfb5e1f83123e9    21\n",
       "5e0f7317756669ff7b384444dbb81fa3    21\n",
       "bd5d39761aa56689a265d95d8d32b8be    20\n",
       "Name: client_id, dtype: int64"
      ]
     },
     "execution_count": 62,
     "metadata": {},
     "output_type": "execute_result"
    }
   ],
   "source": [
    "df_info_clients['client_id'].value_counts(normalize=False).head(15)"
   ]
  },
  {
   "cell_type": "markdown",
   "metadata": {},
   "source": [
    "### 3.2) Numerical variables"
   ]
  },
  {
   "cell_type": "markdown",
   "metadata": {},
   "source": [
    "In order to make our job easier, I am going to define some functions of statistics and graphs"
   ]
  },
  {
   "cell_type": "code",
   "execution_count": 23,
   "metadata": {},
   "outputs": [],
   "source": [
    "def statistics(df_column):\n",
    "    column_mean = df_column.mean()\n",
    "    column_median = df_column.median()\n",
    "    column_std = df_column.std()\n",
    "    column_min = df_column.min()\n",
    "    column_max = df_column.max()\n",
    "    column_skew = df_column.skew()\n",
    "    column_kutosis = df_column.kurtosis()\n",
    "    \n",
    "    stats = pd.DataFrame([column_mean, column_median, column_std, column_min, column_max, column_skew, column_kutosis]).T\n",
    "    stats.columns = ['mean', 'median', 'std', 'min', 'max', 'skew', 'kurtosis']\n",
    "    \n",
    "    return stats"
   ]
  },
  {
   "cell_type": "code",
   "execution_count": 24,
   "metadata": {},
   "outputs": [],
   "source": [
    "def histogram(df_column):\n",
    "    plt.figure(figsize=(12, 6))\n",
    "    return sns.histplot(df_column)"
   ]
  },
  {
   "cell_type": "markdown",
   "metadata": {},
   "source": [
    "#### 3.1) Order's Price "
   ]
  },
  {
   "cell_type": "code",
   "execution_count": 25,
   "metadata": {},
   "outputs": [
    {
     "data": {
      "text/html": [
       "<div>\n",
       "<style scoped>\n",
       "    .dataframe tbody tr th:only-of-type {\n",
       "        vertical-align: middle;\n",
       "    }\n",
       "\n",
       "    .dataframe tbody tr th {\n",
       "        vertical-align: top;\n",
       "    }\n",
       "\n",
       "    .dataframe thead th {\n",
       "        text-align: right;\n",
       "    }\n",
       "</style>\n",
       "<table border=\"1\" class=\"dataframe\">\n",
       "  <thead>\n",
       "    <tr style=\"text-align: right;\">\n",
       "      <th></th>\n",
       "      <th>mean</th>\n",
       "      <th>median</th>\n",
       "      <th>std</th>\n",
       "      <th>min</th>\n",
       "      <th>max</th>\n",
       "      <th>skew</th>\n",
       "      <th>kurtosis</th>\n",
       "    </tr>\n",
       "  </thead>\n",
       "  <tbody>\n",
       "    <tr>\n",
       "      <th>0</th>\n",
       "      <td>120.749041</td>\n",
       "      <td>74.9</td>\n",
       "      <td>183.86179</td>\n",
       "      <td>0.85</td>\n",
       "      <td>6735.0</td>\n",
       "      <td>7.860769</td>\n",
       "      <td>118.931619</td>\n",
       "    </tr>\n",
       "  </tbody>\n",
       "</table>\n",
       "</div>"
      ],
      "text/plain": [
       "         mean  median        std   min     max      skew    kurtosis\n",
       "0  120.749041    74.9  183.86179  0.85  6735.0  7.860769  118.931619"
      ]
     },
     "execution_count": 25,
     "metadata": {},
     "output_type": "execute_result"
    }
   ],
   "source": [
    "statistics(df_info_clients['order_price'])"
   ]
  },
  {
   "cell_type": "code",
   "execution_count": 26,
   "metadata": {},
   "outputs": [
    {
     "data": {
      "text/plain": [
       "<Axes: ylabel='Count'>"
      ]
     },
     "execution_count": 26,
     "metadata": {},
     "output_type": "execute_result"
    },
    {
     "data": {
      "image/png": "[encoded data removed]",
      "text/plain": [
       "<Figure size 1200x600 with 1 Axes>"
      ]
     },
     "metadata": {},
     "output_type": "display_data"
    }
   ],
   "source": [
    "histogram(df_info_clients[df_info_clients['order_price']<500][['order_price']])"
   ]
  },
  {
   "cell_type": "markdown",
   "metadata": {},
   "source": [
    "#### 3.2)Delivery Price"
   ]
  },
  {
   "cell_type": "code",
   "execution_count": 27,
   "metadata": {},
   "outputs": [
    {
     "data": {
      "text/html": [
       "<div>\n",
       "<style scoped>\n",
       "    .dataframe tbody tr th:only-of-type {\n",
       "        vertical-align: middle;\n",
       "    }\n",
       "\n",
       "    .dataframe tbody tr th {\n",
       "        vertical-align: top;\n",
       "    }\n",
       "\n",
       "    .dataframe thead th {\n",
       "        text-align: right;\n",
       "    }\n",
       "</style>\n",
       "<table border=\"1\" class=\"dataframe\">\n",
       "  <thead>\n",
       "    <tr style=\"text-align: right;\">\n",
       "      <th></th>\n",
       "      <th>mean</th>\n",
       "      <th>median</th>\n",
       "      <th>std</th>\n",
       "      <th>min</th>\n",
       "      <th>max</th>\n",
       "      <th>skew</th>\n",
       "      <th>kurtosis</th>\n",
       "    </tr>\n",
       "  </thead>\n",
       "  <tbody>\n",
       "    <tr>\n",
       "      <th>0</th>\n",
       "      <td>20.062962</td>\n",
       "      <td>16.32</td>\n",
       "      <td>15.846783</td>\n",
       "      <td>0.0</td>\n",
       "      <td>409.68</td>\n",
       "      <td>5.550551</td>\n",
       "      <td>57.94742</td>\n",
       "    </tr>\n",
       "  </tbody>\n",
       "</table>\n",
       "</div>"
      ],
      "text/plain": [
       "        mean  median        std  min     max      skew  kurtosis\n",
       "0  20.062962   16.32  15.846783  0.0  409.68  5.550551  57.94742"
      ]
     },
     "execution_count": 27,
     "metadata": {},
     "output_type": "execute_result"
    }
   ],
   "source": [
    "statistics(df_info_clients['delivery_price'])"
   ]
  },
  {
   "cell_type": "code",
   "execution_count": 28,
   "metadata": {},
   "outputs": [
    {
     "data": {
      "text/plain": [
       "<Axes: ylabel='Count'>"
      ]
     },
     "execution_count": 28,
     "metadata": {},
     "output_type": "execute_result"
    },
    {
     "data": {
      "image/png": "[encoded data removed]",
      "text/plain": [
       "<Figure size 1200x600 with 1 Axes>"
      ]
     },
     "metadata": {},
     "output_type": "display_data"
    }
   ],
   "source": [
    "histogram(df_info_clients[df_info_clients['delivery_price']<60][['delivery_price']])"
   ]
  },
  {
   "cell_type": "markdown",
   "metadata": {},
   "source": [
    "#### 3.3)Total Price "
   ]
  },
  {
   "cell_type": "code",
   "execution_count": 29,
   "metadata": {},
   "outputs": [
    {
     "data": {
      "text/html": [
       "<div>\n",
       "<style scoped>\n",
       "    .dataframe tbody tr th:only-of-type {\n",
       "        vertical-align: middle;\n",
       "    }\n",
       "\n",
       "    .dataframe tbody tr th {\n",
       "        vertical-align: top;\n",
       "    }\n",
       "\n",
       "    .dataframe thead th {\n",
       "        text-align: right;\n",
       "    }\n",
       "</style>\n",
       "<table border=\"1\" class=\"dataframe\">\n",
       "  <thead>\n",
       "    <tr style=\"text-align: right;\">\n",
       "      <th></th>\n",
       "      <th>mean</th>\n",
       "      <th>median</th>\n",
       "      <th>std</th>\n",
       "      <th>min</th>\n",
       "      <th>max</th>\n",
       "      <th>skew</th>\n",
       "      <th>kurtosis</th>\n",
       "    </tr>\n",
       "  </thead>\n",
       "  <tbody>\n",
       "    <tr>\n",
       "      <th>0</th>\n",
       "      <td>172.913586</td>\n",
       "      <td>108.185</td>\n",
       "      <td>267.645592</td>\n",
       "      <td>0.0</td>\n",
       "      <td>13664.08</td>\n",
       "      <td>14.142156</td>\n",
       "      <td>511.025141</td>\n",
       "    </tr>\n",
       "  </tbody>\n",
       "</table>\n",
       "</div>"
      ],
      "text/plain": [
       "         mean   median         std  min       max       skew    kurtosis\n",
       "0  172.913586  108.185  267.645592  0.0  13664.08  14.142156  511.025141"
      ]
     },
     "execution_count": 29,
     "metadata": {},
     "output_type": "execute_result"
    }
   ],
   "source": [
    "statistics(df_info_clients['total_price'])"
   ]
  },
  {
   "cell_type": "code",
   "execution_count": 30,
   "metadata": {},
   "outputs": [
    {
     "data": {
      "text/plain": [
       "<Axes: ylabel='Count'>"
      ]
     },
     "execution_count": 30,
     "metadata": {},
     "output_type": "execute_result"
    },
    {
     "data": {
      "image/png": "[encoded data removed]",
      "text/plain": [
       "<Figure size 1200x600 with 1 Axes>"
      ]
     },
     "metadata": {},
     "output_type": "display_data"
    }
   ],
   "source": [
    "histogram(df_info_clients[df_info_clients['total_price']<1000][['total_price']])"
   ]
  },
  {
   "cell_type": "markdown",
   "metadata": {},
   "source": [
    "#### 3.4) Review"
   ]
  },
  {
   "cell_type": "code",
   "execution_count": 31,
   "metadata": {},
   "outputs": [
    {
     "data": {
      "text/html": [
       "<div>\n",
       "<style scoped>\n",
       "    .dataframe tbody tr th:only-of-type {\n",
       "        vertical-align: middle;\n",
       "    }\n",
       "\n",
       "    .dataframe tbody tr th {\n",
       "        vertical-align: top;\n",
       "    }\n",
       "\n",
       "    .dataframe thead th {\n",
       "        text-align: right;\n",
       "    }\n",
       "</style>\n",
       "<table border=\"1\" class=\"dataframe\">\n",
       "  <thead>\n",
       "    <tr style=\"text-align: right;\">\n",
       "      <th></th>\n",
       "      <th>mean</th>\n",
       "      <th>median</th>\n",
       "      <th>std</th>\n",
       "      <th>min</th>\n",
       "      <th>max</th>\n",
       "      <th>skew</th>\n",
       "      <th>kurtosis</th>\n",
       "    </tr>\n",
       "  </thead>\n",
       "  <tbody>\n",
       "    <tr>\n",
       "      <th>0</th>\n",
       "      <td>4.017433</td>\n",
       "      <td>5.0</td>\n",
       "      <td>1.397936</td>\n",
       "      <td>1.0</td>\n",
       "      <td>5.0</td>\n",
       "      <td>-1.247712</td>\n",
       "      <td>0.128458</td>\n",
       "    </tr>\n",
       "  </tbody>\n",
       "</table>\n",
       "</div>"
      ],
      "text/plain": [
       "       mean  median       std  min  max      skew  kurtosis\n",
       "0  4.017433     5.0  1.397936  1.0  5.0 -1.247712  0.128458"
      ]
     },
     "execution_count": 31,
     "metadata": {},
     "output_type": "execute_result"
    }
   ],
   "source": [
    "statistics(df_info_clients['review'])"
   ]
  },
  {
   "cell_type": "code",
   "execution_count": 32,
   "metadata": {},
   "outputs": [
    {
     "name": "stdout",
     "output_type": "stream",
     "text": [
      "Count of the star rating reviews\n"
     ]
    },
    {
     "data": {
      "text/plain": [
       "5    65464\n",
       "4    22012\n",
       "1    15109\n",
       "3     9841\n",
       "2     4132\n",
       "Name: review, dtype: int64"
      ]
     },
     "execution_count": 32,
     "metadata": {},
     "output_type": "execute_result"
    }
   ],
   "source": [
    "print(\"Count of the star rating reviews\")\n",
    "df_info_clients['review'].value_counts(normalize=False)"
   ]
  },
  {
   "cell_type": "code",
   "execution_count": 33,
   "metadata": {},
   "outputs": [
    {
     "name": "stdout",
     "output_type": "stream",
     "text": [
      "Percentage of the star rating reviews\n"
     ]
    },
    {
     "data": {
      "text/plain": [
       "5    0.561643\n",
       "4    0.188850\n",
       "1    0.129626\n",
       "3    0.084430\n",
       "2    0.035450\n",
       "Name: review, dtype: float64"
      ]
     },
     "execution_count": 33,
     "metadata": {},
     "output_type": "execute_result"
    }
   ],
   "source": [
    "print(\"Percentage of the star rating reviews\")\n",
    "df_info_clients['review'].value_counts(normalize=True)"
   ]
  },
  {
   "cell_type": "code",
   "execution_count": 34,
   "metadata": {},
   "outputs": [
    {
     "data": {
      "text/plain": [
       "<Axes: xlabel='review', ylabel='Count'>"
      ]
     },
     "execution_count": 34,
     "metadata": {},
     "output_type": "execute_result"
    },
    {
     "data": {
      "image/png": "[encoded data removed]",
      "text/plain": [
       "<Figure size 1200x600 with 1 Axes>"
      ]
     },
     "metadata": {},
     "output_type": "display_data"
    }
   ],
   "source": [
    "histogram(df_info_clients['review'])"
   ]
  },
  {
   "cell_type": "code",
   "execution_count": 35,
   "metadata": {},
   "outputs": [
    {
     "name": "stdout",
     "output_type": "stream",
     "text": [
      "116558 clients rated the order and 116558 clients made an order in this period, that, 100% of the clients rated the order\n"
     ]
    }
   ],
   "source": [
    "print(str(df_info_clients['review'].value_counts(normalize=False).sum()) +' clients rated the order and ' + str(df_info_clients['id'].count()) + ' clients made an order in this period, that, 100% of the clients rated the order')"
   ]
  },
  {
   "attachments": {},
   "cell_type": "markdown",
   "metadata": {},
   "source": [
    "#### 3.5) Parcels Pay"
   ]
  },
  {
   "cell_type": "code",
   "execution_count": 36,
   "metadata": {},
   "outputs": [
    {
     "data": {
      "text/plain": [
       "1     58012\n",
       "2     13515\n",
       "3     11651\n",
       "4      7924\n",
       "10     6867\n",
       "5      5982\n",
       "8      5055\n",
       "6      4587\n",
       "7      1804\n",
       "9       724\n",
       "12      166\n",
       "15       93\n",
       "18       38\n",
       "24       34\n",
       "11       25\n",
       "20       21\n",
       "13       19\n",
       "14       16\n",
       "17        7\n",
       "16        7\n",
       "21        6\n",
       "0         3\n",
       "23        1\n",
       "22        1\n",
       "Name: divided_pay, dtype: int64"
      ]
     },
     "execution_count": 36,
     "metadata": {},
     "output_type": "execute_result"
    }
   ],
   "source": [
    "df_info_clients['divided_pay'].value_counts(normalize=False)"
   ]
  },
  {
   "attachments": {},
   "cell_type": "markdown",
   "metadata": {},
   "source": [
    "# 4. Hypothesis "
   ]
  },
  {
   "attachments": {},
   "cell_type": "markdown",
   "metadata": {},
   "source": [
    "#### 4.1) Creating Hypothesis\n",
    "\n",
    "#### Which group of customers should we send each marketing campaign?\n",
    "\n",
    "- Clients living in southeast of Brazil are more likely to buy more products.\n",
    "\n",
    "\n",
    "#### How to define which products should appear as a suggestion for each type of customer?\n",
    "\n",
    "- The correlation between category and the client's city\n",
    "\n",
    "- The correlation between category and the client's state\n",
    "\n",
    "\n",
    "#### How can we increase the sales conversion?\n",
    "\n",
    "- Sales that were delivered quicker has a better rating review\n",
    "\n",
    "- Sales with lower delivery prices has a better rating review\n",
    "\n",
    "- Sales with no develivery expenses are more likely to be bought\n",
    "\n",
    "- Sales that were delivered after the estimated date has a lower rating\n",
    "\n",
    "- Bed, bath, table, heath and beauty are more likely to be bought \n",
    "\n",
    "- The clients are more likely to buy near holidays such as christmas"
   ]
  },
  {
   "attachments": {},
   "cell_type": "markdown",
   "metadata": {},
   "source": [
    "# 5) Bivariate Analysis"
   ]
  },
  {
   "attachments": {},
   "cell_type": "markdown",
   "metadata": {},
   "source": [
    "#### 5.1) Define statistical functions"
   ]
  },
  {
   "cell_type": "code",
   "execution_count": 37,
   "metadata": {},
   "outputs": [],
   "source": [
    "def statistics_bi (col1, col2, df):\n",
    "    x_mean = df[[col1, col2]].groupby([col1]).mean().reset_index().sort_values(by = [col1])\n",
    "    x_count = df[[col1, col2]].groupby([col1]).count().reset_index().sort_values(by = [col1]).iloc[:,1]\n",
    "    x_median = df[[col1, col2]].groupby([col1]).median().reset_index().sort_values(by = [col1]).iloc[:,1]\n",
    "    x_std = df[[col1, col2]].groupby([col1]).std().reset_index().sort_values(by = [col1]).iloc[:,1]\n",
    "    x_min = df[[col1, col2]].groupby([col1]).min().reset_index().sort_values(by = [col1]).iloc[:,1]\n",
    "    x_max = df[[col1, col2]].groupby([col1]).max().reset_index().sort_values(by = [col1]).iloc[:,1]\n",
    "    x_skew = df[[col1, col2]].groupby([col1]).skew().reset_index().sort_values(by = [col1]).iloc[:,1]\n",
    "    x_sum = df[[col1, col2]].groupby([col1]).sum().reset_index().sort_values(by = [col1]).iloc[:,1]\n",
    "    \n",
    "    x_stats = pd.concat( [x_mean, x_median, x_std, x_min, x_max, x_skew, x_sum, x_count], axis = 1)\n",
    "    x_stats.columns = [col1,'mean', 'median', 'std', 'min', 'max', 'skew', 'sum', 'count']\n",
    "    return x_stats\n",
    "    "
   ]
  },
  {
   "attachments": {},
   "cell_type": "markdown",
   "metadata": {},
   "source": [
    "#### 5.2) State X Price\n",
    "The correlation between the order's price and the geographic state"
   ]
  },
  {
   "cell_type": "code",
   "execution_count": 38,
   "metadata": {},
   "outputs": [
    {
     "name": "stdout",
     "output_type": "stream",
     "text": [
      "The Southeast correspond to 0.65% of the total sales\n"
     ]
    }
   ],
   "source": [
    "print(\"The Southeast correspond to \" +\n",
    "      str(round((df_info_clients['order_price'][ (df_info_clients['client_state']=='SP') | (df_info_clients['client_state']=='MG') | \n",
    "                              (df_info_clients['client_state']=='RJ') | (df_info_clients['client_state']=='ES')].sum())/df_info_clients['order_price'].sum(),2))+\n",
    "                              \"% of the total sales\")"
   ]
  },
  {
   "cell_type": "code",
   "execution_count": 39,
   "metadata": {
    "scrolled": false
   },
   "outputs": [
    {
     "name": "stdout",
     "output_type": "stream",
     "text": [
      "States with higher revenue: \n"
     ]
    },
    {
     "data": {
      "text/html": [
       "<div>\n",
       "<style scoped>\n",
       "    .dataframe tbody tr th:only-of-type {\n",
       "        vertical-align: middle;\n",
       "    }\n",
       "\n",
       "    .dataframe tbody tr th {\n",
       "        vertical-align: top;\n",
       "    }\n",
       "\n",
       "    .dataframe thead th {\n",
       "        text-align: right;\n",
       "    }\n",
       "</style>\n",
       "<table border=\"1\" class=\"dataframe\">\n",
       "  <thead>\n",
       "    <tr style=\"text-align: right;\">\n",
       "      <th></th>\n",
       "      <th>client_state</th>\n",
       "      <th>mean</th>\n",
       "      <th>median</th>\n",
       "      <th>std</th>\n",
       "      <th>min</th>\n",
       "      <th>max</th>\n",
       "      <th>skew</th>\n",
       "      <th>sum</th>\n",
       "      <th>count</th>\n",
       "    </tr>\n",
       "  </thead>\n",
       "  <tbody>\n",
       "    <tr>\n",
       "      <th>25</th>\n",
       "      <td>SP</td>\n",
       "      <td>109.935826</td>\n",
       "      <td>69.9</td>\n",
       "      <td>164.794615</td>\n",
       "      <td>0.85</td>\n",
       "      <td>6499.00</td>\n",
       "      <td>8.372039</td>\n",
       "      <td>5400157.72</td>\n",
       "      <td>49121</td>\n",
       "    </tr>\n",
       "    <tr>\n",
       "      <th>18</th>\n",
       "      <td>RJ</td>\n",
       "      <td>124.920677</td>\n",
       "      <td>79.9</td>\n",
       "      <td>187.845505</td>\n",
       "      <td>0.85</td>\n",
       "      <td>4799.00</td>\n",
       "      <td>7.160773</td>\n",
       "      <td>1896545.72</td>\n",
       "      <td>15182</td>\n",
       "    </tr>\n",
       "    <tr>\n",
       "      <th>10</th>\n",
       "      <td>MG</td>\n",
       "      <td>120.190454</td>\n",
       "      <td>75.9</td>\n",
       "      <td>178.714278</td>\n",
       "      <td>3.85</td>\n",
       "      <td>4099.99</td>\n",
       "      <td>7.519731</td>\n",
       "      <td>1625816.27</td>\n",
       "      <td>13527</td>\n",
       "    </tr>\n",
       "    <tr>\n",
       "      <th>22</th>\n",
       "      <td>RS</td>\n",
       "      <td>121.477110</td>\n",
       "      <td>75.0</td>\n",
       "      <td>178.521694</td>\n",
       "      <td>3.06</td>\n",
       "      <td>3124.00</td>\n",
       "      <td>6.480374</td>\n",
       "      <td>781462.25</td>\n",
       "      <td>6433</td>\n",
       "    </tr>\n",
       "    <tr>\n",
       "      <th>17</th>\n",
       "      <td>PR</td>\n",
       "      <td>118.520140</td>\n",
       "      <td>72.5</td>\n",
       "      <td>178.304732</td>\n",
       "      <td>2.90</td>\n",
       "      <td>2999.99</td>\n",
       "      <td>6.774623</td>\n",
       "      <td>700216.99</td>\n",
       "      <td>5908</td>\n",
       "    </tr>\n",
       "  </tbody>\n",
       "</table>\n",
       "</div>"
      ],
      "text/plain": [
       "   client_state        mean  median         std   min      max      skew  \\\n",
       "25           SP  109.935826    69.9  164.794615  0.85  6499.00  8.372039   \n",
       "18           RJ  124.920677    79.9  187.845505  0.85  4799.00  7.160773   \n",
       "10           MG  120.190454    75.9  178.714278  3.85  4099.99  7.519731   \n",
       "22           RS  121.477110    75.0  178.521694  3.06  3124.00  6.480374   \n",
       "17           PR  118.520140    72.5  178.304732  2.90  2999.99  6.774623   \n",
       "\n",
       "           sum  count  \n",
       "25  5400157.72  49121  \n",
       "18  1896545.72  15182  \n",
       "10  1625816.27  13527  \n",
       "22   781462.25   6433  \n",
       "17   700216.99   5908  "
      ]
     },
     "execution_count": 39,
     "metadata": {},
     "output_type": "execute_result"
    }
   ],
   "source": [
    "print(\"States with higher revenue: \")\n",
    "statistics_bi ('client_state', 'order_price', df_info_clients).sort_values(by = ['sum'], ascending=False).head(5)"
   ]
  },
  {
   "cell_type": "code",
   "execution_count": 40,
   "metadata": {},
   "outputs": [
    {
     "name": "stdout",
     "output_type": "stream",
     "text": [
      "States that but more expensive products: \n"
     ]
    },
    {
     "data": {
      "text/html": [
       "<div>\n",
       "<style scoped>\n",
       "    .dataframe tbody tr th:only-of-type {\n",
       "        vertical-align: middle;\n",
       "    }\n",
       "\n",
       "    .dataframe tbody tr th {\n",
       "        vertical-align: top;\n",
       "    }\n",
       "\n",
       "    .dataframe thead th {\n",
       "        text-align: right;\n",
       "    }\n",
       "</style>\n",
       "<table border=\"1\" class=\"dataframe\">\n",
       "  <thead>\n",
       "    <tr style=\"text-align: right;\">\n",
       "      <th></th>\n",
       "      <th>client_state</th>\n",
       "      <th>mean</th>\n",
       "      <th>median</th>\n",
       "      <th>std</th>\n",
       "      <th>min</th>\n",
       "      <th>max</th>\n",
       "      <th>skew</th>\n",
       "      <th>sum</th>\n",
       "      <th>count</th>\n",
       "    </tr>\n",
       "  </thead>\n",
       "  <tbody>\n",
       "    <tr>\n",
       "      <th>14</th>\n",
       "      <td>PB</td>\n",
       "      <td>192.103016</td>\n",
       "      <td>99.97</td>\n",
       "      <td>330.928220</td>\n",
       "      <td>4.9</td>\n",
       "      <td>4590.00</td>\n",
       "      <td>6.734694</td>\n",
       "      <td>121024.90</td>\n",
       "      <td>630</td>\n",
       "    </tr>\n",
       "    <tr>\n",
       "      <th>0</th>\n",
       "      <td>AC</td>\n",
       "      <td>182.715484</td>\n",
       "      <td>99.99</td>\n",
       "      <td>221.334038</td>\n",
       "      <td>12.9</td>\n",
       "      <td>1200.00</td>\n",
       "      <td>2.674972</td>\n",
       "      <td>16992.54</td>\n",
       "      <td>93</td>\n",
       "    </tr>\n",
       "    <tr>\n",
       "      <th>1</th>\n",
       "      <td>AL</td>\n",
       "      <td>180.653581</td>\n",
       "      <td>99.99</td>\n",
       "      <td>243.664548</td>\n",
       "      <td>9.0</td>\n",
       "      <td>1798.00</td>\n",
       "      <td>3.281845</td>\n",
       "      <td>82739.34</td>\n",
       "      <td>458</td>\n",
       "    </tr>\n",
       "    <tr>\n",
       "      <th>26</th>\n",
       "      <td>TO</td>\n",
       "      <td>166.885988</td>\n",
       "      <td>89.99</td>\n",
       "      <td>249.973399</td>\n",
       "      <td>8.5</td>\n",
       "      <td>2649.99</td>\n",
       "      <td>5.248355</td>\n",
       "      <td>55739.92</td>\n",
       "      <td>334</td>\n",
       "    </tr>\n",
       "    <tr>\n",
       "      <th>19</th>\n",
       "      <td>RN</td>\n",
       "      <td>166.423575</td>\n",
       "      <td>97.00</td>\n",
       "      <td>234.757908</td>\n",
       "      <td>10.0</td>\n",
       "      <td>1788.00</td>\n",
       "      <td>3.496541</td>\n",
       "      <td>94029.32</td>\n",
       "      <td>565</td>\n",
       "    </tr>\n",
       "  </tbody>\n",
       "</table>\n",
       "</div>"
      ],
      "text/plain": [
       "   client_state        mean  median         std   min      max      skew  \\\n",
       "14           PB  192.103016   99.97  330.928220   4.9  4590.00  6.734694   \n",
       "0            AC  182.715484   99.99  221.334038  12.9  1200.00  2.674972   \n",
       "1            AL  180.653581   99.99  243.664548   9.0  1798.00  3.281845   \n",
       "26           TO  166.885988   89.99  249.973399   8.5  2649.99  5.248355   \n",
       "19           RN  166.423575   97.00  234.757908  10.0  1788.00  3.496541   \n",
       "\n",
       "          sum  count  \n",
       "14  121024.90    630  \n",
       "0    16992.54     93  \n",
       "1    82739.34    458  \n",
       "26   55739.92    334  \n",
       "19   94029.32    565  "
      ]
     },
     "execution_count": 40,
     "metadata": {},
     "output_type": "execute_result"
    }
   ],
   "source": [
    "print(\"States that but more expensive products: \")\n",
    "statistics_bi ('client_state', 'order_price', df_info_clients).sort_values(by = ['mean'], ascending=False).head(5)"
   ]
  },
  {
   "cell_type": "code",
   "execution_count": 41,
   "metadata": {},
   "outputs": [
    {
     "data": {
      "text/plain": [
       "<Figure size 1200x600 with 0 Axes>"
      ]
     },
     "execution_count": 41,
     "metadata": {},
     "output_type": "execute_result"
    },
    {
     "data": {
      "image/png": "[encoded data removed]",
      "text/plain": [
       "<Figure size 640x480 with 1 Axes>"
      ]
     },
     "metadata": {},
     "output_type": "display_data"
    },
    {
     "data": {
      "text/plain": [
       "<Figure size 1200x600 with 0 Axes>"
      ]
     },
     "metadata": {},
     "output_type": "display_data"
    }
   ],
   "source": [
    "sns.histplot(df_info_clients[df_info_clients['client_state']=='SP'])\n",
    "plt.figure(figsize=(12, 6))"
   ]
  },
  {
   "attachments": {},
   "cell_type": "markdown",
   "metadata": {},
   "source": [
    "#### 5.3) City Capital X Price"
   ]
  },
  {
   "cell_type": "code",
   "execution_count": 42,
   "metadata": {},
   "outputs": [
    {
     "data": {
      "text/html": [
       "<div>\n",
       "<style scoped>\n",
       "    .dataframe tbody tr th:only-of-type {\n",
       "        vertical-align: middle;\n",
       "    }\n",
       "\n",
       "    .dataframe tbody tr th {\n",
       "        vertical-align: top;\n",
       "    }\n",
       "\n",
       "    .dataframe thead th {\n",
       "        text-align: right;\n",
       "    }\n",
       "</style>\n",
       "<table border=\"1\" class=\"dataframe\">\n",
       "  <thead>\n",
       "    <tr style=\"text-align: right;\">\n",
       "      <th></th>\n",
       "      <th>Capitais</th>\n",
       "      <th>Estados</th>\n",
       "      <th>Siglas dos estados</th>\n",
       "      <th>Regiões</th>\n",
       "    </tr>\n",
       "  </thead>\n",
       "  <tbody>\n",
       "    <tr>\n",
       "      <th>0</th>\n",
       "      <td>aracaju</td>\n",
       "      <td>Sergipe</td>\n",
       "      <td>SE</td>\n",
       "      <td>Nordeste</td>\n",
       "    </tr>\n",
       "    <tr>\n",
       "      <th>1</th>\n",
       "      <td>belem</td>\n",
       "      <td>Pará</td>\n",
       "      <td>PA</td>\n",
       "      <td>Norte</td>\n",
       "    </tr>\n",
       "    <tr>\n",
       "      <th>2</th>\n",
       "      <td>belo horizonte</td>\n",
       "      <td>Minas Gerais</td>\n",
       "      <td>MG</td>\n",
       "      <td>Sudeste</td>\n",
       "    </tr>\n",
       "    <tr>\n",
       "      <th>3</th>\n",
       "      <td>boa vista</td>\n",
       "      <td>Roraima</td>\n",
       "      <td>RR</td>\n",
       "      <td>Norte</td>\n",
       "    </tr>\n",
       "    <tr>\n",
       "      <th>4</th>\n",
       "      <td>braslia</td>\n",
       "      <td>Distrito Federal</td>\n",
       "      <td>DF</td>\n",
       "      <td>Centro-Oeste</td>\n",
       "    </tr>\n",
       "  </tbody>\n",
       "</table>\n",
       "</div>"
      ],
      "text/plain": [
       "         Capitais           Estados Siglas dos estados       Regiões\n",
       "0         aracaju           Sergipe                 SE      Nordeste\n",
       "1           belem              Pará                 PA         Norte\n",
       "2  belo horizonte      Minas Gerais                 MG       Sudeste\n",
       "3       boa vista           Roraima                 RR         Norte\n",
       "4         braslia  Distrito Federal                 DF  Centro-Oeste"
      ]
     },
     "execution_count": 42,
     "metadata": {},
     "output_type": "execute_result"
    }
   ],
   "source": [
    "df_capitals = pd.read_csv('data/capital.csv')\n",
    "df_capitals.head()"
   ]
  },
  {
   "cell_type": "code",
   "execution_count": 43,
   "metadata": {},
   "outputs": [],
   "source": [
    "df_only_capitals = df_info_clients.loc[df_info_clients['client_city'].isin(df_capitals['Capitais'])].reset_index(drop=True)"
   ]
  },
  {
   "cell_type": "code",
   "execution_count": 44,
   "metadata": {},
   "outputs": [
    {
     "name": "stdout",
     "output_type": "stream",
     "text": [
      "The capitals represent 35.8% of the total orders\n",
      "The capitals represent 36.0% of the total spent \n"
     ]
    }
   ],
   "source": [
    "print('The capitals represent ' + \n",
    "      str(round(df_only_capitals['id'].count()/df_info_clients['id'].count(),4)*100) + \n",
    "      '% of the total orders')\n",
    "\n",
    "print('The capitals represent ' + \n",
    "      str(round(df_only_capitals['order_price'].sum()/df_info_clients['order_price'].sum(),2)*100) + \n",
    "      '% of the total spent ')"
   ]
  },
  {
   "cell_type": "code",
   "execution_count": 45,
   "metadata": {},
   "outputs": [
    {
     "name": "stdout",
     "output_type": "stream",
     "text": [
      "Capitals with the higher revenue\n"
     ]
    },
    {
     "data": {
      "text/html": [
       "<div>\n",
       "<style scoped>\n",
       "    .dataframe tbody tr th:only-of-type {\n",
       "        vertical-align: middle;\n",
       "    }\n",
       "\n",
       "    .dataframe tbody tr th {\n",
       "        vertical-align: top;\n",
       "    }\n",
       "\n",
       "    .dataframe thead th {\n",
       "        text-align: right;\n",
       "    }\n",
       "</style>\n",
       "<table border=\"1\" class=\"dataframe\">\n",
       "  <thead>\n",
       "    <tr style=\"text-align: right;\">\n",
       "      <th></th>\n",
       "      <th>client_city</th>\n",
       "      <th>mean</th>\n",
       "      <th>median</th>\n",
       "      <th>std</th>\n",
       "      <th>min</th>\n",
       "      <th>max</th>\n",
       "      <th>skew</th>\n",
       "      <th>sum</th>\n",
       "      <th>count</th>\n",
       "    </tr>\n",
       "  </thead>\n",
       "  <tbody>\n",
       "    <tr>\n",
       "      <th>23</th>\n",
       "      <td>sao paulo</td>\n",
       "      <td>108.135525</td>\n",
       "      <td>67.90</td>\n",
       "      <td>163.812849</td>\n",
       "      <td>1.20</td>\n",
       "      <td>4399.87</td>\n",
       "      <td>7.493866</td>\n",
       "      <td>1990883.15</td>\n",
       "      <td>18411</td>\n",
       "    </tr>\n",
       "    <tr>\n",
       "      <th>20</th>\n",
       "      <td>rio de janeiro</td>\n",
       "      <td>126.106060</td>\n",
       "      <td>79.90</td>\n",
       "      <td>192.616447</td>\n",
       "      <td>5.30</td>\n",
       "      <td>3930.00</td>\n",
       "      <td>6.623424</td>\n",
       "      <td>1024107.31</td>\n",
       "      <td>8121</td>\n",
       "    </tr>\n",
       "    <tr>\n",
       "      <th>2</th>\n",
       "      <td>belo horizonte</td>\n",
       "      <td>112.906541</td>\n",
       "      <td>69.99</td>\n",
       "      <td>162.660013</td>\n",
       "      <td>4.90</td>\n",
       "      <td>3099.00</td>\n",
       "      <td>6.689155</td>\n",
       "      <td>363333.25</td>\n",
       "      <td>3218</td>\n",
       "    </tr>\n",
       "    <tr>\n",
       "      <th>6</th>\n",
       "      <td>curitiba</td>\n",
       "      <td>120.752991</td>\n",
       "      <td>69.90</td>\n",
       "      <td>191.152565</td>\n",
       "      <td>2.90</td>\n",
       "      <td>2999.99</td>\n",
       "      <td>6.777059</td>\n",
       "      <td>217234.63</td>\n",
       "      <td>1799</td>\n",
       "    </tr>\n",
       "    <tr>\n",
       "      <th>16</th>\n",
       "      <td>porto alegre</td>\n",
       "      <td>118.245518</td>\n",
       "      <td>79.00</td>\n",
       "      <td>144.303608</td>\n",
       "      <td>5.99</td>\n",
       "      <td>1934.00</td>\n",
       "      <td>5.283671</td>\n",
       "      <td>193922.65</td>\n",
       "      <td>1640</td>\n",
       "    </tr>\n",
       "    <tr>\n",
       "      <th>21</th>\n",
       "      <td>salvador</td>\n",
       "      <td>128.918451</td>\n",
       "      <td>79.90</td>\n",
       "      <td>179.904010</td>\n",
       "      <td>5.20</td>\n",
       "      <td>2951.00</td>\n",
       "      <td>6.027207</td>\n",
       "      <td>193119.84</td>\n",
       "      <td>1498</td>\n",
       "    </tr>\n",
       "    <tr>\n",
       "      <th>9</th>\n",
       "      <td>goiania</td>\n",
       "      <td>132.189800</td>\n",
       "      <td>79.90</td>\n",
       "      <td>192.714680</td>\n",
       "      <td>6.25</td>\n",
       "      <td>2299.95</td>\n",
       "      <td>5.410136</td>\n",
       "      <td>112625.71</td>\n",
       "      <td>852</td>\n",
       "    </tr>\n",
       "    <tr>\n",
       "      <th>8</th>\n",
       "      <td>fortaleza</td>\n",
       "      <td>137.248699</td>\n",
       "      <td>79.99</td>\n",
       "      <td>184.134333</td>\n",
       "      <td>7.80</td>\n",
       "      <td>1890.00</td>\n",
       "      <td>4.811982</td>\n",
       "      <td>103348.27</td>\n",
       "      <td>753</td>\n",
       "    </tr>\n",
       "    <tr>\n",
       "      <th>18</th>\n",
       "      <td>recife</td>\n",
       "      <td>131.218169</td>\n",
       "      <td>79.90</td>\n",
       "      <td>206.247039</td>\n",
       "      <td>6.99</td>\n",
       "      <td>3700.00</td>\n",
       "      <td>9.169411</td>\n",
       "      <td>91721.50</td>\n",
       "      <td>699</td>\n",
       "    </tr>\n",
       "    <tr>\n",
       "      <th>7</th>\n",
       "      <td>florianopolis</td>\n",
       "      <td>130.192783</td>\n",
       "      <td>71.00</td>\n",
       "      <td>222.748952</td>\n",
       "      <td>5.99</td>\n",
       "      <td>3109.99</td>\n",
       "      <td>7.202499</td>\n",
       "      <td>87489.55</td>\n",
       "      <td>672</td>\n",
       "    </tr>\n",
       "  </tbody>\n",
       "</table>\n",
       "</div>"
      ],
      "text/plain": [
       "       client_city        mean  median         std   min      max      skew  \\\n",
       "23       sao paulo  108.135525   67.90  163.812849  1.20  4399.87  7.493866   \n",
       "20  rio de janeiro  126.106060   79.90  192.616447  5.30  3930.00  6.623424   \n",
       "2   belo horizonte  112.906541   69.99  162.660013  4.90  3099.00  6.689155   \n",
       "6         curitiba  120.752991   69.90  191.152565  2.90  2999.99  6.777059   \n",
       "16    porto alegre  118.245518   79.00  144.303608  5.99  1934.00  5.283671   \n",
       "21        salvador  128.918451   79.90  179.904010  5.20  2951.00  6.027207   \n",
       "9          goiania  132.189800   79.90  192.714680  6.25  2299.95  5.410136   \n",
       "8        fortaleza  137.248699   79.99  184.134333  7.80  1890.00  4.811982   \n",
       "18          recife  131.218169   79.90  206.247039  6.99  3700.00  9.169411   \n",
       "7    florianopolis  130.192783   71.00  222.748952  5.99  3109.99  7.202499   \n",
       "\n",
       "           sum  count  \n",
       "23  1990883.15  18411  \n",
       "20  1024107.31   8121  \n",
       "2    363333.25   3218  \n",
       "6    217234.63   1799  \n",
       "16   193922.65   1640  \n",
       "21   193119.84   1498  \n",
       "9    112625.71    852  \n",
       "8    103348.27    753  \n",
       "18    91721.50    699  \n",
       "7     87489.55    672  "
      ]
     },
     "execution_count": 45,
     "metadata": {},
     "output_type": "execute_result"
    }
   ],
   "source": [
    "print(\"Capitals with the higher revenue\")\n",
    "statistics_bi('client_city', 'order_price', df_only_capitals).sort_values(by = ['sum'], ascending=False).head(10)"
   ]
  },
  {
   "attachments": {},
   "cell_type": "markdown",
   "metadata": {},
   "source": [
    "#### 5.4) Southeast Cities X Price"
   ]
  },
  {
   "cell_type": "code",
   "execution_count": 46,
   "metadata": {},
   "outputs": [],
   "source": [
    "df_SE = df_info_clients[df_info_clients['client_state'].isin(['SP', 'RJ', 'MG', 'ES'])] "
   ]
  },
  {
   "cell_type": "code",
   "execution_count": 47,
   "metadata": {},
   "outputs": [
    {
     "data": {
      "text/html": [
       "<div>\n",
       "<style scoped>\n",
       "    .dataframe tbody tr th:only-of-type {\n",
       "        vertical-align: middle;\n",
       "    }\n",
       "\n",
       "    .dataframe tbody tr th {\n",
       "        vertical-align: top;\n",
       "    }\n",
       "\n",
       "    .dataframe thead th {\n",
       "        text-align: right;\n",
       "    }\n",
       "</style>\n",
       "<table border=\"1\" class=\"dataframe\">\n",
       "  <thead>\n",
       "    <tr style=\"text-align: right;\">\n",
       "      <th></th>\n",
       "      <th>client_city</th>\n",
       "      <th>mean</th>\n",
       "      <th>median</th>\n",
       "      <th>std</th>\n",
       "      <th>min</th>\n",
       "      <th>max</th>\n",
       "      <th>skew</th>\n",
       "      <th>sum</th>\n",
       "      <th>count</th>\n",
       "    </tr>\n",
       "  </thead>\n",
       "  <tbody>\n",
       "    <tr>\n",
       "      <th>1395</th>\n",
       "      <td>sao paulo</td>\n",
       "      <td>108.135525</td>\n",
       "      <td>67.90</td>\n",
       "      <td>163.812849</td>\n",
       "      <td>1.20</td>\n",
       "      <td>4399.87</td>\n",
       "      <td>7.493866</td>\n",
       "      <td>1990883.15</td>\n",
       "      <td>18411</td>\n",
       "    </tr>\n",
       "    <tr>\n",
       "      <th>1207</th>\n",
       "      <td>rio de janeiro</td>\n",
       "      <td>126.106060</td>\n",
       "      <td>79.90</td>\n",
       "      <td>192.616447</td>\n",
       "      <td>5.30</td>\n",
       "      <td>3930.00</td>\n",
       "      <td>6.623424</td>\n",
       "      <td>1024107.31</td>\n",
       "      <td>8121</td>\n",
       "    </tr>\n",
       "    <tr>\n",
       "      <th>157</th>\n",
       "      <td>belo horizonte</td>\n",
       "      <td>112.906541</td>\n",
       "      <td>69.99</td>\n",
       "      <td>162.660013</td>\n",
       "      <td>4.90</td>\n",
       "      <td>3099.00</td>\n",
       "      <td>6.689155</td>\n",
       "      <td>363333.25</td>\n",
       "      <td>3218</td>\n",
       "    </tr>\n",
       "    <tr>\n",
       "      <th>265</th>\n",
       "      <td>campinas</td>\n",
       "      <td>113.402474</td>\n",
       "      <td>66.99</td>\n",
       "      <td>167.875505</td>\n",
       "      <td>4.90</td>\n",
       "      <td>1999.99</td>\n",
       "      <td>5.540527</td>\n",
       "      <td>195279.06</td>\n",
       "      <td>1722</td>\n",
       "    </tr>\n",
       "    <tr>\n",
       "      <th>573</th>\n",
       "      <td>guarulhos</td>\n",
       "      <td>110.863453</td>\n",
       "      <td>74.90</td>\n",
       "      <td>145.896416</td>\n",
       "      <td>4.99</td>\n",
       "      <td>1999.00</td>\n",
       "      <td>5.810638</td>\n",
       "      <td>153767.61</td>\n",
       "      <td>1387</td>\n",
       "    </tr>\n",
       "  </tbody>\n",
       "</table>\n",
       "</div>"
      ],
      "text/plain": [
       "         client_city        mean  median         std   min      max      skew  \\\n",
       "1395       sao paulo  108.135525   67.90  163.812849  1.20  4399.87  7.493866   \n",
       "1207  rio de janeiro  126.106060   79.90  192.616447  5.30  3930.00  6.623424   \n",
       "157   belo horizonte  112.906541   69.99  162.660013  4.90  3099.00  6.689155   \n",
       "265         campinas  113.402474   66.99  167.875505  4.90  1999.99  5.540527   \n",
       "573        guarulhos  110.863453   74.90  145.896416  4.99  1999.00  5.810638   \n",
       "\n",
       "             sum  count  \n",
       "1395  1990883.15  18411  \n",
       "1207  1024107.31   8121  \n",
       "157    363333.25   3218  \n",
       "265    195279.06   1722  \n",
       "573    153767.61   1387  "
      ]
     },
     "execution_count": 47,
     "metadata": {},
     "output_type": "execute_result"
    }
   ],
   "source": [
    "statistics_bi('client_city', 'order_price', df_SE).sort_values(by = ['count'], ascending=False).head(5)"
   ]
  },
  {
   "cell_type": "code",
   "execution_count": 48,
   "metadata": {},
   "outputs": [
    {
     "data": {
      "text/html": [
       "<div>\n",
       "<style scoped>\n",
       "    .dataframe tbody tr th:only-of-type {\n",
       "        vertical-align: middle;\n",
       "    }\n",
       "\n",
       "    .dataframe tbody tr th {\n",
       "        vertical-align: top;\n",
       "    }\n",
       "\n",
       "    .dataframe thead th {\n",
       "        text-align: right;\n",
       "    }\n",
       "</style>\n",
       "<table border=\"1\" class=\"dataframe\">\n",
       "  <thead>\n",
       "    <tr style=\"text-align: right;\">\n",
       "      <th></th>\n",
       "      <th>client_city</th>\n",
       "      <th>mean</th>\n",
       "      <th>median</th>\n",
       "      <th>std</th>\n",
       "      <th>min</th>\n",
       "      <th>max</th>\n",
       "      <th>skew</th>\n",
       "      <th>sum</th>\n",
       "      <th>count</th>\n",
       "    </tr>\n",
       "  </thead>\n",
       "  <tbody>\n",
       "    <tr>\n",
       "      <th>472</th>\n",
       "      <td>engenheiro navarro</td>\n",
       "      <td>1997.0000</td>\n",
       "      <td>1997.00</td>\n",
       "      <td>NaN</td>\n",
       "      <td>1997.0</td>\n",
       "      <td>1997.00</td>\n",
       "      <td>NaN</td>\n",
       "      <td>1997.00</td>\n",
       "      <td>1</td>\n",
       "    </tr>\n",
       "    <tr>\n",
       "      <th>194</th>\n",
       "      <td>bonfinopolis de minas</td>\n",
       "      <td>1359.9000</td>\n",
       "      <td>1359.90</td>\n",
       "      <td>NaN</td>\n",
       "      <td>1359.9</td>\n",
       "      <td>1359.90</td>\n",
       "      <td>NaN</td>\n",
       "      <td>1359.90</td>\n",
       "      <td>1</td>\n",
       "    </tr>\n",
       "    <tr>\n",
       "      <th>145</th>\n",
       "      <td>barra longa</td>\n",
       "      <td>1300.0000</td>\n",
       "      <td>1300.00</td>\n",
       "      <td>NaN</td>\n",
       "      <td>1300.0</td>\n",
       "      <td>1300.00</td>\n",
       "      <td>NaN</td>\n",
       "      <td>1300.00</td>\n",
       "      <td>1</td>\n",
       "    </tr>\n",
       "    <tr>\n",
       "      <th>135</th>\n",
       "      <td>barao ataliba nogueira</td>\n",
       "      <td>1300.0000</td>\n",
       "      <td>1300.00</td>\n",
       "      <td>NaN</td>\n",
       "      <td>1300.0</td>\n",
       "      <td>1300.00</td>\n",
       "      <td>NaN</td>\n",
       "      <td>1300.00</td>\n",
       "      <td>1</td>\n",
       "    </tr>\n",
       "    <tr>\n",
       "      <th>185</th>\n",
       "      <td>bom jesus do galho</td>\n",
       "      <td>1198.8225</td>\n",
       "      <td>271.65</td>\n",
       "      <td>1935.820586</td>\n",
       "      <td>152.0</td>\n",
       "      <td>4099.99</td>\n",
       "      <td>1.989496</td>\n",
       "      <td>4795.29</td>\n",
       "      <td>4</td>\n",
       "    </tr>\n",
       "  </tbody>\n",
       "</table>\n",
       "</div>"
      ],
      "text/plain": [
       "                client_city       mean   median          std     min      max  \\\n",
       "472      engenheiro navarro  1997.0000  1997.00          NaN  1997.0  1997.00   \n",
       "194   bonfinopolis de minas  1359.9000  1359.90          NaN  1359.9  1359.90   \n",
       "145             barra longa  1300.0000  1300.00          NaN  1300.0  1300.00   \n",
       "135  barao ataliba nogueira  1300.0000  1300.00          NaN  1300.0  1300.00   \n",
       "185      bom jesus do galho  1198.8225   271.65  1935.820586   152.0  4099.99   \n",
       "\n",
       "         skew      sum  count  \n",
       "472       NaN  1997.00      1  \n",
       "194       NaN  1359.90      1  \n",
       "145       NaN  1300.00      1  \n",
       "135       NaN  1300.00      1  \n",
       "185  1.989496  4795.29      4  "
      ]
     },
     "execution_count": 48,
     "metadata": {},
     "output_type": "execute_result"
    }
   ],
   "source": [
    "statistics_bi('client_city', 'order_price', df_SE).sort_values(by = ['mean'], ascending=False).head(5)\n"
   ]
  },
  {
   "cell_type": "code",
   "execution_count": 49,
   "metadata": {},
   "outputs": [
    {
     "name": "stdout",
     "output_type": "stream",
     "text": [
      "The Southeast cities represent 68.77% of the total orders\n",
      "The Southeast cities represent 65.0% of the total spent \n",
      "The Southeast has 4095 different cities \n"
     ]
    }
   ],
   "source": [
    "print('The Southeast cities represent ' + \n",
    "      str(round(df_SE['id'].count()/df_info_clients['id'].count(),4)*100) + \n",
    "      '% of the total orders')\n",
    "\n",
    "print('The Southeast cities represent ' + \n",
    "      str(round(df_SE['order_price'].sum()/df_info_clients['order_price'].sum(),2)*100) + \n",
    "      '% of the total spent ')\n",
    "\n",
    "print('The Southeast has ' + \n",
    "      str(df_info_clients['client_city'].drop_duplicates().count()) + \n",
    "      ' different cities ')"
   ]
  },
  {
   "attachments": {},
   "cell_type": "markdown",
   "metadata": {},
   "source": [
    "#### 5.5) Sales that were delivered quicker has a better rating review"
   ]
  },
  {
   "cell_type": "code",
   "execution_count": 50,
   "metadata": {},
   "outputs": [],
   "source": [
    "#calculate the number of days unit the delivery\n",
    "df_info_clients['order_approved'] = pd.to_datetime(df_info_clients['order_approved'])\n",
    "df_info_clients['order_delivery'] = pd.to_datetime(df_info_clients['order_delivery'])\n",
    "df_info_clients['days_until_delivery']  = (df_info_clients['order_delivery'] - df_info_clients['order_approved']).dt.days"
   ]
  },
  {
   "cell_type": "code",
   "execution_count": 51,
   "metadata": {},
   "outputs": [
    {
     "data": {
      "text/plain": [
       "<Axes: xlabel='days_until_delivery', ylabel='Count'>"
      ]
     },
     "execution_count": 51,
     "metadata": {},
     "output_type": "execute_result"
    },
    {
     "data": {
      "image/png": "[encoded data removed]",
      "text/plain": [
       "<Figure size 1200x600 with 1 Axes>"
      ]
     },
     "metadata": {},
     "output_type": "display_data"
    }
   ],
   "source": [
    "histogram(df_info_clients['days_until_delivery'])"
   ]
  },
  {
   "cell_type": "code",
   "execution_count": 52,
   "metadata": {},
   "outputs": [
    {
     "data": {
      "text/plain": [
       "<Axes: xlabel='days_until_delivery', ylabel='Percent'>"
      ]
     },
     "execution_count": 52,
     "metadata": {},
     "output_type": "execute_result"
    },
    {
     "data": {
      "image/png": "[encoded data removed]",
      "text/plain": [
       "<Figure size 640x480 with 1 Axes>"
      ]
     },
     "metadata": {},
     "output_type": "display_data"
    }
   ],
   "source": [
    "sns.histplot(df_info_clients[df_info_clients['review']==5]['days_until_delivery'], bins = 10, binrange = (0,50), color= 'blue', stat= 'percent')\n",
    "sns.histplot(df_info_clients[df_info_clients['review']==4]['days_until_delivery'], bins = 10, binrange = (0,50), color= 'green', stat= 'percent')\n",
    "sns.histplot(df_info_clients[df_info_clients['review']==3]['days_until_delivery'], bins = 10, binrange = (0,50), color= 'yellow', stat= 'percent')\n",
    "sns.histplot(df_info_clients[df_info_clients['review']==2]['days_until_delivery'], bins = 10, binrange = (0,50), color= 'orange', stat= 'percent')\n",
    "sns.histplot(df_info_clients[df_info_clients['review']==1]['days_until_delivery'], bins = 10, binrange = (0,50), color= 'red', stat= 'percent')"
   ]
  },
  {
   "cell_type": "code",
   "execution_count": null,
   "metadata": {},
   "outputs": [],
   "source": []
  },
  {
   "attachments": {},
   "cell_type": "markdown",
   "metadata": {},
   "source": [
    "#### 5.6) Sales with no develivery expenses are more likely to be bought"
   ]
  },
  {
   "cell_type": "code",
   "execution_count": 53,
   "metadata": {},
   "outputs": [
    {
     "name": "stdout",
     "output_type": "stream",
     "text": [
      "Only 0.003 % of the orders had free delivery\n"
     ]
    }
   ],
   "source": [
    "print(\"Only \"+str(round(len(df_info_clients[df_info_clients['delivery_price'] == 0]) / len(df_info_clients),3))+\" % of the orders had free delivery\")"
   ]
  },
  {
   "attachments": {},
   "cell_type": "markdown",
   "metadata": {},
   "source": [
    "FALSE"
   ]
  },
  {
   "attachments": {},
   "cell_type": "markdown",
   "metadata": {},
   "source": [
    "#### 5.7) Sales that were delivered after the estimated date has a lower rating"
   ]
  },
  {
   "cell_type": "code",
   "execution_count": 54,
   "metadata": {},
   "outputs": [],
   "source": [
    "#calculate the number of days unit the delivery\n",
    "df_info_clients['order_estimated'] = pd.to_datetime(df_info_clients['order_estimated'])\n",
    "df_info_clients['days after the delivered date'] = (df_info_clients['order_delivery'] - df_info_clients['order_estimated']).dt.days\n"
   ]
  },
  {
   "cell_type": "code",
   "execution_count": 55,
   "metadata": {},
   "outputs": [
    {
     "name": "stdout",
     "output_type": "stream",
     "text": [
      "7436 encomendas atrasaram\n",
      "ou seja, 0.06%\n"
     ]
    }
   ],
   "source": [
    "print(str(len(df_info_clients[df_info_clients['days after the delivered date']>0]))+ \" encomendas atrasaram\")\n",
    "print(\"ou seja, \"+ str(round(len(df_info_clients[df_info_clients['days after the delivered date']>0]) / len(df_info_clients),2))+\"%\")"
   ]
  },
  {
   "cell_type": "code",
   "execution_count": 56,
   "metadata": {},
   "outputs": [
    {
     "data": {
      "text/plain": [
       "<Axes: xlabel='review', ylabel='Percent'>"
      ]
     },
     "execution_count": 56,
     "metadata": {},
     "output_type": "execute_result"
    },
    {
     "data": {
      "image/png": "[encoded data removed]",
      "text/plain": [
       "<Figure size 640x480 with 1 Axes>"
      ]
     },
     "metadata": {},
     "output_type": "display_data"
    }
   ],
   "source": [
    "df_info_clients['review'][df_info_clients['days after the delivered date']>0].value_counts()\n",
    "sns.histplot(df_info_clients['review'][df_info_clients['days after the delivered date']>0], stat= 'percent')"
   ]
  },
  {
   "attachments": {},
   "cell_type": "markdown",
   "metadata": {},
   "source": [
    "# Variable Analysis"
   ]
  },
  {
   "cell_type": "markdown",
   "metadata": {},
   "source": []
  }
 ],
 "metadata": {
  "kernelspec": {
   "display_name": "Python 3",
   "language": "python",
   "name": "python3"
  },
  "language_info": {
   "codemirror_mode": {
    "name": "ipython",
    "version": 3
   },
   "file_extension": ".py",
   "mimetype": "text/x-python",
   "name": "python",
   "nbconvert_exporter": "python",
   "pygments_lexer": "ipython3",
   "version": "3.11.2"
  },
  "vscode": {
   "interpreter": {
    "hash": "aee8b7b246df8f9039afb4144a1f6fd8d2ca17a180786b69acc140d282b71a49"
   }
  }
 },
 "nbformat": 4,
 "nbformat_minor": 2
}
