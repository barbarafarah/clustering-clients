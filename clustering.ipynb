{
 "cells": [
  {
   "cell_type": "markdown",
   "metadata": {},
   "source": [
    "# 1. Import Libraries"
   ]
  },
  {
   "cell_type": "code",
   "execution_count": 37,
   "metadata": {},
   "outputs": [],
   "source": [
    "import pandas as pd\n",
    "import numpy as np\n",
    "import matplotlib.pyplot as plt\n",
    "import seaborn as sns\n",
    "import pandasql as ps\n",
    "import mysql.connector as ms\n",
    "\n",
    "import warnings\n",
    "warnings.filterwarnings('ignore')"
   ]
  },
  {
   "cell_type": "markdown",
   "metadata": {},
   "source": [
    "# 2. Loading Data"
   ]
  },
  {
   "cell_type": "code",
   "execution_count": 38,
   "metadata": {},
   "outputs": [],
   "source": [
    "df_info_clients = pd.read_csv('data/clients_informations.csv')"
   ]
  },
  {
   "cell_type": "markdown",
   "metadata": {},
   "source": [
    "### 2.1 Data Summary: \n",
    "- **Amostra:** id\n",
    "\n",
    "- **id_cliente:** client id\n",
    "\n",
    "- **id_unico_cliente:**: client specific id\n",
    "\n",
    "- **item-id:** product id\n",
    "\n",
    "- **cep_cliente:** client's postal code\n",
    "\n",
    "- **cidade cliente:** client's city\n",
    "\n",
    "- **estado_cliente:** client's state\n",
    "\n",
    "- **id_pedido:** order id\n",
    "\n",
    "- **status_pedido:** order's status\n",
    "\n",
    "- **horario pedido:** date and time that order was made by the client\n",
    "\n",
    "- **pedido_aprovado:** date and time that the order was approved in the website\n",
    "\n",
    "- **pedido_entregador:** date and time that the order was leaving for delivery\n",
    "\n",
    "- **pedido_entregue:** date and time that the order was delivery to the client\n",
    "\n",
    "- **data_estimada:** estimate date that the order will arrive to the client\n",
    "\n",
    "- **id_vendedor:** salesman's id\n",
    "\n",
    "- **preco:** price of the order in reais (R$)\n",
    "\n",
    "- **frete:** delivery's price\n",
    "\n",
    "- **pagamento_sequencial:**\n",
    "\n",
    "- **pagamento_tipo:** which method the client chose to pay\n",
    "\n",
    "- **pagamento_prestacoes:** number of parcels that the client will pay the order's value\n",
    "\n",
    "- **pagamento_valor:** order's price + dlivery's price\n",
    "\n",
    "- **review:** stars rating of the client\n",
    "\n",
    "- **categoria:** product's category\n",
    "\n",
    "- **categoria_ingles:** product's category in english\n",
    "\n",
    "- **cep_vendedor:** salesman postal code\n",
    "\n",
    "- **cidade_vendedor:** salesman city\n",
    "\n",
    "- **estado_vendedor:** sales person state\n"
   ]
  },
  {
   "cell_type": "code",
   "execution_count": 39,
   "metadata": {},
   "outputs": [
    {
     "data": {
      "text/html": [
       "<div>\n",
       "<style scoped>\n",
       "    .dataframe tbody tr th:only-of-type {\n",
       "        vertical-align: middle;\n",
       "    }\n",
       "\n",
       "    .dataframe tbody tr th {\n",
       "        vertical-align: top;\n",
       "    }\n",
       "\n",
       "    .dataframe thead th {\n",
       "        text-align: right;\n",
       "    }\n",
       "</style>\n",
       "<table border=\"1\" class=\"dataframe\">\n",
       "  <thead>\n",
       "    <tr style=\"text-align: right;\">\n",
       "      <th></th>\n",
       "      <th>amostra</th>\n",
       "      <th>id_cliente</th>\n",
       "      <th>id_unico_cliente</th>\n",
       "      <th>item_id</th>\n",
       "      <th>cep_cliente</th>\n",
       "      <th>cidade_cliente</th>\n",
       "      <th>estado_cliente</th>\n",
       "      <th>id_pedido</th>\n",
       "      <th>status_pedido</th>\n",
       "      <th>horario_pedido</th>\n",
       "      <th>...</th>\n",
       "      <th>pagamento_sequencial</th>\n",
       "      <th>pagamento_tipo</th>\n",
       "      <th>pagamento_prestacoes</th>\n",
       "      <th>pagamento_valor</th>\n",
       "      <th>review</th>\n",
       "      <th>categoria</th>\n",
       "      <th>categoria_ingles</th>\n",
       "      <th>cep_vendedor</th>\n",
       "      <th>cidade_vendedor</th>\n",
       "      <th>estado_vendedor</th>\n",
       "    </tr>\n",
       "  </thead>\n",
       "  <tbody>\n",
       "    <tr>\n",
       "      <th>0</th>\n",
       "      <td>0</td>\n",
       "      <td>06b8999e2fba1a1fbc88172c00ba8bc7</td>\n",
       "      <td>861eff4711a542e4b93843c6dd7febb0</td>\n",
       "      <td>1</td>\n",
       "      <td>14409</td>\n",
       "      <td>franca</td>\n",
       "      <td>SP</td>\n",
       "      <td>00e7ee1b050b8499577073aeb2a297a1</td>\n",
       "      <td>delivered</td>\n",
       "      <td>2017-05-16 15:05:35</td>\n",
       "      <td>...</td>\n",
       "      <td>1</td>\n",
       "      <td>credit_card</td>\n",
       "      <td>2</td>\n",
       "      <td>146.87</td>\n",
       "      <td>4</td>\n",
       "      <td>moveis_escritorio</td>\n",
       "      <td>office_furniture</td>\n",
       "      <td>8577</td>\n",
       "      <td>itaquaquecetuba</td>\n",
       "      <td>SP</td>\n",
       "    </tr>\n",
       "    <tr>\n",
       "      <th>1</th>\n",
       "      <td>1</td>\n",
       "      <td>8912fc0c3bbf1e2fbf35819e21706718</td>\n",
       "      <td>9eae34bbd3a474ec5d07949ca7de67c0</td>\n",
       "      <td>1</td>\n",
       "      <td>68030</td>\n",
       "      <td>santarem</td>\n",
       "      <td>PA</td>\n",
       "      <td>c1d2b34febe9cd269e378117d6681172</td>\n",
       "      <td>delivered</td>\n",
       "      <td>2017-11-09 00:50:13</td>\n",
       "      <td>...</td>\n",
       "      <td>1</td>\n",
       "      <td>credit_card</td>\n",
       "      <td>1</td>\n",
       "      <td>275.79</td>\n",
       "      <td>1</td>\n",
       "      <td>moveis_escritorio</td>\n",
       "      <td>office_furniture</td>\n",
       "      <td>8577</td>\n",
       "      <td>itaquaquecetuba</td>\n",
       "      <td>SP</td>\n",
       "    </tr>\n",
       "    <tr>\n",
       "      <th>2</th>\n",
       "      <td>2</td>\n",
       "      <td>8912fc0c3bbf1e2fbf35819e21706718</td>\n",
       "      <td>9eae34bbd3a474ec5d07949ca7de67c0</td>\n",
       "      <td>2</td>\n",
       "      <td>68030</td>\n",
       "      <td>santarem</td>\n",
       "      <td>PA</td>\n",
       "      <td>c1d2b34febe9cd269e378117d6681172</td>\n",
       "      <td>delivered</td>\n",
       "      <td>2017-11-09 00:50:13</td>\n",
       "      <td>...</td>\n",
       "      <td>1</td>\n",
       "      <td>credit_card</td>\n",
       "      <td>1</td>\n",
       "      <td>275.79</td>\n",
       "      <td>1</td>\n",
       "      <td>moveis_escritorio</td>\n",
       "      <td>office_furniture</td>\n",
       "      <td>8577</td>\n",
       "      <td>itaquaquecetuba</td>\n",
       "      <td>SP</td>\n",
       "    </tr>\n",
       "    <tr>\n",
       "      <th>3</th>\n",
       "      <td>3</td>\n",
       "      <td>f0ac8e5a239118859b1734e1087cbb1f</td>\n",
       "      <td>3c799d181c34d51f6d44bbbc563024db</td>\n",
       "      <td>1</td>\n",
       "      <td>92480</td>\n",
       "      <td>nova santa rita</td>\n",
       "      <td>RS</td>\n",
       "      <td>b1a5d5365d330d10485e0203d54ab9e8</td>\n",
       "      <td>delivered</td>\n",
       "      <td>2017-05-07 20:11:26</td>\n",
       "      <td>...</td>\n",
       "      <td>1</td>\n",
       "      <td>credit_card</td>\n",
       "      <td>7</td>\n",
       "      <td>140.61</td>\n",
       "      <td>3</td>\n",
       "      <td>moveis_escritorio</td>\n",
       "      <td>office_furniture</td>\n",
       "      <td>8577</td>\n",
       "      <td>itaquaquecetuba</td>\n",
       "      <td>SP</td>\n",
       "    </tr>\n",
       "    <tr>\n",
       "      <th>4</th>\n",
       "      <td>4</td>\n",
       "      <td>6bc8d08963a135220ed6c6d098831f84</td>\n",
       "      <td>23397e992b09769faf5e66f9e171a241</td>\n",
       "      <td>1</td>\n",
       "      <td>25931</td>\n",
       "      <td>mage</td>\n",
       "      <td>RJ</td>\n",
       "      <td>2e604b3614664aa66867856dba7e61b7</td>\n",
       "      <td>delivered</td>\n",
       "      <td>2018-02-03 19:45:40</td>\n",
       "      <td>...</td>\n",
       "      <td>1</td>\n",
       "      <td>credit_card</td>\n",
       "      <td>10</td>\n",
       "      <td>137.58</td>\n",
       "      <td>4</td>\n",
       "      <td>moveis_escritorio</td>\n",
       "      <td>office_furniture</td>\n",
       "      <td>8577</td>\n",
       "      <td>itaquaquecetuba</td>\n",
       "      <td>SP</td>\n",
       "    </tr>\n",
       "  </tbody>\n",
       "</table>\n",
       "<p>5 rows × 27 columns</p>\n",
       "</div>"
      ],
      "text/plain": [
       "   amostra                        id_cliente  \\\n",
       "0        0  06b8999e2fba1a1fbc88172c00ba8bc7   \n",
       "1        1  8912fc0c3bbf1e2fbf35819e21706718   \n",
       "2        2  8912fc0c3bbf1e2fbf35819e21706718   \n",
       "3        3  f0ac8e5a239118859b1734e1087cbb1f   \n",
       "4        4  6bc8d08963a135220ed6c6d098831f84   \n",
       "\n",
       "                   id_unico_cliente  item_id  cep_cliente   cidade_cliente  \\\n",
       "0  861eff4711a542e4b93843c6dd7febb0        1        14409           franca   \n",
       "1  9eae34bbd3a474ec5d07949ca7de67c0        1        68030         santarem   \n",
       "2  9eae34bbd3a474ec5d07949ca7de67c0        2        68030         santarem   \n",
       "3  3c799d181c34d51f6d44bbbc563024db        1        92480  nova santa rita   \n",
       "4  23397e992b09769faf5e66f9e171a241        1        25931             mage   \n",
       "\n",
       "  estado_cliente                         id_pedido status_pedido  \\\n",
       "0             SP  00e7ee1b050b8499577073aeb2a297a1     delivered   \n",
       "1             PA  c1d2b34febe9cd269e378117d6681172     delivered   \n",
       "2             PA  c1d2b34febe9cd269e378117d6681172     delivered   \n",
       "3             RS  b1a5d5365d330d10485e0203d54ab9e8     delivered   \n",
       "4             RJ  2e604b3614664aa66867856dba7e61b7     delivered   \n",
       "\n",
       "        horario_pedido  ... pagamento_sequencial pagamento_tipo  \\\n",
       "0  2017-05-16 15:05:35  ...                    1    credit_card   \n",
       "1  2017-11-09 00:50:13  ...                    1    credit_card   \n",
       "2  2017-11-09 00:50:13  ...                    1    credit_card   \n",
       "3  2017-05-07 20:11:26  ...                    1    credit_card   \n",
       "4  2018-02-03 19:45:40  ...                    1    credit_card   \n",
       "\n",
       "  pagamento_prestacoes pagamento_valor review          categoria  \\\n",
       "0                    2          146.87      4  moveis_escritorio   \n",
       "1                    1          275.79      1  moveis_escritorio   \n",
       "2                    1          275.79      1  moveis_escritorio   \n",
       "3                    7          140.61      3  moveis_escritorio   \n",
       "4                   10          137.58      4  moveis_escritorio   \n",
       "\n",
       "   categoria_ingles  cep_vendedor  cidade_vendedor  estado_vendedor  \n",
       "0  office_furniture          8577  itaquaquecetuba               SP  \n",
       "1  office_furniture          8577  itaquaquecetuba               SP  \n",
       "2  office_furniture          8577  itaquaquecetuba               SP  \n",
       "3  office_furniture          8577  itaquaquecetuba               SP  \n",
       "4  office_furniture          8577  itaquaquecetuba               SP  \n",
       "\n",
       "[5 rows x 27 columns]"
      ]
     },
     "execution_count": 39,
     "metadata": {},
     "output_type": "execute_result"
    }
   ],
   "source": [
    "df_info_clients.head()"
   ]
  },
  {
   "cell_type": "markdown",
   "metadata": {},
   "source": [
    "### 2.2 Rename Columns"
   ]
  },
  {
   "cell_type": "code",
   "execution_count": 40,
   "metadata": {},
   "outputs": [],
   "source": [
    "new_columns = [ 'id',  'client_id', 'client_specific_id', 'item_id', 'client _postal_code', 'client_city', 'client_state', 'order_id', 'order_status', 'order_date', 'order_approved', 'order_dliveryman',\n",
    "               'order_delivery', 'order_estimated', 'salesman_id', 'order_price', 'delivery_price', 'sequence_pay', 'paymeny_type', 'divided_pay', 'total_price', 'review', 'category', 'category_english',\n",
    "               'salesman_postal', 'salesman_city', 'salesman_state']\n",
    "\n",
    "df_info_clients.columns = new_columns"
   ]
  },
  {
   "cell_type": "markdown",
   "metadata": {},
   "source": [
    "### 2.3 Data Caracteristics"
   ]
  },
  {
   "cell_type": "code",
   "execution_count": 41,
   "metadata": {},
   "outputs": [
    {
     "name": "stdout",
     "output_type": "stream",
     "text": [
      "Number of Rows: 116581\n",
      "Number of Columns: 27\n"
     ]
    }
   ],
   "source": [
    "print('Number of Rows: {}'.format( df_info_clients.shape[0] ) )\n",
    "print( 'Number of Columns: {}'.format( df_info_clients.shape[1] ) )"
   ]
  },
  {
   "cell_type": "code",
   "execution_count": 42,
   "metadata": {
    "scrolled": false
   },
   "outputs": [
    {
     "name": "stdout",
     "output_type": "stream",
     "text": [
      "Data Types\n"
     ]
    },
    {
     "data": {
      "text/plain": [
       "id                       int64\n",
       "client_id               object\n",
       "client_specific_id      object\n",
       "item_id                  int64\n",
       "client _postal_code      int64\n",
       "client_city             object\n",
       "client_state            object\n",
       "order_id                object\n",
       "order_status            object\n",
       "order_date              object\n",
       "order_approved          object\n",
       "order_dliveryman        object\n",
       "order_delivery          object\n",
       "order_estimated         object\n",
       "salesman_id             object\n",
       "order_price            float64\n",
       "delivery_price         float64\n",
       "sequence_pay             int64\n",
       "paymeny_type            object\n",
       "divided_pay              int64\n",
       "total_price            float64\n",
       "review                   int64\n",
       "category                object\n",
       "category_english        object\n",
       "salesman_postal          int64\n",
       "salesman_city           object\n",
       "salesman_state          object\n",
       "dtype: object"
      ]
     },
     "execution_count": 42,
     "metadata": {},
     "output_type": "execute_result"
    }
   ],
   "source": [
    "print('Data Types')\n",
    "df_info_clients.dtypes"
   ]
  },
  {
   "cell_type": "code",
   "execution_count": 43,
   "metadata": {},
   "outputs": [],
   "source": [
    "df_info_clients[[\"order_date\"]] = df_info_clients[[\"order_date\"]].apply(pd.to_datetime)"
   ]
  },
  {
   "cell_type": "code",
   "execution_count": 44,
   "metadata": {},
   "outputs": [
    {
     "name": "stdout",
     "output_type": "stream",
     "text": [
      "Check Null Values\n"
     ]
    },
    {
     "data": {
      "text/plain": [
       "id                        0\n",
       "client_id                 0\n",
       "client_specific_id        0\n",
       "item_id                   0\n",
       "client _postal_code       0\n",
       "client_city               0\n",
       "client_state              0\n",
       "order_id                  0\n",
       "order_status              0\n",
       "order_date                0\n",
       "order_approved           14\n",
       "order_dliveryman       1213\n",
       "order_delivery         2515\n",
       "order_estimated           0\n",
       "salesman_id               0\n",
       "order_price               0\n",
       "delivery_price            0\n",
       "sequence_pay              0\n",
       "paymeny_type              0\n",
       "divided_pay               0\n",
       "total_price               0\n",
       "review                    0\n",
       "category                  0\n",
       "category_english          0\n",
       "salesman_postal           0\n",
       "salesman_city             0\n",
       "salesman_state            0\n",
       "dtype: int64"
      ]
     },
     "execution_count": 44,
     "metadata": {},
     "output_type": "execute_result"
    }
   ],
   "source": [
    "print(\"Check Null Values\")\n",
    "df_info_clients.isna().sum()"
   ]
  },
  {
   "cell_type": "markdown",
   "metadata": {},
   "source": [
    "In order to analyse the null values, I will create a query to count the status of them"
   ]
  },
  {
   "cell_type": "code",
   "execution_count": null,
   "metadata": {},
   "outputs": [
    {
     "ename": "ObjectNotExecutableError",
     "evalue": "Not an executable object: '\\nSELECT order_status, \\nCOUNT(id)\\nFROM df_info_clients\\nWHERE order_approved IS NULL\\nOR order_dliveryman IS NULL\\nOR order_delivery IS NULL\\nGROUP BY order_status\\n'",
     "output_type": "error",
     "traceback": [
      "\u001b[0;31m---------------------------------------------------------------------------\u001b[0m",
      "\u001b[0;31mAttributeError\u001b[0m                            Traceback (most recent call last)",
      "File \u001b[0;32m/Library/Frameworks/Python.framework/Versions/3.11/lib/python3.11/site-packages/sqlalchemy/engine/base.py:1410\u001b[0m, in \u001b[0;36mConnection.execute\u001b[0;34m(self, statement, parameters, execution_options)\u001b[0m\n\u001b[1;32m   1409\u001b[0m \u001b[39mtry\u001b[39;00m:\n\u001b[0;32m-> 1410\u001b[0m     meth \u001b[39m=\u001b[39m statement\u001b[39m.\u001b[39;49m_execute_on_connection\n\u001b[1;32m   1411\u001b[0m \u001b[39mexcept\u001b[39;00m \u001b[39mAttributeError\u001b[39;00m \u001b[39mas\u001b[39;00m err:\n",
      "\u001b[0;31mAttributeError\u001b[0m: 'str' object has no attribute '_execute_on_connection'",
      "\nThe above exception was the direct cause of the following exception:\n",
      "\u001b[0;31mObjectNotExecutableError\u001b[0m                  Traceback (most recent call last)",
      "Cell \u001b[0;32mIn[24], line 10\u001b[0m\n\u001b[1;32m      1\u001b[0m query \u001b[39m=\u001b[39m \u001b[39m\"\"\"\u001b[39m\n\u001b[1;32m      2\u001b[0m \u001b[39mSELECT order_status, \u001b[39m\n\u001b[1;32m      3\u001b[0m \u001b[39mCOUNT(id)\u001b[39m\n\u001b[0;32m   (...)\u001b[0m\n\u001b[1;32m      8\u001b[0m \u001b[39mGROUP BY order_status\u001b[39m\n\u001b[1;32m      9\u001b[0m \u001b[39m\"\"\"\u001b[39m\n\u001b[0;32m---> 10\u001b[0m ps\u001b[39m.\u001b[39;49msqldf(query, \u001b[39mlocals\u001b[39;49m())\n",
      "File \u001b[0;32m/Library/Frameworks/Python.framework/Versions/3.11/lib/python3.11/site-packages/pandasql/sqldf.py:156\u001b[0m, in \u001b[0;36msqldf\u001b[0;34m(query, env, db_uri)\u001b[0m\n\u001b[1;32m    124\u001b[0m \u001b[39mdef\u001b[39;00m \u001b[39msqldf\u001b[39m(query, env\u001b[39m=\u001b[39m\u001b[39mNone\u001b[39;00m, db_uri\u001b[39m=\u001b[39m\u001b[39m'\u001b[39m\u001b[39msqlite:///:memory:\u001b[39m\u001b[39m'\u001b[39m):\n\u001b[1;32m    125\u001b[0m \u001b[39m    \u001b[39m\u001b[39m\"\"\"\u001b[39;00m\n\u001b[1;32m    126\u001b[0m \u001b[39m    Query pandas data frames using sql syntax\u001b[39;00m\n\u001b[1;32m    127\u001b[0m \u001b[39m    This function is meant for backward compatibility only. New users are encouraged to use the PandaSQL class.\u001b[39;00m\n\u001b[0;32m   (...)\u001b[0m\n\u001b[1;32m    154\u001b[0m \u001b[39m    >>> sqldf(\"select avg(x) from df;\", locals())\u001b[39;00m\n\u001b[1;32m    155\u001b[0m \u001b[39m    \"\"\"\u001b[39;00m\n\u001b[0;32m--> 156\u001b[0m     \u001b[39mreturn\u001b[39;00m PandaSQL(db_uri)(query, env)\n",
      "File \u001b[0;32m/Library/Frameworks/Python.framework/Versions/3.11/lib/python3.11/site-packages/pandasql/sqldf.py:61\u001b[0m, in \u001b[0;36mPandaSQL.__call__\u001b[0;34m(self, query, env)\u001b[0m\n\u001b[1;32m     58\u001b[0m     write_table(env[table_name], table_name, conn)\n\u001b[1;32m     60\u001b[0m \u001b[39mtry\u001b[39;00m:\n\u001b[0;32m---> 61\u001b[0m     result \u001b[39m=\u001b[39m read_sql(query, conn)\n\u001b[1;32m     62\u001b[0m \u001b[39mexcept\u001b[39;00m DatabaseError \u001b[39mas\u001b[39;00m ex:\n\u001b[1;32m     63\u001b[0m     \u001b[39mraise\u001b[39;00m PandaSQLException(ex)\n",
      "File \u001b[0;32m/Library/Frameworks/Python.framework/Versions/3.11/lib/python3.11/site-packages/pandas/io/sql.py:590\u001b[0m, in \u001b[0;36mread_sql\u001b[0;34m(sql, con, index_col, coerce_float, params, parse_dates, columns, chunksize)\u001b[0m\n\u001b[1;32m    581\u001b[0m     \u001b[39mreturn\u001b[39;00m pandas_sql\u001b[39m.\u001b[39mread_table(\n\u001b[1;32m    582\u001b[0m         sql,\n\u001b[1;32m    583\u001b[0m         index_col\u001b[39m=\u001b[39mindex_col,\n\u001b[0;32m   (...)\u001b[0m\n\u001b[1;32m    587\u001b[0m         chunksize\u001b[39m=\u001b[39mchunksize,\n\u001b[1;32m    588\u001b[0m     )\n\u001b[1;32m    589\u001b[0m \u001b[39melse\u001b[39;00m:\n\u001b[0;32m--> 590\u001b[0m     \u001b[39mreturn\u001b[39;00m pandas_sql\u001b[39m.\u001b[39;49mread_query(\n\u001b[1;32m    591\u001b[0m         sql,\n\u001b[1;32m    592\u001b[0m         index_col\u001b[39m=\u001b[39;49mindex_col,\n\u001b[1;32m    593\u001b[0m         params\u001b[39m=\u001b[39;49mparams,\n\u001b[1;32m    594\u001b[0m         coerce_float\u001b[39m=\u001b[39;49mcoerce_float,\n\u001b[1;32m    595\u001b[0m         parse_dates\u001b[39m=\u001b[39;49mparse_dates,\n\u001b[1;32m    596\u001b[0m         chunksize\u001b[39m=\u001b[39;49mchunksize,\n\u001b[1;32m    597\u001b[0m     )\n",
      "File \u001b[0;32m/Library/Frameworks/Python.framework/Versions/3.11/lib/python3.11/site-packages/pandas/io/sql.py:1560\u001b[0m, in \u001b[0;36mSQLDatabase.read_query\u001b[0;34m(self, sql, index_col, coerce_float, parse_dates, params, chunksize, dtype)\u001b[0m\n\u001b[1;32m   1512\u001b[0m \u001b[39m\u001b[39m\u001b[39m\"\"\"\u001b[39;00m\n\u001b[1;32m   1513\u001b[0m \u001b[39mRead SQL query into a DataFrame.\u001b[39;00m\n\u001b[1;32m   1514\u001b[0m \n\u001b[0;32m   (...)\u001b[0m\n\u001b[1;32m   1556\u001b[0m \n\u001b[1;32m   1557\u001b[0m \u001b[39m\"\"\"\u001b[39;00m\n\u001b[1;32m   1558\u001b[0m args \u001b[39m=\u001b[39m _convert_params(sql, params)\n\u001b[0;32m-> 1560\u001b[0m result \u001b[39m=\u001b[39m \u001b[39mself\u001b[39;49m\u001b[39m.\u001b[39;49mexecute(\u001b[39m*\u001b[39;49margs)\n\u001b[1;32m   1561\u001b[0m columns \u001b[39m=\u001b[39m result\u001b[39m.\u001b[39mkeys()\n\u001b[1;32m   1563\u001b[0m \u001b[39mif\u001b[39;00m chunksize \u001b[39mis\u001b[39;00m \u001b[39mnot\u001b[39;00m \u001b[39mNone\u001b[39;00m:\n",
      "File \u001b[0;32m/Library/Frameworks/Python.framework/Versions/3.11/lib/python3.11/site-packages/pandas/io/sql.py:1405\u001b[0m, in \u001b[0;36mSQLDatabase.execute\u001b[0;34m(self, *args, **kwargs)\u001b[0m\n\u001b[1;32m   1403\u001b[0m \u001b[39mdef\u001b[39;00m \u001b[39mexecute\u001b[39m(\u001b[39mself\u001b[39m, \u001b[39m*\u001b[39margs, \u001b[39m*\u001b[39m\u001b[39m*\u001b[39mkwargs):\n\u001b[1;32m   1404\u001b[0m \u001b[39m    \u001b[39m\u001b[39m\"\"\"Simple passthrough to SQLAlchemy connectable\"\"\"\u001b[39;00m\n\u001b[0;32m-> 1405\u001b[0m     \u001b[39mreturn\u001b[39;00m \u001b[39mself\u001b[39;49m\u001b[39m.\u001b[39;49mconnectable\u001b[39m.\u001b[39;49mexecution_options()\u001b[39m.\u001b[39;49mexecute(\u001b[39m*\u001b[39;49margs, \u001b[39m*\u001b[39;49m\u001b[39m*\u001b[39;49mkwargs)\n",
      "File \u001b[0;32m/Library/Frameworks/Python.framework/Versions/3.11/lib/python3.11/site-packages/sqlalchemy/engine/base.py:1412\u001b[0m, in \u001b[0;36mConnection.execute\u001b[0;34m(self, statement, parameters, execution_options)\u001b[0m\n\u001b[1;32m   1410\u001b[0m     meth \u001b[39m=\u001b[39m statement\u001b[39m.\u001b[39m_execute_on_connection\n\u001b[1;32m   1411\u001b[0m \u001b[39mexcept\u001b[39;00m \u001b[39mAttributeError\u001b[39;00m \u001b[39mas\u001b[39;00m err:\n\u001b[0;32m-> 1412\u001b[0m     \u001b[39mraise\u001b[39;00m exc\u001b[39m.\u001b[39mObjectNotExecutableError(statement) \u001b[39mfrom\u001b[39;00m \u001b[39merr\u001b[39;00m\n\u001b[1;32m   1413\u001b[0m \u001b[39melse\u001b[39;00m:\n\u001b[1;32m   1414\u001b[0m     \u001b[39mreturn\u001b[39;00m meth(\n\u001b[1;32m   1415\u001b[0m         \u001b[39mself\u001b[39m,\n\u001b[1;32m   1416\u001b[0m         distilled_parameters,\n\u001b[1;32m   1417\u001b[0m         execution_options \u001b[39mor\u001b[39;00m NO_OPTIONS,\n\u001b[1;32m   1418\u001b[0m     )\n",
      "\u001b[0;31mObjectNotExecutableError\u001b[0m: Not an executable object: '\\nSELECT order_status, \\nCOUNT(id)\\nFROM df_info_clients\\nWHERE order_approved IS NULL\\nOR order_dliveryman IS NULL\\nOR order_delivery IS NULL\\nGROUP BY order_status\\n'"
     ]
    }
   ],
   "source": [
    "query = \"\"\"\n",
    "SELECT order_status, \n",
    "COUNT(id)\n",
    "FROM df_info_clients\n",
    "WHERE order_approved IS NULL\n",
    "OR order_dliveryman IS NULL\n",
    "OR order_delivery IS NULL\n",
    "GROUP BY order_status\n",
    "\"\"\"\n",
    "ps.sqldf(query, locals())"
   ]
  },
  {
   "cell_type": "code",
   "execution_count": null,
   "metadata": {},
   "outputs": [
    {
     "ename": "ObjectNotExecutableError",
     "evalue": "Not an executable object: \"select * from df_info_clients\\nwhere (order_approved is null or order_dliveryman is null or order_delivery is null) and order_status = 'delivered'  \\n\"",
     "output_type": "error",
     "traceback": [
      "\u001b[0;31m---------------------------------------------------------------------------\u001b[0m",
      "\u001b[0;31mAttributeError\u001b[0m                            Traceback (most recent call last)",
      "File \u001b[0;32m/Library/Frameworks/Python.framework/Versions/3.11/lib/python3.11/site-packages/sqlalchemy/engine/base.py:1410\u001b[0m, in \u001b[0;36mConnection.execute\u001b[0;34m(self, statement, parameters, execution_options)\u001b[0m\n\u001b[1;32m   1409\u001b[0m \u001b[39mtry\u001b[39;00m:\n\u001b[0;32m-> 1410\u001b[0m     meth \u001b[39m=\u001b[39m statement\u001b[39m.\u001b[39;49m_execute_on_connection\n\u001b[1;32m   1411\u001b[0m \u001b[39mexcept\u001b[39;00m \u001b[39mAttributeError\u001b[39;00m \u001b[39mas\u001b[39;00m err:\n",
      "\u001b[0;31mAttributeError\u001b[0m: 'str' object has no attribute '_execute_on_connection'",
      "\nThe above exception was the direct cause of the following exception:\n",
      "\u001b[0;31mObjectNotExecutableError\u001b[0m                  Traceback (most recent call last)",
      "Cell \u001b[0;32mIn[36], line 4\u001b[0m\n\u001b[1;32m      1\u001b[0m query \u001b[39m=\u001b[39m \u001b[39m\"\"\"\u001b[39m\u001b[39mselect * from df_info_clients\u001b[39m\n\u001b[1;32m      2\u001b[0m \u001b[39mwhere (order_approved is null or order_dliveryman is null or order_delivery is null) and order_status = \u001b[39m\u001b[39m'\u001b[39m\u001b[39mdelivered\u001b[39m\u001b[39m'\u001b[39m\u001b[39m  \u001b[39m\n\u001b[1;32m      3\u001b[0m \u001b[39m\"\"\"\u001b[39m\n\u001b[0;32m----> 4\u001b[0m ps\u001b[39m.\u001b[39;49msqldf(query, \u001b[39mlocals\u001b[39;49m())\u001b[39m.\u001b[39miloc[:, \u001b[39m8\u001b[39m:\u001b[39m14\u001b[39m]\n",
      "File \u001b[0;32m/Library/Frameworks/Python.framework/Versions/3.11/lib/python3.11/site-packages/pandasql/sqldf.py:156\u001b[0m, in \u001b[0;36msqldf\u001b[0;34m(query, env, db_uri)\u001b[0m\n\u001b[1;32m    124\u001b[0m \u001b[39mdef\u001b[39;00m \u001b[39msqldf\u001b[39m(query, env\u001b[39m=\u001b[39m\u001b[39mNone\u001b[39;00m, db_uri\u001b[39m=\u001b[39m\u001b[39m'\u001b[39m\u001b[39msqlite:///:memory:\u001b[39m\u001b[39m'\u001b[39m):\n\u001b[1;32m    125\u001b[0m \u001b[39m    \u001b[39m\u001b[39m\"\"\"\u001b[39;00m\n\u001b[1;32m    126\u001b[0m \u001b[39m    Query pandas data frames using sql syntax\u001b[39;00m\n\u001b[1;32m    127\u001b[0m \u001b[39m    This function is meant for backward compatibility only. New users are encouraged to use the PandaSQL class.\u001b[39;00m\n\u001b[0;32m   (...)\u001b[0m\n\u001b[1;32m    154\u001b[0m \u001b[39m    >>> sqldf(\"select avg(x) from df;\", locals())\u001b[39;00m\n\u001b[1;32m    155\u001b[0m \u001b[39m    \"\"\"\u001b[39;00m\n\u001b[0;32m--> 156\u001b[0m     \u001b[39mreturn\u001b[39;00m PandaSQL(db_uri)(query, env)\n",
      "File \u001b[0;32m/Library/Frameworks/Python.framework/Versions/3.11/lib/python3.11/site-packages/pandasql/sqldf.py:61\u001b[0m, in \u001b[0;36mPandaSQL.__call__\u001b[0;34m(self, query, env)\u001b[0m\n\u001b[1;32m     58\u001b[0m     write_table(env[table_name], table_name, conn)\n\u001b[1;32m     60\u001b[0m \u001b[39mtry\u001b[39;00m:\n\u001b[0;32m---> 61\u001b[0m     result \u001b[39m=\u001b[39m read_sql(query, conn)\n\u001b[1;32m     62\u001b[0m \u001b[39mexcept\u001b[39;00m DatabaseError \u001b[39mas\u001b[39;00m ex:\n\u001b[1;32m     63\u001b[0m     \u001b[39mraise\u001b[39;00m PandaSQLException(ex)\n",
      "File \u001b[0;32m/Library/Frameworks/Python.framework/Versions/3.11/lib/python3.11/site-packages/pandas/io/sql.py:590\u001b[0m, in \u001b[0;36mread_sql\u001b[0;34m(sql, con, index_col, coerce_float, params, parse_dates, columns, chunksize)\u001b[0m\n\u001b[1;32m    581\u001b[0m     \u001b[39mreturn\u001b[39;00m pandas_sql\u001b[39m.\u001b[39mread_table(\n\u001b[1;32m    582\u001b[0m         sql,\n\u001b[1;32m    583\u001b[0m         index_col\u001b[39m=\u001b[39mindex_col,\n\u001b[0;32m   (...)\u001b[0m\n\u001b[1;32m    587\u001b[0m         chunksize\u001b[39m=\u001b[39mchunksize,\n\u001b[1;32m    588\u001b[0m     )\n\u001b[1;32m    589\u001b[0m \u001b[39melse\u001b[39;00m:\n\u001b[0;32m--> 590\u001b[0m     \u001b[39mreturn\u001b[39;00m pandas_sql\u001b[39m.\u001b[39;49mread_query(\n\u001b[1;32m    591\u001b[0m         sql,\n\u001b[1;32m    592\u001b[0m         index_col\u001b[39m=\u001b[39;49mindex_col,\n\u001b[1;32m    593\u001b[0m         params\u001b[39m=\u001b[39;49mparams,\n\u001b[1;32m    594\u001b[0m         coerce_float\u001b[39m=\u001b[39;49mcoerce_float,\n\u001b[1;32m    595\u001b[0m         parse_dates\u001b[39m=\u001b[39;49mparse_dates,\n\u001b[1;32m    596\u001b[0m         chunksize\u001b[39m=\u001b[39;49mchunksize,\n\u001b[1;32m    597\u001b[0m     )\n",
      "File \u001b[0;32m/Library/Frameworks/Python.framework/Versions/3.11/lib/python3.11/site-packages/pandas/io/sql.py:1560\u001b[0m, in \u001b[0;36mSQLDatabase.read_query\u001b[0;34m(self, sql, index_col, coerce_float, parse_dates, params, chunksize, dtype)\u001b[0m\n\u001b[1;32m   1512\u001b[0m \u001b[39m\u001b[39m\u001b[39m\"\"\"\u001b[39;00m\n\u001b[1;32m   1513\u001b[0m \u001b[39mRead SQL query into a DataFrame.\u001b[39;00m\n\u001b[1;32m   1514\u001b[0m \n\u001b[0;32m   (...)\u001b[0m\n\u001b[1;32m   1556\u001b[0m \n\u001b[1;32m   1557\u001b[0m \u001b[39m\"\"\"\u001b[39;00m\n\u001b[1;32m   1558\u001b[0m args \u001b[39m=\u001b[39m _convert_params(sql, params)\n\u001b[0;32m-> 1560\u001b[0m result \u001b[39m=\u001b[39m \u001b[39mself\u001b[39;49m\u001b[39m.\u001b[39;49mexecute(\u001b[39m*\u001b[39;49margs)\n\u001b[1;32m   1561\u001b[0m columns \u001b[39m=\u001b[39m result\u001b[39m.\u001b[39mkeys()\n\u001b[1;32m   1563\u001b[0m \u001b[39mif\u001b[39;00m chunksize \u001b[39mis\u001b[39;00m \u001b[39mnot\u001b[39;00m \u001b[39mNone\u001b[39;00m:\n",
      "File \u001b[0;32m/Library/Frameworks/Python.framework/Versions/3.11/lib/python3.11/site-packages/pandas/io/sql.py:1405\u001b[0m, in \u001b[0;36mSQLDatabase.execute\u001b[0;34m(self, *args, **kwargs)\u001b[0m\n\u001b[1;32m   1403\u001b[0m \u001b[39mdef\u001b[39;00m \u001b[39mexecute\u001b[39m(\u001b[39mself\u001b[39m, \u001b[39m*\u001b[39margs, \u001b[39m*\u001b[39m\u001b[39m*\u001b[39mkwargs):\n\u001b[1;32m   1404\u001b[0m \u001b[39m    \u001b[39m\u001b[39m\"\"\"Simple passthrough to SQLAlchemy connectable\"\"\"\u001b[39;00m\n\u001b[0;32m-> 1405\u001b[0m     \u001b[39mreturn\u001b[39;00m \u001b[39mself\u001b[39;49m\u001b[39m.\u001b[39;49mconnectable\u001b[39m.\u001b[39;49mexecution_options()\u001b[39m.\u001b[39;49mexecute(\u001b[39m*\u001b[39;49margs, \u001b[39m*\u001b[39;49m\u001b[39m*\u001b[39;49mkwargs)\n",
      "File \u001b[0;32m/Library/Frameworks/Python.framework/Versions/3.11/lib/python3.11/site-packages/sqlalchemy/engine/base.py:1412\u001b[0m, in \u001b[0;36mConnection.execute\u001b[0;34m(self, statement, parameters, execution_options)\u001b[0m\n\u001b[1;32m   1410\u001b[0m     meth \u001b[39m=\u001b[39m statement\u001b[39m.\u001b[39m_execute_on_connection\n\u001b[1;32m   1411\u001b[0m \u001b[39mexcept\u001b[39;00m \u001b[39mAttributeError\u001b[39;00m \u001b[39mas\u001b[39;00m err:\n\u001b[0;32m-> 1412\u001b[0m     \u001b[39mraise\u001b[39;00m exc\u001b[39m.\u001b[39mObjectNotExecutableError(statement) \u001b[39mfrom\u001b[39;00m \u001b[39merr\u001b[39;00m\n\u001b[1;32m   1413\u001b[0m \u001b[39melse\u001b[39;00m:\n\u001b[1;32m   1414\u001b[0m     \u001b[39mreturn\u001b[39;00m meth(\n\u001b[1;32m   1415\u001b[0m         \u001b[39mself\u001b[39m,\n\u001b[1;32m   1416\u001b[0m         distilled_parameters,\n\u001b[1;32m   1417\u001b[0m         execution_options \u001b[39mor\u001b[39;00m NO_OPTIONS,\n\u001b[1;32m   1418\u001b[0m     )\n",
      "\u001b[0;31mObjectNotExecutableError\u001b[0m: Not an executable object: \"select * from df_info_clients\\nwhere (order_approved is null or order_dliveryman is null or order_delivery is null) and order_status = 'delivered'  \\n\""
     ]
    }
   ],
   "source": [
    "query = \"\"\"select * from df_info_clients\n",
    "where (order_approved is null or order_dliveryman is null or order_delivery is null) and order_status = 'delivered'  \n",
    "\"\"\"\n",
    "ps.sqldf(query, locals()).iloc[:, 8:14]"
   ]
  },
  {
   "cell_type": "markdown",
   "metadata": {},
   "source": [
    "It is possible to see that only 23 of the null values are erros, because the status is \"delivered\" but they do not have: \n",
    "- the date of order approval \n",
    "\n",
    "or \n",
    "- the date that the order was leaving for delivery \n",
    "\n",
    "or \n",
    "- the date that the order was delivery to the client\n",
    "\n",
    "For this reason, I will delete these values."
   ]
  },
  {
   "cell_type": "code",
   "execution_count": 48,
   "metadata": {},
   "outputs": [
    {
     "ename": "ObjectNotExecutableError",
     "evalue": "Not an executable object: \"select * from df_info_clients\\nwhere (order_approved is not null \\nand order_dliveryman is not null \\nand order_delivery is not null)\\nor order_status <> 'delivered';\\n\"",
     "output_type": "error",
     "traceback": [
      "\u001b[0;31m---------------------------------------------------------------------------\u001b[0m",
      "\u001b[0;31mAttributeError\u001b[0m                            Traceback (most recent call last)",
      "File \u001b[0;32m/Library/Frameworks/Python.framework/Versions/3.11/lib/python3.11/site-packages/sqlalchemy/engine/base.py:1410\u001b[0m, in \u001b[0;36mConnection.execute\u001b[0;34m(self, statement, parameters, execution_options)\u001b[0m\n\u001b[1;32m   1409\u001b[0m \u001b[39mtry\u001b[39;00m:\n\u001b[0;32m-> 1410\u001b[0m     meth \u001b[39m=\u001b[39m statement\u001b[39m.\u001b[39;49m_execute_on_connection\n\u001b[1;32m   1411\u001b[0m \u001b[39mexcept\u001b[39;00m \u001b[39mAttributeError\u001b[39;00m \u001b[39mas\u001b[39;00m err:\n",
      "\u001b[0;31mAttributeError\u001b[0m: 'str' object has no attribute '_execute_on_connection'",
      "\nThe above exception was the direct cause of the following exception:\n",
      "\u001b[0;31mObjectNotExecutableError\u001b[0m                  Traceback (most recent call last)",
      "Cell \u001b[0;32mIn[48], line 7\u001b[0m\n\u001b[1;32m      1\u001b[0m query \u001b[39m=\u001b[39m \u001b[39m\"\"\"\u001b[39m\u001b[39mselect * from df_info_clients\u001b[39m\n\u001b[1;32m      2\u001b[0m \u001b[39mwhere (order_approved is not null \u001b[39m\n\u001b[1;32m      3\u001b[0m \u001b[39mand order_dliveryman is not null \u001b[39m\n\u001b[1;32m      4\u001b[0m \u001b[39mand order_delivery is not null)\u001b[39m\n\u001b[1;32m      5\u001b[0m \u001b[39mor order_status <> \u001b[39m\u001b[39m'\u001b[39m\u001b[39mdelivered\u001b[39m\u001b[39m'\u001b[39m\u001b[39m;\u001b[39m\n\u001b[1;32m      6\u001b[0m \u001b[39m\"\"\"\u001b[39m\n\u001b[0;32m----> 7\u001b[0m df_info_clients \u001b[39m=\u001b[39m ps\u001b[39m.\u001b[39;49msqldf(query, \u001b[39mglobals\u001b[39;49m())\n",
      "File \u001b[0;32m/Library/Frameworks/Python.framework/Versions/3.11/lib/python3.11/site-packages/pandasql/sqldf.py:156\u001b[0m, in \u001b[0;36msqldf\u001b[0;34m(query, env, db_uri)\u001b[0m\n\u001b[1;32m    124\u001b[0m \u001b[39mdef\u001b[39;00m \u001b[39msqldf\u001b[39m(query, env\u001b[39m=\u001b[39m\u001b[39mNone\u001b[39;00m, db_uri\u001b[39m=\u001b[39m\u001b[39m'\u001b[39m\u001b[39msqlite:///:memory:\u001b[39m\u001b[39m'\u001b[39m):\n\u001b[1;32m    125\u001b[0m \u001b[39m    \u001b[39m\u001b[39m\"\"\"\u001b[39;00m\n\u001b[1;32m    126\u001b[0m \u001b[39m    Query pandas data frames using sql syntax\u001b[39;00m\n\u001b[1;32m    127\u001b[0m \u001b[39m    This function is meant for backward compatibility only. New users are encouraged to use the PandaSQL class.\u001b[39;00m\n\u001b[0;32m   (...)\u001b[0m\n\u001b[1;32m    154\u001b[0m \u001b[39m    >>> sqldf(\"select avg(x) from df;\", locals())\u001b[39;00m\n\u001b[1;32m    155\u001b[0m \u001b[39m    \"\"\"\u001b[39;00m\n\u001b[0;32m--> 156\u001b[0m     \u001b[39mreturn\u001b[39;00m PandaSQL(db_uri)(query, env)\n",
      "File \u001b[0;32m/Library/Frameworks/Python.framework/Versions/3.11/lib/python3.11/site-packages/pandasql/sqldf.py:61\u001b[0m, in \u001b[0;36mPandaSQL.__call__\u001b[0;34m(self, query, env)\u001b[0m\n\u001b[1;32m     58\u001b[0m     write_table(env[table_name], table_name, conn)\n\u001b[1;32m     60\u001b[0m \u001b[39mtry\u001b[39;00m:\n\u001b[0;32m---> 61\u001b[0m     result \u001b[39m=\u001b[39m read_sql(query, conn)\n\u001b[1;32m     62\u001b[0m \u001b[39mexcept\u001b[39;00m DatabaseError \u001b[39mas\u001b[39;00m ex:\n\u001b[1;32m     63\u001b[0m     \u001b[39mraise\u001b[39;00m PandaSQLException(ex)\n",
      "File \u001b[0;32m/Library/Frameworks/Python.framework/Versions/3.11/lib/python3.11/site-packages/pandas/io/sql.py:590\u001b[0m, in \u001b[0;36mread_sql\u001b[0;34m(sql, con, index_col, coerce_float, params, parse_dates, columns, chunksize)\u001b[0m\n\u001b[1;32m    581\u001b[0m     \u001b[39mreturn\u001b[39;00m pandas_sql\u001b[39m.\u001b[39mread_table(\n\u001b[1;32m    582\u001b[0m         sql,\n\u001b[1;32m    583\u001b[0m         index_col\u001b[39m=\u001b[39mindex_col,\n\u001b[0;32m   (...)\u001b[0m\n\u001b[1;32m    587\u001b[0m         chunksize\u001b[39m=\u001b[39mchunksize,\n\u001b[1;32m    588\u001b[0m     )\n\u001b[1;32m    589\u001b[0m \u001b[39melse\u001b[39;00m:\n\u001b[0;32m--> 590\u001b[0m     \u001b[39mreturn\u001b[39;00m pandas_sql\u001b[39m.\u001b[39;49mread_query(\n\u001b[1;32m    591\u001b[0m         sql,\n\u001b[1;32m    592\u001b[0m         index_col\u001b[39m=\u001b[39;49mindex_col,\n\u001b[1;32m    593\u001b[0m         params\u001b[39m=\u001b[39;49mparams,\n\u001b[1;32m    594\u001b[0m         coerce_float\u001b[39m=\u001b[39;49mcoerce_float,\n\u001b[1;32m    595\u001b[0m         parse_dates\u001b[39m=\u001b[39;49mparse_dates,\n\u001b[1;32m    596\u001b[0m         chunksize\u001b[39m=\u001b[39;49mchunksize,\n\u001b[1;32m    597\u001b[0m     )\n",
      "File \u001b[0;32m/Library/Frameworks/Python.framework/Versions/3.11/lib/python3.11/site-packages/pandas/io/sql.py:1560\u001b[0m, in \u001b[0;36mSQLDatabase.read_query\u001b[0;34m(self, sql, index_col, coerce_float, parse_dates, params, chunksize, dtype)\u001b[0m\n\u001b[1;32m   1512\u001b[0m \u001b[39m\u001b[39m\u001b[39m\"\"\"\u001b[39;00m\n\u001b[1;32m   1513\u001b[0m \u001b[39mRead SQL query into a DataFrame.\u001b[39;00m\n\u001b[1;32m   1514\u001b[0m \n\u001b[0;32m   (...)\u001b[0m\n\u001b[1;32m   1556\u001b[0m \n\u001b[1;32m   1557\u001b[0m \u001b[39m\"\"\"\u001b[39;00m\n\u001b[1;32m   1558\u001b[0m args \u001b[39m=\u001b[39m _convert_params(sql, params)\n\u001b[0;32m-> 1560\u001b[0m result \u001b[39m=\u001b[39m \u001b[39mself\u001b[39;49m\u001b[39m.\u001b[39;49mexecute(\u001b[39m*\u001b[39;49margs)\n\u001b[1;32m   1561\u001b[0m columns \u001b[39m=\u001b[39m result\u001b[39m.\u001b[39mkeys()\n\u001b[1;32m   1563\u001b[0m \u001b[39mif\u001b[39;00m chunksize \u001b[39mis\u001b[39;00m \u001b[39mnot\u001b[39;00m \u001b[39mNone\u001b[39;00m:\n",
      "File \u001b[0;32m/Library/Frameworks/Python.framework/Versions/3.11/lib/python3.11/site-packages/pandas/io/sql.py:1405\u001b[0m, in \u001b[0;36mSQLDatabase.execute\u001b[0;34m(self, *args, **kwargs)\u001b[0m\n\u001b[1;32m   1403\u001b[0m \u001b[39mdef\u001b[39;00m \u001b[39mexecute\u001b[39m(\u001b[39mself\u001b[39m, \u001b[39m*\u001b[39margs, \u001b[39m*\u001b[39m\u001b[39m*\u001b[39mkwargs):\n\u001b[1;32m   1404\u001b[0m \u001b[39m    \u001b[39m\u001b[39m\"\"\"Simple passthrough to SQLAlchemy connectable\"\"\"\u001b[39;00m\n\u001b[0;32m-> 1405\u001b[0m     \u001b[39mreturn\u001b[39;00m \u001b[39mself\u001b[39;49m\u001b[39m.\u001b[39;49mconnectable\u001b[39m.\u001b[39;49mexecution_options()\u001b[39m.\u001b[39;49mexecute(\u001b[39m*\u001b[39;49margs, \u001b[39m*\u001b[39;49m\u001b[39m*\u001b[39;49mkwargs)\n",
      "File \u001b[0;32m/Library/Frameworks/Python.framework/Versions/3.11/lib/python3.11/site-packages/sqlalchemy/engine/base.py:1412\u001b[0m, in \u001b[0;36mConnection.execute\u001b[0;34m(self, statement, parameters, execution_options)\u001b[0m\n\u001b[1;32m   1410\u001b[0m     meth \u001b[39m=\u001b[39m statement\u001b[39m.\u001b[39m_execute_on_connection\n\u001b[1;32m   1411\u001b[0m \u001b[39mexcept\u001b[39;00m \u001b[39mAttributeError\u001b[39;00m \u001b[39mas\u001b[39;00m err:\n\u001b[0;32m-> 1412\u001b[0m     \u001b[39mraise\u001b[39;00m exc\u001b[39m.\u001b[39mObjectNotExecutableError(statement) \u001b[39mfrom\u001b[39;00m \u001b[39merr\u001b[39;00m\n\u001b[1;32m   1413\u001b[0m \u001b[39melse\u001b[39;00m:\n\u001b[1;32m   1414\u001b[0m     \u001b[39mreturn\u001b[39;00m meth(\n\u001b[1;32m   1415\u001b[0m         \u001b[39mself\u001b[39m,\n\u001b[1;32m   1416\u001b[0m         distilled_parameters,\n\u001b[1;32m   1417\u001b[0m         execution_options \u001b[39mor\u001b[39;00m NO_OPTIONS,\n\u001b[1;32m   1418\u001b[0m     )\n",
      "\u001b[0;31mObjectNotExecutableError\u001b[0m: Not an executable object: \"select * from df_info_clients\\nwhere (order_approved is not null \\nand order_dliveryman is not null \\nand order_delivery is not null)\\nor order_status <> 'delivered';\\n\""
     ]
    }
   ],
   "source": [
    "query = \"\"\"select * from df_info_clients\n",
    "where (order_approved is not null \n",
    "and order_dliveryman is not null \n",
    "and order_delivery is not null)\n",
    "or order_status <> 'delivered';\n",
    "\"\"\"\n",
    "df_info_clients = ps.sqldf(query, globals())"
   ]
  },
  {
   "cell_type": "markdown",
   "metadata": {},
   "source": [
    "# 3 Exploratory Data Analysis\n",
    "In order to understand and get more familiar with the dataset, I will perform a exploratory data analysis."
   ]
  },
  {
   "cell_type": "markdown",
   "metadata": {},
   "source": [
    "### 3.1) Categorical variables\n",
    "#### 3.1.1) Item ID"
   ]
  },
  {
   "cell_type": "code",
   "execution_count": null,
   "metadata": {},
   "outputs": [
    {
     "name": "stdout",
     "output_type": "stream",
     "text": [
      "1     102118\n",
      "2      10169\n",
      "3       2363\n",
      "4        984\n",
      "5        465\n",
      "6        263\n",
      "7         61\n",
      "8         36\n",
      "9         29\n",
      "10        26\n",
      "11        18\n",
      "12        13\n",
      "13         8\n",
      "14         7\n",
      "15         5\n",
      "16         3\n",
      "17         3\n",
      "18         3\n",
      "19         3\n",
      "20         3\n",
      "21         1\n",
      "Name: item_id, dtype: int64\n"
     ]
    },
    {
     "data": {
      "text/plain": [
       "<Axes: xlabel='item_id', ylabel='count'>"
      ]
     },
     "execution_count": 12,
     "metadata": {},
     "output_type": "execute_result"
    },
    {
     "data": {
      "image/png": "[encoded data removed]",
      "text/plain": [
       "<Figure size 640x480 with 1 Axes>"
      ]
     },
     "metadata": {},
     "output_type": "display_data"
    }
   ],
   "source": [
    "print(df_info_clients['item_id'].value_counts(normalize=False))\n",
    "sns.countplot(data=df_info_clients, x=\"item_id\")"
   ]
  },
  {
   "cell_type": "markdown",
   "metadata": {},
   "source": [
    "#### 3.1.2) City"
   ]
  },
  {
   "cell_type": "code",
   "execution_count": null,
   "metadata": {},
   "outputs": [
    {
     "name": "stdout",
     "output_type": "stream",
     "text": [
      "sao paulo                18412\n",
      "rio de janeiro            8123\n",
      "belo horizonte            3218\n",
      "brasilia                  2452\n",
      "curitiba                  1799\n",
      "campinas                  1722\n",
      "porto alegre              1641\n",
      "salvador                  1498\n",
      "guarulhos                 1388\n",
      "sao bernardo do campo     1100\n",
      "niteroi                   1047\n",
      "santo andre                906\n",
      "osasco                     894\n",
      "goiania                    852\n",
      "santos                     837\n",
      "Name: client_city, dtype: int64\n"
     ]
    },
    {
     "data": {
      "text/plain": [
       "<Figure size 1200x600 with 0 Axes>"
      ]
     },
     "metadata": {},
     "output_type": "display_data"
    },
    {
     "data": {
      "text/plain": [
       "<Figure size 1200x600 with 0 Axes>"
      ]
     },
     "metadata": {},
     "output_type": "display_data"
    },
    {
     "data": {
      "image/png": "[encoded data removed]",
      "text/plain": [
       "<Figure size 640x480 with 1 Axes>"
      ]
     },
     "metadata": {},
     "output_type": "display_data"
    }
   ],
   "source": [
    "print(df_info_clients['client_city'].value_counts(normalize=False).head(15))\n",
    "plt.figure(figsize=(12, 6))\n",
    "plt.figure(figsize=(12, 6))\n",
    "pd.DataFrame(df_info_clients['client_city'].value_counts(normalize=False).head(15)).plot(kind='bar')\n",
    "plt.show()"
   ]
  },
  {
   "cell_type": "markdown",
   "metadata": {},
   "source": [
    "#### 3.1.3) State"
   ]
  },
  {
   "cell_type": "code",
   "execution_count": null,
   "metadata": {},
   "outputs": [
    {
     "name": "stdout",
     "output_type": "stream",
     "text": [
      "SP    49133\n",
      "RJ    15185\n",
      "MG    13530\n",
      "RS     6436\n",
      "PR     5908\n",
      "SC     4254\n",
      "BA     3994\n",
      "DF     2467\n",
      "GO     2396\n",
      "ES     2332\n",
      "PE     1878\n",
      "CE     1538\n",
      "MT     1116\n",
      "PA     1103\n",
      "MS      847\n",
      "MA      838\n",
      "PB      630\n",
      "PI      567\n",
      "RN      565\n",
      "AL      458\n",
      "SE      395\n",
      "TO      334\n",
      "RO      280\n",
      "AM      170\n",
      "AC       93\n",
      "AP       84\n",
      "RR       50\n",
      "Name: client_state, dtype: int64\n"
     ]
    },
    {
     "data": {
      "image/png": "[encoded data removed]",
      "text/plain": [
       "<Figure size 1200x600 with 1 Axes>"
      ]
     },
     "metadata": {},
     "output_type": "display_data"
    }
   ],
   "source": [
    "print(df_info_clients['client_state'].value_counts(normalize=False))\n",
    "plt.figure(figsize=(12, 6))\n",
    "sns.countplot(data=df_info_clients, x=\"client_state\", order = df_info_clients['client_state'].value_counts().index)\n",
    "plt.xticks(rotation=90)\n",
    "plt.show()"
   ]
  },
  {
   "cell_type": "markdown",
   "metadata": {},
   "source": [
    "#### 3.1.4) Months"
   ]
  },
  {
   "cell_type": "code",
   "execution_count": null,
   "metadata": {},
   "outputs": [
    {
     "ename": "ObjectNotExecutableError",
     "evalue": "Not an executable object: \"\\nselect strftime('%Y-%m',order_date) as date,\\ncount(id) as order_per_month\\nfrom df_info_clients\\ngroup by date\\n\"",
     "output_type": "error",
     "traceback": [
      "\u001b[0;31m---------------------------------------------------------------------------\u001b[0m",
      "\u001b[0;31mAttributeError\u001b[0m                            Traceback (most recent call last)",
      "File \u001b[0;32m/Library/Frameworks/Python.framework/Versions/3.11/lib/python3.11/site-packages/sqlalchemy/engine/base.py:1410\u001b[0m, in \u001b[0;36mConnection.execute\u001b[0;34m(self, statement, parameters, execution_options)\u001b[0m\n\u001b[1;32m   1409\u001b[0m \u001b[39mtry\u001b[39;00m:\n\u001b[0;32m-> 1410\u001b[0m     meth \u001b[39m=\u001b[39m statement\u001b[39m.\u001b[39;49m_execute_on_connection\n\u001b[1;32m   1411\u001b[0m \u001b[39mexcept\u001b[39;00m \u001b[39mAttributeError\u001b[39;00m \u001b[39mas\u001b[39;00m err:\n",
      "\u001b[0;31mAttributeError\u001b[0m: 'str' object has no attribute '_execute_on_connection'",
      "\nThe above exception was the direct cause of the following exception:\n",
      "\u001b[0;31mObjectNotExecutableError\u001b[0m                  Traceback (most recent call last)",
      "Cell \u001b[0;32mIn[15], line 8\u001b[0m\n\u001b[1;32m      1\u001b[0m query \u001b[39m=\u001b[39m \u001b[39m\"\"\"\u001b[39m\n\u001b[1;32m      2\u001b[0m \u001b[39mselect strftime(\u001b[39m\u001b[39m'\u001b[39m\u001b[39m%\u001b[39m\u001b[39mY-\u001b[39m\u001b[39m%\u001b[39m\u001b[39mm\u001b[39m\u001b[39m'\u001b[39m\u001b[39m,order_date) as date,\u001b[39m\n\u001b[1;32m      3\u001b[0m \u001b[39mcount(id) as order_per_month\u001b[39m\n\u001b[1;32m      4\u001b[0m \u001b[39mfrom df_info_clients\u001b[39m\n\u001b[1;32m      5\u001b[0m \u001b[39mgroup by date\u001b[39m\n\u001b[1;32m      6\u001b[0m \u001b[39m\"\"\"\u001b[39m\n\u001b[0;32m----> 8\u001b[0m \u001b[39mprint\u001b[39m(ps\u001b[39m.\u001b[39;49msqldf(query, \u001b[39mlocals\u001b[39;49m()))\n\u001b[1;32m      9\u001b[0m plt\u001b[39m.\u001b[39mfigure(figsize\u001b[39m=\u001b[39m(\u001b[39m12\u001b[39m, \u001b[39m6\u001b[39m))\n\u001b[1;32m     10\u001b[0m sns\u001b[39m.\u001b[39mbarplot(data\u001b[39m=\u001b[39mps\u001b[39m.\u001b[39msqldf(query, \u001b[39mlocals\u001b[39m()), x\u001b[39m=\u001b[39m\u001b[39m\"\u001b[39m\u001b[39mdate\u001b[39m\u001b[39m\"\u001b[39m, y\u001b[39m=\u001b[39m\u001b[39m\"\u001b[39m\u001b[39morder_per_month\u001b[39m\u001b[39m\"\u001b[39m)\n",
      "File \u001b[0;32m/Library/Frameworks/Python.framework/Versions/3.11/lib/python3.11/site-packages/pandasql/sqldf.py:156\u001b[0m, in \u001b[0;36msqldf\u001b[0;34m(query, env, db_uri)\u001b[0m\n\u001b[1;32m    124\u001b[0m \u001b[39mdef\u001b[39;00m \u001b[39msqldf\u001b[39m(query, env\u001b[39m=\u001b[39m\u001b[39mNone\u001b[39;00m, db_uri\u001b[39m=\u001b[39m\u001b[39m'\u001b[39m\u001b[39msqlite:///:memory:\u001b[39m\u001b[39m'\u001b[39m):\n\u001b[1;32m    125\u001b[0m \u001b[39m    \u001b[39m\u001b[39m\"\"\"\u001b[39;00m\n\u001b[1;32m    126\u001b[0m \u001b[39m    Query pandas data frames using sql syntax\u001b[39;00m\n\u001b[1;32m    127\u001b[0m \u001b[39m    This function is meant for backward compatibility only. New users are encouraged to use the PandaSQL class.\u001b[39;00m\n\u001b[0;32m   (...)\u001b[0m\n\u001b[1;32m    154\u001b[0m \u001b[39m    >>> sqldf(\"select avg(x) from df;\", locals())\u001b[39;00m\n\u001b[1;32m    155\u001b[0m \u001b[39m    \"\"\"\u001b[39;00m\n\u001b[0;32m--> 156\u001b[0m     \u001b[39mreturn\u001b[39;00m PandaSQL(db_uri)(query, env)\n",
      "File \u001b[0;32m/Library/Frameworks/Python.framework/Versions/3.11/lib/python3.11/site-packages/pandasql/sqldf.py:61\u001b[0m, in \u001b[0;36mPandaSQL.__call__\u001b[0;34m(self, query, env)\u001b[0m\n\u001b[1;32m     58\u001b[0m     write_table(env[table_name], table_name, conn)\n\u001b[1;32m     60\u001b[0m \u001b[39mtry\u001b[39;00m:\n\u001b[0;32m---> 61\u001b[0m     result \u001b[39m=\u001b[39m read_sql(query, conn)\n\u001b[1;32m     62\u001b[0m \u001b[39mexcept\u001b[39;00m DatabaseError \u001b[39mas\u001b[39;00m ex:\n\u001b[1;32m     63\u001b[0m     \u001b[39mraise\u001b[39;00m PandaSQLException(ex)\n",
      "File \u001b[0;32m/Library/Frameworks/Python.framework/Versions/3.11/lib/python3.11/site-packages/pandas/io/sql.py:590\u001b[0m, in \u001b[0;36mread_sql\u001b[0;34m(sql, con, index_col, coerce_float, params, parse_dates, columns, chunksize)\u001b[0m\n\u001b[1;32m    581\u001b[0m     \u001b[39mreturn\u001b[39;00m pandas_sql\u001b[39m.\u001b[39mread_table(\n\u001b[1;32m    582\u001b[0m         sql,\n\u001b[1;32m    583\u001b[0m         index_col\u001b[39m=\u001b[39mindex_col,\n\u001b[0;32m   (...)\u001b[0m\n\u001b[1;32m    587\u001b[0m         chunksize\u001b[39m=\u001b[39mchunksize,\n\u001b[1;32m    588\u001b[0m     )\n\u001b[1;32m    589\u001b[0m \u001b[39melse\u001b[39;00m:\n\u001b[0;32m--> 590\u001b[0m     \u001b[39mreturn\u001b[39;00m pandas_sql\u001b[39m.\u001b[39;49mread_query(\n\u001b[1;32m    591\u001b[0m         sql,\n\u001b[1;32m    592\u001b[0m         index_col\u001b[39m=\u001b[39;49mindex_col,\n\u001b[1;32m    593\u001b[0m         params\u001b[39m=\u001b[39;49mparams,\n\u001b[1;32m    594\u001b[0m         coerce_float\u001b[39m=\u001b[39;49mcoerce_float,\n\u001b[1;32m    595\u001b[0m         parse_dates\u001b[39m=\u001b[39;49mparse_dates,\n\u001b[1;32m    596\u001b[0m         chunksize\u001b[39m=\u001b[39;49mchunksize,\n\u001b[1;32m    597\u001b[0m     )\n",
      "File \u001b[0;32m/Library/Frameworks/Python.framework/Versions/3.11/lib/python3.11/site-packages/pandas/io/sql.py:1560\u001b[0m, in \u001b[0;36mSQLDatabase.read_query\u001b[0;34m(self, sql, index_col, coerce_float, parse_dates, params, chunksize, dtype)\u001b[0m\n\u001b[1;32m   1512\u001b[0m \u001b[39m\u001b[39m\u001b[39m\"\"\"\u001b[39;00m\n\u001b[1;32m   1513\u001b[0m \u001b[39mRead SQL query into a DataFrame.\u001b[39;00m\n\u001b[1;32m   1514\u001b[0m \n\u001b[0;32m   (...)\u001b[0m\n\u001b[1;32m   1556\u001b[0m \n\u001b[1;32m   1557\u001b[0m \u001b[39m\"\"\"\u001b[39;00m\n\u001b[1;32m   1558\u001b[0m args \u001b[39m=\u001b[39m _convert_params(sql, params)\n\u001b[0;32m-> 1560\u001b[0m result \u001b[39m=\u001b[39m \u001b[39mself\u001b[39;49m\u001b[39m.\u001b[39;49mexecute(\u001b[39m*\u001b[39;49margs)\n\u001b[1;32m   1561\u001b[0m columns \u001b[39m=\u001b[39m result\u001b[39m.\u001b[39mkeys()\n\u001b[1;32m   1563\u001b[0m \u001b[39mif\u001b[39;00m chunksize \u001b[39mis\u001b[39;00m \u001b[39mnot\u001b[39;00m \u001b[39mNone\u001b[39;00m:\n",
      "File \u001b[0;32m/Library/Frameworks/Python.framework/Versions/3.11/lib/python3.11/site-packages/pandas/io/sql.py:1405\u001b[0m, in \u001b[0;36mSQLDatabase.execute\u001b[0;34m(self, *args, **kwargs)\u001b[0m\n\u001b[1;32m   1403\u001b[0m \u001b[39mdef\u001b[39;00m \u001b[39mexecute\u001b[39m(\u001b[39mself\u001b[39m, \u001b[39m*\u001b[39margs, \u001b[39m*\u001b[39m\u001b[39m*\u001b[39mkwargs):\n\u001b[1;32m   1404\u001b[0m \u001b[39m    \u001b[39m\u001b[39m\"\"\"Simple passthrough to SQLAlchemy connectable\"\"\"\u001b[39;00m\n\u001b[0;32m-> 1405\u001b[0m     \u001b[39mreturn\u001b[39;00m \u001b[39mself\u001b[39;49m\u001b[39m.\u001b[39;49mconnectable\u001b[39m.\u001b[39;49mexecution_options()\u001b[39m.\u001b[39;49mexecute(\u001b[39m*\u001b[39;49margs, \u001b[39m*\u001b[39;49m\u001b[39m*\u001b[39;49mkwargs)\n",
      "File \u001b[0;32m/Library/Frameworks/Python.framework/Versions/3.11/lib/python3.11/site-packages/sqlalchemy/engine/base.py:1412\u001b[0m, in \u001b[0;36mConnection.execute\u001b[0;34m(self, statement, parameters, execution_options)\u001b[0m\n\u001b[1;32m   1410\u001b[0m     meth \u001b[39m=\u001b[39m statement\u001b[39m.\u001b[39m_execute_on_connection\n\u001b[1;32m   1411\u001b[0m \u001b[39mexcept\u001b[39;00m \u001b[39mAttributeError\u001b[39;00m \u001b[39mas\u001b[39;00m err:\n\u001b[0;32m-> 1412\u001b[0m     \u001b[39mraise\u001b[39;00m exc\u001b[39m.\u001b[39mObjectNotExecutableError(statement) \u001b[39mfrom\u001b[39;00m \u001b[39merr\u001b[39;00m\n\u001b[1;32m   1413\u001b[0m \u001b[39melse\u001b[39;00m:\n\u001b[1;32m   1414\u001b[0m     \u001b[39mreturn\u001b[39;00m meth(\n\u001b[1;32m   1415\u001b[0m         \u001b[39mself\u001b[39m,\n\u001b[1;32m   1416\u001b[0m         distilled_parameters,\n\u001b[1;32m   1417\u001b[0m         execution_options \u001b[39mor\u001b[39;00m NO_OPTIONS,\n\u001b[1;32m   1418\u001b[0m     )\n",
      "\u001b[0;31mObjectNotExecutableError\u001b[0m: Not an executable object: \"\\nselect strftime('%Y-%m',order_date) as date,\\ncount(id) as order_per_month\\nfrom df_info_clients\\ngroup by date\\n\""
     ]
    }
   ],
   "source": [
    "query = \"\"\"\n",
    "select strftime('%Y-%m',order_date) as date,\n",
    "count(id) as order_per_month\n",
    "from df_info_clients\n",
    "group by date\n",
    "\"\"\"\n",
    "\n",
    "print(ps.sqldf(query, locals()))\n",
    "plt.figure(figsize=(12, 6))\n",
    "sns.barplot(data=ps.sqldf(query, locals()), x=\"date\", y=\"order_per_month\")\n",
    "plt.xticks(rotation=90)\n",
    "plt.show()"
   ]
  },
  {
   "cell_type": "markdown",
   "metadata": {},
   "source": [
    "#### 3.1.5) Years"
   ]
  },
  {
   "cell_type": "code",
   "execution_count": null,
   "metadata": {},
   "outputs": [
    {
     "ename": "ObjectNotExecutableError",
     "evalue": "Not an executable object: \"\\nselect strftime('%Y',order_date) as date,\\ncount(id) as order_per_year\\nfrom df_info_clients\\ngroup by date\\n\"",
     "output_type": "error",
     "traceback": [
      "\u001b[0;31m---------------------------------------------------------------------------\u001b[0m",
      "\u001b[0;31mAttributeError\u001b[0m                            Traceback (most recent call last)",
      "File \u001b[0;32m/Library/Frameworks/Python.framework/Versions/3.11/lib/python3.11/site-packages/sqlalchemy/engine/base.py:1410\u001b[0m, in \u001b[0;36mConnection.execute\u001b[0;34m(self, statement, parameters, execution_options)\u001b[0m\n\u001b[1;32m   1409\u001b[0m \u001b[39mtry\u001b[39;00m:\n\u001b[0;32m-> 1410\u001b[0m     meth \u001b[39m=\u001b[39m statement\u001b[39m.\u001b[39;49m_execute_on_connection\n\u001b[1;32m   1411\u001b[0m \u001b[39mexcept\u001b[39;00m \u001b[39mAttributeError\u001b[39;00m \u001b[39mas\u001b[39;00m err:\n",
      "\u001b[0;31mAttributeError\u001b[0m: 'str' object has no attribute '_execute_on_connection'",
      "\nThe above exception was the direct cause of the following exception:\n",
      "\u001b[0;31mObjectNotExecutableError\u001b[0m                  Traceback (most recent call last)",
      "Cell \u001b[0;32mIn[16], line 8\u001b[0m\n\u001b[1;32m      1\u001b[0m query \u001b[39m=\u001b[39m \u001b[39m\"\"\"\u001b[39m\n\u001b[1;32m      2\u001b[0m \u001b[39mselect strftime(\u001b[39m\u001b[39m'\u001b[39m\u001b[39m%\u001b[39m\u001b[39mY\u001b[39m\u001b[39m'\u001b[39m\u001b[39m,order_date) as date,\u001b[39m\n\u001b[1;32m      3\u001b[0m \u001b[39mcount(id) as order_per_year\u001b[39m\n\u001b[1;32m      4\u001b[0m \u001b[39mfrom df_info_clients\u001b[39m\n\u001b[1;32m      5\u001b[0m \u001b[39mgroup by date\u001b[39m\n\u001b[1;32m      6\u001b[0m \u001b[39m\"\"\"\u001b[39m\n\u001b[0;32m----> 8\u001b[0m \u001b[39mprint\u001b[39m(ps\u001b[39m.\u001b[39;49msqldf(query, \u001b[39mlocals\u001b[39;49m()))\n\u001b[1;32m      9\u001b[0m plt\u001b[39m.\u001b[39mfigure(figsize\u001b[39m=\u001b[39m(\u001b[39m12\u001b[39m, \u001b[39m6\u001b[39m))\n\u001b[1;32m     10\u001b[0m sns\u001b[39m.\u001b[39mbarplot(data\u001b[39m=\u001b[39mps\u001b[39m.\u001b[39msqldf(query, \u001b[39mlocals\u001b[39m()), x\u001b[39m=\u001b[39m\u001b[39m\"\u001b[39m\u001b[39mdate\u001b[39m\u001b[39m\"\u001b[39m, y\u001b[39m=\u001b[39m\u001b[39m\"\u001b[39m\u001b[39morder_per_year\u001b[39m\u001b[39m\"\u001b[39m)\n",
      "File \u001b[0;32m/Library/Frameworks/Python.framework/Versions/3.11/lib/python3.11/site-packages/pandasql/sqldf.py:156\u001b[0m, in \u001b[0;36msqldf\u001b[0;34m(query, env, db_uri)\u001b[0m\n\u001b[1;32m    124\u001b[0m \u001b[39mdef\u001b[39;00m \u001b[39msqldf\u001b[39m(query, env\u001b[39m=\u001b[39m\u001b[39mNone\u001b[39;00m, db_uri\u001b[39m=\u001b[39m\u001b[39m'\u001b[39m\u001b[39msqlite:///:memory:\u001b[39m\u001b[39m'\u001b[39m):\n\u001b[1;32m    125\u001b[0m \u001b[39m    \u001b[39m\u001b[39m\"\"\"\u001b[39;00m\n\u001b[1;32m    126\u001b[0m \u001b[39m    Query pandas data frames using sql syntax\u001b[39;00m\n\u001b[1;32m    127\u001b[0m \u001b[39m    This function is meant for backward compatibility only. New users are encouraged to use the PandaSQL class.\u001b[39;00m\n\u001b[0;32m   (...)\u001b[0m\n\u001b[1;32m    154\u001b[0m \u001b[39m    >>> sqldf(\"select avg(x) from df;\", locals())\u001b[39;00m\n\u001b[1;32m    155\u001b[0m \u001b[39m    \"\"\"\u001b[39;00m\n\u001b[0;32m--> 156\u001b[0m     \u001b[39mreturn\u001b[39;00m PandaSQL(db_uri)(query, env)\n",
      "File \u001b[0;32m/Library/Frameworks/Python.framework/Versions/3.11/lib/python3.11/site-packages/pandasql/sqldf.py:61\u001b[0m, in \u001b[0;36mPandaSQL.__call__\u001b[0;34m(self, query, env)\u001b[0m\n\u001b[1;32m     58\u001b[0m     write_table(env[table_name], table_name, conn)\n\u001b[1;32m     60\u001b[0m \u001b[39mtry\u001b[39;00m:\n\u001b[0;32m---> 61\u001b[0m     result \u001b[39m=\u001b[39m read_sql(query, conn)\n\u001b[1;32m     62\u001b[0m \u001b[39mexcept\u001b[39;00m DatabaseError \u001b[39mas\u001b[39;00m ex:\n\u001b[1;32m     63\u001b[0m     \u001b[39mraise\u001b[39;00m PandaSQLException(ex)\n",
      "File \u001b[0;32m/Library/Frameworks/Python.framework/Versions/3.11/lib/python3.11/site-packages/pandas/io/sql.py:590\u001b[0m, in \u001b[0;36mread_sql\u001b[0;34m(sql, con, index_col, coerce_float, params, parse_dates, columns, chunksize)\u001b[0m\n\u001b[1;32m    581\u001b[0m     \u001b[39mreturn\u001b[39;00m pandas_sql\u001b[39m.\u001b[39mread_table(\n\u001b[1;32m    582\u001b[0m         sql,\n\u001b[1;32m    583\u001b[0m         index_col\u001b[39m=\u001b[39mindex_col,\n\u001b[0;32m   (...)\u001b[0m\n\u001b[1;32m    587\u001b[0m         chunksize\u001b[39m=\u001b[39mchunksize,\n\u001b[1;32m    588\u001b[0m     )\n\u001b[1;32m    589\u001b[0m \u001b[39melse\u001b[39;00m:\n\u001b[0;32m--> 590\u001b[0m     \u001b[39mreturn\u001b[39;00m pandas_sql\u001b[39m.\u001b[39;49mread_query(\n\u001b[1;32m    591\u001b[0m         sql,\n\u001b[1;32m    592\u001b[0m         index_col\u001b[39m=\u001b[39;49mindex_col,\n\u001b[1;32m    593\u001b[0m         params\u001b[39m=\u001b[39;49mparams,\n\u001b[1;32m    594\u001b[0m         coerce_float\u001b[39m=\u001b[39;49mcoerce_float,\n\u001b[1;32m    595\u001b[0m         parse_dates\u001b[39m=\u001b[39;49mparse_dates,\n\u001b[1;32m    596\u001b[0m         chunksize\u001b[39m=\u001b[39;49mchunksize,\n\u001b[1;32m    597\u001b[0m     )\n",
      "File \u001b[0;32m/Library/Frameworks/Python.framework/Versions/3.11/lib/python3.11/site-packages/pandas/io/sql.py:1560\u001b[0m, in \u001b[0;36mSQLDatabase.read_query\u001b[0;34m(self, sql, index_col, coerce_float, parse_dates, params, chunksize, dtype)\u001b[0m\n\u001b[1;32m   1512\u001b[0m \u001b[39m\u001b[39m\u001b[39m\"\"\"\u001b[39;00m\n\u001b[1;32m   1513\u001b[0m \u001b[39mRead SQL query into a DataFrame.\u001b[39;00m\n\u001b[1;32m   1514\u001b[0m \n\u001b[0;32m   (...)\u001b[0m\n\u001b[1;32m   1556\u001b[0m \n\u001b[1;32m   1557\u001b[0m \u001b[39m\"\"\"\u001b[39;00m\n\u001b[1;32m   1558\u001b[0m args \u001b[39m=\u001b[39m _convert_params(sql, params)\n\u001b[0;32m-> 1560\u001b[0m result \u001b[39m=\u001b[39m \u001b[39mself\u001b[39;49m\u001b[39m.\u001b[39;49mexecute(\u001b[39m*\u001b[39;49margs)\n\u001b[1;32m   1561\u001b[0m columns \u001b[39m=\u001b[39m result\u001b[39m.\u001b[39mkeys()\n\u001b[1;32m   1563\u001b[0m \u001b[39mif\u001b[39;00m chunksize \u001b[39mis\u001b[39;00m \u001b[39mnot\u001b[39;00m \u001b[39mNone\u001b[39;00m:\n",
      "File \u001b[0;32m/Library/Frameworks/Python.framework/Versions/3.11/lib/python3.11/site-packages/pandas/io/sql.py:1405\u001b[0m, in \u001b[0;36mSQLDatabase.execute\u001b[0;34m(self, *args, **kwargs)\u001b[0m\n\u001b[1;32m   1403\u001b[0m \u001b[39mdef\u001b[39;00m \u001b[39mexecute\u001b[39m(\u001b[39mself\u001b[39m, \u001b[39m*\u001b[39margs, \u001b[39m*\u001b[39m\u001b[39m*\u001b[39mkwargs):\n\u001b[1;32m   1404\u001b[0m \u001b[39m    \u001b[39m\u001b[39m\"\"\"Simple passthrough to SQLAlchemy connectable\"\"\"\u001b[39;00m\n\u001b[0;32m-> 1405\u001b[0m     \u001b[39mreturn\u001b[39;00m \u001b[39mself\u001b[39;49m\u001b[39m.\u001b[39;49mconnectable\u001b[39m.\u001b[39;49mexecution_options()\u001b[39m.\u001b[39;49mexecute(\u001b[39m*\u001b[39;49margs, \u001b[39m*\u001b[39;49m\u001b[39m*\u001b[39;49mkwargs)\n",
      "File \u001b[0;32m/Library/Frameworks/Python.framework/Versions/3.11/lib/python3.11/site-packages/sqlalchemy/engine/base.py:1412\u001b[0m, in \u001b[0;36mConnection.execute\u001b[0;34m(self, statement, parameters, execution_options)\u001b[0m\n\u001b[1;32m   1410\u001b[0m     meth \u001b[39m=\u001b[39m statement\u001b[39m.\u001b[39m_execute_on_connection\n\u001b[1;32m   1411\u001b[0m \u001b[39mexcept\u001b[39;00m \u001b[39mAttributeError\u001b[39;00m \u001b[39mas\u001b[39;00m err:\n\u001b[0;32m-> 1412\u001b[0m     \u001b[39mraise\u001b[39;00m exc\u001b[39m.\u001b[39mObjectNotExecutableError(statement) \u001b[39mfrom\u001b[39;00m \u001b[39merr\u001b[39;00m\n\u001b[1;32m   1413\u001b[0m \u001b[39melse\u001b[39;00m:\n\u001b[1;32m   1414\u001b[0m     \u001b[39mreturn\u001b[39;00m meth(\n\u001b[1;32m   1415\u001b[0m         \u001b[39mself\u001b[39m,\n\u001b[1;32m   1416\u001b[0m         distilled_parameters,\n\u001b[1;32m   1417\u001b[0m         execution_options \u001b[39mor\u001b[39;00m NO_OPTIONS,\n\u001b[1;32m   1418\u001b[0m     )\n",
      "\u001b[0;31mObjectNotExecutableError\u001b[0m: Not an executable object: \"\\nselect strftime('%Y',order_date) as date,\\ncount(id) as order_per_year\\nfrom df_info_clients\\ngroup by date\\n\""
     ]
    }
   ],
   "source": [
    "query = \"\"\"\n",
    "select strftime('%Y',order_date) as date,\n",
    "count(id) as order_per_year\n",
    "from df_info_clients\n",
    "group by date\n",
    "\"\"\"\n",
    "\n",
    "print(ps.sqldf(query, locals()))\n",
    "plt.figure(figsize=(12, 6))\n",
    "sns.barplot(data=ps.sqldf(query, locals()), x=\"date\", y=\"order_per_year\")\n",
    "plt.xticks(rotation=90)\n",
    "plt.show()"
   ]
  },
  {
   "cell_type": "markdown",
   "metadata": {},
   "source": [
    "#### 3.1.6) Category"
   ]
  },
  {
   "cell_type": "code",
   "execution_count": null,
   "metadata": {},
   "outputs": [
    {
     "ename": "",
     "evalue": "",
     "output_type": "error",
     "traceback": [
      "\u001b[1;31mFailed to start the Kernel. \n",
      "\u001b[1;31mJupyter server crashed. Unable to connect. \n",
      "\u001b[1;31mError code from Jupyter: 1\n",
      "\u001b[1;31musage: jupyter.py [-h] [--version] [--config-dir] [--data-dir] [--runtime-dir]\n",
      "\u001b[1;31m                  [--paths] [--json] [--debug]\n",
      "\u001b[1;31m                  [subcommand]\n",
      "\u001b[1;31m\n",
      "\u001b[1;31mJupyter: Interactive Computing\n",
      "\u001b[1;31m\n",
      "\u001b[1;31mpositional arguments:\n",
      "\u001b[1;31m  subcommand     the subcommand to launch\n",
      "\u001b[1;31m\n",
      "\u001b[1;31moptions:\n",
      "\u001b[1;31m  -h, --help     show this help message and exit\n",
      "\u001b[1;31m  --version      show the versions of core jupyter packages and exit\n",
      "\u001b[1;31m  --config-dir   show Jupyter config dir\n",
      "\u001b[1;31m  --data-dir     show Jupyter data dir\n",
      "\u001b[1;31m  --runtime-dir  show Jupyter runtime dir\n",
      "\u001b[1;31m  --paths        show all Jupyter paths. Add --json for machine-readable\n",
      "\u001b[1;31m                 format.\n",
      "\u001b[1;31m  --json         output paths as machine-readable json\n",
      "\u001b[1;31m  --debug        output debug information about paths\n",
      "\u001b[1;31m\n",
      "\u001b[1;31mAvailable subcommands:\n",
      "\u001b[1;31m\n",
      "\u001b[1;31mJupyter command `jupyter-notebook` not found. \n",
      "\u001b[1;31mView Jupyter <a href='command:jupyter.viewOutput'>log</a> for further details."
     ]
    }
   ],
   "source": [
    "query = \"\"\"\n",
    "select category_english,\n",
    "count(id) as count_category\n",
    "from df_info_clients\n",
    "group by category_english\n",
    "order by count_category desc\n",
    "limit 10\n",
    "\"\"\"\n",
    "\n",
    "print(ps.sqldf(query, locals()))\n",
    "plt.figure(figsize=(20, 6))\n",
    "sns.barplot(data=ps.sqldf(query, locals()), x=\"category_english\", y=\"count_category\")\n",
    "plt.xticks(rotation=90)\n",
    "plt.show()"
   ]
  },
  {
   "cell_type": "markdown",
   "metadata": {},
   "source": [
    "### 3.2) Numerical variables"
   ]
  },
  {
   "cell_type": "markdown",
   "metadata": {},
   "source": [
    "In order to make our job easier, I am going to define some functions of statistics and graphs"
   ]
  },
  {
   "cell_type": "code",
   "execution_count": 49,
   "metadata": {},
   "outputs": [],
   "source": [
    "def statistics(df_column):\n",
    "    column_mean = df_column.mean()\n",
    "    column_median = df_column.median()\n",
    "    column_std = df_column.std()\n",
    "    column_min = df_column.min()\n",
    "    column_max = df_column.max()\n",
    "    column_skew = df_column.skew()\n",
    "    column_kutosis = df_column.kurtosis()\n",
    "    \n",
    "    stats = pd.DataFrame([column_mean, column_median, column_std, column_min, column_max, column_skew, column_kutosis]).T\n",
    "    stats.columns = ['mean', 'median', 'std', 'min', 'max', 'skew', 'kurtosis']\n",
    "    \n",
    "    return stats"
   ]
  },
  {
   "cell_type": "code",
   "execution_count": 50,
   "metadata": {},
   "outputs": [],
   "source": [
    "def histogram(df_column):\n",
    "    plt.figure(figsize=(12, 6))\n",
    "    return sns.distplot(df_column)"
   ]
  },
  {
   "cell_type": "markdown",
   "metadata": {},
   "source": [
    "#### 3.1) Order's Price "
   ]
  },
  {
   "cell_type": "code",
   "execution_count": 51,
   "metadata": {},
   "outputs": [
    {
     "data": {
      "text/html": [
       "<div>\n",
       "<style scoped>\n",
       "    .dataframe tbody tr th:only-of-type {\n",
       "        vertical-align: middle;\n",
       "    }\n",
       "\n",
       "    .dataframe tbody tr th {\n",
       "        vertical-align: top;\n",
       "    }\n",
       "\n",
       "    .dataframe thead th {\n",
       "        text-align: right;\n",
       "    }\n",
       "</style>\n",
       "<table border=\"1\" class=\"dataframe\">\n",
       "  <thead>\n",
       "    <tr style=\"text-align: right;\">\n",
       "      <th></th>\n",
       "      <th>mean</th>\n",
       "      <th>median</th>\n",
       "      <th>std</th>\n",
       "      <th>min</th>\n",
       "      <th>max</th>\n",
       "      <th>skew</th>\n",
       "      <th>kurtosis</th>\n",
       "    </tr>\n",
       "  </thead>\n",
       "  <tbody>\n",
       "    <tr>\n",
       "      <th>0</th>\n",
       "      <td>120.751369</td>\n",
       "      <td>74.9</td>\n",
       "      <td>183.848421</td>\n",
       "      <td>0.85</td>\n",
       "      <td>6735.0</td>\n",
       "      <td>7.860937</td>\n",
       "      <td>118.942687</td>\n",
       "    </tr>\n",
       "  </tbody>\n",
       "</table>\n",
       "</div>"
      ],
      "text/plain": [
       "         mean  median         std   min     max      skew    kurtosis\n",
       "0  120.751369    74.9  183.848421  0.85  6735.0  7.860937  118.942687"
      ]
     },
     "execution_count": 51,
     "metadata": {},
     "output_type": "execute_result"
    }
   ],
   "source": [
    "statistics(df_info_clients['order_price'])"
   ]
  },
  {
   "cell_type": "code",
   "execution_count": 52,
   "metadata": {
    "scrolled": false
   },
   "outputs": [
    {
     "data": {
      "text/plain": [
       "<Axes: xlabel='order_price', ylabel='Density'>"
      ]
     },
     "execution_count": 52,
     "metadata": {},
     "output_type": "execute_result"
    },
    {
     "data": {
      "image/png": "[encoded data removed]",
      "text/plain": [
       "<Figure size 1200x600 with 1 Axes>"
      ]
     },
     "metadata": {},
     "output_type": "display_data"
    }
   ],
   "source": [
    "histogram(df_info_clients['order_price'])"
   ]
  },
  {
   "cell_type": "code",
   "execution_count": 53,
   "metadata": {},
   "outputs": [
    {
     "data": {
      "text/plain": [
       "<Axes: ylabel='Density'>"
      ]
     },
     "execution_count": 53,
     "metadata": {},
     "output_type": "execute_result"
    },
    {
     "data": {
      "image/png": "[encoded data removed]",
      "text/plain": [
       "<Figure size 1200x600 with 1 Axes>"
      ]
     },
     "metadata": {},
     "output_type": "display_data"
    }
   ],
   "source": [
    "histogram(df_info_clients[df_info_clients['order_price']<1000][['order_price']])"
   ]
  },
  {
   "cell_type": "markdown",
   "metadata": {},
   "source": [
    "#### 3.2)Delivery Price"
   ]
  },
  {
   "cell_type": "code",
   "execution_count": 54,
   "metadata": {},
   "outputs": [
    {
     "data": {
      "text/html": [
       "<div>\n",
       "<style scoped>\n",
       "    .dataframe tbody tr th:only-of-type {\n",
       "        vertical-align: middle;\n",
       "    }\n",
       "\n",
       "    .dataframe tbody tr th {\n",
       "        vertical-align: top;\n",
       "    }\n",
       "\n",
       "    .dataframe thead th {\n",
       "        text-align: right;\n",
       "    }\n",
       "</style>\n",
       "<table border=\"1\" class=\"dataframe\">\n",
       "  <thead>\n",
       "    <tr style=\"text-align: right;\">\n",
       "      <th></th>\n",
       "      <th>mean</th>\n",
       "      <th>median</th>\n",
       "      <th>std</th>\n",
       "      <th>min</th>\n",
       "      <th>max</th>\n",
       "      <th>skew</th>\n",
       "      <th>kurtosis</th>\n",
       "    </tr>\n",
       "  </thead>\n",
       "  <tbody>\n",
       "    <tr>\n",
       "      <th>0</th>\n",
       "      <td>20.06255</td>\n",
       "      <td>16.32</td>\n",
       "      <td>15.845515</td>\n",
       "      <td>0.0</td>\n",
       "      <td>409.68</td>\n",
       "      <td>5.550873</td>\n",
       "      <td>57.955508</td>\n",
       "    </tr>\n",
       "  </tbody>\n",
       "</table>\n",
       "</div>"
      ],
      "text/plain": [
       "       mean  median        std  min     max      skew   kurtosis\n",
       "0  20.06255   16.32  15.845515  0.0  409.68  5.550873  57.955508"
      ]
     },
     "execution_count": 54,
     "metadata": {},
     "output_type": "execute_result"
    }
   ],
   "source": [
    "statistics(df_info_clients['delivery_price'])"
   ]
  },
  {
   "cell_type": "code",
   "execution_count": 55,
   "metadata": {},
   "outputs": [
    {
     "data": {
      "text/plain": [
       "<Axes: xlabel='delivery_price', ylabel='Density'>"
      ]
     },
     "execution_count": 55,
     "metadata": {},
     "output_type": "execute_result"
    },
    {
     "data": {
      "image/png": "[encoded data removed]",
      "text/plain": [
       "<Figure size 1200x600 with 1 Axes>"
      ]
     },
     "metadata": {},
     "output_type": "display_data"
    }
   ],
   "source": [
    "histogram(df_info_clients['delivery_price'])"
   ]
  },
  {
   "cell_type": "code",
   "execution_count": 56,
   "metadata": {},
   "outputs": [
    {
     "data": {
      "text/plain": [
       "<Axes: ylabel='Density'>"
      ]
     },
     "execution_count": 56,
     "metadata": {},
     "output_type": "execute_result"
    },
    {
     "data": {
      "image/png": "[encoded data removed]",
      "text/plain": [
       "<Figure size 1200x600 with 1 Axes>"
      ]
     },
     "metadata": {},
     "output_type": "display_data"
    }
   ],
   "source": [
    "histogram(df_info_clients[df_info_clients['delivery_price']<100][['delivery_price']])"
   ]
  },
  {
   "cell_type": "markdown",
   "metadata": {},
   "source": [
    "#### 3.3)Total Price "
   ]
  },
  {
   "cell_type": "code",
   "execution_count": 57,
   "metadata": {},
   "outputs": [
    {
     "data": {
      "text/html": [
       "<div>\n",
       "<style scoped>\n",
       "    .dataframe tbody tr th:only-of-type {\n",
       "        vertical-align: middle;\n",
       "    }\n",
       "\n",
       "    .dataframe tbody tr th {\n",
       "        vertical-align: top;\n",
       "    }\n",
       "\n",
       "    .dataframe thead th {\n",
       "        text-align: right;\n",
       "    }\n",
       "</style>\n",
       "<table border=\"1\" class=\"dataframe\">\n",
       "  <thead>\n",
       "    <tr style=\"text-align: right;\">\n",
       "      <th></th>\n",
       "      <th>mean</th>\n",
       "      <th>median</th>\n",
       "      <th>std</th>\n",
       "      <th>min</th>\n",
       "      <th>max</th>\n",
       "      <th>skew</th>\n",
       "      <th>kurtosis</th>\n",
       "    </tr>\n",
       "  </thead>\n",
       "  <tbody>\n",
       "    <tr>\n",
       "      <th>0</th>\n",
       "      <td>172.910258</td>\n",
       "      <td>108.19</td>\n",
       "      <td>267.622516</td>\n",
       "      <td>0.0</td>\n",
       "      <td>13664.08</td>\n",
       "      <td>14.143067</td>\n",
       "      <td>511.101708</td>\n",
       "    </tr>\n",
       "  </tbody>\n",
       "</table>\n",
       "</div>"
      ],
      "text/plain": [
       "         mean  median         std  min       max       skew    kurtosis\n",
       "0  172.910258  108.19  267.622516  0.0  13664.08  14.143067  511.101708"
      ]
     },
     "execution_count": 57,
     "metadata": {},
     "output_type": "execute_result"
    }
   ],
   "source": [
    "statistics(df_info_clients['total_price'])"
   ]
  },
  {
   "cell_type": "code",
   "execution_count": 58,
   "metadata": {},
   "outputs": [
    {
     "data": {
      "text/plain": [
       "<Axes: xlabel='total_price', ylabel='Density'>"
      ]
     },
     "execution_count": 58,
     "metadata": {},
     "output_type": "execute_result"
    },
    {
     "data": {
      "image/png": "[encoded data removed]",
      "text/plain": [
       "<Figure size 1200x600 with 1 Axes>"
      ]
     },
     "metadata": {},
     "output_type": "display_data"
    }
   ],
   "source": [
    "histogram(df_info_clients['total_price'])"
   ]
  },
  {
   "cell_type": "code",
   "execution_count": 59,
   "metadata": {},
   "outputs": [
    {
     "data": {
      "text/plain": [
       "<Axes: ylabel='Density'>"
      ]
     },
     "execution_count": 59,
     "metadata": {},
     "output_type": "execute_result"
    },
    {
     "data": {
      "image/png": "[encoded data removed]",
      "text/plain": [
       "<Figure size 1200x600 with 1 Axes>"
      ]
     },
     "metadata": {},
     "output_type": "display_data"
    }
   ],
   "source": [
    "histogram(df_info_clients[df_info_clients['total_price']<1000][['total_price']])"
   ]
  },
  {
   "cell_type": "markdown",
   "metadata": {},
   "source": [
    "#### 3.4) Review"
   ]
  },
  {
   "cell_type": "code",
   "execution_count": 60,
   "metadata": {},
   "outputs": [
    {
     "data": {
      "text/html": [
       "<div>\n",
       "<style scoped>\n",
       "    .dataframe tbody tr th:only-of-type {\n",
       "        vertical-align: middle;\n",
       "    }\n",
       "\n",
       "    .dataframe tbody tr th {\n",
       "        vertical-align: top;\n",
       "    }\n",
       "\n",
       "    .dataframe thead th {\n",
       "        text-align: right;\n",
       "    }\n",
       "</style>\n",
       "<table border=\"1\" class=\"dataframe\">\n",
       "  <thead>\n",
       "    <tr style=\"text-align: right;\">\n",
       "      <th></th>\n",
       "      <th>mean</th>\n",
       "      <th>median</th>\n",
       "      <th>std</th>\n",
       "      <th>min</th>\n",
       "      <th>max</th>\n",
       "      <th>skew</th>\n",
       "      <th>kurtosis</th>\n",
       "    </tr>\n",
       "  </thead>\n",
       "  <tbody>\n",
       "    <tr>\n",
       "      <th>0</th>\n",
       "      <td>4.017507</td>\n",
       "      <td>5.0</td>\n",
       "      <td>1.397886</td>\n",
       "      <td>1.0</td>\n",
       "      <td>5.0</td>\n",
       "      <td>-1.247828</td>\n",
       "      <td>0.128808</td>\n",
       "    </tr>\n",
       "  </tbody>\n",
       "</table>\n",
       "</div>"
      ],
      "text/plain": [
       "       mean  median       std  min  max      skew  kurtosis\n",
       "0  4.017507     5.0  1.397886  1.0  5.0 -1.247828  0.128808"
      ]
     },
     "execution_count": 60,
     "metadata": {},
     "output_type": "execute_result"
    }
   ],
   "source": [
    "statistics(df_info_clients['review'])"
   ]
  },
  {
   "cell_type": "code",
   "execution_count": 61,
   "metadata": {},
   "outputs": [
    {
     "name": "stdout",
     "output_type": "stream",
     "text": [
      "Count of the star rating reviews\n"
     ]
    },
    {
     "data": {
      "text/plain": [
       "5    65479\n",
       "4    22017\n",
       "1    15110\n",
       "3     9842\n",
       "2     4133\n",
       "Name: review, dtype: int64"
      ]
     },
     "execution_count": 61,
     "metadata": {},
     "output_type": "execute_result"
    }
   ],
   "source": [
    "print(\"Count of the star rating reviews\")\n",
    "df_info_clients['review'].value_counts(normalize=False)"
   ]
  },
  {
   "cell_type": "code",
   "execution_count": 62,
   "metadata": {},
   "outputs": [
    {
     "data": {
      "text/plain": [
       "5    0.561661\n",
       "4    0.188856\n",
       "1    0.129609\n",
       "3    0.084422\n",
       "2    0.035452\n",
       "Name: review, dtype: float64"
      ]
     },
     "execution_count": 62,
     "metadata": {},
     "output_type": "execute_result"
    }
   ],
   "source": [
    "df_info_clients['review'].value_counts(normalize=True)"
   ]
  },
  {
   "cell_type": "code",
   "execution_count": 63,
   "metadata": {},
   "outputs": [
    {
     "data": {
      "text/plain": [
       "<Axes: xlabel='review', ylabel='Density'>"
      ]
     },
     "execution_count": 63,
     "metadata": {},
     "output_type": "execute_result"
    },
    {
     "data": {
      "image/png": "[encoded data removed]",
      "text/plain": [
       "<Figure size 1200x600 with 1 Axes>"
      ]
     },
     "metadata": {},
     "output_type": "display_data"
    }
   ],
   "source": [
    "histogram(df_info_clients['review'])"
   ]
  },
  {
   "cell_type": "code",
   "execution_count": 64,
   "metadata": {},
   "outputs": [
    {
     "name": "stdout",
     "output_type": "stream",
     "text": [
      "116581 clients rated the order and 116581 clients made an order in this period, that, 100% of the clients rated the order\n"
     ]
    }
   ],
   "source": [
    "print(str(df_info_clients['review'].value_counts(normalize=False).sum()) +' clients rated the order and ' + str(df_info_clients['id'].count()) + ' clients made an order in this period, that, 100% of the clients rated the order')"
   ]
  },
  {
   "cell_type": "markdown",
   "metadata": {},
   "source": [
    "#### 3.4) Parcels Pay"
   ]
  },
  {
   "cell_type": "code",
   "execution_count": 65,
   "metadata": {},
   "outputs": [
    {
     "data": {
      "text/plain": [
       "1     58030\n",
       "2     13515\n",
       "3     11653\n",
       "4      7926\n",
       "10     6867\n",
       "5      5983\n",
       "8      5055\n",
       "6      4587\n",
       "7      1804\n",
       "9       724\n",
       "12      166\n",
       "15       93\n",
       "18       38\n",
       "24       34\n",
       "11       25\n",
       "20       21\n",
       "13       19\n",
       "14       16\n",
       "17        7\n",
       "16        7\n",
       "21        6\n",
       "0         3\n",
       "23        1\n",
       "22        1\n",
       "Name: divided_pay, dtype: int64"
      ]
     },
     "execution_count": 65,
     "metadata": {},
     "output_type": "execute_result"
    }
   ],
   "source": [
    "df_info_clients['divided_pay'].value_counts(normalize=False)"
   ]
  },
  {
   "cell_type": "code",
   "execution_count": 66,
   "metadata": {},
   "outputs": [
    {
     "data": {
      "text/plain": [
       "<Axes: xlabel='divided_pay', ylabel='Density'>"
      ]
     },
     "execution_count": 66,
     "metadata": {},
     "output_type": "execute_result"
    },
    {
     "data": {
      "image/png": "[encoded data removed]",
      "text/plain": [
       "<Figure size 1200x600 with 1 Axes>"
      ]
     },
     "metadata": {},
     "output_type": "display_data"
    }
   ],
   "source": [
    "histogram(df_info_clients['divided_pay'])"
   ]
  },
  {
   "cell_type": "markdown",
   "metadata": {},
   "source": [
    "### 4) Creating Hypothesis "
   ]
  },
  {
   "cell_type": "markdown",
   "metadata": {},
   "source": [
    "#### 4.1) Which group of customers should we send each marketing campaign?\n",
    "\n",
    "1) Clients living in southeast of Brazil are more likely to buy more products.\n",
    "\n",
    "\n",
    "#### 4.2) How to define which products should appear as a suggestion for each type of customer?\n",
    "\n",
    "1) The correlation between category and the client's city\n",
    "\n",
    "2) The correlation between category and the client's state\n",
    "\n",
    "\n",
    "#### 4.3) How can we increase the sales conversion?\n",
    "\n",
    "1) Sales that were delivered quicker has a better rating review\n",
    "\n",
    "2) Sales with lower delivery prices has a better rating review\n",
    "\n",
    "3) Sales with no develivery expenses are more likely to be bought\n",
    "\n",
    "4) Sales that were delivered after the estimated date has a lower rating\n",
    "\n",
    "5) Bed, bath, table, heath and beauty are more likely to be bought \n",
    "\n",
    "6) The clients are more likely to buy near holidays such as christmas"
   ]
  },
  {
   "cell_type": "markdown",
   "metadata": {},
   "source": [
    "# Bivariate Analysis"
   ]
  },
  {
   "cell_type": "code",
   "execution_count": 67,
   "metadata": {},
   "outputs": [],
   "source": [
    "def statistics_bi (col1, col2, df):\n",
    "    x_mean = df[[col1, col2]].groupby([col1]).mean().reset_index().sort_values(by = [col1])\n",
    "    x_count = df[[col1, col2]].groupby([col1]).count().reset_index().sort_values(by = [col1]).iloc[:,1]\n",
    "    x_median = df[[col1, col2]].groupby([col1]).median().reset_index().sort_values(by = [col1]).iloc[:,1]\n",
    "    x_std = df[[col1, col2]].groupby([col1]).std().reset_index().sort_values(by = [col1]).iloc[:,1]\n",
    "    x_min = df[[col1, col2]].groupby([col1]).min().reset_index().sort_values(by = [col1]).iloc[:,1]\n",
    "    x_max = df[[col1, col2]].groupby([col1]).max().reset_index().sort_values(by = [col1]).iloc[:,1]\n",
    "    x_skew = df[[col1, col2]].groupby([col1]).skew().reset_index().sort_values(by = [col1]).iloc[:,1]\n",
    "    \n",
    "    x_stats = pd.concat( [x_mean, x_median, x_std, x_min, x_max, x_skew, x_count], axis = 1)\n",
    "    x_stats.columns = [col1,'mean', 'median', 'std', 'min', 'max', 'skew', 'count']\n",
    "    return x_stats\n",
    "    "
   ]
  },
  {
   "cell_type": "markdown",
   "metadata": {},
   "source": [
    "## State X Price"
   ]
  },
  {
   "cell_type": "code",
   "execution_count": 68,
   "metadata": {
    "scrolled": false
   },
   "outputs": [
    {
     "data": {
      "text/html": [
       "<div>\n",
       "<style scoped>\n",
       "    .dataframe tbody tr th:only-of-type {\n",
       "        vertical-align: middle;\n",
       "    }\n",
       "\n",
       "    .dataframe tbody tr th {\n",
       "        vertical-align: top;\n",
       "    }\n",
       "\n",
       "    .dataframe thead th {\n",
       "        text-align: right;\n",
       "    }\n",
       "</style>\n",
       "<table border=\"1\" class=\"dataframe\">\n",
       "  <thead>\n",
       "    <tr style=\"text-align: right;\">\n",
       "      <th></th>\n",
       "      <th>client_state</th>\n",
       "      <th>mean</th>\n",
       "      <th>median</th>\n",
       "      <th>std</th>\n",
       "      <th>min</th>\n",
       "      <th>max</th>\n",
       "      <th>skew</th>\n",
       "      <th>count</th>\n",
       "    </tr>\n",
       "  </thead>\n",
       "  <tbody>\n",
       "    <tr>\n",
       "      <th>25</th>\n",
       "      <td>SP</td>\n",
       "      <td>109.945161</td>\n",
       "      <td>69.900</td>\n",
       "      <td>164.781768</td>\n",
       "      <td>0.85</td>\n",
       "      <td>6499.00</td>\n",
       "      <td>8.371865</td>\n",
       "      <td>49133</td>\n",
       "    </tr>\n",
       "    <tr>\n",
       "      <th>18</th>\n",
       "      <td>RJ</td>\n",
       "      <td>124.907719</td>\n",
       "      <td>79.900</td>\n",
       "      <td>187.829321</td>\n",
       "      <td>0.85</td>\n",
       "      <td>4799.00</td>\n",
       "      <td>7.161406</td>\n",
       "      <td>15185</td>\n",
       "    </tr>\n",
       "    <tr>\n",
       "      <th>10</th>\n",
       "      <td>MG</td>\n",
       "      <td>120.181602</td>\n",
       "      <td>75.900</td>\n",
       "      <td>178.696400</td>\n",
       "      <td>3.85</td>\n",
       "      <td>4099.99</td>\n",
       "      <td>7.520461</td>\n",
       "      <td>13530</td>\n",
       "    </tr>\n",
       "    <tr>\n",
       "      <th>22</th>\n",
       "      <td>RS</td>\n",
       "      <td>121.528005</td>\n",
       "      <td>75.000</td>\n",
       "      <td>178.510445</td>\n",
       "      <td>3.06</td>\n",
       "      <td>3124.00</td>\n",
       "      <td>6.478193</td>\n",
       "      <td>6436</td>\n",
       "    </tr>\n",
       "    <tr>\n",
       "      <th>17</th>\n",
       "      <td>PR</td>\n",
       "      <td>118.520140</td>\n",
       "      <td>72.500</td>\n",
       "      <td>178.304732</td>\n",
       "      <td>2.90</td>\n",
       "      <td>2999.99</td>\n",
       "      <td>6.774623</td>\n",
       "      <td>5908</td>\n",
       "    </tr>\n",
       "    <tr>\n",
       "      <th>23</th>\n",
       "      <td>SC</td>\n",
       "      <td>125.193853</td>\n",
       "      <td>75.000</td>\n",
       "      <td>195.191611</td>\n",
       "      <td>3.90</td>\n",
       "      <td>3109.99</td>\n",
       "      <td>6.813985</td>\n",
       "      <td>4254</td>\n",
       "    </tr>\n",
       "    <tr>\n",
       "      <th>4</th>\n",
       "      <td>BA</td>\n",
       "      <td>134.056214</td>\n",
       "      <td>79.990</td>\n",
       "      <td>203.387776</td>\n",
       "      <td>5.20</td>\n",
       "      <td>2999.89</td>\n",
       "      <td>6.222613</td>\n",
       "      <td>3994</td>\n",
       "    </tr>\n",
       "    <tr>\n",
       "      <th>6</th>\n",
       "      <td>DF</td>\n",
       "      <td>126.639838</td>\n",
       "      <td>79.000</td>\n",
       "      <td>225.588121</td>\n",
       "      <td>4.90</td>\n",
       "      <td>3999.00</td>\n",
       "      <td>9.664926</td>\n",
       "      <td>2467</td>\n",
       "    </tr>\n",
       "    <tr>\n",
       "      <th>8</th>\n",
       "      <td>GO</td>\n",
       "      <td>126.915630</td>\n",
       "      <td>79.900</td>\n",
       "      <td>173.298543</td>\n",
       "      <td>3.90</td>\n",
       "      <td>2299.95</td>\n",
       "      <td>5.277412</td>\n",
       "      <td>2396</td>\n",
       "    </tr>\n",
       "    <tr>\n",
       "      <th>7</th>\n",
       "      <td>ES</td>\n",
       "      <td>121.402328</td>\n",
       "      <td>77.920</td>\n",
       "      <td>213.014756</td>\n",
       "      <td>5.99</td>\n",
       "      <td>6729.00</td>\n",
       "      <td>15.356454</td>\n",
       "      <td>2332</td>\n",
       "    </tr>\n",
       "    <tr>\n",
       "      <th>15</th>\n",
       "      <td>PE</td>\n",
       "      <td>141.727497</td>\n",
       "      <td>88.450</td>\n",
       "      <td>203.000920</td>\n",
       "      <td>5.99</td>\n",
       "      <td>3700.00</td>\n",
       "      <td>6.972999</td>\n",
       "      <td>1878</td>\n",
       "    </tr>\n",
       "    <tr>\n",
       "      <th>5</th>\n",
       "      <td>CE</td>\n",
       "      <td>153.802640</td>\n",
       "      <td>89.990</td>\n",
       "      <td>214.169748</td>\n",
       "      <td>7.80</td>\n",
       "      <td>2690.00</td>\n",
       "      <td>4.754535</td>\n",
       "      <td>1538</td>\n",
       "    </tr>\n",
       "    <tr>\n",
       "      <th>12</th>\n",
       "      <td>MT</td>\n",
       "      <td>152.390090</td>\n",
       "      <td>89.900</td>\n",
       "      <td>203.149834</td>\n",
       "      <td>6.90</td>\n",
       "      <td>1890.00</td>\n",
       "      <td>3.661369</td>\n",
       "      <td>1116</td>\n",
       "    </tr>\n",
       "    <tr>\n",
       "      <th>13</th>\n",
       "      <td>PA</td>\n",
       "      <td>158.410490</td>\n",
       "      <td>98.900</td>\n",
       "      <td>218.916382</td>\n",
       "      <td>4.99</td>\n",
       "      <td>2199.00</td>\n",
       "      <td>3.816604</td>\n",
       "      <td>1103</td>\n",
       "    </tr>\n",
       "    <tr>\n",
       "      <th>11</th>\n",
       "      <td>MS</td>\n",
       "      <td>142.529528</td>\n",
       "      <td>82.490</td>\n",
       "      <td>319.374380</td>\n",
       "      <td>6.10</td>\n",
       "      <td>6735.00</td>\n",
       "      <td>12.524159</td>\n",
       "      <td>847</td>\n",
       "    </tr>\n",
       "    <tr>\n",
       "      <th>9</th>\n",
       "      <td>MA</td>\n",
       "      <td>144.960322</td>\n",
       "      <td>88.285</td>\n",
       "      <td>204.933369</td>\n",
       "      <td>9.00</td>\n",
       "      <td>2499.75</td>\n",
       "      <td>5.473412</td>\n",
       "      <td>838</td>\n",
       "    </tr>\n",
       "    <tr>\n",
       "      <th>14</th>\n",
       "      <td>PB</td>\n",
       "      <td>192.103016</td>\n",
       "      <td>99.970</td>\n",
       "      <td>330.928220</td>\n",
       "      <td>4.90</td>\n",
       "      <td>4590.00</td>\n",
       "      <td>6.734694</td>\n",
       "      <td>630</td>\n",
       "    </tr>\n",
       "    <tr>\n",
       "      <th>16</th>\n",
       "      <td>PI</td>\n",
       "      <td>161.646437</td>\n",
       "      <td>99.900</td>\n",
       "      <td>197.788354</td>\n",
       "      <td>12.50</td>\n",
       "      <td>1780.00</td>\n",
       "      <td>3.551597</td>\n",
       "      <td>567</td>\n",
       "    </tr>\n",
       "    <tr>\n",
       "      <th>19</th>\n",
       "      <td>RN</td>\n",
       "      <td>166.423575</td>\n",
       "      <td>97.000</td>\n",
       "      <td>234.757908</td>\n",
       "      <td>10.00</td>\n",
       "      <td>1788.00</td>\n",
       "      <td>3.496541</td>\n",
       "      <td>565</td>\n",
       "    </tr>\n",
       "    <tr>\n",
       "      <th>1</th>\n",
       "      <td>AL</td>\n",
       "      <td>180.653581</td>\n",
       "      <td>99.990</td>\n",
       "      <td>243.664548</td>\n",
       "      <td>9.00</td>\n",
       "      <td>1798.00</td>\n",
       "      <td>3.281845</td>\n",
       "      <td>458</td>\n",
       "    </tr>\n",
       "    <tr>\n",
       "      <th>24</th>\n",
       "      <td>SE</td>\n",
       "      <td>153.875570</td>\n",
       "      <td>89.900</td>\n",
       "      <td>207.329268</td>\n",
       "      <td>13.65</td>\n",
       "      <td>1670.00</td>\n",
       "      <td>3.840365</td>\n",
       "      <td>395</td>\n",
       "    </tr>\n",
       "    <tr>\n",
       "      <th>26</th>\n",
       "      <td>TO</td>\n",
       "      <td>166.885988</td>\n",
       "      <td>89.990</td>\n",
       "      <td>249.973399</td>\n",
       "      <td>8.50</td>\n",
       "      <td>2649.99</td>\n",
       "      <td>5.248355</td>\n",
       "      <td>334</td>\n",
       "    </tr>\n",
       "    <tr>\n",
       "      <th>20</th>\n",
       "      <td>RO</td>\n",
       "      <td>165.658464</td>\n",
       "      <td>92.500</td>\n",
       "      <td>273.090700</td>\n",
       "      <td>9.99</td>\n",
       "      <td>2400.00</td>\n",
       "      <td>4.706411</td>\n",
       "      <td>280</td>\n",
       "    </tr>\n",
       "    <tr>\n",
       "      <th>2</th>\n",
       "      <td>AM</td>\n",
       "      <td>131.314471</td>\n",
       "      <td>79.900</td>\n",
       "      <td>204.859309</td>\n",
       "      <td>8.50</td>\n",
       "      <td>1688.00</td>\n",
       "      <td>5.004766</td>\n",
       "      <td>170</td>\n",
       "    </tr>\n",
       "    <tr>\n",
       "      <th>0</th>\n",
       "      <td>AC</td>\n",
       "      <td>182.715484</td>\n",
       "      <td>99.990</td>\n",
       "      <td>221.334038</td>\n",
       "      <td>12.90</td>\n",
       "      <td>1200.00</td>\n",
       "      <td>2.674972</td>\n",
       "      <td>93</td>\n",
       "    </tr>\n",
       "    <tr>\n",
       "      <th>3</th>\n",
       "      <td>AP</td>\n",
       "      <td>162.551190</td>\n",
       "      <td>99.695</td>\n",
       "      <td>219.093556</td>\n",
       "      <td>13.65</td>\n",
       "      <td>1437.00</td>\n",
       "      <td>3.677953</td>\n",
       "      <td>84</td>\n",
       "    </tr>\n",
       "    <tr>\n",
       "      <th>21</th>\n",
       "      <td>RR</td>\n",
       "      <td>151.669000</td>\n",
       "      <td>87.445</td>\n",
       "      <td>177.236144</td>\n",
       "      <td>13.65</td>\n",
       "      <td>949.90</td>\n",
       "      <td>2.716298</td>\n",
       "      <td>50</td>\n",
       "    </tr>\n",
       "  </tbody>\n",
       "</table>\n",
       "</div>"
      ],
      "text/plain": [
       "   client_state        mean  median         std    min      max       skew  \\\n",
       "25           SP  109.945161  69.900  164.781768   0.85  6499.00   8.371865   \n",
       "18           RJ  124.907719  79.900  187.829321   0.85  4799.00   7.161406   \n",
       "10           MG  120.181602  75.900  178.696400   3.85  4099.99   7.520461   \n",
       "22           RS  121.528005  75.000  178.510445   3.06  3124.00   6.478193   \n",
       "17           PR  118.520140  72.500  178.304732   2.90  2999.99   6.774623   \n",
       "23           SC  125.193853  75.000  195.191611   3.90  3109.99   6.813985   \n",
       "4            BA  134.056214  79.990  203.387776   5.20  2999.89   6.222613   \n",
       "6            DF  126.639838  79.000  225.588121   4.90  3999.00   9.664926   \n",
       "8            GO  126.915630  79.900  173.298543   3.90  2299.95   5.277412   \n",
       "7            ES  121.402328  77.920  213.014756   5.99  6729.00  15.356454   \n",
       "15           PE  141.727497  88.450  203.000920   5.99  3700.00   6.972999   \n",
       "5            CE  153.802640  89.990  214.169748   7.80  2690.00   4.754535   \n",
       "12           MT  152.390090  89.900  203.149834   6.90  1890.00   3.661369   \n",
       "13           PA  158.410490  98.900  218.916382   4.99  2199.00   3.816604   \n",
       "11           MS  142.529528  82.490  319.374380   6.10  6735.00  12.524159   \n",
       "9            MA  144.960322  88.285  204.933369   9.00  2499.75   5.473412   \n",
       "14           PB  192.103016  99.970  330.928220   4.90  4590.00   6.734694   \n",
       "16           PI  161.646437  99.900  197.788354  12.50  1780.00   3.551597   \n",
       "19           RN  166.423575  97.000  234.757908  10.00  1788.00   3.496541   \n",
       "1            AL  180.653581  99.990  243.664548   9.00  1798.00   3.281845   \n",
       "24           SE  153.875570  89.900  207.329268  13.65  1670.00   3.840365   \n",
       "26           TO  166.885988  89.990  249.973399   8.50  2649.99   5.248355   \n",
       "20           RO  165.658464  92.500  273.090700   9.99  2400.00   4.706411   \n",
       "2            AM  131.314471  79.900  204.859309   8.50  1688.00   5.004766   \n",
       "0            AC  182.715484  99.990  221.334038  12.90  1200.00   2.674972   \n",
       "3            AP  162.551190  99.695  219.093556  13.65  1437.00   3.677953   \n",
       "21           RR  151.669000  87.445  177.236144  13.65   949.90   2.716298   \n",
       "\n",
       "    count  \n",
       "25  49133  \n",
       "18  15185  \n",
       "10  13530  \n",
       "22   6436  \n",
       "17   5908  \n",
       "23   4254  \n",
       "4    3994  \n",
       "6    2467  \n",
       "8    2396  \n",
       "7    2332  \n",
       "15   1878  \n",
       "5    1538  \n",
       "12   1116  \n",
       "13   1103  \n",
       "11    847  \n",
       "9     838  \n",
       "14    630  \n",
       "16    567  \n",
       "19    565  \n",
       "1     458  \n",
       "24    395  \n",
       "26    334  \n",
       "20    280  \n",
       "2     170  \n",
       "0      93  \n",
       "3      84  \n",
       "21     50  "
      ]
     },
     "execution_count": 68,
     "metadata": {},
     "output_type": "execute_result"
    }
   ],
   "source": [
    "statistics_bi ('client_state', 'order_price', df_info_clients).sort_values(by = ['count'], ascending=False)"
   ]
  },
  {
   "cell_type": "code",
   "execution_count": 69,
   "metadata": {},
   "outputs": [
    {
     "data": {
      "text/html": [
       "<div>\n",
       "<style scoped>\n",
       "    .dataframe tbody tr th:only-of-type {\n",
       "        vertical-align: middle;\n",
       "    }\n",
       "\n",
       "    .dataframe tbody tr th {\n",
       "        vertical-align: top;\n",
       "    }\n",
       "\n",
       "    .dataframe thead th {\n",
       "        text-align: right;\n",
       "    }\n",
       "</style>\n",
       "<table border=\"1\" class=\"dataframe\">\n",
       "  <thead>\n",
       "    <tr style=\"text-align: right;\">\n",
       "      <th></th>\n",
       "      <th>client_city</th>\n",
       "      <th>mean</th>\n",
       "      <th>median</th>\n",
       "      <th>std</th>\n",
       "      <th>min</th>\n",
       "      <th>max</th>\n",
       "      <th>skew</th>\n",
       "      <th>count</th>\n",
       "    </tr>\n",
       "  </thead>\n",
       "  <tbody>\n",
       "    <tr>\n",
       "      <th>3576</th>\n",
       "      <td>sao paulo</td>\n",
       "      <td>108.137788</td>\n",
       "      <td>67.900</td>\n",
       "      <td>163.808688</td>\n",
       "      <td>1.20</td>\n",
       "      <td>4399.87</td>\n",
       "      <td>7.493990</td>\n",
       "      <td>18412</td>\n",
       "    </tr>\n",
       "    <tr>\n",
       "      <th>3136</th>\n",
       "      <td>rio de janeiro</td>\n",
       "      <td>126.087075</td>\n",
       "      <td>79.900</td>\n",
       "      <td>192.596530</td>\n",
       "      <td>5.30</td>\n",
       "      <td>3930.00</td>\n",
       "      <td>6.624127</td>\n",
       "      <td>8123</td>\n",
       "    </tr>\n",
       "    <tr>\n",
       "      <th>451</th>\n",
       "      <td>belo horizonte</td>\n",
       "      <td>112.906541</td>\n",
       "      <td>69.990</td>\n",
       "      <td>162.660013</td>\n",
       "      <td>4.90</td>\n",
       "      <td>3099.00</td>\n",
       "      <td>6.689155</td>\n",
       "      <td>3218</td>\n",
       "    </tr>\n",
       "    <tr>\n",
       "      <th>556</th>\n",
       "      <td>brasilia</td>\n",
       "      <td>127.097834</td>\n",
       "      <td>79.000</td>\n",
       "      <td>226.186535</td>\n",
       "      <td>4.90</td>\n",
       "      <td>3999.00</td>\n",
       "      <td>9.641405</td>\n",
       "      <td>2452</td>\n",
       "    </tr>\n",
       "    <tr>\n",
       "      <th>1139</th>\n",
       "      <td>curitiba</td>\n",
       "      <td>120.752991</td>\n",
       "      <td>69.900</td>\n",
       "      <td>191.152565</td>\n",
       "      <td>2.90</td>\n",
       "      <td>2999.99</td>\n",
       "      <td>6.777059</td>\n",
       "      <td>1799</td>\n",
       "    </tr>\n",
       "    <tr>\n",
       "      <th>704</th>\n",
       "      <td>campinas</td>\n",
       "      <td>113.402474</td>\n",
       "      <td>66.990</td>\n",
       "      <td>167.875505</td>\n",
       "      <td>4.90</td>\n",
       "      <td>1999.99</td>\n",
       "      <td>5.540527</td>\n",
       "      <td>1722</td>\n",
       "    </tr>\n",
       "    <tr>\n",
       "      <th>2945</th>\n",
       "      <td>porto alegre</td>\n",
       "      <td>118.282541</td>\n",
       "      <td>79.000</td>\n",
       "      <td>144.267402</td>\n",
       "      <td>5.99</td>\n",
       "      <td>1934.00</td>\n",
       "      <td>5.283697</td>\n",
       "      <td>1641</td>\n",
       "    </tr>\n",
       "    <tr>\n",
       "      <th>3228</th>\n",
       "      <td>salvador</td>\n",
       "      <td>128.918451</td>\n",
       "      <td>79.900</td>\n",
       "      <td>179.904010</td>\n",
       "      <td>5.20</td>\n",
       "      <td>2951.00</td>\n",
       "      <td>6.027207</td>\n",
       "      <td>1498</td>\n",
       "    </tr>\n",
       "    <tr>\n",
       "      <th>1523</th>\n",
       "      <td>guarulhos</td>\n",
       "      <td>110.863545</td>\n",
       "      <td>74.945</td>\n",
       "      <td>145.843812</td>\n",
       "      <td>4.99</td>\n",
       "      <td>1999.00</td>\n",
       "      <td>5.812726</td>\n",
       "      <td>1388</td>\n",
       "    </tr>\n",
       "    <tr>\n",
       "      <th>3409</th>\n",
       "      <td>sao bernardo do campo</td>\n",
       "      <td>97.259682</td>\n",
       "      <td>59.990</td>\n",
       "      <td>137.729551</td>\n",
       "      <td>6.04</td>\n",
       "      <td>1999.00</td>\n",
       "      <td>6.374592</td>\n",
       "      <td>1100</td>\n",
       "    </tr>\n",
       "  </tbody>\n",
       "</table>\n",
       "</div>"
      ],
      "text/plain": [
       "                client_city        mean  median         std   min      max  \\\n",
       "3576              sao paulo  108.137788  67.900  163.808688  1.20  4399.87   \n",
       "3136         rio de janeiro  126.087075  79.900  192.596530  5.30  3930.00   \n",
       "451          belo horizonte  112.906541  69.990  162.660013  4.90  3099.00   \n",
       "556                brasilia  127.097834  79.000  226.186535  4.90  3999.00   \n",
       "1139               curitiba  120.752991  69.900  191.152565  2.90  2999.99   \n",
       "704                campinas  113.402474  66.990  167.875505  4.90  1999.99   \n",
       "2945           porto alegre  118.282541  79.000  144.267402  5.99  1934.00   \n",
       "3228               salvador  128.918451  79.900  179.904010  5.20  2951.00   \n",
       "1523              guarulhos  110.863545  74.945  145.843812  4.99  1999.00   \n",
       "3409  sao bernardo do campo   97.259682  59.990  137.729551  6.04  1999.00   \n",
       "\n",
       "          skew  count  \n",
       "3576  7.493990  18412  \n",
       "3136  6.624127   8123  \n",
       "451   6.689155   3218  \n",
       "556   9.641405   2452  \n",
       "1139  6.777059   1799  \n",
       "704   5.540527   1722  \n",
       "2945  5.283697   1641  \n",
       "3228  6.027207   1498  \n",
       "1523  5.812726   1388  \n",
       "3409  6.374592   1100  "
      ]
     },
     "execution_count": 69,
     "metadata": {},
     "output_type": "execute_result"
    }
   ],
   "source": [
    "statistics_bi('client_city', 'order_price', df_info_clients).sort_values(by = ['count'], ascending=False).head(10)"
   ]
  },
  {
   "cell_type": "markdown",
   "metadata": {},
   "source": [
    "## City Capital X Price"
   ]
  },
  {
   "cell_type": "code",
   "execution_count": 70,
   "metadata": {},
   "outputs": [
    {
     "data": {
      "text/html": [
       "<div>\n",
       "<style scoped>\n",
       "    .dataframe tbody tr th:only-of-type {\n",
       "        vertical-align: middle;\n",
       "    }\n",
       "\n",
       "    .dataframe tbody tr th {\n",
       "        vertical-align: top;\n",
       "    }\n",
       "\n",
       "    .dataframe thead th {\n",
       "        text-align: right;\n",
       "    }\n",
       "</style>\n",
       "<table border=\"1\" class=\"dataframe\">\n",
       "  <thead>\n",
       "    <tr style=\"text-align: right;\">\n",
       "      <th></th>\n",
       "      <th>Capitais</th>\n",
       "      <th>Estados</th>\n",
       "      <th>Siglas dos estados</th>\n",
       "      <th>Regiões</th>\n",
       "    </tr>\n",
       "  </thead>\n",
       "  <tbody>\n",
       "    <tr>\n",
       "      <th>0</th>\n",
       "      <td>aracaju</td>\n",
       "      <td>Sergipe</td>\n",
       "      <td>SE</td>\n",
       "      <td>Nordeste</td>\n",
       "    </tr>\n",
       "    <tr>\n",
       "      <th>1</th>\n",
       "      <td>belem</td>\n",
       "      <td>Pará</td>\n",
       "      <td>PA</td>\n",
       "      <td>Norte</td>\n",
       "    </tr>\n",
       "    <tr>\n",
       "      <th>2</th>\n",
       "      <td>belo horizonte</td>\n",
       "      <td>Minas Gerais</td>\n",
       "      <td>MG</td>\n",
       "      <td>Sudeste</td>\n",
       "    </tr>\n",
       "    <tr>\n",
       "      <th>3</th>\n",
       "      <td>boa vista</td>\n",
       "      <td>Roraima</td>\n",
       "      <td>RR</td>\n",
       "      <td>Norte</td>\n",
       "    </tr>\n",
       "    <tr>\n",
       "      <th>4</th>\n",
       "      <td>braslia</td>\n",
       "      <td>Distrito Federal</td>\n",
       "      <td>DF</td>\n",
       "      <td>Centro-Oeste</td>\n",
       "    </tr>\n",
       "    <tr>\n",
       "      <th>5</th>\n",
       "      <td>campo grande</td>\n",
       "      <td>Mato Grosso do Sul</td>\n",
       "      <td>MS</td>\n",
       "      <td>Centro-Oeste</td>\n",
       "    </tr>\n",
       "    <tr>\n",
       "      <th>6</th>\n",
       "      <td>cuiaba</td>\n",
       "      <td>Mato Grosso</td>\n",
       "      <td>MT</td>\n",
       "      <td>Centro-Oeste</td>\n",
       "    </tr>\n",
       "    <tr>\n",
       "      <th>7</th>\n",
       "      <td>curitiba</td>\n",
       "      <td>Paraná</td>\n",
       "      <td>PR</td>\n",
       "      <td>Sul</td>\n",
       "    </tr>\n",
       "    <tr>\n",
       "      <th>8</th>\n",
       "      <td>florianopolis</td>\n",
       "      <td>Santa Catarina</td>\n",
       "      <td>SC</td>\n",
       "      <td>Sul</td>\n",
       "    </tr>\n",
       "    <tr>\n",
       "      <th>9</th>\n",
       "      <td>fortaleza</td>\n",
       "      <td>Ceará</td>\n",
       "      <td>CE</td>\n",
       "      <td>Nordeste</td>\n",
       "    </tr>\n",
       "    <tr>\n",
       "      <th>10</th>\n",
       "      <td>goiania</td>\n",
       "      <td>Goiás</td>\n",
       "      <td>GO</td>\n",
       "      <td>Centro-Oeste</td>\n",
       "    </tr>\n",
       "    <tr>\n",
       "      <th>11</th>\n",
       "      <td>joao pessoa</td>\n",
       "      <td>Paraíba</td>\n",
       "      <td>PB</td>\n",
       "      <td>Nordeste</td>\n",
       "    </tr>\n",
       "    <tr>\n",
       "      <th>12</th>\n",
       "      <td>macapa</td>\n",
       "      <td>Amapá</td>\n",
       "      <td>AP</td>\n",
       "      <td>Norte</td>\n",
       "    </tr>\n",
       "    <tr>\n",
       "      <th>13</th>\n",
       "      <td>maceio</td>\n",
       "      <td>Alagoas</td>\n",
       "      <td>AL</td>\n",
       "      <td>Nordeste</td>\n",
       "    </tr>\n",
       "    <tr>\n",
       "      <th>14</th>\n",
       "      <td>manaus</td>\n",
       "      <td>Amazonas</td>\n",
       "      <td>AM</td>\n",
       "      <td>Norte</td>\n",
       "    </tr>\n",
       "    <tr>\n",
       "      <th>15</th>\n",
       "      <td>natal</td>\n",
       "      <td>Rio Grande do Norte</td>\n",
       "      <td>RN</td>\n",
       "      <td>Nordeste</td>\n",
       "    </tr>\n",
       "    <tr>\n",
       "      <th>16</th>\n",
       "      <td>palmas</td>\n",
       "      <td>Tocantins</td>\n",
       "      <td>TO</td>\n",
       "      <td>Norte</td>\n",
       "    </tr>\n",
       "    <tr>\n",
       "      <th>17</th>\n",
       "      <td>porto alegre</td>\n",
       "      <td>Rio Grande do Sul</td>\n",
       "      <td>RS</td>\n",
       "      <td>Sul</td>\n",
       "    </tr>\n",
       "    <tr>\n",
       "      <th>18</th>\n",
       "      <td>porto velho</td>\n",
       "      <td>Rondônia</td>\n",
       "      <td>RO</td>\n",
       "      <td>Norte</td>\n",
       "    </tr>\n",
       "    <tr>\n",
       "      <th>19</th>\n",
       "      <td>recife</td>\n",
       "      <td>Pernambuco</td>\n",
       "      <td>PE</td>\n",
       "      <td>Nordeste</td>\n",
       "    </tr>\n",
       "    <tr>\n",
       "      <th>20</th>\n",
       "      <td>rio branco</td>\n",
       "      <td>Acre</td>\n",
       "      <td>AC</td>\n",
       "      <td>Norte</td>\n",
       "    </tr>\n",
       "    <tr>\n",
       "      <th>21</th>\n",
       "      <td>rio de janeiro</td>\n",
       "      <td>Rio de Janeiro</td>\n",
       "      <td>RJ</td>\n",
       "      <td>Sudeste</td>\n",
       "    </tr>\n",
       "    <tr>\n",
       "      <th>22</th>\n",
       "      <td>salvador</td>\n",
       "      <td>Bahia</td>\n",
       "      <td>BA</td>\n",
       "      <td>Nordeste</td>\n",
       "    </tr>\n",
       "    <tr>\n",
       "      <th>23</th>\n",
       "      <td>sao luis</td>\n",
       "      <td>Maranhão</td>\n",
       "      <td>MA</td>\n",
       "      <td>Nordeste</td>\n",
       "    </tr>\n",
       "    <tr>\n",
       "      <th>24</th>\n",
       "      <td>sao paulo</td>\n",
       "      <td>São Paulo</td>\n",
       "      <td>SP</td>\n",
       "      <td>Sudeste</td>\n",
       "    </tr>\n",
       "    <tr>\n",
       "      <th>25</th>\n",
       "      <td>teresina</td>\n",
       "      <td>Piauí</td>\n",
       "      <td>PI</td>\n",
       "      <td>Nordeste</td>\n",
       "    </tr>\n",
       "    <tr>\n",
       "      <th>26</th>\n",
       "      <td>vitoria</td>\n",
       "      <td>Espírito Santo</td>\n",
       "      <td>ES</td>\n",
       "      <td>Sudeste</td>\n",
       "    </tr>\n",
       "  </tbody>\n",
       "</table>\n",
       "</div>"
      ],
      "text/plain": [
       "          Capitais              Estados Siglas dos estados       Regiões\n",
       "0          aracaju              Sergipe                 SE      Nordeste\n",
       "1            belem                 Pará                 PA         Norte\n",
       "2   belo horizonte         Minas Gerais                 MG       Sudeste\n",
       "3        boa vista              Roraima                 RR         Norte\n",
       "4          braslia     Distrito Federal                 DF  Centro-Oeste\n",
       "5     campo grande   Mato Grosso do Sul                 MS  Centro-Oeste\n",
       "6           cuiaba          Mato Grosso                 MT  Centro-Oeste\n",
       "7         curitiba               Paraná                 PR           Sul\n",
       "8    florianopolis       Santa Catarina                 SC           Sul\n",
       "9        fortaleza                Ceará                 CE      Nordeste\n",
       "10         goiania                Goiás                 GO  Centro-Oeste\n",
       "11     joao pessoa              Paraíba                 PB      Nordeste\n",
       "12          macapa                Amapá                 AP         Norte\n",
       "13          maceio              Alagoas                 AL      Nordeste\n",
       "14          manaus             Amazonas                 AM         Norte\n",
       "15           natal  Rio Grande do Norte                 RN      Nordeste\n",
       "16          palmas            Tocantins                 TO         Norte\n",
       "17    porto alegre    Rio Grande do Sul                 RS           Sul\n",
       "18     porto velho             Rondônia                 RO         Norte\n",
       "19          recife           Pernambuco                 PE      Nordeste\n",
       "20      rio branco                 Acre                 AC         Norte\n",
       "21  rio de janeiro       Rio de Janeiro                 RJ       Sudeste\n",
       "22        salvador                Bahia                 BA      Nordeste\n",
       "23        sao luis             Maranhão                 MA      Nordeste\n",
       "24       sao paulo            São Paulo                 SP       Sudeste\n",
       "25        teresina                Piauí                 PI      Nordeste\n",
       "26         vitoria       Espírito Santo                 ES       Sudeste"
      ]
     },
     "execution_count": 70,
     "metadata": {},
     "output_type": "execute_result"
    }
   ],
   "source": [
    "df_capitals = pd.read_csv('data/capital.csv')\n",
    "df_capitals"
   ]
  },
  {
   "cell_type": "code",
   "execution_count": 71,
   "metadata": {},
   "outputs": [],
   "source": [
    "df_only_capitals = df_info_clients.loc[df_info_clients['client_city'].isin(df_capitals['Capitais'])].reset_index(drop=True)"
   ]
  },
  {
   "cell_type": "code",
   "execution_count": 72,
   "metadata": {},
   "outputs": [
    {
     "name": "stdout",
     "output_type": "stream",
     "text": [
      "The capitals represent 35.79% of the total orders\n",
      "The capitals represent 36.0% of the total spent \n"
     ]
    }
   ],
   "source": [
    "print('The capitals represent ' + \n",
    "      str(round(df_only_capitals['id'].count()/df_info_clients['id'].count(),4)*100) + \n",
    "      '% of the total orders')\n",
    "\n",
    "print('The capitals represent ' + \n",
    "      str(round(df_only_capitals['order_price'].sum()/df_info_clients['order_price'].sum(),2)*100) + \n",
    "      '% of the total spent ')"
   ]
  },
  {
   "cell_type": "code",
   "execution_count": 73,
   "metadata": {},
   "outputs": [
    {
     "data": {
      "text/html": [
       "<div>\n",
       "<style scoped>\n",
       "    .dataframe tbody tr th:only-of-type {\n",
       "        vertical-align: middle;\n",
       "    }\n",
       "\n",
       "    .dataframe tbody tr th {\n",
       "        vertical-align: top;\n",
       "    }\n",
       "\n",
       "    .dataframe thead th {\n",
       "        text-align: right;\n",
       "    }\n",
       "</style>\n",
       "<table border=\"1\" class=\"dataframe\">\n",
       "  <thead>\n",
       "    <tr style=\"text-align: right;\">\n",
       "      <th></th>\n",
       "      <th>client_city</th>\n",
       "      <th>mean</th>\n",
       "      <th>median</th>\n",
       "      <th>std</th>\n",
       "      <th>min</th>\n",
       "      <th>max</th>\n",
       "      <th>skew</th>\n",
       "      <th>count</th>\n",
       "    </tr>\n",
       "  </thead>\n",
       "  <tbody>\n",
       "    <tr>\n",
       "      <th>23</th>\n",
       "      <td>sao paulo</td>\n",
       "      <td>108.137788</td>\n",
       "      <td>67.900</td>\n",
       "      <td>163.808688</td>\n",
       "      <td>1.20</td>\n",
       "      <td>4399.87</td>\n",
       "      <td>7.493990</td>\n",
       "      <td>18412</td>\n",
       "    </tr>\n",
       "    <tr>\n",
       "      <th>20</th>\n",
       "      <td>rio de janeiro</td>\n",
       "      <td>126.087075</td>\n",
       "      <td>79.900</td>\n",
       "      <td>192.596530</td>\n",
       "      <td>5.30</td>\n",
       "      <td>3930.00</td>\n",
       "      <td>6.624127</td>\n",
       "      <td>8123</td>\n",
       "    </tr>\n",
       "    <tr>\n",
       "      <th>2</th>\n",
       "      <td>belo horizonte</td>\n",
       "      <td>112.906541</td>\n",
       "      <td>69.990</td>\n",
       "      <td>162.660013</td>\n",
       "      <td>4.90</td>\n",
       "      <td>3099.00</td>\n",
       "      <td>6.689155</td>\n",
       "      <td>3218</td>\n",
       "    </tr>\n",
       "    <tr>\n",
       "      <th>6</th>\n",
       "      <td>curitiba</td>\n",
       "      <td>120.752991</td>\n",
       "      <td>69.900</td>\n",
       "      <td>191.152565</td>\n",
       "      <td>2.90</td>\n",
       "      <td>2999.99</td>\n",
       "      <td>6.777059</td>\n",
       "      <td>1799</td>\n",
       "    </tr>\n",
       "    <tr>\n",
       "      <th>16</th>\n",
       "      <td>porto alegre</td>\n",
       "      <td>118.282541</td>\n",
       "      <td>79.000</td>\n",
       "      <td>144.267402</td>\n",
       "      <td>5.99</td>\n",
       "      <td>1934.00</td>\n",
       "      <td>5.283697</td>\n",
       "      <td>1641</td>\n",
       "    </tr>\n",
       "    <tr>\n",
       "      <th>21</th>\n",
       "      <td>salvador</td>\n",
       "      <td>128.918451</td>\n",
       "      <td>79.900</td>\n",
       "      <td>179.904010</td>\n",
       "      <td>5.20</td>\n",
       "      <td>2951.00</td>\n",
       "      <td>6.027207</td>\n",
       "      <td>1498</td>\n",
       "    </tr>\n",
       "    <tr>\n",
       "      <th>9</th>\n",
       "      <td>goiania</td>\n",
       "      <td>132.189800</td>\n",
       "      <td>79.900</td>\n",
       "      <td>192.714680</td>\n",
       "      <td>6.25</td>\n",
       "      <td>2299.95</td>\n",
       "      <td>5.410136</td>\n",
       "      <td>852</td>\n",
       "    </tr>\n",
       "    <tr>\n",
       "      <th>8</th>\n",
       "      <td>fortaleza</td>\n",
       "      <td>137.248699</td>\n",
       "      <td>79.990</td>\n",
       "      <td>184.134333</td>\n",
       "      <td>7.80</td>\n",
       "      <td>1890.00</td>\n",
       "      <td>4.811982</td>\n",
       "      <td>753</td>\n",
       "    </tr>\n",
       "    <tr>\n",
       "      <th>18</th>\n",
       "      <td>recife</td>\n",
       "      <td>131.218169</td>\n",
       "      <td>79.900</td>\n",
       "      <td>206.247039</td>\n",
       "      <td>6.99</td>\n",
       "      <td>3700.00</td>\n",
       "      <td>9.169411</td>\n",
       "      <td>699</td>\n",
       "    </tr>\n",
       "    <tr>\n",
       "      <th>7</th>\n",
       "      <td>florianopolis</td>\n",
       "      <td>130.192783</td>\n",
       "      <td>71.000</td>\n",
       "      <td>222.748952</td>\n",
       "      <td>5.99</td>\n",
       "      <td>3109.99</td>\n",
       "      <td>7.202499</td>\n",
       "      <td>672</td>\n",
       "    </tr>\n",
       "    <tr>\n",
       "      <th>1</th>\n",
       "      <td>belem</td>\n",
       "      <td>151.527869</td>\n",
       "      <td>88.450</td>\n",
       "      <td>201.996321</td>\n",
       "      <td>4.99</td>\n",
       "      <td>1499.65</td>\n",
       "      <td>3.544971</td>\n",
       "      <td>502</td>\n",
       "    </tr>\n",
       "    <tr>\n",
       "      <th>25</th>\n",
       "      <td>vitoria</td>\n",
       "      <td>124.022993</td>\n",
       "      <td>70.000</td>\n",
       "      <td>342.496765</td>\n",
       "      <td>6.90</td>\n",
       "      <td>6729.00</td>\n",
       "      <td>16.906200</td>\n",
       "      <td>431</td>\n",
       "    </tr>\n",
       "    <tr>\n",
       "      <th>22</th>\n",
       "      <td>sao luis</td>\n",
       "      <td>130.245350</td>\n",
       "      <td>77.900</td>\n",
       "      <td>181.663960</td>\n",
       "      <td>10.50</td>\n",
       "      <td>2499.75</td>\n",
       "      <td>6.847776</td>\n",
       "      <td>400</td>\n",
       "    </tr>\n",
       "    <tr>\n",
       "      <th>4</th>\n",
       "      <td>campo grande</td>\n",
       "      <td>156.725435</td>\n",
       "      <td>79.900</td>\n",
       "      <td>431.777736</td>\n",
       "      <td>6.10</td>\n",
       "      <td>6735.00</td>\n",
       "      <td>11.065849</td>\n",
       "      <td>368</td>\n",
       "    </tr>\n",
       "    <tr>\n",
       "      <th>5</th>\n",
       "      <td>cuiaba</td>\n",
       "      <td>153.718963</td>\n",
       "      <td>98.000</td>\n",
       "      <td>194.507693</td>\n",
       "      <td>6.90</td>\n",
       "      <td>1890.00</td>\n",
       "      <td>3.835666</td>\n",
       "      <td>328</td>\n",
       "    </tr>\n",
       "    <tr>\n",
       "      <th>24</th>\n",
       "      <td>teresina</td>\n",
       "      <td>166.419338</td>\n",
       "      <td>105.000</td>\n",
       "      <td>211.902965</td>\n",
       "      <td>13.55</td>\n",
       "      <td>1780.00</td>\n",
       "      <td>3.835595</td>\n",
       "      <td>317</td>\n",
       "    </tr>\n",
       "    <tr>\n",
       "      <th>10</th>\n",
       "      <td>joao pessoa</td>\n",
       "      <td>179.285112</td>\n",
       "      <td>99.900</td>\n",
       "      <td>365.739669</td>\n",
       "      <td>4.90</td>\n",
       "      <td>4590.00</td>\n",
       "      <td>8.202211</td>\n",
       "      <td>313</td>\n",
       "    </tr>\n",
       "    <tr>\n",
       "      <th>12</th>\n",
       "      <td>maceio</td>\n",
       "      <td>173.619740</td>\n",
       "      <td>90.480</td>\n",
       "      <td>239.393201</td>\n",
       "      <td>11.99</td>\n",
       "      <td>1595.00</td>\n",
       "      <td>3.091659</td>\n",
       "      <td>269</td>\n",
       "    </tr>\n",
       "    <tr>\n",
       "      <th>0</th>\n",
       "      <td>aracaju</td>\n",
       "      <td>151.651383</td>\n",
       "      <td>85.000</td>\n",
       "      <td>225.549511</td>\n",
       "      <td>13.65</td>\n",
       "      <td>1670.00</td>\n",
       "      <td>3.986538</td>\n",
       "      <td>253</td>\n",
       "    </tr>\n",
       "    <tr>\n",
       "      <th>14</th>\n",
       "      <td>natal</td>\n",
       "      <td>179.486200</td>\n",
       "      <td>79.945</td>\n",
       "      <td>273.783904</td>\n",
       "      <td>10.00</td>\n",
       "      <td>1788.00</td>\n",
       "      <td>3.082707</td>\n",
       "      <td>250</td>\n",
       "    </tr>\n",
       "    <tr>\n",
       "      <th>13</th>\n",
       "      <td>manaus</td>\n",
       "      <td>128.069441</td>\n",
       "      <td>84.000</td>\n",
       "      <td>192.270747</td>\n",
       "      <td>8.50</td>\n",
       "      <td>1688.00</td>\n",
       "      <td>5.395819</td>\n",
       "      <td>161</td>\n",
       "    </tr>\n",
       "    <tr>\n",
       "      <th>15</th>\n",
       "      <td>palmas</td>\n",
       "      <td>172.322041</td>\n",
       "      <td>97.900</td>\n",
       "      <td>211.279384</td>\n",
       "      <td>8.50</td>\n",
       "      <td>1380.00</td>\n",
       "      <td>3.016454</td>\n",
       "      <td>147</td>\n",
       "    </tr>\n",
       "    <tr>\n",
       "      <th>17</th>\n",
       "      <td>porto velho</td>\n",
       "      <td>178.078976</td>\n",
       "      <td>90.000</td>\n",
       "      <td>302.895653</td>\n",
       "      <td>9.99</td>\n",
       "      <td>2400.00</td>\n",
       "      <td>4.554793</td>\n",
       "      <td>127</td>\n",
       "    </tr>\n",
       "    <tr>\n",
       "      <th>19</th>\n",
       "      <td>rio branco</td>\n",
       "      <td>181.298675</td>\n",
       "      <td>99.990</td>\n",
       "      <td>221.184743</td>\n",
       "      <td>9.99</td>\n",
       "      <td>1200.00</td>\n",
       "      <td>2.715618</td>\n",
       "      <td>83</td>\n",
       "    </tr>\n",
       "    <tr>\n",
       "      <th>11</th>\n",
       "      <td>macapa</td>\n",
       "      <td>181.748750</td>\n",
       "      <td>99.900</td>\n",
       "      <td>243.163459</td>\n",
       "      <td>13.65</td>\n",
       "      <td>1437.00</td>\n",
       "      <td>3.334241</td>\n",
       "      <td>64</td>\n",
       "    </tr>\n",
       "    <tr>\n",
       "      <th>3</th>\n",
       "      <td>boa vista</td>\n",
       "      <td>152.929592</td>\n",
       "      <td>84.990</td>\n",
       "      <td>178.846222</td>\n",
       "      <td>13.65</td>\n",
       "      <td>949.90</td>\n",
       "      <td>2.679817</td>\n",
       "      <td>49</td>\n",
       "    </tr>\n",
       "  </tbody>\n",
       "</table>\n",
       "</div>"
      ],
      "text/plain": [
       "       client_city        mean   median         std    min      max  \\\n",
       "23       sao paulo  108.137788   67.900  163.808688   1.20  4399.87   \n",
       "20  rio de janeiro  126.087075   79.900  192.596530   5.30  3930.00   \n",
       "2   belo horizonte  112.906541   69.990  162.660013   4.90  3099.00   \n",
       "6         curitiba  120.752991   69.900  191.152565   2.90  2999.99   \n",
       "16    porto alegre  118.282541   79.000  144.267402   5.99  1934.00   \n",
       "21        salvador  128.918451   79.900  179.904010   5.20  2951.00   \n",
       "9          goiania  132.189800   79.900  192.714680   6.25  2299.95   \n",
       "8        fortaleza  137.248699   79.990  184.134333   7.80  1890.00   \n",
       "18          recife  131.218169   79.900  206.247039   6.99  3700.00   \n",
       "7    florianopolis  130.192783   71.000  222.748952   5.99  3109.99   \n",
       "1            belem  151.527869   88.450  201.996321   4.99  1499.65   \n",
       "25         vitoria  124.022993   70.000  342.496765   6.90  6729.00   \n",
       "22        sao luis  130.245350   77.900  181.663960  10.50  2499.75   \n",
       "4     campo grande  156.725435   79.900  431.777736   6.10  6735.00   \n",
       "5           cuiaba  153.718963   98.000  194.507693   6.90  1890.00   \n",
       "24        teresina  166.419338  105.000  211.902965  13.55  1780.00   \n",
       "10     joao pessoa  179.285112   99.900  365.739669   4.90  4590.00   \n",
       "12          maceio  173.619740   90.480  239.393201  11.99  1595.00   \n",
       "0          aracaju  151.651383   85.000  225.549511  13.65  1670.00   \n",
       "14           natal  179.486200   79.945  273.783904  10.00  1788.00   \n",
       "13          manaus  128.069441   84.000  192.270747   8.50  1688.00   \n",
       "15          palmas  172.322041   97.900  211.279384   8.50  1380.00   \n",
       "17     porto velho  178.078976   90.000  302.895653   9.99  2400.00   \n",
       "19      rio branco  181.298675   99.990  221.184743   9.99  1200.00   \n",
       "11          macapa  181.748750   99.900  243.163459  13.65  1437.00   \n",
       "3        boa vista  152.929592   84.990  178.846222  13.65   949.90   \n",
       "\n",
       "         skew  count  \n",
       "23   7.493990  18412  \n",
       "20   6.624127   8123  \n",
       "2    6.689155   3218  \n",
       "6    6.777059   1799  \n",
       "16   5.283697   1641  \n",
       "21   6.027207   1498  \n",
       "9    5.410136    852  \n",
       "8    4.811982    753  \n",
       "18   9.169411    699  \n",
       "7    7.202499    672  \n",
       "1    3.544971    502  \n",
       "25  16.906200    431  \n",
       "22   6.847776    400  \n",
       "4   11.065849    368  \n",
       "5    3.835666    328  \n",
       "24   3.835595    317  \n",
       "10   8.202211    313  \n",
       "12   3.091659    269  \n",
       "0    3.986538    253  \n",
       "14   3.082707    250  \n",
       "13   5.395819    161  \n",
       "15   3.016454    147  \n",
       "17   4.554793    127  \n",
       "19   2.715618     83  \n",
       "11   3.334241     64  \n",
       "3    2.679817     49  "
      ]
     },
     "execution_count": 73,
     "metadata": {},
     "output_type": "execute_result"
    }
   ],
   "source": [
    "statistics_bi('client_city', 'order_price', df_only_capitals).sort_values(by = ['count'], ascending=False)"
   ]
  },
  {
   "cell_type": "markdown",
   "metadata": {},
   "source": [
    "## Southeast X Price"
   ]
  },
  {
   "cell_type": "code",
   "execution_count": 74,
   "metadata": {},
   "outputs": [],
   "source": [
    "df_SE = df_info_clients[df_info_clients['client_state'].isin(['SP', 'RJ', 'MG'])] "
   ]
  },
  {
   "cell_type": "code",
   "execution_count": 75,
   "metadata": {},
   "outputs": [
    {
     "name": "stdout",
     "output_type": "stream",
     "text": [
      "The Southeast cities represent 66.78% of the total orders\n",
      "The Southeast cities represent 63.0% of the total spent \n",
      "The Southeast has 4095 different cities \n"
     ]
    }
   ],
   "source": [
    "print('The Southeast cities represent ' + \n",
    "      str(round(df_SE['id'].count()/df_info_clients['id'].count(),4)*100) + \n",
    "      '% of the total orders')\n",
    "\n",
    "print('The Southeast cities represent ' + \n",
    "      str(round(df_SE['order_price'].sum()/df_info_clients['order_price'].sum(),2)*100) + \n",
    "      '% of the total spent ')\n",
    "\n",
    "print('The Southeast has ' + \n",
    "      str(df_info_clients['client_city'].drop_duplicates().count()) + \n",
    "      ' different cities ')"
   ]
  },
  {
   "cell_type": "code",
   "execution_count": 76,
   "metadata": {},
   "outputs": [
    {
     "data": {
      "text/html": [
       "<div>\n",
       "<style scoped>\n",
       "    .dataframe tbody tr th:only-of-type {\n",
       "        vertical-align: middle;\n",
       "    }\n",
       "\n",
       "    .dataframe tbody tr th {\n",
       "        vertical-align: top;\n",
       "    }\n",
       "\n",
       "    .dataframe thead th {\n",
       "        text-align: right;\n",
       "    }\n",
       "</style>\n",
       "<table border=\"1\" class=\"dataframe\">\n",
       "  <thead>\n",
       "    <tr style=\"text-align: right;\">\n",
       "      <th></th>\n",
       "      <th>client_city</th>\n",
       "      <th>mean</th>\n",
       "      <th>median</th>\n",
       "      <th>std</th>\n",
       "      <th>min</th>\n",
       "      <th>max</th>\n",
       "      <th>skew</th>\n",
       "      <th>count</th>\n",
       "    </tr>\n",
       "  </thead>\n",
       "  <tbody>\n",
       "    <tr>\n",
       "      <th>1315</th>\n",
       "      <td>sao paulo</td>\n",
       "      <td>108.137788</td>\n",
       "      <td>67.900</td>\n",
       "      <td>163.808688</td>\n",
       "      <td>1.20</td>\n",
       "      <td>4399.87</td>\n",
       "      <td>7.493990</td>\n",
       "      <td>18412</td>\n",
       "    </tr>\n",
       "    <tr>\n",
       "      <th>1138</th>\n",
       "      <td>rio de janeiro</td>\n",
       "      <td>126.087075</td>\n",
       "      <td>79.900</td>\n",
       "      <td>192.596530</td>\n",
       "      <td>5.30</td>\n",
       "      <td>3930.00</td>\n",
       "      <td>6.624127</td>\n",
       "      <td>8123</td>\n",
       "    </tr>\n",
       "    <tr>\n",
       "      <th>142</th>\n",
       "      <td>belo horizonte</td>\n",
       "      <td>112.906541</td>\n",
       "      <td>69.990</td>\n",
       "      <td>162.660013</td>\n",
       "      <td>4.90</td>\n",
       "      <td>3099.00</td>\n",
       "      <td>6.689155</td>\n",
       "      <td>3218</td>\n",
       "    </tr>\n",
       "    <tr>\n",
       "      <th>246</th>\n",
       "      <td>campinas</td>\n",
       "      <td>113.402474</td>\n",
       "      <td>66.990</td>\n",
       "      <td>167.875505</td>\n",
       "      <td>4.90</td>\n",
       "      <td>1999.99</td>\n",
       "      <td>5.540527</td>\n",
       "      <td>1722</td>\n",
       "    </tr>\n",
       "    <tr>\n",
       "      <th>540</th>\n",
       "      <td>guarulhos</td>\n",
       "      <td>110.863545</td>\n",
       "      <td>74.945</td>\n",
       "      <td>145.843812</td>\n",
       "      <td>4.99</td>\n",
       "      <td>1999.00</td>\n",
       "      <td>5.812726</td>\n",
       "      <td>1388</td>\n",
       "    </tr>\n",
       "    <tr>\n",
       "      <th>...</th>\n",
       "      <td>...</td>\n",
       "      <td>...</td>\n",
       "      <td>...</td>\n",
       "      <td>...</td>\n",
       "      <td>...</td>\n",
       "      <td>...</td>\n",
       "      <td>...</td>\n",
       "      <td>...</td>\n",
       "    </tr>\n",
       "    <tr>\n",
       "      <th>1207</th>\n",
       "      <td>santa rita da floresta</td>\n",
       "      <td>79.000000</td>\n",
       "      <td>79.000</td>\n",
       "      <td>NaN</td>\n",
       "      <td>79.00</td>\n",
       "      <td>79.00</td>\n",
       "      <td>NaN</td>\n",
       "      <td>1</td>\n",
       "    </tr>\n",
       "    <tr>\n",
       "      <th>1202</th>\n",
       "      <td>santa maria do salto</td>\n",
       "      <td>38.000000</td>\n",
       "      <td>38.000</td>\n",
       "      <td>NaN</td>\n",
       "      <td>38.00</td>\n",
       "      <td>38.00</td>\n",
       "      <td>NaN</td>\n",
       "      <td>1</td>\n",
       "    </tr>\n",
       "    <tr>\n",
       "      <th>1199</th>\n",
       "      <td>santa maria</td>\n",
       "      <td>8.000000</td>\n",
       "      <td>8.000</td>\n",
       "      <td>NaN</td>\n",
       "      <td>8.00</td>\n",
       "      <td>8.00</td>\n",
       "      <td>NaN</td>\n",
       "      <td>1</td>\n",
       "    </tr>\n",
       "    <tr>\n",
       "      <th>491</th>\n",
       "      <td>frei gaspar</td>\n",
       "      <td>74.900000</td>\n",
       "      <td>74.900</td>\n",
       "      <td>NaN</td>\n",
       "      <td>74.90</td>\n",
       "      <td>74.90</td>\n",
       "      <td>NaN</td>\n",
       "      <td>1</td>\n",
       "    </tr>\n",
       "    <tr>\n",
       "      <th>462</th>\n",
       "      <td>estrela do sul</td>\n",
       "      <td>89.900000</td>\n",
       "      <td>89.900</td>\n",
       "      <td>NaN</td>\n",
       "      <td>89.90</td>\n",
       "      <td>89.90</td>\n",
       "      <td>NaN</td>\n",
       "      <td>1</td>\n",
       "    </tr>\n",
       "  </tbody>\n",
       "</table>\n",
       "<p>1506 rows × 8 columns</p>\n",
       "</div>"
      ],
      "text/plain": [
       "                 client_city        mean  median         std    min      max  \\\n",
       "1315               sao paulo  108.137788  67.900  163.808688   1.20  4399.87   \n",
       "1138          rio de janeiro  126.087075  79.900  192.596530   5.30  3930.00   \n",
       "142           belo horizonte  112.906541  69.990  162.660013   4.90  3099.00   \n",
       "246                 campinas  113.402474  66.990  167.875505   4.90  1999.99   \n",
       "540                guarulhos  110.863545  74.945  145.843812   4.99  1999.00   \n",
       "...                      ...         ...     ...         ...    ...      ...   \n",
       "1207  santa rita da floresta   79.000000  79.000         NaN  79.00    79.00   \n",
       "1202    santa maria do salto   38.000000  38.000         NaN  38.00    38.00   \n",
       "1199             santa maria    8.000000   8.000         NaN   8.00     8.00   \n",
       "491              frei gaspar   74.900000  74.900         NaN  74.90    74.90   \n",
       "462           estrela do sul   89.900000  89.900         NaN  89.90    89.90   \n",
       "\n",
       "          skew  count  \n",
       "1315  7.493990  18412  \n",
       "1138  6.624127   8123  \n",
       "142   6.689155   3218  \n",
       "246   5.540527   1722  \n",
       "540   5.812726   1388  \n",
       "...        ...    ...  \n",
       "1207       NaN      1  \n",
       "1202       NaN      1  \n",
       "1199       NaN      1  \n",
       "491        NaN      1  \n",
       "462        NaN      1  \n",
       "\n",
       "[1506 rows x 8 columns]"
      ]
     },
     "execution_count": 76,
     "metadata": {},
     "output_type": "execute_result"
    }
   ],
   "source": [
    "statistics_bi('client_city', 'order_price', df_SE).sort_values(by = ['count'], ascending=False)"
   ]
  },
  {
   "attachments": {},
   "cell_type": "markdown",
   "metadata": {},
   "source": [
    "### Sales that were delivered quicker has a better rating review"
   ]
  },
  {
   "cell_type": "code",
   "execution_count": 95,
   "metadata": {},
   "outputs": [],
   "source": [
    "#calculate the number of days unit the delivery\n",
    "df_info_clients['order_approved'] = pd.to_datetime(df_info_clients['order_approved'])\n",
    "df_info_clients['order_delivery'] = pd.to_datetime(df_info_clients['order_delivery'])\n",
    "df_info_clients['days_until_delivery']  = (df_info_clients['order_delivery'] - df_info_clients['order_approved']).dt.days"
   ]
  },
  {
   "cell_type": "code",
   "execution_count": 96,
   "metadata": {},
   "outputs": [
    {
     "data": {
      "text/html": [
       "<div>\n",
       "<style scoped>\n",
       "    .dataframe tbody tr th:only-of-type {\n",
       "        vertical-align: middle;\n",
       "    }\n",
       "\n",
       "    .dataframe tbody tr th {\n",
       "        vertical-align: top;\n",
       "    }\n",
       "\n",
       "    .dataframe thead th {\n",
       "        text-align: right;\n",
       "    }\n",
       "</style>\n",
       "<table border=\"1\" class=\"dataframe\">\n",
       "  <thead>\n",
       "    <tr style=\"text-align: right;\">\n",
       "      <th></th>\n",
       "      <th>id</th>\n",
       "      <th>client_id</th>\n",
       "      <th>client_specific_id</th>\n",
       "      <th>item_id</th>\n",
       "      <th>client _postal_code</th>\n",
       "      <th>client_city</th>\n",
       "      <th>client_state</th>\n",
       "      <th>order_id</th>\n",
       "      <th>order_status</th>\n",
       "      <th>order_date</th>\n",
       "      <th>...</th>\n",
       "      <th>paymeny_type</th>\n",
       "      <th>divided_pay</th>\n",
       "      <th>total_price</th>\n",
       "      <th>review</th>\n",
       "      <th>category</th>\n",
       "      <th>category_english</th>\n",
       "      <th>salesman_postal</th>\n",
       "      <th>salesman_city</th>\n",
       "      <th>salesman_state</th>\n",
       "      <th>days_until_delivery</th>\n",
       "    </tr>\n",
       "  </thead>\n",
       "  <tbody>\n",
       "    <tr>\n",
       "      <th>0</th>\n",
       "      <td>0</td>\n",
       "      <td>06b8999e2fba1a1fbc88172c00ba8bc7</td>\n",
       "      <td>861eff4711a542e4b93843c6dd7febb0</td>\n",
       "      <td>1</td>\n",
       "      <td>14409</td>\n",
       "      <td>franca</td>\n",
       "      <td>SP</td>\n",
       "      <td>00e7ee1b050b8499577073aeb2a297a1</td>\n",
       "      <td>delivered</td>\n",
       "      <td>2017-05-16 15:05:35</td>\n",
       "      <td>...</td>\n",
       "      <td>credit_card</td>\n",
       "      <td>2</td>\n",
       "      <td>146.87</td>\n",
       "      <td>4</td>\n",
       "      <td>moveis_escritorio</td>\n",
       "      <td>office_furniture</td>\n",
       "      <td>8577</td>\n",
       "      <td>itaquaquecetuba</td>\n",
       "      <td>SP</td>\n",
       "      <td>8.0</td>\n",
       "    </tr>\n",
       "    <tr>\n",
       "      <th>1</th>\n",
       "      <td>1</td>\n",
       "      <td>8912fc0c3bbf1e2fbf35819e21706718</td>\n",
       "      <td>9eae34bbd3a474ec5d07949ca7de67c0</td>\n",
       "      <td>1</td>\n",
       "      <td>68030</td>\n",
       "      <td>santarem</td>\n",
       "      <td>PA</td>\n",
       "      <td>c1d2b34febe9cd269e378117d6681172</td>\n",
       "      <td>delivered</td>\n",
       "      <td>2017-11-09 00:50:13</td>\n",
       "      <td>...</td>\n",
       "      <td>credit_card</td>\n",
       "      <td>1</td>\n",
       "      <td>275.79</td>\n",
       "      <td>1</td>\n",
       "      <td>moveis_escritorio</td>\n",
       "      <td>office_furniture</td>\n",
       "      <td>8577</td>\n",
       "      <td>itaquaquecetuba</td>\n",
       "      <td>SP</td>\n",
       "      <td>17.0</td>\n",
       "    </tr>\n",
       "    <tr>\n",
       "      <th>2</th>\n",
       "      <td>2</td>\n",
       "      <td>8912fc0c3bbf1e2fbf35819e21706718</td>\n",
       "      <td>9eae34bbd3a474ec5d07949ca7de67c0</td>\n",
       "      <td>2</td>\n",
       "      <td>68030</td>\n",
       "      <td>santarem</td>\n",
       "      <td>PA</td>\n",
       "      <td>c1d2b34febe9cd269e378117d6681172</td>\n",
       "      <td>delivered</td>\n",
       "      <td>2017-11-09 00:50:13</td>\n",
       "      <td>...</td>\n",
       "      <td>credit_card</td>\n",
       "      <td>1</td>\n",
       "      <td>275.79</td>\n",
       "      <td>1</td>\n",
       "      <td>moveis_escritorio</td>\n",
       "      <td>office_furniture</td>\n",
       "      <td>8577</td>\n",
       "      <td>itaquaquecetuba</td>\n",
       "      <td>SP</td>\n",
       "      <td>17.0</td>\n",
       "    </tr>\n",
       "    <tr>\n",
       "      <th>3</th>\n",
       "      <td>3</td>\n",
       "      <td>f0ac8e5a239118859b1734e1087cbb1f</td>\n",
       "      <td>3c799d181c34d51f6d44bbbc563024db</td>\n",
       "      <td>1</td>\n",
       "      <td>92480</td>\n",
       "      <td>nova santa rita</td>\n",
       "      <td>RS</td>\n",
       "      <td>b1a5d5365d330d10485e0203d54ab9e8</td>\n",
       "      <td>delivered</td>\n",
       "      <td>2017-05-07 20:11:26</td>\n",
       "      <td>...</td>\n",
       "      <td>credit_card</td>\n",
       "      <td>7</td>\n",
       "      <td>140.61</td>\n",
       "      <td>3</td>\n",
       "      <td>moveis_escritorio</td>\n",
       "      <td>office_furniture</td>\n",
       "      <td>8577</td>\n",
       "      <td>itaquaquecetuba</td>\n",
       "      <td>SP</td>\n",
       "      <td>17.0</td>\n",
       "    </tr>\n",
       "    <tr>\n",
       "      <th>4</th>\n",
       "      <td>4</td>\n",
       "      <td>6bc8d08963a135220ed6c6d098831f84</td>\n",
       "      <td>23397e992b09769faf5e66f9e171a241</td>\n",
       "      <td>1</td>\n",
       "      <td>25931</td>\n",
       "      <td>mage</td>\n",
       "      <td>RJ</td>\n",
       "      <td>2e604b3614664aa66867856dba7e61b7</td>\n",
       "      <td>delivered</td>\n",
       "      <td>2018-02-03 19:45:40</td>\n",
       "      <td>...</td>\n",
       "      <td>credit_card</td>\n",
       "      <td>10</td>\n",
       "      <td>137.58</td>\n",
       "      <td>4</td>\n",
       "      <td>moveis_escritorio</td>\n",
       "      <td>office_furniture</td>\n",
       "      <td>8577</td>\n",
       "      <td>itaquaquecetuba</td>\n",
       "      <td>SP</td>\n",
       "      <td>23.0</td>\n",
       "    </tr>\n",
       "  </tbody>\n",
       "</table>\n",
       "<p>5 rows × 28 columns</p>\n",
       "</div>"
      ],
      "text/plain": [
       "   id                         client_id                client_specific_id  \\\n",
       "0   0  06b8999e2fba1a1fbc88172c00ba8bc7  861eff4711a542e4b93843c6dd7febb0   \n",
       "1   1  8912fc0c3bbf1e2fbf35819e21706718  9eae34bbd3a474ec5d07949ca7de67c0   \n",
       "2   2  8912fc0c3bbf1e2fbf35819e21706718  9eae34bbd3a474ec5d07949ca7de67c0   \n",
       "3   3  f0ac8e5a239118859b1734e1087cbb1f  3c799d181c34d51f6d44bbbc563024db   \n",
       "4   4  6bc8d08963a135220ed6c6d098831f84  23397e992b09769faf5e66f9e171a241   \n",
       "\n",
       "   item_id  client _postal_code      client_city client_state  \\\n",
       "0        1                14409           franca           SP   \n",
       "1        1                68030         santarem           PA   \n",
       "2        2                68030         santarem           PA   \n",
       "3        1                92480  nova santa rita           RS   \n",
       "4        1                25931             mage           RJ   \n",
       "\n",
       "                           order_id order_status          order_date  ...  \\\n",
       "0  00e7ee1b050b8499577073aeb2a297a1    delivered 2017-05-16 15:05:35  ...   \n",
       "1  c1d2b34febe9cd269e378117d6681172    delivered 2017-11-09 00:50:13  ...   \n",
       "2  c1d2b34febe9cd269e378117d6681172    delivered 2017-11-09 00:50:13  ...   \n",
       "3  b1a5d5365d330d10485e0203d54ab9e8    delivered 2017-05-07 20:11:26  ...   \n",
       "4  2e604b3614664aa66867856dba7e61b7    delivered 2018-02-03 19:45:40  ...   \n",
       "\n",
       "  paymeny_type divided_pay total_price review           category  \\\n",
       "0  credit_card           2      146.87      4  moveis_escritorio   \n",
       "1  credit_card           1      275.79      1  moveis_escritorio   \n",
       "2  credit_card           1      275.79      1  moveis_escritorio   \n",
       "3  credit_card           7      140.61      3  moveis_escritorio   \n",
       "4  credit_card          10      137.58      4  moveis_escritorio   \n",
       "\n",
       "   category_english  salesman_postal    salesman_city salesman_state  \\\n",
       "0  office_furniture             8577  itaquaquecetuba             SP   \n",
       "1  office_furniture             8577  itaquaquecetuba             SP   \n",
       "2  office_furniture             8577  itaquaquecetuba             SP   \n",
       "3  office_furniture             8577  itaquaquecetuba             SP   \n",
       "4  office_furniture             8577  itaquaquecetuba             SP   \n",
       "\n",
       "   days_until_delivery  \n",
       "0                  8.0  \n",
       "1                 17.0  \n",
       "2                 17.0  \n",
       "3                 17.0  \n",
       "4                 23.0  \n",
       "\n",
       "[5 rows x 28 columns]"
      ]
     },
     "execution_count": 96,
     "metadata": {},
     "output_type": "execute_result"
    }
   ],
   "source": [
    "df_info_clients.head()"
   ]
  },
  {
   "cell_type": "code",
   "execution_count": 171,
   "metadata": {},
   "outputs": [
    {
     "data": {
      "text/plain": [
       "<Axes: xlabel='days_until_delivery', ylabel='Density'>"
      ]
     },
     "execution_count": 171,
     "metadata": {},
     "output_type": "execute_result"
    },
    {
     "data": {
      "image/png": "[encoded data removed]",
      "text/plain": [
       "<Figure size 1200x600 with 1 Axes>"
      ]
     },
     "metadata": {},
     "output_type": "display_data"
    }
   ],
   "source": [
    "histogram(df_info_clients['days_until_delivery'])"
   ]
  },
  {
   "cell_type": "code",
   "execution_count": 157,
   "metadata": {},
   "outputs": [
    {
     "name": "stdout",
     "output_type": "stream",
     "text": [
      "5    65479\n",
      "4    22017\n",
      "1    15110\n",
      "3     9842\n",
      "2     4133\n",
      "Name: review, dtype: int64\n"
     ]
    },
    {
     "data": {
      "text/plain": [
       "<Axes: xlabel='review', ylabel='Count'>"
      ]
     },
     "execution_count": 157,
     "metadata": {},
     "output_type": "execute_result"
    },
    {
     "data": {
      "image/png": "[encoded data removed]",
      "text/plain": [
       "<Figure size 640x480 with 1 Axes>"
      ]
     },
     "metadata": {},
     "output_type": "display_data"
    }
   ],
   "source": [
    "print(df_info_clients['review'].value_counts(normalize=False))\n",
    "sns.histplot(df_info_clients['review'], bins = 10)"
   ]
  },
  {
   "cell_type": "code",
   "execution_count": 173,
   "metadata": {},
   "outputs": [
    {
     "name": "stdout",
     "output_type": "stream",
     "text": [
      "Histogram of the number of days until delivery of reviews = 1\n"
     ]
    },
    {
     "data": {
      "text/plain": [
       "<Axes: xlabel='days_until_delivery', ylabel='Count'>"
      ]
     },
     "execution_count": 173,
     "metadata": {},
     "output_type": "execute_result"
    },
    {
     "data": {
      "image/png": "[encoded data removed]",
      "text/plain": [
       "<Figure size 640x480 with 1 Axes>"
      ]
     },
     "metadata": {},
     "output_type": "display_data"
    }
   ],
   "source": [
    "print('Histogram of the number of days until delivery of reviews = 1')\n",
    "sns.histplot(df_info_clients[df_info_clients['review']==1]['days_until_delivery'], bins = 50, binrange = (0,50))"
   ]
  },
  {
   "cell_type": "code",
   "execution_count": 174,
   "metadata": {},
   "outputs": [
    {
     "name": "stdout",
     "output_type": "stream",
     "text": [
      "Histogram of the number of days until delivery of reviews = 2\n"
     ]
    },
    {
     "data": {
      "text/plain": [
       "<Axes: xlabel='days_until_delivery', ylabel='Count'>"
      ]
     },
     "execution_count": 174,
     "metadata": {},
     "output_type": "execute_result"
    },
    {
     "data": {
      "image/png": "[encoded data removed]",
      "text/plain": [
       "<Figure size 640x480 with 1 Axes>"
      ]
     },
     "metadata": {},
     "output_type": "display_data"
    }
   ],
   "source": [
    "print('Histogram of the number of days until delivery of reviews = 2')\n",
    "sns.histplot(df_info_clients[df_info_clients['review']==2]['days_until_delivery'], bins = 50, binrange = (0,50))"
   ]
  },
  {
   "cell_type": "code",
   "execution_count": 175,
   "metadata": {},
   "outputs": [
    {
     "name": "stdout",
     "output_type": "stream",
     "text": [
      "Histogram of the number of days until delivery of reviews = 3\n"
     ]
    },
    {
     "data": {
      "text/plain": [
       "<Axes: xlabel='days_until_delivery', ylabel='Count'>"
      ]
     },
     "execution_count": 175,
     "metadata": {},
     "output_type": "execute_result"
    },
    {
     "data": {
      "image/png": "[encoded data removed]",
      "text/plain": [
       "<Figure size 640x480 with 1 Axes>"
      ]
     },
     "metadata": {},
     "output_type": "display_data"
    }
   ],
   "source": [
    "print('Histogram of the number of days until delivery of reviews = 3')\n",
    "sns.histplot(df_info_clients[df_info_clients['review']==3]['days_until_delivery'], bins = 50, binrange = (0,50))"
   ]
  },
  {
   "cell_type": "code",
   "execution_count": 176,
   "metadata": {},
   "outputs": [
    {
     "name": "stdout",
     "output_type": "stream",
     "text": [
      "Histogram of the number of days until delivery of reviews = 4\n"
     ]
    },
    {
     "data": {
      "text/plain": [
       "<Axes: xlabel='days_until_delivery', ylabel='Count'>"
      ]
     },
     "execution_count": 176,
     "metadata": {},
     "output_type": "execute_result"
    },
    {
     "data": {
      "image/png": "[encoded data removed]",
      "text/plain": [
       "<Figure size 640x480 with 1 Axes>"
      ]
     },
     "metadata": {},
     "output_type": "display_data"
    }
   ],
   "source": [
    "print('Histogram of the number of days until delivery of reviews = 4')\n",
    "sns.histplot(df_info_clients[df_info_clients['review']==4]['days_until_delivery'], bins = 50, binrange = (0,50))"
   ]
  },
  {
   "cell_type": "code",
   "execution_count": 177,
   "metadata": {},
   "outputs": [
    {
     "name": "stdout",
     "output_type": "stream",
     "text": [
      "Histogram of the number of days until delivery of reviews = 5\n"
     ]
    },
    {
     "data": {
      "text/plain": [
       "<Axes: xlabel='days_until_delivery', ylabel='Count'>"
      ]
     },
     "execution_count": 177,
     "metadata": {},
     "output_type": "execute_result"
    },
    {
     "data": {
      "image/png": "[encoded data removed]",
      "text/plain": [
       "<Figure size 640x480 with 1 Axes>"
      ]
     },
     "metadata": {},
     "output_type": "display_data"
    }
   ],
   "source": [
    "print('Histogram of the number of days until delivery of reviews = 5')\n",
    "sns.histplot(df_info_clients[df_info_clients['review']==5]['days_until_delivery'], bins = 50, binrange = (0,50))"
   ]
  },
  {
   "cell_type": "code",
   "execution_count": null,
   "metadata": {},
   "outputs": [],
   "source": []
  }
 ],
 "metadata": {
  "kernelspec": {
   "display_name": "Python 3",
   "language": "python",
   "name": "python3"
  },
  "language_info": {
   "codemirror_mode": {
    "name": "ipython",
    "version": 3
   },
   "file_extension": ".py",
   "mimetype": "text/x-python",
   "name": "python",
   "nbconvert_exporter": "python",
   "pygments_lexer": "ipython3",
   "version": "3.11.2"
  },
  "vscode": {
   "interpreter": {
    "hash": "aee8b7b246df8f9039afb4144a1f6fd8d2ca17a180786b69acc140d282b71a49"
   }
  }
 },
 "nbformat": 4,
 "nbformat_minor": 2
}
